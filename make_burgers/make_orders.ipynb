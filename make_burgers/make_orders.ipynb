{
 "cells": [
  {
   "cell_type": "code",
   "execution_count": 1,
   "id": "c0fd9a06-971c-475a-bd70-dd8e3bfe3e5c",
   "metadata": {},
   "outputs": [
    {
     "ename": "SyntaxError",
     "evalue": "invalid syntax (Customer.py, line 7)",
     "output_type": "error",
     "traceback": [
      "Traceback \u001b[0;36m(most recent call last)\u001b[0m:\n",
      "\u001b[0m  File \u001b[1;32m/opt/conda/lib/python3.11/site-packages/IPython/core/interactiveshell.py:3526\u001b[0m in \u001b[1;35mrun_code\u001b[0m\n    exec(code_obj, self.user_global_ns, self.user_ns)\u001b[0m\n",
      "\u001b[0;36m  Cell \u001b[0;32mIn[1], line 1\u001b[0;36m\n\u001b[0;31m    import Customer\u001b[0;36m\n",
      "\u001b[0;36m  File \u001b[0;32m/home/notebook/Customer.py:7\u001b[0;36m\u001b[0m\n\u001b[0;31m    self.password =\u001b[0m\n\u001b[0m                    ^\u001b[0m\n\u001b[0;31mSyntaxError\u001b[0m\u001b[0;31m:\u001b[0m invalid syntax\n"
     ]
    }
   ],
   "source": [
    "import Customer\n",
    "import Burger\n",
    "import Fries"
   ]
  },
  {
   "cell_type": "code",
   "execution_count": null,
   "id": "448711c2-5a89-4d8a-9f19-57d296f0dd19",
   "metadata": {},
   "outputs": [],
   "source": [
    "import FoodItem\n",
    "\n",
    "from FoodItem import FoodItem\n",
    "\n",
    "class Burger(FoodItem):\n",
    "\tdef __init__(self):\n",
    "\t\tself.name = \"Burger\"\n",
    "\t\tself.price = 5\n",
    "\t\tself.ingredients = []\n",
    "\n",
    "\tdef add_ingredients(self, *args):\n",
    "\t\tfor arg in args:\n",
    "\t\t\tself.ingredients.append(arg)\n"
   ]
  },
  {
   "cell_type": "code",
   "execution_count": 2,
   "id": "779a2468-3f20-455d-a617-b1777a499fdd",
   "metadata": {},
   "outputs": [],
   "source": [
    "Amy = Customer.Customer(name=\"Amy\")\n"
   ]
  },
  {
   "cell_type": "code",
   "execution_count": 3,
   "id": "75f6b9fe-722b-406e-b343-5b9523379ba4",
   "metadata": {},
   "outputs": [
    {
     "data": {
      "text/plain": [
       "0"
      ]
     },
     "execution_count": 3,
     "metadata": {},
     "output_type": "execute_result"
    }
   ],
   "source": [
    "Amy.show_balance()"
   ]
  },
  {
   "cell_type": "code",
   "execution_count": null,
   "id": "8213da4f-04bf-41d8-8a54-fdddc5478598",
   "metadata": {},
   "outputs": [],
   "source": [
    "first_burger = Burger.Burger()\n",
    "second_burger = Burger.Burger()\n",
    "Amy.make_order(first_burger, second_burger)"
   ]
  },
  {
   "cell_type": "code",
   "execution_count": null,
   "id": "96a52828-e13f-4828-8b5e-7d717c4249a1",
   "metadata": {},
   "outputs": [],
   "source": [
    "first_burger.add_ingredients(\"guacamole\", \"chilli oil\", \"onions\")"
   ]
  },
  {
   "cell_type": "code",
   "execution_count": 4,
   "id": "270ed7c9-7452-4b0c-a9be-98d64d8fa4f4",
   "metadata": {},
   "outputs": [],
   "source": [
    "Amy.make_order(Burger.Burger(), Burger.Burger(), Fries.Fries())"
   ]
  },
  {
   "cell_type": "code",
   "execution_count": null,
   "id": "759a431d-b47f-425d-8c14-da9c9ffdc32d",
   "metadata": {},
   "outputs": [],
   "source": []
  },
  {
   "cell_type": "code",
   "execution_count": 5,
   "id": "82668188-a5a6-44ea-bb29-cbca4269f505",
   "metadata": {},
   "outputs": [
    {
     "data": {
      "text/plain": [
       "11"
      ]
     },
     "execution_count": 5,
     "metadata": {},
     "output_type": "execute_result"
    }
   ],
   "source": [
    "Amy.show_balance()"
   ]
  },
  {
   "cell_type": "code",
   "execution_count": 6,
   "id": "1ecc5e66-8a83-45db-991e-cfe13b67430c",
   "metadata": {},
   "outputs": [
    {
     "name": "stdout",
     "output_type": "stream",
     "text": [
      "Burger 5\n",
      "Burger 5\n",
      "Fries 1\n"
     ]
    }
   ],
   "source": [
    "Amy.show_order()"
   ]
  },
  {
   "cell_type": "code",
   "execution_count": null,
   "id": "c55d73ce-7307-4450-b7b3-10a28c7ecac0",
   "metadata": {},
   "outputs": [],
   "source": [
    "def ask_user_for_order():\n",
    "    ordering = True\n",
    "    global Amy\n",
    "\n",
    "    while ordering:\n",
    "        item = input(\"Do you want to order Fries or a Burger?\")\n",
    "        while item not in [\"Fries\", \"Burger\"]:\n",
    "            prompt = 'I didnt understand!  Please enter \"Fries\" or \"Burger\", case senstive!'\n",
    "            item = input(prompt)\n",
    "\n",
    "        if item == \"Fries\":\n",
    "            Amy.make_order(Fries.Fries())\n",
    "\n",
    "        else:\n",
    "            Amy.make_order(Burger.Burger())\n",
    "\n",
    "        end = input(\"Are you done order?  Enter Yes or No (case sensitive)\")\n",
    "        while end not in [\"Yes\", \"No\"]:\n",
    "            end = input(\"I didn't understand that, do you want to end ordering?\")\n",
    "\n",
    "        if end == \"Yes\":\n",
    "            orderinger = False\n",
    "        "
   ]
  },
  {
   "cell_type": "code",
   "execution_count": null,
   "id": "c68bf5b0-5dc7-4ca7-9114-a84e73cdd106",
   "metadata": {},
   "outputs": [],
   "source": [
    "\n",
    "def make_order(Fries: Fries.Fries, Burger: Burger.Burger):\n",
    "    pass \n",
    "    \n",
    "make_order(Fries.Fries, Burger.Burger)\n",
    "make_order([Fries.Fries, Fries.Fries, Fries], [Burger.Burger])\n",
    "\n",
    "make_order(*args)\n",
    "\n",
    "make_order(Burger.Burger, Burger.Burger, ...)\n",
    "args = [Burger.Burger, Burger.Burger, ...]"
   ]
  },
  {
   "cell_type": "code",
   "execution_count": 7,
   "id": "2396693a-6e7d-49c8-90f1-92c0fbb554ea",
   "metadata": {
    "scrolled": true
   },
   "outputs": [
    {
     "ename": "AttributeError",
     "evalue": "'Burger' object has no attribute 'new_function'",
     "output_type": "error",
     "traceback": [
      "\u001b[0;31m---------------------------------------------------------------------------\u001b[0m",
      "\u001b[0;31mAttributeError\u001b[0m                            Traceback (most recent call last)",
      "Cell \u001b[0;32mIn[7], line 3\u001b[0m\n\u001b[1;32m      1\u001b[0m \u001b[38;5;66;03m# showing no acccess to newly written parent class methods\u001b[39;00m\n\u001b[0;32m----> 3\u001b[0m \u001b[43mBurger\u001b[49m\u001b[38;5;241;43m.\u001b[39;49m\u001b[43mBurger\u001b[49m\u001b[43m(\u001b[49m\u001b[43m)\u001b[49m\u001b[38;5;241;43m.\u001b[39;49m\u001b[43mnew_function\u001b[49m()\n",
      "\u001b[0;31mAttributeError\u001b[0m: 'Burger' object has no attribute 'new_function'"
     ]
    }
   ],
   "source": [
    "# showing no acccess to newly written parent class methods\n",
    "\n",
    "Burger.Burger().new_function()"
   ]
  },
  {
   "cell_type": "code",
   "execution_count": 3,
   "id": "611c20fd-3f4a-4a59-ae76-738668ec6b1b",
   "metadata": {},
   "outputs": [
    {
     "name": "stdout",
     "output_type": "stream",
     "text": [
      "HI NEW FUNCTIOn\n"
     ]
    }
   ],
   "source": [
    "# showing no acccess to newly written parent class methods\n",
    "import Burger\n",
    "Burger.Burger().new_function()"
   ]
  },
  {
   "cell_type": "code",
   "execution_count": null,
   "id": "7d34984c-85ac-4a67-af55-845388c475ab",
   "metadata": {},
   "outputs": [],
   "source": [
    "input(\"what do you want to order\")"
   ]
  }
 ],
 "metadata": {
  "kernelspec": {
   "display_name": "Python 3 (ipykernel)",
   "language": "python",
   "name": "python3"
  },
  "language_info": {
   "codemirror_mode": {
    "name": "ipython",
    "version": 3
   },
   "file_extension": ".py",
   "mimetype": "text/x-python",
   "name": "python",
   "nbconvert_exporter": "python",
   "pygments_lexer": "ipython3",
   "version": "3.11.5"
  }
 },
 "nbformat": 4,
 "nbformat_minor": 5
}
