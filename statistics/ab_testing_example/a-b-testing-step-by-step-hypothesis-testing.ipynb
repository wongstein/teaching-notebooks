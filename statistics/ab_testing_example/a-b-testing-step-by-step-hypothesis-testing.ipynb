{
 "cells": [
  {
   "cell_type": "markdown",
   "metadata": {
    "papermill": {
     "duration": 0.022257,
     "end_time": "2021-11-30T12:54:43.056364",
     "exception": false,
     "start_time": "2021-11-30T12:54:43.034107",
     "status": "completed"
    },
    "tags": []
   },
   "source": [
    "<center> <h1 style=\"background-color:DarkSlateBlue; color:white\" >A/B Testing: Step by Step & Hypothesis Testing</h1> \n",
    "\n",
    "<center><img\n",
    "src=\"https://tactilegames.com/wp-content/uploads/2018/05/cookie-cats.png\" style=\"width:40%;height:40%;\">\n",
    "</center>\n",
    "    \n",
    "<br>    \n",
    "    \n",
    "<div class=\"list-group\" id=\"list-tab\" role=\"tablist\">\n",
    "  <h3 class=\"list-group-item list-group-item-action active\" style=\"background-color:DarkSlateBlue; color:white\" data-toggle=\"list\"  role=\"tab\" aria-controls=\"home\">Notebook Content!</h3>  \n",
    "  <a class=\"list-group-item list-group-item-action\" data-toggle=\"list\" href=\"#libraries\" role=\"tab\" aria-controls=\"profile\" style=\"color:DarkSlateBlue\">Import Libraries<span class=\"badge badge-primary badge-pill\" style=\"background-color:DarkSlateBlue; color:white\">1</span></a>\n",
    "  <a id=\"section2\" class=\"list-group-item list-group-item-action\" data-toggle=\"list\" href=\"#load\" role=\"tab\" aria-controls=\"messages\" style=\"color:DarkSlateBlue\">Load Data<span class=\"badge badge-primary badge-pill\" style=\"background-color:DarkSlateBlue; color:white\">2</span></a>\n",
    "  <a id=\"section2\" class=\"list-group-item list-group-item-action\" data-toggle=\"list\" href=\"#summary\" role=\"tab\" aria-controls=\"messages\" style=\"color:DarkSlateBlue\">Summary Stats<span class=\"badge badge-primary badge-pill\" style=\"background-color:DarkSlateBlue; color:white\">3</span></a>\n",
    "  <a id=\"section2\" class=\"list-group-item list-group-item-action\" data-toggle=\"list\" href=\"#outliers\" role=\"tab\" aria-controls=\"messages\" style=\"color:DarkSlateBlue\">Outliers<span class=\"badge badge-primary badge-pill\" style=\"background-color:DarkSlateBlue; color:white\">4</span></a>\n",
    "  <a id=\"section2\" class=\"list-group-item list-group-item-action\" data-toggle=\"list\" href=\"#details\" role=\"tab\" aria-controls=\"messages\" style=\"color:DarkSlateBlue\">Some Details<span class=\"badge badge-primary badge-pill\" style=\"background-color:DarkSlateBlue; color:white\">5</span></a>\n",
    "  <a id=\"section2\" class=\"list-group-item list-group-item-action\" data-toggle=\"list\" href=\"#ab\" role=\"tab\" aria-controls=\"messages\" style=\"color:DarkSlateBlue\">A/B Testing<span class=\"badge badge-primary badge-pill\" style=\"background-color:DarkSlateBlue; color:white\">6</span></a>   <a id=\"section2\" class=\"list-group-item list-group-item-action\" data-toggle=\"list\" href=\"#conclusion\" role=\"tab\" aria-controls=\"messages\" style=\"color:DarkSlateBlue\">Conclusion<span class=\"badge badge-primary badge-pill\" style=\"background-color:DarkSlateBlue; color:white\">7</span></a>"
   ]
  },
  {
   "cell_type": "markdown",
   "metadata": {
    "papermill": {
     "duration": 0.020346,
     "end_time": "2021-11-30T12:54:43.099232",
     "exception": false,
     "start_time": "2021-11-30T12:54:43.078886",
     "status": "completed"
    },
    "tags": []
   },
   "source": [
    "### Resources\n",
    "\n",
    "First of all, thanks a lot to [**Aurelia Sui ( @yufengsui )**](https://www.kaggle.com/yufengsui)for this dataset & his [**introduction notebook**](https://www.kaggle.com/yufengsui/datacamp-project-mobile-games-a-b-testing).\n",
    "\n",
    "### How can I learn A/B Testing?\n",
    "\n",
    "**DataCamp:** \n",
    "- [**Mobile Games A/B Testing with Cookie Cats**](https://www.datacamp.com/projects/184)\n",
    "- [**A/B Testing in R**](https://learn.datacamp.com/courses/ab-testing-in-r)\n",
    "- [**Customer Analytics and A/B Testing in Python**](https://learn.datacamp.com/courses/customer-analytics-and-ab-testing-in-python)\n",
    "\n",
    "**Udacity:** \n",
    "- [**A/B Testing by Google - Online Experiment Design and Analysis**](https://www.udacity.com/course/ab-testing--ud257)\n",
    "- [**Intro to Inferential Statistics**](https://www.udacity.com/course/intro-to-inferential-statistics--ud201)\n",
    "- [**Statistics by San Jose State University - The Science of Decisions**](https://www.udacity.com/course/statistics--st095)\n",
    "\n",
    "### Project Description from [**DataCamp**](https://www.datacamp.com/projects/184)\n",
    "\n",
    "Cookie Cats is a hugely popular mobile puzzle game developed by Tactile Entertainment. It's a classic \"connect three\" style puzzle game where the player must connect tiles of the same color in order to clear the board and win the level. It also features singing cats. We're not kidding!\n",
    "\n",
    "**As players progress through the game they will encounter gates that force them to wait some time before they can progress or make an in-app purchase. In this project, we will analyze the result of an A/B test where the first gate in Cookie Cats was moved from level 30 to level 40. In particular, we will analyze the impact on player retention and game rounds**.\n",
    "\n",
    "To complete this project, you should be comfortable working with pandas DataFrames and with using the pandas plot method. You should also have some understanding of hypothesis testing and bootstrap analysis.\n",
    "\n",
    "<center><iframe width=\"560\" height=\"315\" src=\"https://www.youtube.com/embed/0G-612U2vQY\" frameborder=\"0\" allow=\"accelerometer; autoplay; clipboard-write; encrypted-media; gyroscope; picture-in-picture\" allowfullscreen></iframe></iframe></center>\n",
    "\n",
    "\n",
    "### Data Description from [**Aurelia Sui's notebook**](https://www.kaggle.com/yufengsui/datacamp-project-mobile-games-a-b-testing)\n",
    "\n",
    "<p>The data is from 90,189 players that installed the game while the AB-test was running. The variables are:</p>\n",
    "<ul>\n",
    "<li><code>userid</code> - a unique number that identifies each player.</li>\n",
    "<li><code>version</code> - whether the player was put in the control group (<code>gate_30</code> - a gate at level 30) or the test group (<code>gate_40</code> - a gate at level 40).</li>\n",
    "<li><code>sum_gamerounds</code> - the number of game rounds played by the player during the first week after installation\n",
    "<li><code>retention_1</code> - did the player come back and play 1 day after installing?</li>\n",
    "<li><code>retention_7</code> - did the player come back and play 7 days after installing?</li>\n",
    "</ul>\n",
    "<p>When a player installed the game, he or she was randomly assigned to either <code>gate_30</code> or <code>gate_40</code>. </p>\n",
    "\n",
    "### AB Testing Process\n",
    "\n",
    "1. Understanding business problem & data\n",
    "2. Detect and resolve problems in the data (Missing Value, Outliers, Unexpected Value)\n",
    "3. Look summary stats and plots\n",
    "4. Apply hypothesis testing and check assumptions\n",
    "    - Check Normality & Homogeneity\n",
    "    - Apply tests (Shapiro, Levene Test, T-Test, Welch Test, Mann Whitney U Test)\n",
    "        - shapiro tests: tests the normality of the data\n",
    "        - lavene test: The equality of the variances\n",
    "        - Welch Test: unequal variances T Test\n",
    "5. Evaluate the results\n",
    "6. Make inferences \n",
    "7. Recommend business decision to your customer/director/ceo etc. "
   ]
  },
  {
   "cell_type": "markdown",
   "metadata": {
    "papermill": {
     "duration": 0.02041,
     "end_time": "2021-11-30T12:54:43.140406",
     "exception": false,
     "start_time": "2021-11-30T12:54:43.119996",
     "status": "completed"
    },
    "tags": []
   },
   "source": [
    "<a id='libraries'></a>\n",
    "<h1 style=\"color:DarkSlateBlue\" >1. PACKAGES</h1>"
   ]
  },
  {
   "cell_type": "code",
   "execution_count": 1,
   "metadata": {
    "execution": {
     "iopub.execute_input": "2021-11-30T12:54:43.186460Z",
     "iopub.status.busy": "2021-11-30T12:54:43.185589Z",
     "iopub.status.idle": "2021-11-30T12:54:44.196885Z",
     "shell.execute_reply": "2021-11-30T12:54:44.196230Z"
    },
    "papermill": {
     "duration": 1.035336,
     "end_time": "2021-11-30T12:54:44.197016",
     "exception": false,
     "start_time": "2021-11-30T12:54:43.161680",
     "status": "completed"
    },
    "tags": []
   },
   "outputs": [],
   "source": [
    "# Base\n",
    "# -----------------------------------\n",
    "import numpy as np\n",
    "import pandas as pd \n",
    "import seaborn as sns\n",
    "import matplotlib.pyplot as plt\n",
    "import os\n",
    "\n",
    "# Hypothesis Testing\n",
    "# -----------------------------------\n",
    "from scipy.stats import shapiro\n",
    "import scipy.stats as stats\n",
    "\n",
    "# Configuration\n",
    "# -----------------------------------\n",
    "import warnings\n",
    "warnings.filterwarnings(\"ignore\")\n",
    "warnings.simplefilter(action='ignore', category=FutureWarning)\n",
    "\n",
    "pd.set_option('display.max_columns', None)\n",
    "pd.options.display.float_format = '{:.4f}'.format"
   ]
  },
  {
   "cell_type": "markdown",
   "metadata": {
    "papermill": {
     "duration": 0.020895,
     "end_time": "2021-11-30T12:54:44.241391",
     "exception": false,
     "start_time": "2021-11-30T12:54:44.220496",
     "status": "completed"
    },
    "tags": []
   },
   "source": [
    "<a id='load'></a>\n",
    "<h1 style=\"color:DarkSlateBlue\" >2. DATA</h1>"
   ]
  },
  {
   "cell_type": "code",
   "execution_count": 17,
   "metadata": {
    "execution": {
     "iopub.execute_input": "2021-11-30T12:54:44.314734Z",
     "iopub.status.busy": "2021-11-30T12:54:44.313936Z",
     "iopub.status.idle": "2021-11-30T12:54:44.501179Z",
     "shell.execute_reply": "2021-11-30T12:54:44.500460Z",
     "shell.execute_reply.started": "2021-11-25T20:21:42.546966Z"
    },
    "papermill": {
     "duration": 0.238789,
     "end_time": "2021-11-30T12:54:44.501300",
     "exception": false,
     "start_time": "2021-11-30T12:54:44.262511",
     "status": "completed"
    },
    "tags": []
   },
   "outputs": [
    {
     "name": "stdout",
     "output_type": "stream",
     "text": [
      "# Data imported!\n",
      "# ------------------------------------ \n",
      "\n",
      "# DIMENSIONS -------------------------\n",
      "Observation: 90189 Column: 5 \n",
      "\n",
      "# DTYPES -----------------------------\n",
      "Object Variables: \n",
      " # of Variables: 1 \n",
      " ['version'] \n",
      "\n",
      "Integer Variables: \n",
      " # of Variables: 2 \n",
      " ['userid', 'sum_gamerounds'] \n",
      "\n",
      "Bool Variables: \n",
      " # of Variables: 2 \n",
      " ['retention_1', 'retention_7'] \n",
      "\n",
      "# MISSING VALUE ---------------------\n",
      "Are there any missing values? \n",
      "  No missing value! \n",
      "\n",
      "# MEMORY USAGE ---------------------- \n",
      " 2.2+ MB\n"
     ]
    },
    {
     "data": {
      "text/html": [
       "<div>\n",
       "<style scoped>\n",
       "    .dataframe tbody tr th:only-of-type {\n",
       "        vertical-align: middle;\n",
       "    }\n",
       "\n",
       "    .dataframe tbody tr th {\n",
       "        vertical-align: top;\n",
       "    }\n",
       "\n",
       "    .dataframe thead th {\n",
       "        text-align: right;\n",
       "    }\n",
       "</style>\n",
       "<table border=\"1\" class=\"dataframe\">\n",
       "  <thead>\n",
       "    <tr style=\"text-align: right;\">\n",
       "      <th></th>\n",
       "      <th>userid</th>\n",
       "      <th>version</th>\n",
       "      <th>sum_gamerounds</th>\n",
       "      <th>retention_1</th>\n",
       "      <th>retention_7</th>\n",
       "    </tr>\n",
       "  </thead>\n",
       "  <tbody>\n",
       "    <tr>\n",
       "      <th>0</th>\n",
       "      <td>116</td>\n",
       "      <td>gate_30</td>\n",
       "      <td>3</td>\n",
       "      <td>False</td>\n",
       "      <td>False</td>\n",
       "    </tr>\n",
       "    <tr>\n",
       "      <th>1</th>\n",
       "      <td>337</td>\n",
       "      <td>gate_30</td>\n",
       "      <td>38</td>\n",
       "      <td>True</td>\n",
       "      <td>False</td>\n",
       "    </tr>\n",
       "    <tr>\n",
       "      <th>2</th>\n",
       "      <td>377</td>\n",
       "      <td>gate_40</td>\n",
       "      <td>165</td>\n",
       "      <td>True</td>\n",
       "      <td>False</td>\n",
       "    </tr>\n",
       "    <tr>\n",
       "      <th>3</th>\n",
       "      <td>483</td>\n",
       "      <td>gate_40</td>\n",
       "      <td>1</td>\n",
       "      <td>False</td>\n",
       "      <td>False</td>\n",
       "    </tr>\n",
       "    <tr>\n",
       "      <th>4</th>\n",
       "      <td>488</td>\n",
       "      <td>gate_40</td>\n",
       "      <td>179</td>\n",
       "      <td>True</td>\n",
       "      <td>True</td>\n",
       "    </tr>\n",
       "  </tbody>\n",
       "</table>\n",
       "</div>"
      ],
      "text/plain": [
       "   userid  version  sum_gamerounds  retention_1  retention_7\n",
       "0     116  gate_30               3        False        False\n",
       "1     337  gate_30              38         True        False\n",
       "2     377  gate_40             165         True        False\n",
       "3     483  gate_40               1        False        False\n",
       "4     488  gate_40             179         True         True"
      ]
     },
     "execution_count": 17,
     "metadata": {},
     "output_type": "execute_result"
    }
   ],
   "source": [
    "path = \"cookie_cats.csv\"\n",
    "\n",
    "def load(path, info = True):\n",
    "    \n",
    "    import pandas as pd\n",
    "    import io\n",
    "    \n",
    "    if len(path.split(\".csv\")) > 1:\n",
    "        read = pd.read_csv(path)\n",
    "    elif len(path.split(\".xlsx\")) > 1:\n",
    "        read = pd.read_excel(path)\n",
    "    \n",
    "    if info:\n",
    "        if len(read) > 0:\n",
    "            print(\"# Data imported!\")\n",
    "            print(\"# ------------------------------------\", \"\\n\")\n",
    "        \n",
    "            print(\"# DIMENSIONS -------------------------\")\n",
    "            print(\"Observation:\", read.shape[0], \"Column:\", read.shape[1], \"\\n\")\n",
    "    \n",
    "            print(\"# DTYPES -----------------------------\")\n",
    "            if len(read.select_dtypes(\"object\").columns) > 0:\n",
    "                print(\"Object Variables:\", \"\\n\", \"# of Variables:\", \n",
    "                      len(read.select_dtypes(\"object\").columns), \"\\n\", \n",
    "                      read.select_dtypes(\"object\").columns.tolist(), \"\\n\")\n",
    "    \n",
    "            if len(read.select_dtypes(\"integer\").columns) > 0:\n",
    "                print(\"Integer Variables:\", \"\\n\", \"# of Variables:\", \n",
    "                      len(read.select_dtypes(\"integer\").columns), \"\\n\", \n",
    "                      read.select_dtypes(\"integer\").columns.tolist(), \"\\n\")\n",
    "    \n",
    "            if len(read.select_dtypes(\"float\").columns) > 0:\n",
    "                print(\"Float Variables:\", \"\\n\", \"# of Variables:\", \n",
    "                      len(read.select_dtypes(\"float\").columns), \"\\n\", \n",
    "                      read.select_dtypes(\"float\").columns.tolist(), \"\\n\")\n",
    "    \n",
    "            if len(read.select_dtypes(\"bool\").columns) > 0:\n",
    "                print(\"Bool Variables:\", \"\\n\", \"# of Variables:\", \n",
    "                      len(read.select_dtypes(\"bool\").columns), \"\\n\", \n",
    "                      read.select_dtypes(\"bool\").columns.tolist(), \"\\n\")\n",
    "    \n",
    "            print(\"# MISSING VALUE ---------------------\")\n",
    "            print(\"Are there any missing values? \\n \", np.where(read.isnull().values.any() == False, \n",
    "                                                            \"No missing value!\", \"Data includes missing value!\"), \"\\n\")\n",
    "            \n",
    "            buf = io.StringIO()\n",
    "            read.info(buf=buf)\n",
    "            info = buf.getvalue().split('\\n')[-2].split(\":\")[1].strip()\n",
    "            print(\"# MEMORY USAGE ---------------------- \\n\", info)\n",
    "          \n",
    "        else:\n",
    "            print(\"# Data did not import!\")\n",
    "    \n",
    "    return read\n",
    "    \n",
    "ab = load(path, info = True)\n",
    "ab.head()"
   ]
  },
  {
   "cell_type": "markdown",
   "metadata": {
    "papermill": {
     "duration": 0.021716,
     "end_time": "2021-11-30T12:54:44.545278",
     "exception": false,
     "start_time": "2021-11-30T12:54:44.523562",
     "status": "completed"
    },
    "tags": []
   },
   "source": [
    "<a id='summary'></a>\n",
    "<h1 style=\"color:DarkSlateBlue\" >3. SUMMARY STATS</h1>"
   ]
  },
  {
   "cell_type": "code",
   "execution_count": 3,
   "metadata": {
    "execution": {
     "iopub.execute_input": "2021-11-30T12:54:44.596910Z",
     "iopub.status.busy": "2021-11-30T12:54:44.596192Z",
     "iopub.status.idle": "2021-11-30T12:54:44.629333Z",
     "shell.execute_reply": "2021-11-30T12:54:44.628622Z"
    },
    "papermill": {
     "duration": 0.061262,
     "end_time": "2021-11-30T12:54:44.629482",
     "exception": false,
     "start_time": "2021-11-30T12:54:44.568220",
     "status": "completed"
    },
    "tags": []
   },
   "outputs": [
    {
     "name": "stdout",
     "output_type": "stream",
     "text": [
      "True\n"
     ]
    },
    {
     "data": {
      "text/html": [
       "<div>\n",
       "<style scoped>\n",
       "    .dataframe tbody tr th:only-of-type {\n",
       "        vertical-align: middle;\n",
       "    }\n",
       "\n",
       "    .dataframe tbody tr th {\n",
       "        vertical-align: top;\n",
       "    }\n",
       "\n",
       "    .dataframe thead th {\n",
       "        text-align: right;\n",
       "    }\n",
       "</style>\n",
       "<table border=\"1\" class=\"dataframe\">\n",
       "  <thead>\n",
       "    <tr style=\"text-align: right;\">\n",
       "      <th></th>\n",
       "      <th>count</th>\n",
       "      <th>mean</th>\n",
       "      <th>std</th>\n",
       "      <th>min</th>\n",
       "      <th>1%</th>\n",
       "      <th>5%</th>\n",
       "      <th>10%</th>\n",
       "      <th>20%</th>\n",
       "      <th>50%</th>\n",
       "      <th>80%</th>\n",
       "      <th>90%</th>\n",
       "      <th>95%</th>\n",
       "      <th>99%</th>\n",
       "      <th>max</th>\n",
       "    </tr>\n",
       "  </thead>\n",
       "  <tbody>\n",
       "    <tr>\n",
       "      <th>sum_gamerounds</th>\n",
       "      <td>90189.0000</td>\n",
       "      <td>51.8725</td>\n",
       "      <td>195.0509</td>\n",
       "      <td>0.0000</td>\n",
       "      <td>0.0000</td>\n",
       "      <td>1.0000</td>\n",
       "      <td>1.0000</td>\n",
       "      <td>3.0000</td>\n",
       "      <td>16.0000</td>\n",
       "      <td>67.0000</td>\n",
       "      <td>134.0000</td>\n",
       "      <td>221.0000</td>\n",
       "      <td>493.0000</td>\n",
       "      <td>49854.0000</td>\n",
       "    </tr>\n",
       "  </tbody>\n",
       "</table>\n",
       "</div>"
      ],
      "text/plain": [
       "                    count    mean      std    min     1%     5%    10%    20%  \\\n",
       "sum_gamerounds 90189.0000 51.8725 195.0509 0.0000 0.0000 1.0000 1.0000 3.0000   \n",
       "\n",
       "                   50%     80%      90%      95%      99%        max  \n",
       "sum_gamerounds 16.0000 67.0000 134.0000 221.0000 493.0000 49854.0000  "
      ]
     },
     "execution_count": 3,
     "metadata": {},
     "output_type": "execute_result"
    }
   ],
   "source": [
    "# Number of Unique User\n",
    "print(ab.userid.nunique() == ab.shape[0])\n",
    "# Summary Stats: sum_gamerounds\n",
    "ab.describe([0.01, 0.05, 0.10, 0.20, 0.80, 0.90, 0.95, 0.99])[[\"sum_gamerounds\"]].T"
   ]
  },
  {
   "cell_type": "code",
   "execution_count": 4,
   "metadata": {
    "execution": {
     "iopub.execute_input": "2021-11-30T12:54:44.687996Z",
     "iopub.status.busy": "2021-11-30T12:54:44.687284Z",
     "iopub.status.idle": "2021-11-30T12:54:44.710234Z",
     "shell.execute_reply": "2021-11-30T12:54:44.710771Z"
    },
    "papermill": {
     "duration": 0.057744,
     "end_time": "2021-11-30T12:54:44.710935",
     "exception": false,
     "start_time": "2021-11-30T12:54:44.653191",
     "status": "completed"
    },
    "tags": []
   },
   "outputs": [
    {
     "data": {
      "text/html": [
       "<div>\n",
       "<style scoped>\n",
       "    .dataframe tbody tr th:only-of-type {\n",
       "        vertical-align: middle;\n",
       "    }\n",
       "\n",
       "    .dataframe tbody tr th {\n",
       "        vertical-align: top;\n",
       "    }\n",
       "\n",
       "    .dataframe thead th {\n",
       "        text-align: right;\n",
       "    }\n",
       "</style>\n",
       "<table border=\"1\" class=\"dataframe\">\n",
       "  <thead>\n",
       "    <tr style=\"text-align: right;\">\n",
       "      <th></th>\n",
       "      <th>count</th>\n",
       "      <th>median</th>\n",
       "      <th>mean</th>\n",
       "      <th>std</th>\n",
       "      <th>max</th>\n",
       "    </tr>\n",
       "    <tr>\n",
       "      <th>version</th>\n",
       "      <th></th>\n",
       "      <th></th>\n",
       "      <th></th>\n",
       "      <th></th>\n",
       "      <th></th>\n",
       "    </tr>\n",
       "  </thead>\n",
       "  <tbody>\n",
       "    <tr>\n",
       "      <th>gate_30</th>\n",
       "      <td>44700</td>\n",
       "      <td>17.0000</td>\n",
       "      <td>52.4563</td>\n",
       "      <td>256.7164</td>\n",
       "      <td>49854</td>\n",
       "    </tr>\n",
       "    <tr>\n",
       "      <th>gate_40</th>\n",
       "      <td>45489</td>\n",
       "      <td>16.0000</td>\n",
       "      <td>51.2988</td>\n",
       "      <td>103.2944</td>\n",
       "      <td>2640</td>\n",
       "    </tr>\n",
       "  </tbody>\n",
       "</table>\n",
       "</div>"
      ],
      "text/plain": [
       "         count  median    mean      std    max\n",
       "version                                       \n",
       "gate_30  44700 17.0000 52.4563 256.7164  49854\n",
       "gate_40  45489 16.0000 51.2988 103.2944   2640"
      ]
     },
     "execution_count": 4,
     "metadata": {},
     "output_type": "execute_result"
    }
   ],
   "source": [
    "# A/B Groups & Target Summary Stats\n",
    "ab.groupby(\"version\").sum_gamerounds.agg([\"count\", \"median\", \"mean\", \"std\", \"max\"])"
   ]
  },
  {
   "cell_type": "code",
   "execution_count": 10,
   "metadata": {
    "execution": {
     "iopub.execute_input": "2021-11-30T12:54:44.761931Z",
     "iopub.status.busy": "2021-11-30T12:54:44.761224Z",
     "iopub.status.idle": "2021-11-30T12:54:45.462113Z",
     "shell.execute_reply": "2021-11-30T12:54:45.461066Z"
    },
    "papermill": {
     "duration": 0.727357,
     "end_time": "2021-11-30T12:54:45.462309",
     "exception": false,
     "start_time": "2021-11-30T12:54:44.734952",
     "status": "completed"
    },
    "tags": []
   },
   "outputs": [
    {
     "data": {
      "image/png": "[encoded data removed]",
      "text/plain": [
       "<Figure size 1800x500 with 3 Axes>"
      ]
     },
     "metadata": {},
     "output_type": "display_data"
    }
   ],
   "source": [
    "fig, axes = plt.subplots(1, 3, figsize = (18,5))\n",
    "ab[(ab.version == \"gate_30\")].hist(\"sum_gamerounds\", ax = axes[0], color = \"steelblue\")\n",
    "ab[(ab.version == \"gate_40\")].hist(\"sum_gamerounds\", ax = axes[1], color = \"steelblue\")\n",
    "sns.boxplot(x = ab.version, y = ab.sum_gamerounds, ax = axes[2])\n",
    "\n",
    "\n",
    "plt.tight_layout(pad = 4)"
   ]
  },
  {
   "cell_type": "code",
   "execution_count": 11,
   "metadata": {},
   "outputs": [
    {
     "data": {
      "text/plain": [
       "<Figure size 640x480 with 0 Axes>"
      ]
     },
     "metadata": {},
     "output_type": "display_data"
    }
   ],
   "source": [
    "plt.suptitle(\"Before Removing The Extreme Value\", fontsize = 20)\n",
    "axes[0].set_title(\"Distribution of Gate 30 (A)\", fontsize = 15)\n",
    "axes[1].set_title(\"Distribution of Gate 40 (B)\", fontsize = 15)\n",
    "axes[2].set_title(\"Distribution of Two Groups\", fontsize = 15)\n",
    "plt.show()"
   ]
  },
  {
   "cell_type": "code",
   "execution_count": 12,
   "metadata": {
    "execution": {
     "iopub.execute_input": "2021-11-30T12:54:45.555029Z",
     "iopub.status.busy": "2021-11-30T12:54:45.554211Z",
     "iopub.status.idle": "2021-11-30T12:54:45.880296Z",
     "shell.execute_reply": "2021-11-30T12:54:45.879567Z"
    },
    "papermill": {
     "duration": 0.386426,
     "end_time": "2021-11-30T12:54:45.880418",
     "exception": false,
     "start_time": "2021-11-30T12:54:45.493992",
     "status": "completed"
    },
    "tags": []
   },
   "outputs": [
    {
     "data": {
      "image/png": "[encoded data removed]",
      "text/plain": [
       "<Figure size 2000x500 with 1 Axes>"
      ]
     },
     "metadata": {},
     "output_type": "display_data"
    }
   ],
   "source": [
    "ab[ab.version == \"gate_30\"].reset_index().set_index(\"index\").sum_gamerounds.plot(legend = True, label = \"Gate 30\", figsize = (20,5))\n",
    "ab[ab.version == \"gate_40\"].reset_index().set_index(\"index\").sum_gamerounds.plot(legend = True, label = \"Gate 40\")\n",
    "plt.suptitle(\"Before Removing The Extreme Value\", fontsize = 20);"
   ]
  },
  {
   "cell_type": "markdown",
   "metadata": {
    "papermill": {
     "duration": 0.025491,
     "end_time": "2021-11-30T12:54:45.932040",
     "exception": false,
     "start_time": "2021-11-30T12:54:45.906549",
     "status": "completed"
    },
    "tags": []
   },
   "source": [
    "<a id='outliers'></a>\n",
    "<h1 style=\"color:DarkSlateBlue\" >4. OUTLIERS</h1>"
   ]
  },
  {
   "cell_type": "code",
   "execution_count": 19,
   "metadata": {
    "execution": {
     "iopub.execute_input": "2021-11-30T12:54:45.988822Z",
     "iopub.status.busy": "2021-11-30T12:54:45.987792Z",
     "iopub.status.idle": "2021-11-30T12:54:46.038666Z",
     "shell.execute_reply": "2021-11-30T12:54:46.038149Z"
    },
    "papermill": {
     "duration": 0.080525,
     "end_time": "2021-11-30T12:54:46.038782",
     "exception": false,
     "start_time": "2021-11-30T12:54:45.958257",
     "status": "completed"
    },
    "tags": []
   },
   "outputs": [
    {
     "data": {
      "text/html": [
       "<div>\n",
       "<style scoped>\n",
       "    .dataframe tbody tr th:only-of-type {\n",
       "        vertical-align: middle;\n",
       "    }\n",
       "\n",
       "    .dataframe tbody tr th {\n",
       "        vertical-align: top;\n",
       "    }\n",
       "\n",
       "    .dataframe thead th {\n",
       "        text-align: right;\n",
       "    }\n",
       "</style>\n",
       "<table border=\"1\" class=\"dataframe\">\n",
       "  <thead>\n",
       "    <tr style=\"text-align: right;\">\n",
       "      <th></th>\n",
       "      <th>count</th>\n",
       "      <th>mean</th>\n",
       "      <th>std</th>\n",
       "      <th>min</th>\n",
       "      <th>1%</th>\n",
       "      <th>5%</th>\n",
       "      <th>10%</th>\n",
       "      <th>20%</th>\n",
       "      <th>50%</th>\n",
       "      <th>80%</th>\n",
       "      <th>90%</th>\n",
       "      <th>95%</th>\n",
       "      <th>99%</th>\n",
       "      <th>max</th>\n",
       "    </tr>\n",
       "  </thead>\n",
       "  <tbody>\n",
       "    <tr>\n",
       "      <th>sum_gamerounds</th>\n",
       "      <td>90188.0000</td>\n",
       "      <td>51.3203</td>\n",
       "      <td>102.6827</td>\n",
       "      <td>0.0000</td>\n",
       "      <td>0.0000</td>\n",
       "      <td>1.0000</td>\n",
       "      <td>1.0000</td>\n",
       "      <td>3.0000</td>\n",
       "      <td>16.0000</td>\n",
       "      <td>67.0000</td>\n",
       "      <td>134.0000</td>\n",
       "      <td>221.0000</td>\n",
       "      <td>493.0000</td>\n",
       "      <td>2961.0000</td>\n",
       "    </tr>\n",
       "  </tbody>\n",
       "</table>\n",
       "</div>"
      ],
      "text/plain": [
       "                    count    mean      std    min     1%     5%    10%    20%  \\\n",
       "sum_gamerounds 90188.0000 51.3203 102.6827 0.0000 0.0000 1.0000 1.0000 3.0000   \n",
       "\n",
       "                   50%     80%      90%      95%      99%       max  \n",
       "sum_gamerounds 16.0000 67.0000 134.0000 221.0000 493.0000 2961.0000  "
      ]
     },
     "execution_count": 19,
     "metadata": {},
     "output_type": "execute_result"
    }
   ],
   "source": [
    "ab_no_max = ab[ab.sum_gamerounds < ab.sum_gamerounds.max()]\n",
    "\n",
    "# Summary Stats: sum_gamerounds\n",
    "ab_no_max.describe([0.01, 0.05, 0.10, 0.20, 0.80, 0.90, 0.95, 0.99])[[\"sum_gamerounds\"]].T"
   ]
  },
  {
   "cell_type": "code",
   "execution_count": 20,
   "metadata": {},
   "outputs": [
    {
     "data": {
      "text/html": [
       "<div>\n",
       "<style scoped>\n",
       "    .dataframe tbody tr th:only-of-type {\n",
       "        vertical-align: middle;\n",
       "    }\n",
       "\n",
       "    .dataframe tbody tr th {\n",
       "        vertical-align: top;\n",
       "    }\n",
       "\n",
       "    .dataframe thead th {\n",
       "        text-align: right;\n",
       "    }\n",
       "</style>\n",
       "<table border=\"1\" class=\"dataframe\">\n",
       "  <thead>\n",
       "    <tr style=\"text-align: right;\">\n",
       "      <th></th>\n",
       "      <th>count</th>\n",
       "      <th>mean</th>\n",
       "      <th>std</th>\n",
       "      <th>min</th>\n",
       "      <th>1%</th>\n",
       "      <th>5%</th>\n",
       "      <th>10%</th>\n",
       "      <th>20%</th>\n",
       "      <th>50%</th>\n",
       "      <th>80%</th>\n",
       "      <th>90%</th>\n",
       "      <th>95%</th>\n",
       "      <th>99%</th>\n",
       "      <th>max</th>\n",
       "    </tr>\n",
       "  </thead>\n",
       "  <tbody>\n",
       "    <tr>\n",
       "      <th>sum_gamerounds</th>\n",
       "      <td>90179.0000</td>\n",
       "      <td>51.0931</td>\n",
       "      <td>100.0977</td>\n",
       "      <td>0.0000</td>\n",
       "      <td>0.0000</td>\n",
       "      <td>1.0000</td>\n",
       "      <td>1.0000</td>\n",
       "      <td>3.0000</td>\n",
       "      <td>16.0000</td>\n",
       "      <td>67.0000</td>\n",
       "      <td>134.0000</td>\n",
       "      <td>221.0000</td>\n",
       "      <td>491.0000</td>\n",
       "      <td>1906.0000</td>\n",
       "    </tr>\n",
       "  </tbody>\n",
       "</table>\n",
       "</div>"
      ],
      "text/plain": [
       "                    count    mean      std    min     1%     5%    10%    20%  \\\n",
       "sum_gamerounds 90179.0000 51.0931 100.0977 0.0000 0.0000 1.0000 1.0000 3.0000   \n",
       "\n",
       "                   50%     80%      90%      95%      99%       max  \n",
       "sum_gamerounds 16.0000 67.0000 134.0000 221.0000 491.0000 1906.0000  "
      ]
     },
     "execution_count": 20,
     "metadata": {},
     "output_type": "execute_result"
    }
   ],
   "source": [
    "ab_less_2000 = ab[ab.sum_gamerounds < 2000]\n",
    "\n",
    "# Summary Stats: sum_gamerounds\n",
    "ab_less_2000.describe([0.01, 0.05, 0.10, 0.20, 0.80, 0.90, 0.95, 0.99])[[\"sum_gamerounds\"]].T"
   ]
  },
  {
   "cell_type": "code",
   "execution_count": 22,
   "metadata": {},
   "outputs": [
    {
     "data": {
      "text/plain": [
       "<Axes: xlabel='sum_gamerounds', ylabel='Count'>"
      ]
     },
     "execution_count": 22,
     "metadata": {},
     "output_type": "execute_result"
    },
    {
     "data": {
      "image/png": "[encoded data removed]",
      "text/plain": [
       "<Figure size 640x480 with 1 Axes>"
      ]
     },
     "metadata": {},
     "output_type": "display_data"
    }
   ],
   "source": [
    "ab_greater_1500 = ab[(ab.sum_gamerounds > 1500) & (ab.sum_gamerounds < 2300) ]\n",
    "\n",
    "sns.histplot(ab_greater_1500[\"sum_gamerounds\"])"
   ]
  },
  {
   "cell_type": "code",
   "execution_count": 24,
   "metadata": {
    "execution": {
     "iopub.execute_input": "2021-11-30T12:54:46.096477Z",
     "iopub.status.busy": "2021-11-30T12:54:46.095459Z",
     "iopub.status.idle": "2021-11-30T12:54:46.978822Z",
     "shell.execute_reply": "2021-11-30T12:54:46.978265Z"
    },
    "papermill": {
     "duration": 0.913676,
     "end_time": "2021-11-30T12:54:46.978980",
     "exception": false,
     "start_time": "2021-11-30T12:54:46.065304",
     "status": "completed"
    },
    "tags": []
   },
   "outputs": [
    {
     "data": {
      "image/png": "[encoded data removed]",
      "text/plain": [
       "<Figure size 1800x500 with 4 Axes>"
      ]
     },
     "metadata": {},
     "output_type": "display_data"
    }
   ],
   "source": [
    "fig, axes = plt.subplots(1, 4, figsize = (18,5))\n",
    "ab_no_max.sum_gamerounds.hist(ax = axes[0], color = \"steelblue\")\n",
    "ab_no_max[(ab_no_max.version == \"gate_30\")].hist(\"sum_gamerounds\", ax = axes[1], color = \"steelblue\")\n",
    "ab_no_max[(ab_no_max.version == \"gate_40\")].hist(\"sum_gamerounds\", ax = axes[2], color = \"steelblue\")\n",
    "sns.boxplot(x = ab_no_max.version, y = ab_no_max.sum_gamerounds, ax = axes[3])\n",
    "\n",
    "plt.suptitle(\"After Removing The Extreme Value\", fontsize = 20)\n",
    "axes[0].set_title(\"Distribution of Total Game Rounds\", fontsize = 15)\n",
    "axes[1].set_title(\"Distribution of Gate 30 (A)\", fontsize = 15)\n",
    "axes[2].set_title(\"Distribution of Gate 40 (B)\", fontsize = 15)\n",
    "axes[3].set_title(\"Distribution of Two Groups\", fontsize = 15)\n",
    "\n",
    "plt.tight_layout(pad = 4);"
   ]
  },
  {
   "cell_type": "code",
   "execution_count": 25,
   "metadata": {
    "execution": {
     "iopub.execute_input": "2021-11-30T12:54:47.058429Z",
     "iopub.status.busy": "2021-11-30T12:54:47.057223Z",
     "iopub.status.idle": "2021-11-30T12:54:47.491924Z",
     "shell.execute_reply": "2021-11-30T12:54:47.491289Z"
    },
    "papermill": {
     "duration": 0.484927,
     "end_time": "2021-11-30T12:54:47.492049",
     "exception": false,
     "start_time": "2021-11-30T12:54:47.007122",
     "status": "completed"
    },
    "tags": []
   },
   "outputs": [
    {
     "data": {
      "image/png": "[encoded data removed]",
      "text/plain": [
       "<Figure size 2000x500 with 1 Axes>"
      ]
     },
     "metadata": {},
     "output_type": "display_data"
    }
   ],
   "source": [
    "ab_no_max[(ab_no_max.version == \"gate_30\")].reset_index().set_index(\"index\").sum_gamerounds.plot(legend = True, label = \"Gate 30\", figsize = (20,5))\n",
    "ab_no_max[ab_no_max.version == \"gate_40\"].reset_index().set_index(\"index\").sum_gamerounds.plot(legend = True, label = \"Gate 40\", alpha = 0.8)\n",
    "plt.suptitle(\"After Removing The Extreme Value\", fontsize = 20);"
   ]
  },
  {
   "cell_type": "markdown",
   "metadata": {
    "papermill": {
     "duration": 0.029616,
     "end_time": "2021-11-30T12:54:47.552014",
     "exception": false,
     "start_time": "2021-11-30T12:54:47.522398",
     "status": "completed"
    },
    "tags": []
   },
   "source": [
    "<a id='details'></a>\n",
    "<h1 style=\"color:DarkSlateBlue\" >5. SOME DETAILS</h1>\n",
    "\n",
    "**The users installed the game but 3994 users never played the game!** Some reasons might explain this situation.\n",
    "\n",
    "- They have no free time to play game\n",
    "- Users might prefer to play other games or they play other games already\n",
    "- Some users don't like the app etc.\n",
    "- You can comment below for this users also\n",
    "- bots installed the game\n",
    "\n",
    "**The number of users decreases as the levels progress**\n",
    "\n",
    "- Most of users played the game at early stage and they didn't progress.\n",
    "- Tactile Entertainment should learn why users churn playing the game.\n",
    "- Doing research and collecting data about the game and users would help to understand user churn\n",
    "- The difficulty of the game can be measured\n",
    "- Gifts might help player retention"
   ]
  },
  {
   "cell_type": "code",
   "execution_count": 27,
   "metadata": {
    "execution": {
     "iopub.execute_input": "2021-11-30T12:54:47.626787Z",
     "iopub.status.busy": "2021-11-30T12:54:47.626079Z",
     "iopub.status.idle": "2021-11-30T12:54:48.032120Z",
     "shell.execute_reply": "2021-11-30T12:54:48.031145Z"
    },
    "papermill": {
     "duration": 0.450146,
     "end_time": "2021-11-30T12:54:48.032251",
     "exception": false,
     "start_time": "2021-11-30T12:54:47.582105",
     "status": "completed"
    },
    "tags": []
   },
   "outputs": [
    {
     "data": {
      "image/png": "[encoded data removed]",
      "text/plain": [
       "<Figure size 2500x1000 with 2 Axes>"
      ]
     },
     "metadata": {},
     "output_type": "display_data"
    }
   ],
   "source": [
    "fig, axes = plt.subplots(2, 1, figsize = (25,10))\n",
    "ab_no_max.groupby(\"sum_gamerounds\").userid.count().plot(ax = axes[0])\n",
    "ab_no_max.groupby(\"sum_gamerounds\").userid.count()[:200].plot(ax = axes[1])\n",
    "plt.suptitle(\"The number of users in the game rounds played\", fontsize = 25)\n",
    "axes[0].set_title(\"How many users are there all game rounds?\", fontsize = 15)\n",
    "axes[1].set_title(\"How many users are there first 200 game rounds?\", fontsize = 15)\n",
    "plt.tight_layout(pad=5);"
   ]
  },
  {
   "cell_type": "code",
   "execution_count": 28,
   "metadata": {
    "execution": {
     "iopub.execute_input": "2021-11-30T12:54:48.100307Z",
     "iopub.status.busy": "2021-11-30T12:54:48.099596Z",
     "iopub.status.idle": "2021-11-30T12:54:48.113627Z",
     "shell.execute_reply": "2021-11-30T12:54:48.114190Z"
    },
    "papermill": {
     "duration": 0.050038,
     "end_time": "2021-11-30T12:54:48.114336",
     "exception": false,
     "start_time": "2021-11-30T12:54:48.064298",
     "status": "completed"
    },
    "tags": []
   },
   "outputs": [
    {
     "data": {
      "text/html": [
       "<div>\n",
       "<style scoped>\n",
       "    .dataframe tbody tr th:only-of-type {\n",
       "        vertical-align: middle;\n",
       "    }\n",
       "\n",
       "    .dataframe tbody tr th {\n",
       "        vertical-align: top;\n",
       "    }\n",
       "\n",
       "    .dataframe thead th {\n",
       "        text-align: right;\n",
       "    }\n",
       "</style>\n",
       "<table border=\"1\" class=\"dataframe\">\n",
       "  <thead>\n",
       "    <tr style=\"text-align: right;\">\n",
       "      <th></th>\n",
       "      <th>sum_gamerounds</th>\n",
       "      <th>userid</th>\n",
       "    </tr>\n",
       "  </thead>\n",
       "  <tbody>\n",
       "    <tr>\n",
       "      <th>0</th>\n",
       "      <td>0</td>\n",
       "      <td>3994</td>\n",
       "    </tr>\n",
       "    <tr>\n",
       "      <th>1</th>\n",
       "      <td>1</td>\n",
       "      <td>5538</td>\n",
       "    </tr>\n",
       "    <tr>\n",
       "      <th>2</th>\n",
       "      <td>2</td>\n",
       "      <td>4606</td>\n",
       "    </tr>\n",
       "    <tr>\n",
       "      <th>3</th>\n",
       "      <td>3</td>\n",
       "      <td>3958</td>\n",
       "    </tr>\n",
       "    <tr>\n",
       "      <th>4</th>\n",
       "      <td>4</td>\n",
       "      <td>3629</td>\n",
       "    </tr>\n",
       "    <tr>\n",
       "      <th>5</th>\n",
       "      <td>5</td>\n",
       "      <td>2992</td>\n",
       "    </tr>\n",
       "    <tr>\n",
       "      <th>6</th>\n",
       "      <td>6</td>\n",
       "      <td>2861</td>\n",
       "    </tr>\n",
       "    <tr>\n",
       "      <th>7</th>\n",
       "      <td>7</td>\n",
       "      <td>2379</td>\n",
       "    </tr>\n",
       "    <tr>\n",
       "      <th>8</th>\n",
       "      <td>8</td>\n",
       "      <td>2267</td>\n",
       "    </tr>\n",
       "    <tr>\n",
       "      <th>9</th>\n",
       "      <td>9</td>\n",
       "      <td>2013</td>\n",
       "    </tr>\n",
       "    <tr>\n",
       "      <th>10</th>\n",
       "      <td>10</td>\n",
       "      <td>1752</td>\n",
       "    </tr>\n",
       "    <tr>\n",
       "      <th>11</th>\n",
       "      <td>11</td>\n",
       "      <td>1654</td>\n",
       "    </tr>\n",
       "    <tr>\n",
       "      <th>12</th>\n",
       "      <td>12</td>\n",
       "      <td>1570</td>\n",
       "    </tr>\n",
       "    <tr>\n",
       "      <th>13</th>\n",
       "      <td>13</td>\n",
       "      <td>1594</td>\n",
       "    </tr>\n",
       "    <tr>\n",
       "      <th>14</th>\n",
       "      <td>14</td>\n",
       "      <td>1519</td>\n",
       "    </tr>\n",
       "    <tr>\n",
       "      <th>15</th>\n",
       "      <td>15</td>\n",
       "      <td>1446</td>\n",
       "    </tr>\n",
       "    <tr>\n",
       "      <th>16</th>\n",
       "      <td>16</td>\n",
       "      <td>1342</td>\n",
       "    </tr>\n",
       "    <tr>\n",
       "      <th>17</th>\n",
       "      <td>17</td>\n",
       "      <td>1269</td>\n",
       "    </tr>\n",
       "    <tr>\n",
       "      <th>18</th>\n",
       "      <td>18</td>\n",
       "      <td>1228</td>\n",
       "    </tr>\n",
       "    <tr>\n",
       "      <th>19</th>\n",
       "      <td>19</td>\n",
       "      <td>1158</td>\n",
       "    </tr>\n",
       "  </tbody>\n",
       "</table>\n",
       "</div>"
      ],
      "text/plain": [
       "    sum_gamerounds  userid\n",
       "0                0    3994\n",
       "1                1    5538\n",
       "2                2    4606\n",
       "3                3    3958\n",
       "4                4    3629\n",
       "5                5    2992\n",
       "6                6    2861\n",
       "7                7    2379\n",
       "8                8    2267\n",
       "9                9    2013\n",
       "10              10    1752\n",
       "11              11    1654\n",
       "12              12    1570\n",
       "13              13    1594\n",
       "14              14    1519\n",
       "15              15    1446\n",
       "16              16    1342\n",
       "17              17    1269\n",
       "18              18    1228\n",
       "19              19    1158"
      ]
     },
     "execution_count": 28,
     "metadata": {},
     "output_type": "execute_result"
    }
   ],
   "source": [
    "ab.groupby(\"sum_gamerounds\").userid.count().reset_index().head(20)"
   ]
  },
  {
   "cell_type": "code",
   "execution_count": 35,
   "metadata": {
    "execution": {
     "iopub.execute_input": "2021-11-30T12:54:48.183751Z",
     "iopub.status.busy": "2021-11-30T12:54:48.182997Z",
     "iopub.status.idle": "2021-11-30T12:54:48.192045Z",
     "shell.execute_reply": "2021-11-30T12:54:48.192649Z"
    },
    "papermill": {
     "duration": 0.045565,
     "end_time": "2021-11-30T12:54:48.192795",
     "exception": false,
     "start_time": "2021-11-30T12:54:48.147230",
     "status": "completed"
    },
    "tags": []
   },
   "outputs": [
    {
     "data": {
      "text/plain": [
       "sum_gamerounds\n",
       "30    642\n",
       "40    505\n",
       "Name: userid, dtype: int64"
      ]
     },
     "execution_count": 35,
     "metadata": {},
     "output_type": "execute_result"
    }
   ],
   "source": [
    "# How many users reached gate 30 & gate 40 levels?\n",
    "ab_no_max.groupby(\"sum_gamerounds\").userid.count().loc[[30,40]]\n",
    "## Only lists users who made it to specifically 30 and 40, not 34, 35, etc"
   ]
  },
  {
   "cell_type": "code",
   "execution_count": 45,
   "metadata": {},
   "outputs": [
    {
     "data": {
      "text/html": [
       "<div>\n",
       "<style scoped>\n",
       "    .dataframe tbody tr th:only-of-type {\n",
       "        vertical-align: middle;\n",
       "    }\n",
       "\n",
       "    .dataframe tbody tr th {\n",
       "        vertical-align: top;\n",
       "    }\n",
       "\n",
       "    .dataframe thead th {\n",
       "        text-align: right;\n",
       "    }\n",
       "</style>\n",
       "<table border=\"1\" class=\"dataframe\">\n",
       "  <thead>\n",
       "    <tr style=\"text-align: right;\">\n",
       "      <th></th>\n",
       "      <th>userid</th>\n",
       "      <th>sum_gamerounds</th>\n",
       "    </tr>\n",
       "  </thead>\n",
       "  <tbody>\n",
       "    <tr>\n",
       "      <th>count</th>\n",
       "      <td>27392.0000</td>\n",
       "      <td>27392.0000</td>\n",
       "    </tr>\n",
       "    <tr>\n",
       "      <th>mean</th>\n",
       "      <td>5010122.6572</td>\n",
       "      <td>142.3613</td>\n",
       "    </tr>\n",
       "    <tr>\n",
       "      <th>std</th>\n",
       "      <td>2878045.3397</td>\n",
       "      <td>150.1854</td>\n",
       "    </tr>\n",
       "    <tr>\n",
       "      <th>min</th>\n",
       "      <td>377.0000</td>\n",
       "      <td>40.0000</td>\n",
       "    </tr>\n",
       "    <tr>\n",
       "      <th>25%</th>\n",
       "      <td>2530176.5000</td>\n",
       "      <td>57.0000</td>\n",
       "    </tr>\n",
       "    <tr>\n",
       "      <th>50%</th>\n",
       "      <td>4995877.5000</td>\n",
       "      <td>91.0000</td>\n",
       "    </tr>\n",
       "    <tr>\n",
       "      <th>75%</th>\n",
       "      <td>7494160.2500</td>\n",
       "      <td>166.0000</td>\n",
       "    </tr>\n",
       "    <tr>\n",
       "      <th>max</th>\n",
       "      <td>9999768.0000</td>\n",
       "      <td>2961.0000</td>\n",
       "    </tr>\n",
       "  </tbody>\n",
       "</table>\n",
       "</div>"
      ],
      "text/plain": [
       "            userid  sum_gamerounds\n",
       "count   27392.0000      27392.0000\n",
       "mean  5010122.6572        142.3613\n",
       "std   2878045.3397        150.1854\n",
       "min       377.0000         40.0000\n",
       "25%   2530176.5000         57.0000\n",
       "50%   4995877.5000         91.0000\n",
       "75%   7494160.2500        166.0000\n",
       "max   9999768.0000       2961.0000"
      ]
     },
     "execution_count": 45,
     "metadata": {},
     "output_type": "execute_result"
    }
   ],
   "source": [
    "ab_reached_40 = ab_no_max[ab_no_max[\"sum_gamerounds\"] >= 40]\n",
    "ab_reached_40.describe()"
   ]
  },
  {
   "cell_type": "code",
   "execution_count": 44,
   "metadata": {},
   "outputs": [
    {
     "data": {
      "text/html": [
       "<div>\n",
       "<style scoped>\n",
       "    .dataframe tbody tr th:only-of-type {\n",
       "        vertical-align: middle;\n",
       "    }\n",
       "\n",
       "    .dataframe tbody tr th {\n",
       "        vertical-align: top;\n",
       "    }\n",
       "\n",
       "    .dataframe thead th {\n",
       "        text-align: right;\n",
       "    }\n",
       "</style>\n",
       "<table border=\"1\" class=\"dataframe\">\n",
       "  <thead>\n",
       "    <tr style=\"text-align: right;\">\n",
       "      <th></th>\n",
       "      <th>count</th>\n",
       "      <th>median</th>\n",
       "      <th>mean</th>\n",
       "      <th>std</th>\n",
       "      <th>max</th>\n",
       "    </tr>\n",
       "    <tr>\n",
       "      <th>version</th>\n",
       "      <th></th>\n",
       "      <th></th>\n",
       "      <th></th>\n",
       "      <th></th>\n",
       "      <th></th>\n",
       "    </tr>\n",
       "  </thead>\n",
       "  <tbody>\n",
       "    <tr>\n",
       "      <th>gate_30</th>\n",
       "      <td>13565</td>\n",
       "      <td>90.0000</td>\n",
       "      <td>142.0488</td>\n",
       "      <td>149.1508</td>\n",
       "      <td>2961</td>\n",
       "    </tr>\n",
       "    <tr>\n",
       "      <th>gate_40</th>\n",
       "      <td>13827</td>\n",
       "      <td>92.0000</td>\n",
       "      <td>142.6678</td>\n",
       "      <td>151.1984</td>\n",
       "      <td>2640</td>\n",
       "    </tr>\n",
       "  </tbody>\n",
       "</table>\n",
       "</div>"
      ],
      "text/plain": [
       "         count  median     mean      std   max\n",
       "version                                       \n",
       "gate_30  13565 90.0000 142.0488 149.1508  2961\n",
       "gate_40  13827 92.0000 142.6678 151.1984  2640"
      ]
     },
     "execution_count": 44,
     "metadata": {},
     "output_type": "execute_result"
    }
   ],
   "source": [
    "# A/B Groups & Target Summary Stats\n",
    "ab_reached_40.groupby(\"version\").sum_gamerounds.agg([\"count\", \"median\", \"mean\", \"std\", \"max\"])"
   ]
  },
  {
   "cell_type": "markdown",
   "metadata": {
    "papermill": {
     "duration": 0.032382,
     "end_time": "2021-11-30T12:54:48.259780",
     "exception": false,
     "start_time": "2021-11-30T12:54:48.227398",
     "status": "completed"
    },
    "tags": []
   },
   "source": [
    "Looking at the summary statistics, the control and Test groups seem similar, but **are the two groups statistically significant**? We will investigate this statistically."
   ]
  },
  {
   "cell_type": "code",
   "execution_count": 31,
   "metadata": {
    "execution": {
     "iopub.execute_input": "2021-11-30T12:54:48.328749Z",
     "iopub.status.busy": "2021-11-30T12:54:48.328123Z",
     "iopub.status.idle": "2021-11-30T12:54:48.355912Z",
     "shell.execute_reply": "2021-11-30T12:54:48.355243Z"
    },
    "papermill": {
     "duration": 0.063346,
     "end_time": "2021-11-30T12:54:48.356035",
     "exception": false,
     "start_time": "2021-11-30T12:54:48.292689",
     "status": "completed"
    },
    "tags": []
   },
   "outputs": [
    {
     "data": {
      "text/html": [
       "<div>\n",
       "<style scoped>\n",
       "    .dataframe tbody tr th:only-of-type {\n",
       "        vertical-align: middle;\n",
       "    }\n",
       "\n",
       "    .dataframe tbody tr th {\n",
       "        vertical-align: top;\n",
       "    }\n",
       "\n",
       "    .dataframe thead th {\n",
       "        text-align: right;\n",
       "    }\n",
       "</style>\n",
       "<table border=\"1\" class=\"dataframe\">\n",
       "  <thead>\n",
       "    <tr style=\"text-align: right;\">\n",
       "      <th></th>\n",
       "      <th>count</th>\n",
       "      <th>median</th>\n",
       "      <th>mean</th>\n",
       "      <th>std</th>\n",
       "      <th>max</th>\n",
       "    </tr>\n",
       "    <tr>\n",
       "      <th>version</th>\n",
       "      <th></th>\n",
       "      <th></th>\n",
       "      <th></th>\n",
       "      <th></th>\n",
       "      <th></th>\n",
       "    </tr>\n",
       "  </thead>\n",
       "  <tbody>\n",
       "    <tr>\n",
       "      <th>gate_30</th>\n",
       "      <td>44699</td>\n",
       "      <td>17.0000</td>\n",
       "      <td>51.3421</td>\n",
       "      <td>102.0576</td>\n",
       "      <td>2961</td>\n",
       "    </tr>\n",
       "    <tr>\n",
       "      <th>gate_40</th>\n",
       "      <td>45489</td>\n",
       "      <td>16.0000</td>\n",
       "      <td>51.2988</td>\n",
       "      <td>103.2944</td>\n",
       "      <td>2640</td>\n",
       "    </tr>\n",
       "  </tbody>\n",
       "</table>\n",
       "</div>"
      ],
      "text/plain": [
       "         count  median    mean      std   max\n",
       "version                                      \n",
       "gate_30  44699 17.0000 51.3421 102.0576  2961\n",
       "gate_40  45489 16.0000 51.2988 103.2944  2640"
      ]
     },
     "execution_count": 31,
     "metadata": {},
     "output_type": "execute_result"
    }
   ],
   "source": [
    "# A/B Groups & Target Summary Stats\n",
    "ab_no_max.groupby(\"version\").sum_gamerounds.agg([\"count\", \"median\", \"mean\", \"std\", \"max\"])"
   ]
  },
  {
   "cell_type": "markdown",
   "metadata": {
    "papermill": {
     "duration": 0.033709,
     "end_time": "2021-11-30T12:54:48.423162",
     "exception": false,
     "start_time": "2021-11-30T12:54:48.389453",
     "status": "completed"
    },
    "tags": []
   },
   "source": [
    "**Retention variables gives us player retention details.**\n",
    "\n",
    "<li><code>retention_1</code> - did the player come back and play 1 day after installing?</li>\n",
    "<li><code>retention_7</code> - did the player come back and play 7 days after installing?</li>\n",
    "\n",
    "Also players tend not to play the game! There are many players who quit the game.\n",
    "\n",
    "- 55 percent of the players didn't play the game 1 day after insalling\n",
    "- 81 percent of the players didn't play the game 7 day after insalling"
   ]
  },
  {
   "cell_type": "code",
   "execution_count": 47,
   "metadata": {
    "execution": {
     "iopub.execute_input": "2021-11-30T12:54:48.497619Z",
     "iopub.status.busy": "2021-11-30T12:54:48.496936Z",
     "iopub.status.idle": "2021-11-30T12:54:48.512404Z",
     "shell.execute_reply": "2021-11-30T12:54:48.513045Z"
    },
    "papermill": {
     "duration": 0.056358,
     "end_time": "2021-11-30T12:54:48.513194",
     "exception": false,
     "start_time": "2021-11-30T12:54:48.456836",
     "status": "completed"
    },
    "scrolled": true,
    "tags": []
   },
   "outputs": [
    {
     "data": {
      "text/html": [
       "<div>\n",
       "<style scoped>\n",
       "    .dataframe tbody tr th:only-of-type {\n",
       "        vertical-align: middle;\n",
       "    }\n",
       "\n",
       "    .dataframe tbody tr th {\n",
       "        vertical-align: top;\n",
       "    }\n",
       "\n",
       "    .dataframe thead th {\n",
       "        text-align: right;\n",
       "    }\n",
       "</style>\n",
       "<table border=\"1\" class=\"dataframe\">\n",
       "  <thead>\n",
       "    <tr style=\"text-align: right;\">\n",
       "      <th></th>\n",
       "      <th>RET1_COUNT</th>\n",
       "      <th>RET7_COUNT</th>\n",
       "      <th>RET1_RATIO</th>\n",
       "      <th>RET7_RATIO</th>\n",
       "    </tr>\n",
       "  </thead>\n",
       "  <tbody>\n",
       "    <tr>\n",
       "      <th>False</th>\n",
       "      <td>4550</td>\n",
       "      <td>13864</td>\n",
       "      <td>0.1661</td>\n",
       "      <td>0.5061</td>\n",
       "    </tr>\n",
       "    <tr>\n",
       "      <th>True</th>\n",
       "      <td>22842</td>\n",
       "      <td>13528</td>\n",
       "      <td>0.8339</td>\n",
       "      <td>0.4939</td>\n",
       "    </tr>\n",
       "  </tbody>\n",
       "</table>\n",
       "</div>"
      ],
      "text/plain": [
       "       RET1_COUNT  RET7_COUNT  RET1_RATIO  RET7_RATIO\n",
       "False        4550       13864      0.1661      0.5061\n",
       "True        22842       13528      0.8339      0.4939"
      ]
     },
     "execution_count": 47,
     "metadata": {},
     "output_type": "execute_result"
    }
   ],
   "source": [
    "# Retention Problem\n",
    "pd.DataFrame({\"RET1_COUNT\": ab_reached_40[\"retention_1\"].value_counts(),\n",
    "              \"RET7_COUNT\": ab_reached_40[\"retention_7\"].value_counts(),\n",
    "              \"RET1_RATIO\": ab_reached_40[\"retention_1\"].value_counts() / len(ab_reached_40),\n",
    "              \"RET7_RATIO\": ab_reached_40[\"retention_7\"].value_counts() / len(ab_reached_40)})"
   ]
  },
  {
   "cell_type": "markdown",
   "metadata": {
    "papermill": {
     "duration": 0.034826,
     "end_time": "2021-11-30T12:54:48.581995",
     "exception": false,
     "start_time": "2021-11-30T12:54:48.547169",
     "status": "completed"
    },
    "tags": []
   },
   "source": [
    "Looking at the summary statistics of retention variables by version and comparing with sum_gamerounds, there are similarities between groups. However, it will be more helpful to see if there is a statistically significant difference."
   ]
  },
  {
   "cell_type": "code",
   "execution_count": 48,
   "metadata": {
    "execution": {
     "iopub.execute_input": "2021-11-30T12:54:48.653353Z",
     "iopub.status.busy": "2021-11-30T12:54:48.652690Z",
     "iopub.status.idle": "2021-11-30T12:54:48.685088Z",
     "shell.execute_reply": "2021-11-30T12:54:48.684402Z"
    },
    "papermill": {
     "duration": 0.069013,
     "end_time": "2021-11-30T12:54:48.685207",
     "exception": false,
     "start_time": "2021-11-30T12:54:48.616194",
     "status": "completed"
    },
    "tags": []
   },
   "outputs": [
    {
     "data": {
      "text/html": [
       "<div>\n",
       "<style scoped>\n",
       "    .dataframe tbody tr th:only-of-type {\n",
       "        vertical-align: middle;\n",
       "    }\n",
       "\n",
       "    .dataframe tbody tr th {\n",
       "        vertical-align: top;\n",
       "    }\n",
       "\n",
       "    .dataframe thead th {\n",
       "        text-align: right;\n",
       "    }\n",
       "</style>\n",
       "<table border=\"1\" class=\"dataframe\">\n",
       "  <thead>\n",
       "    <tr style=\"text-align: right;\">\n",
       "      <th></th>\n",
       "      <th></th>\n",
       "      <th>count</th>\n",
       "      <th>median</th>\n",
       "      <th>mean</th>\n",
       "      <th>std</th>\n",
       "      <th>max</th>\n",
       "    </tr>\n",
       "    <tr>\n",
       "      <th>version</th>\n",
       "      <th>retention_1</th>\n",
       "      <th></th>\n",
       "      <th></th>\n",
       "      <th></th>\n",
       "      <th></th>\n",
       "      <th></th>\n",
       "    </tr>\n",
       "  </thead>\n",
       "  <tbody>\n",
       "    <tr>\n",
       "      <th rowspan=\"2\" valign=\"top\">gate_30</th>\n",
       "      <th>False</th>\n",
       "      <td>2202</td>\n",
       "      <td>65.0000</td>\n",
       "      <td>94.4373</td>\n",
       "      <td>86.1605</td>\n",
       "      <td>1072</td>\n",
       "    </tr>\n",
       "    <tr>\n",
       "      <th>True</th>\n",
       "      <td>11363</td>\n",
       "      <td>98.0000</td>\n",
       "      <td>151.2753</td>\n",
       "      <td>156.8273</td>\n",
       "      <td>2961</td>\n",
       "    </tr>\n",
       "    <tr>\n",
       "      <th rowspan=\"2\" valign=\"top\">gate_40</th>\n",
       "      <th>False</th>\n",
       "      <td>2348</td>\n",
       "      <td>66.0000</td>\n",
       "      <td>93.9732</td>\n",
       "      <td>81.0345</td>\n",
       "      <td>1241</td>\n",
       "    </tr>\n",
       "    <tr>\n",
       "      <th>True</th>\n",
       "      <td>11479</td>\n",
       "      <td>99.0000</td>\n",
       "      <td>152.6282</td>\n",
       "      <td>160.0328</td>\n",
       "      <td>2640</td>\n",
       "    </tr>\n",
       "  </tbody>\n",
       "</table>\n",
       "</div>"
      ],
      "text/plain": [
       "                     count  median     mean      std   max\n",
       "version retention_1                                       \n",
       "gate_30 False         2202 65.0000  94.4373  86.1605  1072\n",
       "        True         11363 98.0000 151.2753 156.8273  2961\n",
       "gate_40 False         2348 66.0000  93.9732  81.0345  1241\n",
       "        True         11479 99.0000 152.6282 160.0328  2640"
      ]
     },
     "execution_count": 48,
     "metadata": {},
     "output_type": "execute_result"
    }
   ],
   "source": [
    "ab_reached_40.groupby([\"version\", \"retention_1\"]).sum_gamerounds.agg([\"count\", \"median\", \"mean\", \"std\", \"max\"])"
   ]
  },
  {
   "cell_type": "code",
   "execution_count": 49,
   "metadata": {
    "execution": {
     "iopub.execute_input": "2021-11-30T12:54:48.762482Z",
     "iopub.status.busy": "2021-11-30T12:54:48.761819Z",
     "iopub.status.idle": "2021-11-30T12:54:48.790368Z",
     "shell.execute_reply": "2021-11-30T12:54:48.789678Z"
    },
    "papermill": {
     "duration": 0.070042,
     "end_time": "2021-11-30T12:54:48.790487",
     "exception": false,
     "start_time": "2021-11-30T12:54:48.720445",
     "status": "completed"
    },
    "tags": []
   },
   "outputs": [
    {
     "data": {
      "text/html": [
       "<div>\n",
       "<style scoped>\n",
       "    .dataframe tbody tr th:only-of-type {\n",
       "        vertical-align: middle;\n",
       "    }\n",
       "\n",
       "    .dataframe tbody tr th {\n",
       "        vertical-align: top;\n",
       "    }\n",
       "\n",
       "    .dataframe thead th {\n",
       "        text-align: right;\n",
       "    }\n",
       "</style>\n",
       "<table border=\"1\" class=\"dataframe\">\n",
       "  <thead>\n",
       "    <tr style=\"text-align: right;\">\n",
       "      <th></th>\n",
       "      <th></th>\n",
       "      <th>count</th>\n",
       "      <th>median</th>\n",
       "      <th>mean</th>\n",
       "      <th>std</th>\n",
       "      <th>max</th>\n",
       "    </tr>\n",
       "    <tr>\n",
       "      <th>version</th>\n",
       "      <th>retention_7</th>\n",
       "      <th></th>\n",
       "      <th></th>\n",
       "      <th></th>\n",
       "      <th></th>\n",
       "      <th></th>\n",
       "    </tr>\n",
       "  </thead>\n",
       "  <tbody>\n",
       "    <tr>\n",
       "      <th rowspan=\"2\" valign=\"top\">gate_30</th>\n",
       "      <th>False</th>\n",
       "      <td>6744</td>\n",
       "      <td>66.0000</td>\n",
       "      <td>89.2807</td>\n",
       "      <td>68.1323</td>\n",
       "      <td>981</td>\n",
       "    </tr>\n",
       "    <tr>\n",
       "      <th>True</th>\n",
       "      <td>6821</td>\n",
       "      <td>137.0000</td>\n",
       "      <td>194.2212</td>\n",
       "      <td>184.8746</td>\n",
       "      <td>2961</td>\n",
       "    </tr>\n",
       "    <tr>\n",
       "      <th rowspan=\"2\" valign=\"top\">gate_40</th>\n",
       "      <th>False</th>\n",
       "      <td>7120</td>\n",
       "      <td>68.0000</td>\n",
       "      <td>89.0499</td>\n",
       "      <td>70.2362</td>\n",
       "      <td>2640</td>\n",
       "    </tr>\n",
       "    <tr>\n",
       "      <th>True</th>\n",
       "      <td>6707</td>\n",
       "      <td>141.0000</td>\n",
       "      <td>199.5874</td>\n",
       "      <td>188.6891</td>\n",
       "      <td>2294</td>\n",
       "    </tr>\n",
       "  </tbody>\n",
       "</table>\n",
       "</div>"
      ],
      "text/plain": [
       "                     count   median     mean      std   max\n",
       "version retention_7                                        \n",
       "gate_30 False         6744  66.0000  89.2807  68.1323   981\n",
       "        True          6821 137.0000 194.2212 184.8746  2961\n",
       "gate_40 False         7120  68.0000  89.0499  70.2362  2640\n",
       "        True          6707 141.0000 199.5874 188.6891  2294"
      ]
     },
     "execution_count": 49,
     "metadata": {},
     "output_type": "execute_result"
    }
   ],
   "source": [
    "ab_reached_40.groupby([\"version\", \"retention_7\"]).sum_gamerounds.agg([\"count\", \"median\", \"mean\", \"std\", \"max\"])"
   ]
  },
  {
   "cell_type": "markdown",
   "metadata": {
    "papermill": {
     "duration": 0.034925,
     "end_time": "2021-11-30T12:54:48.860634",
     "exception": false,
     "start_time": "2021-11-30T12:54:48.825709",
     "status": "completed"
    },
    "tags": []
   },
   "source": [
    "Similar results are seen when the number of users who came and did not come 1 day and 7 days after the game was installing. Approximately 12.000 users among the total users played the game both 1 day and 7 days after installing the game. 14% of the total users include people who will continue the game in the future."
   ]
  },
  {
   "cell_type": "code",
   "execution_count": 53,
   "metadata": {
    "execution": {
     "iopub.execute_input": "2021-11-30T12:54:48.938521Z",
     "iopub.status.busy": "2021-11-30T12:54:48.937812Z",
     "iopub.status.idle": "2021-11-30T12:54:48.970322Z",
     "shell.execute_reply": "2021-11-30T12:54:48.969711Z"
    },
    "papermill": {
     "duration": 0.074644,
     "end_time": "2021-11-30T12:54:48.970445",
     "exception": false,
     "start_time": "2021-11-30T12:54:48.895801",
     "status": "completed"
    },
    "tags": []
   },
   "outputs": [
    {
     "data": {
      "text/html": [
       "<div>\n",
       "<style scoped>\n",
       "    .dataframe tbody tr th:only-of-type {\n",
       "        vertical-align: middle;\n",
       "    }\n",
       "\n",
       "    .dataframe tbody tr th {\n",
       "        vertical-align: top;\n",
       "    }\n",
       "\n",
       "    .dataframe thead th {\n",
       "        text-align: right;\n",
       "    }\n",
       "</style>\n",
       "<table border=\"1\" class=\"dataframe\">\n",
       "  <thead>\n",
       "    <tr style=\"text-align: right;\">\n",
       "      <th></th>\n",
       "      <th></th>\n",
       "      <th>count</th>\n",
       "      <th>median</th>\n",
       "      <th>mean</th>\n",
       "      <th>std</th>\n",
       "      <th>max</th>\n",
       "    </tr>\n",
       "    <tr>\n",
       "      <th>version</th>\n",
       "      <th>Retention</th>\n",
       "      <th></th>\n",
       "      <th></th>\n",
       "      <th></th>\n",
       "      <th></th>\n",
       "      <th></th>\n",
       "    </tr>\n",
       "  </thead>\n",
       "  <tbody>\n",
       "    <tr>\n",
       "      <th rowspan=\"2\" valign=\"top\">gate_30</th>\n",
       "      <th>0</th>\n",
       "      <td>7716</td>\n",
       "      <td>68.0000</td>\n",
       "      <td>93.2718</td>\n",
       "      <td>74.7833</td>\n",
       "      <td>1072</td>\n",
       "    </tr>\n",
       "    <tr>\n",
       "      <th>1</th>\n",
       "      <td>5849</td>\n",
       "      <td>148.0000</td>\n",
       "      <td>206.3955</td>\n",
       "      <td>192.1966</td>\n",
       "      <td>2961</td>\n",
       "    </tr>\n",
       "    <tr>\n",
       "      <th rowspan=\"2\" valign=\"top\">gate_40</th>\n",
       "      <th>0</th>\n",
       "      <td>8085</td>\n",
       "      <td>69.0000</td>\n",
       "      <td>93.1482</td>\n",
       "      <td>76.2018</td>\n",
       "      <td>2640</td>\n",
       "    </tr>\n",
       "    <tr>\n",
       "      <th>1</th>\n",
       "      <td>5742</td>\n",
       "      <td>152.0000</td>\n",
       "      <td>212.3938</td>\n",
       "      <td>196.3754</td>\n",
       "      <td>2294</td>\n",
       "    </tr>\n",
       "  </tbody>\n",
       "</table>\n",
       "</div>"
      ],
      "text/plain": [
       "                   count   median     mean      std   max\n",
       "version Retention                                        \n",
       "gate_30 0           7716  68.0000  93.2718  74.7833  1072\n",
       "        1           5849 148.0000 206.3955 192.1966  2961\n",
       "gate_40 0           8085  69.0000  93.1482  76.2018  2640\n",
       "        1           5742 152.0000 212.3938 196.3754  2294"
      ]
     },
     "execution_count": 53,
     "metadata": {},
     "output_type": "execute_result"
    }
   ],
   "source": [
    "ab_reached_40[\"NewRetention\"] = np.where((ab_reached_40.retention_1 == True) & (ab_reached_40.retention_7 == True), 1,0)\n",
    "ab_reached_40.groupby([\"version\", \"Retention\"])[\"sum_gamerounds\"].agg([\"count\", \"median\", \"mean\", \"std\", \"max\"])"
   ]
  },
  {
   "cell_type": "markdown",
   "metadata": {
    "papermill": {
     "duration": 0.035534,
     "end_time": "2021-11-30T12:54:49.042132",
     "exception": false,
     "start_time": "2021-11-30T12:54:49.006598",
     "status": "completed"
    },
    "tags": []
   },
   "source": [
    "When the retention variables are combined and the two groups are compared, the summary statistics are similar here as well."
   ]
  },
  {
   "cell_type": "code",
   "execution_count": 55,
   "metadata": {
    "execution": {
     "iopub.execute_input": "2021-11-30T12:54:49.117552Z",
     "iopub.status.busy": "2021-11-30T12:54:49.116891Z",
     "iopub.status.idle": "2021-11-30T12:54:49.244792Z",
     "shell.execute_reply": "2021-11-30T12:54:49.245399Z"
    },
    "papermill": {
     "duration": 0.167456,
     "end_time": "2021-11-30T12:54:49.245551",
     "exception": false,
     "start_time": "2021-11-30T12:54:49.078095",
     "status": "completed"
    },
    "tags": []
   },
   "outputs": [
    {
     "data": {
      "text/html": [
       "<div>\n",
       "<style scoped>\n",
       "    .dataframe tbody tr th:only-of-type {\n",
       "        vertical-align: middle;\n",
       "    }\n",
       "\n",
       "    .dataframe tbody tr th {\n",
       "        vertical-align: top;\n",
       "    }\n",
       "\n",
       "    .dataframe thead th {\n",
       "        text-align: right;\n",
       "    }\n",
       "</style>\n",
       "<table border=\"1\" class=\"dataframe\">\n",
       "  <thead>\n",
       "    <tr style=\"text-align: right;\">\n",
       "      <th></th>\n",
       "      <th>version</th>\n",
       "      <th>NewRetention</th>\n",
       "      <th>count</th>\n",
       "      <th>median</th>\n",
       "      <th>mean</th>\n",
       "      <th>std</th>\n",
       "      <th>max</th>\n",
       "    </tr>\n",
       "  </thead>\n",
       "  <tbody>\n",
       "    <tr>\n",
       "      <th>0</th>\n",
       "      <td>gate_30</td>\n",
       "      <td>False-False</td>\n",
       "      <td>1230</td>\n",
       "      <td>56.0000</td>\n",
       "      <td>73.4756</td>\n",
       "      <td>57.9166</td>\n",
       "      <td>981</td>\n",
       "    </tr>\n",
       "    <tr>\n",
       "      <th>1</th>\n",
       "      <td>gate_30</td>\n",
       "      <td>False-True</td>\n",
       "      <td>972</td>\n",
       "      <td>84.0000</td>\n",
       "      <td>120.9630</td>\n",
       "      <td>106.3995</td>\n",
       "      <td>1072</td>\n",
       "    </tr>\n",
       "    <tr>\n",
       "      <th>2</th>\n",
       "      <td>gate_30</td>\n",
       "      <td>True-False</td>\n",
       "      <td>5514</td>\n",
       "      <td>69.0000</td>\n",
       "      <td>92.8063</td>\n",
       "      <td>69.7262</td>\n",
       "      <td>918</td>\n",
       "    </tr>\n",
       "    <tr>\n",
       "      <th>3</th>\n",
       "      <td>gate_30</td>\n",
       "      <td>True-True</td>\n",
       "      <td>5849</td>\n",
       "      <td>148.0000</td>\n",
       "      <td>206.3955</td>\n",
       "      <td>192.1966</td>\n",
       "      <td>2961</td>\n",
       "    </tr>\n",
       "    <tr>\n",
       "      <th>4</th>\n",
       "      <td>gate_40</td>\n",
       "      <td>False-False</td>\n",
       "      <td>1383</td>\n",
       "      <td>58.0000</td>\n",
       "      <td>73.4497</td>\n",
       "      <td>47.9221</td>\n",
       "      <td>547</td>\n",
       "    </tr>\n",
       "    <tr>\n",
       "      <th>5</th>\n",
       "      <td>gate_40</td>\n",
       "      <td>False-True</td>\n",
       "      <td>965</td>\n",
       "      <td>92.0000</td>\n",
       "      <td>123.3865</td>\n",
       "      <td>105.9466</td>\n",
       "      <td>1241</td>\n",
       "    </tr>\n",
       "    <tr>\n",
       "      <th>6</th>\n",
       "      <td>gate_40</td>\n",
       "      <td>True-False</td>\n",
       "      <td>5737</td>\n",
       "      <td>71.0000</td>\n",
       "      <td>92.8105</td>\n",
       "      <td>74.1378</td>\n",
       "      <td>2640</td>\n",
       "    </tr>\n",
       "    <tr>\n",
       "      <th>7</th>\n",
       "      <td>gate_40</td>\n",
       "      <td>True-True</td>\n",
       "      <td>5742</td>\n",
       "      <td>152.0000</td>\n",
       "      <td>212.3938</td>\n",
       "      <td>196.3754</td>\n",
       "      <td>2294</td>\n",
       "    </tr>\n",
       "  </tbody>\n",
       "</table>\n",
       "</div>"
      ],
      "text/plain": [
       "   version NewRetention  count   median     mean      std   max\n",
       "0  gate_30  False-False   1230  56.0000  73.4756  57.9166   981\n",
       "1  gate_30   False-True    972  84.0000 120.9630 106.3995  1072\n",
       "2  gate_30   True-False   5514  69.0000  92.8063  69.7262   918\n",
       "3  gate_30    True-True   5849 148.0000 206.3955 192.1966  2961\n",
       "4  gate_40  False-False   1383  58.0000  73.4497  47.9221   547\n",
       "5  gate_40   False-True    965  92.0000 123.3865 105.9466  1241\n",
       "6  gate_40   True-False   5737  71.0000  92.8105  74.1378  2640\n",
       "7  gate_40    True-True   5742 152.0000 212.3938 196.3754  2294"
      ]
     },
     "execution_count": 55,
     "metadata": {},
     "output_type": "execute_result"
    }
   ],
   "source": [
    "ab_reached_40[\"NewRetention\"] = list(map(lambda x,y: str(x)+\"-\"+str(y), ab_reached_40.retention_1, ab_reached_40.retention_7))\n",
    "ab_reached_40.groupby([\"version\", \"NewRetention\"]).sum_gamerounds.agg([\"count\", \"median\", \"mean\", \"std\", \"max\"]).reset_index()"
   ]
  },
  {
   "cell_type": "markdown",
   "metadata": {
    "papermill": {
     "duration": 0.036794,
     "end_time": "2021-11-30T12:54:49.320237",
     "exception": false,
     "start_time": "2021-11-30T12:54:49.283443",
     "status": "completed"
    },
    "tags": []
   },
   "source": [
    "<a id='ab'></a>\n",
    "<h1 style=\"color:DarkSlateBlue\" >6. A/B Testing</h1>\n",
    "\n",
    "### Assumptions:\n",
    "- Check normality\n",
    "- If Normal Distribution, check homogeneity\n",
    "\n",
    "### Steps:\n",
    "- Split & Define Control Group & Test Group\n",
    "- Apply Shapiro Test for normality\n",
    "- If parametric apply Levene Test for homogeneity of variances\n",
    "- If Parametric + homogeneity of variances apply T-Test\n",
    "- If Parametric - homogeneity of variances apply Welch Test\n",
    "- If Non-parametric apply Mann Whitney U Test directly"
   ]
  },
  {
   "cell_type": "code",
   "execution_count": 56,
   "metadata": {
    "execution": {
     "iopub.execute_input": "2021-11-30T12:54:49.396738Z",
     "iopub.status.busy": "2021-11-30T12:54:49.396083Z",
     "iopub.status.idle": "2021-11-30T12:54:49.427837Z",
     "shell.execute_reply": "2021-11-30T12:54:49.428403Z"
    },
    "papermill": {
     "duration": 0.0716,
     "end_time": "2021-11-30T12:54:49.428556",
     "exception": false,
     "start_time": "2021-11-30T12:54:49.356956",
     "status": "completed"
    },
    "tags": []
   },
   "outputs": [
    {
     "data": {
      "text/html": [
       "<div>\n",
       "<style scoped>\n",
       "    .dataframe tbody tr th:only-of-type {\n",
       "        vertical-align: middle;\n",
       "    }\n",
       "\n",
       "    .dataframe tbody tr th {\n",
       "        vertical-align: top;\n",
       "    }\n",
       "\n",
       "    .dataframe thead th {\n",
       "        text-align: right;\n",
       "    }\n",
       "</style>\n",
       "<table border=\"1\" class=\"dataframe\">\n",
       "  <thead>\n",
       "    <tr style=\"text-align: right;\">\n",
       "      <th></th>\n",
       "      <th>userid</th>\n",
       "      <th>version</th>\n",
       "      <th>sum_gamerounds</th>\n",
       "      <th>retention_1</th>\n",
       "      <th>retention_7</th>\n",
       "      <th>Retention</th>\n",
       "      <th>NewRetention</th>\n",
       "    </tr>\n",
       "  </thead>\n",
       "  <tbody>\n",
       "    <tr>\n",
       "      <th>2</th>\n",
       "      <td>377</td>\n",
       "      <td>B</td>\n",
       "      <td>165</td>\n",
       "      <td>True</td>\n",
       "      <td>False</td>\n",
       "      <td>0</td>\n",
       "      <td>True-False</td>\n",
       "    </tr>\n",
       "    <tr>\n",
       "      <th>4</th>\n",
       "      <td>488</td>\n",
       "      <td>B</td>\n",
       "      <td>179</td>\n",
       "      <td>True</td>\n",
       "      <td>True</td>\n",
       "      <td>1</td>\n",
       "      <td>True-True</td>\n",
       "    </tr>\n",
       "    <tr>\n",
       "      <th>5</th>\n",
       "      <td>540</td>\n",
       "      <td>B</td>\n",
       "      <td>187</td>\n",
       "      <td>True</td>\n",
       "      <td>True</td>\n",
       "      <td>1</td>\n",
       "      <td>True-True</td>\n",
       "    </tr>\n",
       "    <tr>\n",
       "      <th>8</th>\n",
       "      <td>1574</td>\n",
       "      <td>B</td>\n",
       "      <td>108</td>\n",
       "      <td>True</td>\n",
       "      <td>True</td>\n",
       "      <td>1</td>\n",
       "      <td>True-True</td>\n",
       "    </tr>\n",
       "    <tr>\n",
       "      <th>9</th>\n",
       "      <td>1587</td>\n",
       "      <td>B</td>\n",
       "      <td>153</td>\n",
       "      <td>True</td>\n",
       "      <td>False</td>\n",
       "      <td>0</td>\n",
       "      <td>True-False</td>\n",
       "    </tr>\n",
       "  </tbody>\n",
       "</table>\n",
       "</div>"
      ],
      "text/plain": [
       "   userid version  sum_gamerounds  retention_1  retention_7  Retention  \\\n",
       "2     377       B             165         True        False          0   \n",
       "4     488       B             179         True         True          1   \n",
       "5     540       B             187         True         True          1   \n",
       "8    1574       B             108         True         True          1   \n",
       "9    1587       B             153         True        False          0   \n",
       "\n",
       "  NewRetention  \n",
       "2   True-False  \n",
       "4    True-True  \n",
       "5    True-True  \n",
       "8    True-True  \n",
       "9   True-False  "
      ]
     },
     "execution_count": 56,
     "metadata": {},
     "output_type": "execute_result"
    }
   ],
   "source": [
    "# Define A/B groups\n",
    "ab_reached_40[\"version\"] = np.where(ab_reached_40.version == \"gate_30\", \"A\", \"B\")\n",
    "ab_reached_40.head()"
   ]
  },
  {
   "cell_type": "code",
   "execution_count": 58,
   "metadata": {
    "execution": {
     "iopub.execute_input": "2021-11-30T12:54:49.507400Z",
     "iopub.status.busy": "2021-11-30T12:54:49.506645Z",
     "iopub.status.idle": "2021-11-30T12:54:49.602762Z",
     "shell.execute_reply": "2021-11-30T12:54:49.602232Z"
    },
    "papermill": {
     "duration": 0.136459,
     "end_time": "2021-11-30T12:54:49.602917",
     "exception": false,
     "start_time": "2021-11-30T12:54:49.466458",
     "status": "completed"
    },
    "tags": []
   },
   "outputs": [
    {
     "name": "stdout",
     "output_type": "stream",
     "text": [
      "# A/B Testing Hypothesis\n",
      "H0: A == B\n",
      "H1: A != B \n",
      "\n"
     ]
    },
    {
     "data": {
      "text/html": [
       "<div>\n",
       "<style scoped>\n",
       "    .dataframe tbody tr th:only-of-type {\n",
       "        vertical-align: middle;\n",
       "    }\n",
       "\n",
       "    .dataframe tbody tr th {\n",
       "        vertical-align: top;\n",
       "    }\n",
       "\n",
       "    .dataframe thead th {\n",
       "        text-align: right;\n",
       "    }\n",
       "</style>\n",
       "<table border=\"1\" class=\"dataframe\">\n",
       "  <thead>\n",
       "    <tr style=\"text-align: right;\">\n",
       "      <th></th>\n",
       "      <th>Test Type</th>\n",
       "      <th>AB Hypothesis</th>\n",
       "      <th>p-value</th>\n",
       "      <th>Comment</th>\n",
       "    </tr>\n",
       "  </thead>\n",
       "  <tbody>\n",
       "    <tr>\n",
       "      <th>0</th>\n",
       "      <td>Non-Parametric</td>\n",
       "      <td>Fail to Reject H0</td>\n",
       "      <td>0.0576</td>\n",
       "      <td>A/B groups are similar!</td>\n",
       "    </tr>\n",
       "  </tbody>\n",
       "</table>\n",
       "</div>"
      ],
      "text/plain": [
       "        Test Type      AB Hypothesis  p-value                  Comment\n",
       "0  Non-Parametric  Fail to Reject H0   0.0576  A/B groups are similar!"
      ]
     },
     "execution_count": 58,
     "metadata": {},
     "output_type": "execute_result"
    }
   ],
   "source": [
    "# A/B Testing Function - Quick Solution\n",
    "def hypothesis_Test(dataframe, group, target):\n",
    "    \n",
    "    # Packages\n",
    "    from scipy.stats import shapiro\n",
    "    import scipy.stats as stats\n",
    "    \n",
    "    # Split A/B\n",
    "    groupA = dataframe[dataframe[group] == \"A\"][target]\n",
    "    groupB = dataframe[dataframe[group] == \"B\"][target]\n",
    "    \n",
    "    # Assumption: Normality\n",
    "    ntA = shapiro(groupA)[1] < 0.05\n",
    "    ntB = shapiro(groupB)[1] < 0.05\n",
    "    # H0: Distribution is Normal! - False\n",
    "    # H1: Distribution is not Normal! - True\n",
    "    \n",
    "    if (ntA == False) & (ntB == False): # \"H0: Normal Distribution\"\n",
    "        # Parametric Test\n",
    "        # Assumption: Homogeneity of variances\n",
    "        leveneTest = stats.levene(groupA, groupB)[1] < 0.05\n",
    "        # H0: Homogeneity: False\n",
    "        # H1: Heterogeneous: True\n",
    "        \n",
    "        if leveneTest == False:\n",
    "            # Homogeneity\n",
    "            ttest = stats.ttest_ind(groupA, groupB, equal_var=True)[1]\n",
    "            # H0: M1 == M2 - False\n",
    "            # H1: M1 != M2 - True\n",
    "        else:\n",
    "            # Heterogeneous\n",
    "            ttest = stats.ttest_ind(groupA, groupB, equal_var=False)[1]\n",
    "            # H0: M1 == M2 - False\n",
    "            # H1: M1 != M2 - True\n",
    "    else:\n",
    "        # Non-Parametric Test\n",
    "        ttest = stats.mannwhitneyu(groupA, groupB)[1] \n",
    "        # H0: M1 == M2 - False\n",
    "        # H1: M1 != M2 - True\n",
    "        \n",
    "    # Result\n",
    "    temp = pd.DataFrame({\n",
    "        \"AB Hypothesis\":[ttest < 0.05], \n",
    "        \"p-value\":[ttest]\n",
    "    })\n",
    "    temp[\"Test Type\"] = np.where((ntA == False) & (ntB == False), \"Parametric\", \"Non-Parametric\")\n",
    "    temp[\"AB Hypothesis\"] = np.where(temp[\"AB Hypothesis\"] == False, \"Fail to Reject H0\", \"Reject H0\")\n",
    "    temp[\"Comment\"] = np.where(temp[\"AB Hypothesis\"] == \"Fail to Reject H0\", \"A/B groups are similar!\", \"A/B groups are not similar!\")\n",
    "    \n",
    "    # Columns\n",
    "    if (ntA == False) & (ntB == False):\n",
    "        temp[\"Homogeneity\"] = np.where(leveneTest == False, \"Yes\", \"No\")\n",
    "        temp = temp[[\"Test Type\", \"Homogeneity\",\"AB Hypothesis\", \"p-value\", \"Comment\"]]\n",
    "    else:\n",
    "        temp = temp[[\"Test Type\",\"AB Hypothesis\", \"p-value\", \"Comment\"]]\n",
    "    \n",
    "    # Print Hypothesis\n",
    "    print(\"# A/B Testing Hypothesis\")\n",
    "    print(\"H0: A == B\")\n",
    "    print(\"H1: A != B\", \"\\n\")\n",
    "    \n",
    "    return temp\n",
    "    \n",
    "    \n",
    "    \n",
    "# Apply A/B Testing\n",
    "hypothesis_Test(dataframe=ab_reached_40, group = \"version\", target = \"sum_gamerounds\")"
   ]
  },
  {
   "cell_type": "markdown",
   "metadata": {
    "papermill": {
     "duration": 0.037918,
     "end_time": "2021-11-30T12:54:49.679320",
     "exception": false,
     "start_time": "2021-11-30T12:54:49.641402",
     "status": "completed"
    },
    "tags": []
   },
   "source": [
    "<a id='conclusion'></a>\n",
    "<h1 style=\"color:DarkSlateBlue\" >7. Conclusion</h1>\n",
    "\n",
    "### Remember business problem!\n",
    "\n",
    "**As players progress through the game they will encounter gates that force them to wait some time before they can progress or make an in-app purchase. In this project, we will analyze the result of an A/B test where the first gate in Cookie Cats was moved from level 30 to level 40. In particular, we will analyze the impact on player retention and game rounds.**\n",
    "\n",
    "Firstly, we investigated relationships and structures in the data. There was no missing value problem but was one outlier problem in the data. Summary stats and plots help us to understand the data and problem.\n",
    "\n",
    "Before A/B Testing, we shared some details about game, players, problems and suggestion to our customer/director/ceo etc.\n",
    "\n",
    "After applying A/B Testing, the analysis result gives us some important information. Shapiro Testing rejected H0 for Normality assumption. Therefore we needed to apply a Non-parametric test as called Mann Whitney U to compare two groups. As a result, Mann Whitney U Testing rejected H0 hypothesis and we learned A/B groups are not similar!\n",
    "\n",
    "Briefly, There are statistically significant difference between two groups about moving first gate from level 30 to level 40 for game rounds. \n",
    "\n",
    "### Which level has more advantages in terms of player retention?\n",
    "\n",
    "1-day and 7-day average retention are higher when the gate is at level 30 than when it is at level 40."
   ]
  },
  {
   "cell_type": "code",
   "execution_count": 59,
   "metadata": {
    "execution": {
     "iopub.execute_input": "2021-11-30T12:54:49.761321Z",
     "iopub.status.busy": "2021-11-30T12:54:49.760661Z",
     "iopub.status.idle": "2021-11-30T12:54:49.784060Z",
     "shell.execute_reply": "2021-11-30T12:54:49.783445Z"
    },
    "papermill": {
     "duration": 0.066607,
     "end_time": "2021-11-30T12:54:49.784187",
     "exception": false,
     "start_time": "2021-11-30T12:54:49.717580",
     "status": "completed"
    },
    "tags": []
   },
   "outputs": [
    {
     "data": {
      "text/plain": [
       "(version\n",
       " A   0.8377\n",
       " B   0.8302\n",
       " Name: retention_1, dtype: float64,\n",
       " version\n",
       " A   0.5028\n",
       " B   0.4851\n",
       " Name: retention_7, dtype: float64)"
      ]
     },
     "execution_count": 59,
     "metadata": {},
     "output_type": "execute_result"
    }
   ],
   "source": [
    "ab_reached_40.groupby(\"version\").retention_1.mean(), ab_reached_40.groupby(\"version\").retention_7.mean()"
   ]
  },
  {
   "cell_type": "markdown",
   "metadata": {
    "papermill": {
     "duration": 0.038376,
     "end_time": "2021-11-30T12:54:49.862113",
     "exception": false,
     "start_time": "2021-11-30T12:54:49.823737",
     "status": "completed"
    },
    "tags": []
   },
   "source": [
    "The gate should be at level 30 but average retentions look like similar. We need more data for similarity."
   ]
  }
 ],
 "metadata": {
  "kernelspec": {
   "display_name": "Python 3 (ipykernel)",
   "language": "python",
   "name": "python3"
  },
  "language_info": {
   "codemirror_mode": {
    "name": "ipython",
    "version": 3
   },
   "file_extension": ".py",
   "mimetype": "text/x-python",
   "name": "python",
   "nbconvert_exporter": "python",
   "pygments_lexer": "ipython3",
   "version": "3.9.6"
  },
  "papermill": {
   "duration": 11.480081,
   "end_time": "2021-11-30T12:54:50.008775",
   "environment_variables": {},
   "exception": null,
   "input_path": "__notebook__.ipynb",
   "output_path": "__notebook__.ipynb",
   "parameters": {},
   "start_time": "2021-11-30T12:54:38.528694",
   "version": "2.1.0"
  }
 },
 "nbformat": 4,
 "nbformat_minor": 4
}
