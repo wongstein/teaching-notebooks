{
 "cells": [
  {
   "cell_type": "markdown",
   "id": "5d0a7d82",
   "metadata": {},
   "source": [
    "# Modeling the Replication Crisis (P values and what they mean)\n",
    "\n",
    "1. In Psychology, the alpha (p-value) to publish is 0.05 (there is a 5% chance the results seen are due to random chance)\n",
    "\n",
    "2. Using the complement rule, what is the probabilty that we will get at least 1 \"success\" given X experiments?\n",
    "    - Success defined: The null hypothesis can be rejected\n",
    "    \n",
    "P(success) = sum(P(1 success in X) + P(2 success in X) ... (P X success in X))\n",
    "\n",
    "** Now use complement rule to reformulate P(Success) in x: \n",
    "p(success) = 1 - p(not success) ^ x\n"
   ]
  },
  {
   "cell_type": "code",
   "execution_count": 1,
   "id": "a6e03708",
   "metadata": {},
   "outputs": [],
   "source": [
    "def probability_success(alpha, x_experiments = 1):\n",
    "    return 1 - (1 - alpha) ** x_experiments"
   ]
  },
  {
   "cell_type": "code",
   "execution_count": 2,
   "id": "f3ad21ef",
   "metadata": {},
   "outputs": [
    {
     "data": {
      "text/plain": [
       "0.050000000000000044"
      ]
     },
     "execution_count": 2,
     "metadata": {},
     "output_type": "execute_result"
    }
   ],
   "source": [
    "# Probability of success in 1 experiment (we should see 5%)\n",
    "probability_success(0.05)\n",
    "\n",
    "## Those last 44 are a quirk in the float representation of python.\n",
    "## To understand it you need to understand bits and bytes and how those 0/1s \n",
    "## End up encoding decimals.  \n",
    "\n",
    "## Here is documentation: https://docs.python.org/3/tutorial/floatingpoint.html"
   ]
  },
  {
   "cell_type": "code",
   "execution_count": null,
   "id": "af961d8f",
   "metadata": {},
   "outputs": [],
   "source": [
    "# Now let's randomly select success "
   ]
  },
  {
   "cell_type": "code",
   "execution_count": 3,
   "id": "9eb1d794",
   "metadata": {},
   "outputs": [
    {
     "data": {
      "text/plain": [
       "0.6415140775914581"
      ]
     },
     "execution_count": 3,
     "metadata": {},
     "output_type": "execute_result"
    }
   ],
   "source": [
    "# Let's do this again with 20\n",
    "probability_success(0.05, 20)"
   ]
  },
  {
   "cell_type": "code",
   "execution_count": 4,
   "id": "e882bd9a",
   "metadata": {
    "scrolled": true
   },
   "outputs": [
    {
     "name": "stdout",
     "output_type": "stream",
     "text": [
      "At 25 experiments, it's 0.7226104268781662 likely to see at least 1 success\n",
      "At 27 experiments, it's 0.7496559102575451 likely to see at least 1 success\n",
      "At 29 experiments, it's 0.7740644590074345 likely to see at least 1 success\n",
      "At 31 experiments, it's 0.7960931742542097 likely to see at least 1 success\n",
      "At 33 experiments, it's 0.8159740897644242 likely to see at least 1 success\n",
      "At 35 experiments, it's 0.8339166160123929 likely to see at least 1 success\n",
      "At 37 experiments, it's 0.8501097459511846 likely to see at least 1 success\n",
      "At 39 experiments, it's 0.8647240457209441 likely to see at least 1 success\n",
      "At 41 experiments, it's 0.877913451263152 likely to see at least 1 success\n",
      "At 43 experiments, it's 0.8898168897649947 likely to see at least 1 success\n",
      "At 45 experiments, it's 0.9005597430129078 likely to see at least 1 success\n",
      "At 47 experiments, it's 0.9102551680691493 likely to see at least 1 success\n",
      "At 49 experiments, it's 0.9190052891824072 likely to see at least 1 success\n"
     ]
    }
   ],
   "source": [
    "# let's find the x that get's us to a probability of at least 1 success at 90%\n",
    "\n",
    "for x in range(25, 50, 2):\n",
    "    print(f\"At {x} experiments, it's {probability_success(0.05, x)} likely to see at least 1 success\")"
   ]
  },
  {
   "cell_type": "markdown",
   "id": "cf9ff8ec",
   "metadata": {},
   "source": [
    "#### The replication Crisis\n",
    "\n",
    "With an alpha of 0.05, it's 90% (basically guaranteed! 90% is the chance LA is NOT RAINING on any given day) that you'll see 1 study which encourages to reject the null hypothesis by study 45\n",
    "\n",
    "###### The impact of sampling Bias:\n",
    "1. The only papers that get published are the ones that have a p value < alpha\n",
    "\n",
    "###### How sampling Bias distorts subjective probabilities\n",
    "2. People reading papers only see \"success\" and can develop the impression probability of success when n_study = 1 is higher than it is!\n",
    "\n",
    "###### What happened.\n",
    "3. As researchers tried to replicate what they were reading in Psychology journals, they were unable to replicate the results\n"
   ]
  },
  {
   "cell_type": "markdown",
   "id": "e0afe0da",
   "metadata": {},
   "source": [
    "# Finding the P Value in Python\n",
    "\n",
    "To do the calculations, you'd have to do a T-Test or ANOVA test or some other test and then plug in the numbers into a p-value table.  \n",
    "\n",
    "Instead, we can use the scipy stats library to do this for us"
   ]
  },
  {
   "cell_type": "code",
   "execution_count": 16,
   "id": "b0972fd2",
   "metadata": {},
   "outputs": [
    {
     "name": "stdout",
     "output_type": "stream",
     "text": [
      "Ttest_indResult(statistic=-1.12984269056424, pvalue=0.2599093826219787)\n"
     ]
    }
   ],
   "source": [
    "import numpy as np\n",
    "from scipy.stats import ttest_ind\n",
    "\n",
    "v1 = np.random.normal(size=100)\n",
    "v2 = np.random.normal(size=100)\n",
    "\n",
    "# v1 is an array of all samples for 1 dataset\n",
    "# v2 is an arrary of all samples for another dataset\n",
    "\n",
    "# the ttest_ind is giving the t-test value for the two datasets\n",
    "## it calculates a 2-tailed test\n",
    "res = ttest_ind(v1, v2)\n",
    "\n",
    "print(res)"
   ]
  },
  {
   "cell_type": "code",
   "execution_count": null,
   "id": "0c016dd9",
   "metadata": {},
   "outputs": [],
   "source": []
  }
 ],
 "metadata": {
  "kernelspec": {
   "display_name": "Python 3 (ipykernel)",
   "language": "python",
   "name": "python3"
  },
  "language_info": {
   "codemirror_mode": {
    "name": "ipython",
    "version": 3
   },
   "file_extension": ".py",
   "mimetype": "text/x-python",
   "name": "python",
   "nbconvert_exporter": "python",
   "pygments_lexer": "ipython3",
   "version": "3.9.6"
  }
 },
 "nbformat": 4,
 "nbformat_minor": 5
}
