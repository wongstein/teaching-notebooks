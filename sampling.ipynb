{
 "cells": [
  {
   "cell_type": "code",
   "execution_count": 2,
   "id": "7598ca50-3b67-4131-9eda-3eaeae8251c2",
   "metadata": {},
   "outputs": [],
   "source": [
    "import numpy as np\n",
    "from scipy import stats"
   ]
  },
  {
   "cell_type": "markdown",
   "id": "ba976402-e82f-4b9e-8ab6-c96b4997d12f",
   "metadata": {
    "tags": []
   },
   "source": [
    "# Simple Sampling\n",
    "\n",
    "Random sampling is randomly selecting samples from the population."
   ]
  },
  {
   "cell_type": "code",
   "execution_count": 3,
   "id": "1de3f6f5-8cb1-4282-b6c1-b92c5ea755be",
   "metadata": {},
   "outputs": [],
   "source": [
    "# Let's create a normal population\n",
    "population_size = 1000000\n",
    "population_mean = 3 # mean\n",
    "population_stdev = 2 # standard deviation\n",
    "\n",
    "# The population, in a numpy array\n",
    "population_normal = stats.norm.rvs(size=population_size,loc=population_mean,scale=population_stdev)"
   ]
  },
  {
   "cell_type": "code",
   "execution_count": 4,
   "id": "fc53ce61-df67-42c9-a27d-a1dc00bcebb9",
   "metadata": {},
   "outputs": [
    {
     "data": {
      "text/plain": [
       "array([ 4.45078761,  1.67864093,  3.23619755,  4.51179708,  2.10890937,\n",
       "       -0.63747515,  1.01798538,  2.67280378,  4.5510385 , -2.88205865])"
      ]
     },
     "execution_count": 4,
     "metadata": {},
     "output_type": "execute_result"
    }
   ],
   "source": [
    "# Let's see the first 10 of our normal population \n",
    "population_normal[:10]"
   ]
  },
  {
   "cell_type": "code",
   "execution_count": 5,
   "id": "003422cf-1842-4e43-b4b1-f24e9caddbb9",
   "metadata": {},
   "outputs": [],
   "source": [
    "# Randomly sampling from our normal population\n",
    "import random\n",
    "\n",
    "def random_sample(population, number_to_sample):\n",
    "    sample = []\n",
    "    \n",
    "    # Going to track of who we've sampled already here\n",
    "    seen_indices = []\n",
    "    \n",
    "    for i in range(0, number_to_sample):\n",
    "        # We are going to use the random library to randomly choose an index in our population\n",
    "        random_choice_index = random.randint(0, len(population))\n",
    "        \n",
    "        # Making sure that we are double counting the same sample we've chosen in the past\n",
    "        while random_choice_index in seen_indices:\n",
    "            random_choice_index = random.randint(0, len(population))\n",
    "        \n",
    "        # This is how you get the actual ELEMENT in an array, given an index\n",
    "        random_choice = population[random_choice_index]\n",
    "        seen_indices.append(random_choice_index)\n",
    "        \n",
    "        # add my random choice to my sample\n",
    "        sample.append(random_choice)\n",
    "        \n",
    "    return sample"
   ]
  },
  {
   "cell_type": "markdown",
   "id": "72a508b9-7f8f-4729-ab13-143dc56ac43e",
   "metadata": {},
   "source": [
    "**If we rerun the next two cells, we should see the sample mean and stdev change A LOT**"
   ]
  },
  {
   "cell_type": "code",
   "execution_count": 11,
   "id": "8e5f8c2d-f5e0-4752-9924-ce43964e13dd",
   "metadata": {},
   "outputs": [
    {
     "name": "stdout",
     "output_type": "stream",
     "text": [
      "[1.740250593917616, 5.115930930372182, 4.661753678612627, 3.978086682691522, 2.203407493316655, 3.946291950486846, 1.9869865578636074, 2.20095238405269, 5.118440393280183, 1.1901193724594847]\n"
     ]
    }
   ],
   "source": [
    "# When my sample is small compared to my population\n",
    "\n",
    "sample_number = 10\n",
    "sample = random_sample(population_normal, sample_number)\n",
    "\n",
    "print(sample)"
   ]
  },
  {
   "cell_type": "code",
   "execution_count": 12,
   "id": "9869c255-ac95-4b0b-86fb-7fcf2130d441",
   "metadata": {},
   "outputs": [
    {
     "name": "stdout",
     "output_type": "stream",
     "text": [
      "The mean of this sample is: 3.2142220037053413         but our population mean is 3.\n",
      "The standard deviation of this sample is: 1.5011647121242706         but our population mean is 2.\n"
     ]
    }
   ],
   "source": [
    "import statistics # yet another library!\n",
    "\n",
    "# using f strings to print out things\n",
    "## You can use the backslash at the end of string to put an arbitrary enter and break up the string\n",
    "###  it doesn't change the string, but it makes life easier to read for you the Programmer\n",
    "print(f\"The mean of this sample is: {statistics.mean(sample)} \\\n",
    "        but our population mean is {population_mean}.\")\n",
    "\n",
    "print(f\"The standard deviation of this sample is: {statistics.stdev(sample)} \\\n",
    "        but our population mean is {population_stdev}.\")"
   ]
  },
  {
   "cell_type": "code",
   "execution_count": 13,
   "id": "1402fbe4-6bd7-4d55-bea7-fccd4cc130eb",
   "metadata": {},
   "outputs": [],
   "source": [
    "# Also did you know there was a function provided by random that randomly samples?\n",
    "\n",
    "## But for this function to work, the population_normal object must be converted from a np.array to list\n",
    "sample_10_from_random_lib = random.sample(population_normal.tolist(), sample_number)"
   ]
  },
  {
   "cell_type": "code",
   "execution_count": 14,
   "id": "590f7823-4fea-47a6-9902-bab3abfb4375",
   "metadata": {},
   "outputs": [
    {
     "data": {
      "text/plain": [
       "[3.605911034456616,\n",
       " -2.364900398156588,\n",
       " 2.4227537731170528,\n",
       " 6.50665241052579,\n",
       " 3.4753200191547506,\n",
       " 0.20313627227882325,\n",
       " 4.387064076629358,\n",
       " 2.692613071008091,\n",
       " 3.010796904323776,\n",
       " 3.226877621933227]"
      ]
     },
     "execution_count": 14,
     "metadata": {},
     "output_type": "execute_result"
    }
   ],
   "source": [
    "sample_10_from_random_lib"
   ]
  },
  {
   "cell_type": "markdown",
   "id": "094764cb-94fd-4f49-a260-479d55dfc0f4",
   "metadata": {},
   "source": [
    "# Systemic Sampling\n",
    "\n",
    "Dark and famous examples Systemic Sampling (Murder, Mayhem Oh my!)"
   ]
  },
  {
   "cell_type": "code",
   "execution_count": 15,
   "id": "52c3ec9c-3df5-4733-92d8-36d5fe81d92e",
   "metadata": {},
   "outputs": [],
   "source": [
    "# let's write a function that takes the Kth sample in a population for our dataset\n",
    "\n",
    "def system_sampling(population, k):\n",
    "    \n",
    "    # in this list comprehension, we are using python List Comprehensions and the property of range()\n",
    "    # range takes in the start integer, the end integer, and an optional 3rd parameter which is\n",
    "    ### how big of an interval / difference between the numbers it spits out in order?  Default is 1\n",
    "    \n",
    "    #Wasn't this code so much easier to read???? \n",
    "    return [population[i] for i in range(0, len(population), k)]"
   ]
  },
  {
   "cell_type": "code",
   "execution_count": 16,
   "id": "1ee74fac-216f-4ad5-bc65-1322413eee97",
   "metadata": {},
   "outputs": [],
   "source": [
    "decimate = system_sampling(population_normal, 10)"
   ]
  },
  {
   "cell_type": "code",
   "execution_count": 17,
   "id": "b3d06afc-cee2-4642-8143-00c3547c2918",
   "metadata": {},
   "outputs": [],
   "source": [
    "# This is a test proving that our sampling technique gave us a sample that is of size\n",
    "# the population / k\n",
    "assert len(decimate) == len(population_normal) // 10"
   ]
  },
  {
   "cell_type": "markdown",
   "id": "7b00703c-702f-4569-8c4e-57aa3124ba61",
   "metadata": {
    "tags": []
   },
   "source": [
    "# Stratified Random Sampling"
   ]
  },
  {
   "cell_type": "code",
   "execution_count": 19,
   "id": "faa33525-9c9e-4d99-ab1d-9e14ead6b682",
   "metadata": {},
   "outputs": [],
   "source": [
    "# We need to define classes of some sort for stratified random sampling.  \n",
    "## To make life easy, the class can be based off the values.  We will use BINS as our classes\n",
    "\n",
    "## There are plenty of ways to randomly make a class, like randomly assigning a class to each datapoint.\n",
    "\n",
    "# this // symbol is doing floor division.  I'm using to convert a decimal into an integer\n",
    "def make_classes(population, num_classes):\n",
    "    largest_population_val_int = max(population) // 1 + 1 # adding 1 to make sure our bins are larger\n",
    "    min_population_val_int = min(population) // 1 - 1 # subtracting to make sure our bins are larger\n",
    "    \n",
    "    bin_width = (largest_population_val_int - min_population_val_int) // num_classes\n",
    "    \n",
    "    return [min_population_val_int + i * bin_width for i in range(0, num_classes)]"
   ]
  },
  {
   "cell_type": "code",
   "execution_count": 20,
   "id": "ce8d3354-d768-4a1c-98ff-4dfdf5973ac9",
   "metadata": {},
   "outputs": [],
   "source": [
    "# let's start with 5 classes \n",
    "my_population_classes = make_classes(population_normal, 5)"
   ]
  },
  {
   "cell_type": "code",
   "execution_count": 21,
   "id": "67bf9868-6702-4207-92ba-228da5a485fe",
   "metadata": {},
   "outputs": [
    {
     "data": {
      "text/plain": [
       "[-8.0, -4.0, 0.0, 4.0, 8.0]"
      ]
     },
     "execution_count": 21,
     "metadata": {},
     "output_type": "execute_result"
    }
   ],
   "source": [
    "# The value in the list is the lower bound of the bin \n",
    "my_population_classes"
   ]
  },
  {
   "cell_type": "markdown",
   "id": "00e58710-08c7-40a0-bc71-1ae1a29bba27",
   "metadata": {},
   "source": [
    "** It doesn't matter how many times I run the above two lines of code, the output will never change**\n",
    "\n",
    "Try it"
   ]
  },
  {
   "cell_type": "code",
   "execution_count": 22,
   "id": "99965fc0-840c-40b3-9759-037a131ccfd7",
   "metadata": {},
   "outputs": [],
   "source": [
    "# Let's reformat our population into a pandas dataframe,\n",
    "# because it'll count categorical data for us out of the box\n",
    "\n",
    "import pandas as pd\n",
    "\n",
    "population_normal_df = pd.DataFrame(columns = [\"value\", \"class\"])\n",
    "population_normal_df[\"value\"] = population_normal\n",
    "\n",
    "# convert the value into a class\n",
    "def get_class_from_value(value, classes_array):\n",
    "    for i in range(1, len(classes_array)):\n",
    "        \n",
    "        if value < classes_array[i]:\n",
    "            return classes_array[i - 1]"
   ]
  },
  {
   "cell_type": "code",
   "execution_count": 23,
   "id": "051f8de4-80d4-4b62-b4ff-7290fd13ca8c",
   "metadata": {},
   "outputs": [],
   "source": [
    "population_normal_df[\"class\"] = [get_class_from_value(val, my_population_classes) \n",
    "                                 for val in population_normal]"
   ]
  },
  {
   "cell_type": "code",
   "execution_count": 24,
   "id": "43195fed-2f74-4f59-adea-5d3bced23cac",
   "metadata": {},
   "outputs": [
    {
     "name": "stdout",
     "output_type": "stream",
     "text": [
      "[-8.0, -4.0, 0.0, 4.0, 8.0]\n"
     ]
    },
    {
     "data": {
      "text/html": [
       "<div>\n",
       "<style scoped>\n",
       "    .dataframe tbody tr th:only-of-type {\n",
       "        vertical-align: middle;\n",
       "    }\n",
       "\n",
       "    .dataframe tbody tr th {\n",
       "        vertical-align: top;\n",
       "    }\n",
       "\n",
       "    .dataframe thead th {\n",
       "        text-align: right;\n",
       "    }\n",
       "</style>\n",
       "<table border=\"1\" class=\"dataframe\">\n",
       "  <thead>\n",
       "    <tr style=\"text-align: right;\">\n",
       "      <th></th>\n",
       "      <th>value</th>\n",
       "      <th>class</th>\n",
       "    </tr>\n",
       "  </thead>\n",
       "  <tbody>\n",
       "    <tr>\n",
       "      <th>0</th>\n",
       "      <td>4.450788</td>\n",
       "      <td>4.0</td>\n",
       "    </tr>\n",
       "    <tr>\n",
       "      <th>1</th>\n",
       "      <td>1.678641</td>\n",
       "      <td>0.0</td>\n",
       "    </tr>\n",
       "    <tr>\n",
       "      <th>2</th>\n",
       "      <td>3.236198</td>\n",
       "      <td>0.0</td>\n",
       "    </tr>\n",
       "    <tr>\n",
       "      <th>3</th>\n",
       "      <td>4.511797</td>\n",
       "      <td>4.0</td>\n",
       "    </tr>\n",
       "    <tr>\n",
       "      <th>4</th>\n",
       "      <td>2.108909</td>\n",
       "      <td>0.0</td>\n",
       "    </tr>\n",
       "  </tbody>\n",
       "</table>\n",
       "</div>"
      ],
      "text/plain": [
       "      value  class\n",
       "0  4.450788    4.0\n",
       "1  1.678641    0.0\n",
       "2  3.236198    0.0\n",
       "3  4.511797    4.0\n",
       "4  2.108909    0.0"
      ]
     },
     "execution_count": 24,
     "metadata": {},
     "output_type": "execute_result"
    }
   ],
   "source": [
    "print(my_population_classes)\n",
    "population_normal_df.head()"
   ]
  },
  {
   "cell_type": "code",
   "execution_count": 25,
   "id": "cb8bcad4-491d-4b5f-97bf-9fbde1335eab",
   "metadata": {},
   "outputs": [
    {
     "data": {
      "text/plain": [
       " 0.0    0.624263\n",
       " 4.0    0.302932\n",
       "-4.0    0.066403\n",
       "-8.0    0.000247\n",
       "Name: class, dtype: float64"
      ]
     },
     "execution_count": 25,
     "metadata": {},
     "output_type": "execute_result"
    }
   ],
   "source": [
    "# Let's look at the class distributions\n",
    "# This is what we want to maintain!!!\n",
    "def _create_class_dist(population_df, class_column):\n",
    "    return population_df[class_column].value_counts() / len(population_normal)\n",
    "\n",
    "_create_class_dist(population_normal_df, \"class\")"
   ]
  },
  {
   "cell_type": "code",
   "execution_count": 27,
   "id": "198bd5e8-efe3-40d1-bdb8-b38883748f98",
   "metadata": {},
   "outputs": [
    {
     "data": {
      "text/plain": [
       "RangeIndex(start=0, stop=1000000, step=1)"
      ]
     },
     "execution_count": 27,
     "metadata": {},
     "output_type": "execute_result"
    }
   ],
   "source": [
    "population_normal_df.index"
   ]
  },
  {
   "cell_type": "code",
   "execution_count": 28,
   "id": "8f8f2bf6-3eb5-457f-984b-3a7b49cbe20e",
   "metadata": {},
   "outputs": [],
   "source": [
    "# Now we can finally get our stratified sample.  WOW that was a lot of coding!\n",
    "\n",
    "def _per_class_target_sample_n(target_class, sample_n, class_distribution_np):\n",
    "    return sample_n * class_distribution_np[target_class] // 1\n",
    "\n",
    "def stratefied_sampling(population, sample_n):\n",
    "    sample = []\n",
    "    \n",
    "    class_distribution_np = _create_class_dist(population, \"class\") \n",
    "    \n",
    "    # get the exact number of each class we need for N samples\n",
    "    target_class_sample_n = class_distribution_np * sample_n // 1\n",
    "    \n",
    "    for pop_class in class_distribution_np.index:\n",
    "        # This is how you sort a pandas df to get ONLY THE ROWS where column \"class\" == popclass\n",
    "        ## The sql equivalent is: SELECT * FROM population WHERE class EQUALS pop_class\n",
    "        \n",
    "        this_class_df = population.loc[population[\"class\"] == pop_class]\n",
    "        \n",
    "        # Doing some class changing to make libraries happy.  This is life\n",
    "        target_class_sample_n_int = int(target_class_sample_n[pop_class])\n",
    "        \n",
    "        if target_class_sample_n_int > 0:\n",
    "            this_class_values_list = this_class_df[\"value\"].tolist()\n",
    "            \n",
    "            class_random_sample = random.sample(this_class_values_list, \n",
    "                                                target_class_sample_n_int)\n",
    "        \n",
    "            sample = sample + class_random_sample\n",
    "    \n",
    "    return sample\n",
    "    "
   ]
  },
  {
   "cell_type": "code",
   "execution_count": 31,
   "id": "afea856a",
   "metadata": {},
   "outputs": [
    {
     "data": {
      "text/plain": [
       "[3.8434599462363606,\n",
       " 3.696462096797834,\n",
       " 2.40232273759965,\n",
       " 1.8542682035923883,\n",
       " 0.4453812663119603,\n",
       " 3.2745024638846876,\n",
       " 1.7811975967259954,\n",
       " 3.9448834321589494,\n",
       " 0.8933681959633071,\n",
       " 3.48581511658956]"
      ]
     },
     "execution_count": 31,
     "metadata": {},
     "output_type": "execute_result"
    }
   ],
   "source": [
    "my_sample = stratefied_sampling(population_normal_df, 100)\n",
    "my_sample[:10]"
   ]
  },
  {
   "cell_type": "code",
   "execution_count": 32,
   "id": "8883515e",
   "metadata": {},
   "outputs": [
    {
     "ename": "TypeError",
     "evalue": "list indices must be integers or slices, not list",
     "output_type": "error",
     "traceback": [
      "\u001b[0;31m---------------------------------------------------------------------------\u001b[0m",
      "\u001b[0;31mTypeError\u001b[0m                                 Traceback (most recent call last)",
      "Cell \u001b[0;32mIn[32], line 1\u001b[0m\n\u001b[0;32m----> 1\u001b[0m \u001b[43m_create_class_dist\u001b[49m\u001b[43m(\u001b[49m\u001b[43mmy_sample\u001b[49m\u001b[43m,\u001b[49m\u001b[43m \u001b[49m\u001b[43mmy_population_classes\u001b[49m\u001b[43m)\u001b[49m\n",
      "Cell \u001b[0;32mIn[25], line 4\u001b[0m, in \u001b[0;36m_create_class_dist\u001b[0;34m(population_df, class_column)\u001b[0m\n\u001b[1;32m      3\u001b[0m \u001b[38;5;28;01mdef\u001b[39;00m \u001b[38;5;21m_create_class_dist\u001b[39m(population_df, class_column):\n\u001b[0;32m----> 4\u001b[0m     \u001b[38;5;28;01mreturn\u001b[39;00m \u001b[43mpopulation_df\u001b[49m\u001b[43m[\u001b[49m\u001b[43mclass_column\u001b[49m\u001b[43m]\u001b[49m\u001b[38;5;241m.\u001b[39mvalue_counts() \u001b[38;5;241m/\u001b[39m \u001b[38;5;28mlen\u001b[39m(population_normal)\n",
      "\u001b[0;31mTypeError\u001b[0m: list indices must be integers or slices, not list"
     ]
    }
   ],
   "source": [
    "_create_class_dist(my_sample, my_population_classes)"
   ]
  },
  {
   "cell_type": "markdown",
   "id": "516d6103-52cf-4906-a566-221572eed8a2",
   "metadata": {},
   "source": [
    "## Making a stratified sample of 10\n",
    "\n",
    "Notice that the final sample only has 9 samples in it!  What gives!!\n",
    "\n",
    "This has to do with the function we wrote and the small sample we took when related to the number of classes we made.  Some of the classes are going to have smaller probabilities and at a small n, those probabilities are close to zero.\n",
    "\n",
    "In the code, we are using floor division ruthlessly to make various libraries happy (after all you can't pick 6.5 samples from a population!).  \n",
    "\n",
    "In the end, the usage of floor division, which will ALWAYS round down, means that cumultively we lose a sample when n is small.  "
   ]
  },
  {
   "cell_type": "code",
   "execution_count": 33,
   "id": "e4e086f3-543f-4f6a-8b11-2e17a9bc62bb",
   "metadata": {},
   "outputs": [],
   "source": [
    "sample_10 = stratefied_sampling(population_normal_df, 10)"
   ]
  },
  {
   "cell_type": "code",
   "execution_count": 34,
   "id": "583a03d8-6807-470b-8b99-427b872aa194",
   "metadata": {},
   "outputs": [
    {
     "name": "stdout",
     "output_type": "stream",
     "text": [
      "[3.2935651663257133, 3.3571521758088116, 0.9098939972352134, 0.45990637793764133, 3.5800076552583944, 3.0016606831745545, 4.454481089054768, 4.131116834703995, 4.296771894418211]\n",
      "9\n"
     ]
    }
   ],
   "source": [
    "print(sample_10)\n",
    "print(len(sample_10))"
   ]
  },
  {
   "cell_type": "code",
   "execution_count": null,
   "id": "fd5c3ef1",
   "metadata": {},
   "outputs": [],
   "source": []
  }
 ],
 "metadata": {
  "kernelspec": {
   "display_name": "Python 3 (ipykernel)",
   "language": "python",
   "name": "python3"
  },
  "language_info": {
   "codemirror_mode": {
    "name": "ipython",
    "version": 3
   },
   "file_extension": ".py",
   "mimetype": "text/x-python",
   "name": "python",
   "nbconvert_exporter": "python",
   "pygments_lexer": "ipython3",
   "version": "3.9.6"
  }
 },
 "nbformat": 4,
 "nbformat_minor": 5
}
