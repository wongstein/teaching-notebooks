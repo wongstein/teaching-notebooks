{
 "cells": [
  {
   "cell_type": "code",
   "execution_count": 1,
   "id": "5ab9f0dc",
   "metadata": {},
   "outputs": [],
   "source": [
    "from scipy import stats"
   ]
  },
  {
   "cell_type": "markdown",
   "id": "16418f3d",
   "metadata": {},
   "source": [
    "# A run through of the libraries in Python for statistical Testing\n",
    "\n",
    "1. There are probably MULTIPLE libraries in Python to get these test statisics\n",
    "2. This is just a collection of some of them, chosen by no other method other than: It was the first search result that came up on Google"
   ]
  },
  {
   "cell_type": "code",
   "execution_count": 2,
   "id": "32fdd280",
   "metadata": {},
   "outputs": [
    {
     "name": "stdout",
     "output_type": "stream",
     "text": [
      "the t-test statistic: 8.436499294015267 with a correlated p_value of 1.2168091967036445e-08\n"
     ]
    }
   ],
   "source": [
    "# single sample 2-tail t test\n",
    "\n",
    "## Data is from a normal distribution with a mean of 3, and stdev of 2\n",
    "data = stats.norm.rvs(size=25,loc=3,scale=2)\n",
    "\n",
    "\n",
    "#pop mean is the population mean, that is known.\n",
    "## You can play with this population mean and see the corresponding p value\n",
    "t_statistic, p_value = stats.ttest_1samp(a=data, popmean=0, alternative = \"two-sided\")\n",
    "print(f\"the t-test statistic: {t_statistic} with a correlated p_value of {p_value}\")"
   ]
  },
  {
   "cell_type": "code",
   "execution_count": 3,
   "id": "fad25ba1",
   "metadata": {},
   "outputs": [
    {
     "name": "stdout",
     "output_type": "stream",
     "text": [
      "the t-test statistic: -0.02789364984532831 with a correlated p_value of 0.48898881255660004\n"
     ]
    }
   ],
   "source": [
    "# single sample 1-tail t test\n",
    "\n",
    "# basically the same as above, but you pass in the parameter of alternative\n",
    "## values: \"two-sided\", \"less\", \"greater\"\n",
    "## Documentation here: \n",
    "## https://docs.scipy.org/doc/scipy/reference/generated/scipy.stats.ttest_1samp.html\n",
    "\n",
    "t_statistic, p_value = stats.ttest_1samp(a=data, popmean=3, alternative = \"less\")\n",
    "\n",
    "print(f\"the t-test statistic: {t_statistic} with a correlated p_value of {p_value}\")"
   ]
  },
  {
   "cell_type": "code",
   "execution_count": 4,
   "id": "930be9b8",
   "metadata": {},
   "outputs": [
    {
     "data": {
      "text/plain": [
       "Ttest_indResult(statistic=0.9283375697745784, pvalue=0.3578774409720028)"
      ]
     },
     "execution_count": 4,
     "metadata": {},
     "output_type": "execute_result"
    }
   ],
   "source": [
    "# two sample t test, 2 tail\n",
    "data_1 = stats.norm.rvs(size=25,loc=3,scale=2)\n",
    "data_2 = stats.norm.rvs(size=25,loc=3,scale=2)\n",
    "\n",
    "stats.ttest_ind(a=data_1, b=data_2)"
   ]
  },
  {
   "cell_type": "code",
   "execution_count": 7,
   "id": "97a35100",
   "metadata": {},
   "outputs": [
    {
     "data": {
      "text/plain": [
       "Ttest_indResult(statistic=11.27075517981074, pvalue=2.1852464370855266e-15)"
      ]
     },
     "execution_count": 7,
     "metadata": {},
     "output_type": "execute_result"
    }
   ],
   "source": [
    "# Like with t test, you change the tail with the parameter \"alternative\"\n",
    "\n",
    "data_1 = stats.norm.rvs(size=25,loc=10,scale=2)\n",
    "data_2 = stats.norm.rvs(size=25,loc=3,scale=2)\n",
    "\n",
    "# alternative hypothesis: (mean)data_1 > (mean)data_2\n",
    "stats.ttest_ind(a=data_1, b=data_2, alternative = \"greater\")"
   ]
  },
  {
   "cell_type": "markdown",
   "id": "c6bb9737",
   "metadata": {},
   "source": [
    "# Z Test\n",
    "\n",
    "In a different library!\n",
    "\n",
    "Documentation here: https://www.statsmodels.org/dev/generated/statsmodels.stats.weightstats.ztest.html"
   ]
  },
  {
   "cell_type": "code",
   "execution_count": 8,
   "id": "4858c951",
   "metadata": {},
   "outputs": [
    {
     "name": "stdout",
     "output_type": "stream",
     "text": [
      "the z-test statistic: 14.717101475919792 with a correlated p_value of 5.006641129569728e-49\n"
     ]
    }
   ],
   "source": [
    "# using the data object from above\n",
    "from statsmodels.stats.weightstats import ztest\n",
    "\n",
    "data = stats.norm.rvs(size=100,loc=3,scale=2)\n",
    "\n",
    "#1 sample z test\n",
    "## value => population mean.\n",
    "## alternative => 1 of [\"two-sided\", \"larger\", \"smaller\"]\n",
    "\n",
    "ztest_score, p_value= ztest(data, value = 0, alternative='two-sided')\n",
    "print(f\"the z-test statistic: {ztest_score} with a correlated p_value of {p_value}\")"
   ]
  },
  {
   "cell_type": "code",
   "execution_count": 9,
   "id": "4d46177b",
   "metadata": {},
   "outputs": [
    {
     "name": "stdout",
     "output_type": "stream",
     "text": [
      "the z-test statistic: -23.338852532717205 with a correlated p_value of 1.7886373209876717e-120\n"
     ]
    }
   ],
   "source": [
    "# 2 sample z test\n",
    "data_2 = stats.norm.rvs(size=100,loc=10,scale=2)\n",
    "ztest_score, p_value= ztest(data, data_2, alternative='two-sided')\n",
    "\n",
    "print(f\"the z-test statistic: {ztest_score} with a correlated p_value of {p_value}\")"
   ]
  },
  {
   "cell_type": "markdown",
   "id": "6044ec58",
   "metadata": {},
   "source": [
    "# ANOVA"
   ]
  },
  {
   "cell_type": "code",
   "execution_count": 10,
   "id": "6ec5b5ec",
   "metadata": {},
   "outputs": [
    {
     "data": {
      "text/plain": [
       "F_onewayResult(statistic=4.625000000000002, pvalue=0.016336459839780215)"
      ]
     },
     "execution_count": 10,
     "metadata": {},
     "output_type": "execute_result"
    }
   ],
   "source": [
    "# one way ANOVA\n",
    "## documentation here: \n",
    "## https://docs.scipy.org/doc/scipy/reference/generated/scipy.stats.f_oneway.html\n",
    "\n",
    "from scipy.stats import f_oneway\n",
    "\n",
    "# Student grades\n",
    "# Groups: Grade level\n",
    "performance1 = [89, 89, 88, 78, 79]\n",
    "performance2 = [93, 92, 94, 89, 88]\n",
    "performance3 = [89, 88, 89, 93, 90]\n",
    "performance4 = [81, 78, 81, 92, 82]\n",
    " \n",
    "# Conduct the one-way ANOVA\n",
    "# Can take as many groups as you want to compare\n",
    "f_oneway(performance1, performance2, performance3, performance4)"
   ]
  },
  {
   "cell_type": "code",
   "execution_count": 11,
   "id": "e52e6832",
   "metadata": {},
   "outputs": [],
   "source": [
    "# two way anova\n",
    "import pandas as pd # we'll use a dataframe to track all of the confounding factors\n",
    "import numpy as np\n",
    "\n",
    "# Fertilizer: how frequently plant is watered\n",
    "# watering: how frequently each plant was watered that is daily or weekly.\n",
    "# height: the height of each plant (in inches) after six months.\n",
    "\n",
    "dataframe = pd.DataFrame({'Fertilizer': np.repeat(['daily', 'weekly'], 15),\n",
    "                          'Watering': np.repeat(['daily', 'weekly'], 15),\n",
    "                          'height': [14, 16, 15, 15, 16, 13, 12, 11, 14, \n",
    "                                     15, 16, 16, 17, 18, 14, 13, 14, 14, \n",
    "                                     14, 15, 16, 16, 17, 18, 14, 13, 14, \n",
    "                                     14, 14, 15]})"
   ]
  },
  {
   "cell_type": "code",
   "execution_count": 13,
   "id": "74b8e463",
   "metadata": {},
   "outputs": [],
   "source": [
    "import statsmodels.api as sm\n",
    "from statsmodels.formula.api import ols\n",
    "  \n",
    "# Performing two-way ANOVA\n",
    "# This line creates an OLS object which specifies by string\n",
    "# https://www.statsmodels.org/stable/generated/statsmodels.regression.linear_model.OLS.html\n",
    "\n",
    "# there's probably a cleaner way of doing this\n",
    "model = ols('height ~ C(Fertilizer) + C(Watering) +\\\n",
    "C(Fertilizer):C(Watering)',\n",
    "            data=dataframe).fit()\n",
    "\n",
    "\n",
    "result = sm.stats.anova_lm(model, type=2)"
   ]
  },
  {
   "cell_type": "code",
   "execution_count": 14,
   "id": "d2efc0c5",
   "metadata": {},
   "outputs": [
    {
     "data": {
      "text/html": [
       "<div>\n",
       "<style scoped>\n",
       "    .dataframe tbody tr th:only-of-type {\n",
       "        vertical-align: middle;\n",
       "    }\n",
       "\n",
       "    .dataframe tbody tr th {\n",
       "        vertical-align: top;\n",
       "    }\n",
       "\n",
       "    .dataframe thead th {\n",
       "        text-align: right;\n",
       "    }\n",
       "</style>\n",
       "<table border=\"1\" class=\"dataframe\">\n",
       "  <thead>\n",
       "    <tr style=\"text-align: right;\">\n",
       "      <th></th>\n",
       "      <th>df</th>\n",
       "      <th>sum_sq</th>\n",
       "      <th>mean_sq</th>\n",
       "      <th>F</th>\n",
       "      <th>PR(&gt;F)</th>\n",
       "    </tr>\n",
       "  </thead>\n",
       "  <tbody>\n",
       "    <tr>\n",
       "      <th>C(Fertilizer)</th>\n",
       "      <td>1.0</td>\n",
       "      <td>0.033333</td>\n",
       "      <td>0.033333</td>\n",
       "      <td>0.012069</td>\n",
       "      <td>0.913305</td>\n",
       "    </tr>\n",
       "    <tr>\n",
       "      <th>C(Watering)</th>\n",
       "      <td>1.0</td>\n",
       "      <td>0.000369</td>\n",
       "      <td>0.000369</td>\n",
       "      <td>0.000133</td>\n",
       "      <td>0.990865</td>\n",
       "    </tr>\n",
       "    <tr>\n",
       "      <th>C(Fertilizer):C(Watering)</th>\n",
       "      <td>1.0</td>\n",
       "      <td>0.040866</td>\n",
       "      <td>0.040866</td>\n",
       "      <td>0.014796</td>\n",
       "      <td>0.904053</td>\n",
       "    </tr>\n",
       "    <tr>\n",
       "      <th>Residual</th>\n",
       "      <td>28.0</td>\n",
       "      <td>77.333333</td>\n",
       "      <td>2.761905</td>\n",
       "      <td>NaN</td>\n",
       "      <td>NaN</td>\n",
       "    </tr>\n",
       "  </tbody>\n",
       "</table>\n",
       "</div>"
      ],
      "text/plain": [
       "                             df     sum_sq   mean_sq         F    PR(>F)\n",
       "C(Fertilizer)               1.0   0.033333  0.033333  0.012069  0.913305\n",
       "C(Watering)                 1.0   0.000369  0.000369  0.000133  0.990865\n",
       "C(Fertilizer):C(Watering)   1.0   0.040866  0.040866  0.014796  0.904053\n",
       "Residual                   28.0  77.333333  2.761905       NaN       NaN"
      ]
     },
     "execution_count": 14,
     "metadata": {},
     "output_type": "execute_result"
    }
   ],
   "source": [
    "# P Values in the \"PR(>F)\" column\n",
    "result"
   ]
  },
  {
   "cell_type": "markdown",
   "id": "901b8228",
   "metadata": {},
   "source": [
    "# Chi Square Test\n",
    "\n",
    "Documentation\n",
    "https://docs.scipy.org/doc/scipy/reference/generated/scipy.stats.chi2_contingency.html"
   ]
  },
  {
   "cell_type": "code",
   "execution_count": 17,
   "id": "8545e436",
   "metadata": {},
   "outputs": [
    {
     "name": "stdout",
     "output_type": "stream",
     "text": [
      "52.43305191532259 4.4516826225444905e-13 1\n",
      "p value is 4.4516826225444905e-13\n",
      "Dependent (reject H0)\n"
     ]
    }
   ],
   "source": [
    "from scipy.stats import chi2_contingency\n",
    " \n",
    "# defining the table\n",
    "data = [[150, 170], [60, 250]]\n",
    "\n",
    "test_stat, p, degrees_o_freedom, expected_frequencies = chi2_contingency(data)\n",
    "\n",
    "print(test_stat, p, degrees_o_freedom)\n",
    "\n",
    "# interpret p-value\n",
    "alpha = 0.05\n",
    "print(\"p value is \" + str(p))\n",
    "if p <= alpha:\n",
    "    print('Dependent (reject H0)')\n",
    "else:\n",
    "    print('Independent (H0 holds true)')"
   ]
  },
  {
   "cell_type": "markdown",
   "id": "f32091e8",
   "metadata": {},
   "source": [
    "# Fisher Exact Test\n",
    "\n",
    "Documentation: https://docs.scipy.org/doc/scipy/reference/generated/scipy.stats.fisher_exact.html"
   ]
  },
  {
   "cell_type": "code",
   "execution_count": 18,
   "id": "fe315317",
   "metadata": {},
   "outputs": [
    {
     "name": "stdout",
     "output_type": "stream",
     "text": [
      "odd ratio is : 0.10714285714285714\n",
      "p_value is : 0.06977851869492736\n"
     ]
    }
   ],
   "source": [
    "\n",
    "# importing packages\n",
    "import scipy.stats as stats\n",
    "  \n",
    "# creating data\n",
    "data = [[2, 8], [7, 3]]\n",
    "  \n",
    "# performing fishers exact test on the data\n",
    "odd_ratio, p_value = stats.fisher_exact(data)\n",
    "print('odd ratio is : ' + str(odd_ratio))\n",
    "print('p_value is : ' + str(p_value))"
   ]
  },
  {
   "cell_type": "markdown",
   "id": "dbb850cb",
   "metadata": {},
   "source": [
    "# Sign Test\n",
    "\n",
    "Documentation\n",
    "https://docs.scipy.org/doc/scipy/reference/generated/scipy.stats.wilcoxon.html"
   ]
  },
  {
   "cell_type": "code",
   "execution_count": 21,
   "id": "4e25a534",
   "metadata": {},
   "outputs": [
    {
     "data": {
      "text/plain": [
       "(1.0, 0.125)"
      ]
     },
     "execution_count": 21,
     "metadata": {},
     "output_type": "execute_result"
    }
   ],
   "source": [
    "from scipy.stats import wilcoxon\n",
    "\n",
    "# each element is the different in scores for 1 student \n",
    "# before having coaching and after having coaching\n",
    "\n",
    "# example d[0] = 10 means the student gained \n",
    "# 10 points on a test AFTER coaching compared with before\n",
    "\n",
    "# Alternative Hypothes\n",
    "grades_before = [ 75, 75, 75, 60, 62]\n",
    "grades_after = [65, 65, 65, 61, 59]\n",
    "\n",
    "diff_after_before = [grades_after[i] - grades_before[i] for i in range(0, len(grades_before))]\n",
    "                     \n",
    "\n",
    "res = wilcoxon(diff_after_before)\n",
    "res.statistic, res.pvalue"
   ]
  },
  {
   "cell_type": "markdown",
   "id": "74713ad9",
   "metadata": {},
   "source": [
    "# Kruskal Wallis Test\n",
    "\n",
    "Documentation: https://docs.scipy.org/doc/scipy/reference/generated/scipy.stats.kruskal.html"
   ]
  },
  {
   "cell_type": "code",
   "execution_count": 24,
   "id": "001556ab",
   "metadata": {},
   "outputs": [
    {
     "name": "stdout",
     "output_type": "stream",
     "text": [
      "25\n",
      "30\n"
     ]
    },
    {
     "data": {
      "text/plain": [
       "KruskalResult(statistic=0.5757575757575737, pvalue=0.9019589941867333)"
      ]
     },
     "execution_count": 24,
     "metadata": {},
     "output_type": "execute_result"
    }
   ],
   "source": [
    "x = [1, 3, 5, 7, 9]\n",
    "print(sum(x))\n",
    "y = [2, 4, 6, 8, 10]\n",
    "print(sum(y))\n",
    "stats.kruskal(x, y, x, y)"
   ]
  },
  {
   "cell_type": "markdown",
   "id": "b5cc2f1a",
   "metadata": {},
   "source": [
    "# Mann Whitney Wilcoxon Test\n",
    "\n",
    "Documentation: https://docs.scipy.org/doc/scipy/reference/generated/scipy.stats.mannwhitneyu.html"
   ]
  },
  {
   "cell_type": "code",
   "execution_count": null,
   "id": "3f137599",
   "metadata": {},
   "outputs": [],
   "source": [
    "# some rankings\n",
    "males = [19, 22, 16, 29, 24]\n",
    "females = [20, 11, 17, 12]"
   ]
  },
  {
   "cell_type": "code",
   "execution_count": null,
   "id": "0df5bc5f",
   "metadata": {},
   "outputs": [],
   "source": [
    "U1, p = stats.mannwhitneyu(males, females, method=\"exact\")\n",
    "print(U1, p)"
   ]
  },
  {
   "cell_type": "markdown",
   "id": "aafe0948",
   "metadata": {},
   "source": [
    "# Run Test\n",
    "\n",
    "Documentation:\n",
    "1-sample: https://www.statsmodels.org/stable/generated/statsmodels.sandbox.stats.runs.runstest_1samp.html\n",
    "\n",
    "2-sample: https://www.statsmodels.org/stable/generated/statsmodels.sandbox.stats.runs.runstest_2samp.html"
   ]
  },
  {
   "cell_type": "code",
   "execution_count": 25,
   "id": "b426d1df",
   "metadata": {},
   "outputs": [
    {
     "data": {
      "text/plain": [
       "(-0.6708203932499369, 0.5023349543605021)"
      ]
     },
     "execution_count": 25,
     "metadata": {},
     "output_type": "execute_result"
    }
   ],
   "source": [
    "from statsmodels.sandbox.stats.runs import runstest_1samp \n",
    "\n",
    "#create dataset\n",
    "times_series_data = [12, 16, 16, 15, 14, 18, 19, 21, 13, 13]\n",
    "\n",
    "#Perform Runs test on 1 sample\n",
    "runstest_1samp(times_series_data, correction=False)\n",
    "\n",
    "(-0.6708203932499369, 0.5023349543605021)"
   ]
  },
  {
   "cell_type": "markdown",
   "id": "3aabd7b5",
   "metadata": {},
   "source": [
    "# Regression Analysis\n",
    "\n",
    "There are several types of regression analysis:\n",
    "https://www.statsmodels.org/stable/api.html#regression\n",
    "\n",
    "Let's go look at the docs and see what we have!\n",
    "\n",
    "1. Regression analysis is built off of Linear Regression which is an ML technique to find the best fit line.  We will cover how this works soon!"
   ]
  },
  {
   "cell_type": "code",
   "execution_count": null,
   "id": "d7620112",
   "metadata": {},
   "outputs": [],
   "source": []
  }
 ],
 "metadata": {
  "kernelspec": {
   "display_name": "Python 3 (ipykernel)",
   "language": "python",
   "name": "python3"
  },
  "language_info": {
   "codemirror_mode": {
    "name": "ipython",
    "version": 3
   },
   "file_extension": ".py",
   "mimetype": "text/x-python",
   "name": "python",
   "nbconvert_exporter": "python",
   "pygments_lexer": "ipython3",
   "version": "3.9.6"
  }
 },
 "nbformat": 4,
 "nbformat_minor": 5
}
