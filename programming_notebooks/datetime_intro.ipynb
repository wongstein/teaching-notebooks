{
 "cells": [
  {
   "cell_type": "code",
   "execution_count": 1,
   "id": "c6cfa02e-4424-4e2a-aaf4-a9213c786bc5",
   "metadata": {},
   "outputs": [],
   "source": [
    "import datetime\n"
   ]
  },
  {
   "cell_type": "markdown",
   "id": "56c9c47b-4f3a-4407-a429-65e9a393d435",
   "metadata": {},
   "source": [
    "# How to get now in Datetime\n",
    "\n",
    "1. now() is going to give you the server (computer that's running this program)\n",
    "\n",
    "- The server Amy is using is a Docker Container which is synced to the network it's on (which is going to be the docker network), which is set to UTC time.\n",
    "- network time protocol"
   ]
  },
  {
   "cell_type": "code",
   "execution_count": 7,
   "id": "a1982f2b-93c4-41ec-8209-e2752217c60f",
   "metadata": {},
   "outputs": [],
   "source": [
    "now_start = datetime.datetime.now() #gives utc timezone by default"
   ]
  },
  {
   "cell_type": "code",
   "execution_count": 8,
   "id": "59e17ffa-132b-4a52-8d5f-16b6cc5daf11",
   "metadata": {},
   "outputs": [
    {
     "name": "stdout",
     "output_type": "stream",
     "text": [
      "2023-09-22 01:19:25.004370\n"
     ]
    }
   ],
   "source": [
    "print(now_start)"
   ]
  },
  {
   "cell_type": "code",
   "execution_count": 9,
   "id": "985e76be-19b7-4e0b-b052-ac6d9e91ff7e",
   "metadata": {},
   "outputs": [],
   "source": [
    "now_comparison = datetime.datetime.now()"
   ]
  },
  {
   "cell_type": "code",
   "execution_count": 10,
   "id": "ab13d784-81e0-454a-b1cc-7585d5155050",
   "metadata": {},
   "outputs": [
    {
     "name": "stdout",
     "output_type": "stream",
     "text": [
      "2023-09-22 01:20:19.065076\n"
     ]
    }
   ],
   "source": [
    "print(now_comparison)"
   ]
  },
  {
   "cell_type": "markdown",
   "id": "54a59f14-93e6-4961-85d6-986cf369254f",
   "metadata": {},
   "source": [
    "# Attributes from datetime objects\n",
    "\n",
    "1. you can get specific "
   ]
  },
  {
   "cell_type": "code",
   "execution_count": 4,
   "id": "55ebb25c-5efc-40ad-a1e8-3a5179cb3adb",
   "metadata": {},
   "outputs": [
    {
     "data": {
      "text/plain": [
       "1"
      ]
     },
     "execution_count": 4,
     "metadata": {},
     "output_type": "execute_result"
    }
   ],
   "source": [
    "now.hour"
   ]
  },
  {
   "cell_type": "code",
   "execution_count": 6,
   "id": "b164f191-162d-4bae-a571-bdf9a46a5a1a",
   "metadata": {},
   "outputs": [
    {
     "data": {
      "text/plain": [
       "25"
      ]
     },
     "execution_count": 6,
     "metadata": {},
     "output_type": "execute_result"
    }
   ],
   "source": [
    "now.second"
   ]
  },
  {
   "cell_type": "code",
   "execution_count": null,
   "id": "5f065da3-8d06-43f0-a0c3-ca3e440b08f0",
   "metadata": {},
   "outputs": [],
   "source": [
    "now.day"
   ]
  }
 ],
 "metadata": {
  "kernelspec": {
   "display_name": "Python 3 (ipykernel)",
   "language": "python",
   "name": "python3"
  },
  "language_info": {
   "codemirror_mode": {
    "name": "ipython",
    "version": 3
   },
   "file_extension": ".py",
   "mimetype": "text/x-python",
   "name": "python",
   "nbconvert_exporter": "python",
   "pygments_lexer": "ipython3",
   "version": "3.11.5"
  }
 },
 "nbformat": 4,
 "nbformat_minor": 5
}
