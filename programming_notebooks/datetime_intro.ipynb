{
 "cells": [
  {
   "cell_type": "code",
   "execution_count": 1,
   "id": "c6cfa02e-4424-4e2a-aaf4-a9213c786bc5",
   "metadata": {},
   "outputs": [],
   "source": [
    "import datetime\n",
    "\n",
    "#from datetime import datetime\n"
   ]
  },
  {
   "cell_type": "markdown",
   "id": "56c9c47b-4f3a-4407-a429-65e9a393d435",
   "metadata": {},
   "source": [
    "# How to get now in Datetime\n",
    "\n",
    "1. now() is going to give you the server (computer that's running this program)\n",
    "\n",
    "- The server Amy is using is a Docker Container which is synced to the network it's on (which is going to be the docker network), which is set to UTC time.\n",
    "- network time protocol"
   ]
  },
  {
   "cell_type": "code",
   "execution_count": 7,
   "id": "a1982f2b-93c4-41ec-8209-e2752217c60f",
   "metadata": {},
   "outputs": [],
   "source": [
    "now_start = datetime.datetime.now() #gives utc timezone by default"
   ]
  },
  {
   "cell_type": "code",
   "execution_count": 8,
   "id": "59e17ffa-132b-4a52-8d5f-16b6cc5daf11",
   "metadata": {},
   "outputs": [
    {
     "name": "stdout",
     "output_type": "stream",
     "text": [
      "2023-09-22 01:19:25.004370\n"
     ]
    }
   ],
   "source": [
    "print(now_start)"
   ]
  },
  {
   "cell_type": "code",
   "execution_count": 9,
   "id": "985e76be-19b7-4e0b-b052-ac6d9e91ff7e",
   "metadata": {},
   "outputs": [],
   "source": [
    "now_comparison = datetime.datetime.now()"
   ]
  },
  {
   "cell_type": "code",
   "execution_count": 10,
   "id": "ab13d784-81e0-454a-b1cc-7585d5155050",
   "metadata": {},
   "outputs": [
    {
     "name": "stdout",
     "output_type": "stream",
     "text": [
      "2023-09-22 01:20:19.065076\n"
     ]
    }
   ],
   "source": [
    "print(now_comparison)"
   ]
  },
  {
   "cell_type": "markdown",
   "id": "54a59f14-93e6-4961-85d6-986cf369254f",
   "metadata": {},
   "source": [
    "# Attributes from datetime objects\n",
    "\n",
    "1. you can get specific parts of the datetime object by calling attributes specifically\n",
    " - year\n",
    " - day\n",
    " - hour\n",
    " - second\n",
    " - epoh time"
   ]
  },
  {
   "cell_type": "code",
   "execution_count": 12,
   "id": "4b8bdf4b-187b-48b7-8dcc-ed30b8dc11a4",
   "metadata": {},
   "outputs": [
    {
     "data": {
      "text/plain": [
       "2023"
      ]
     },
     "execution_count": 12,
     "metadata": {},
     "output_type": "execute_result"
    }
   ],
   "source": [
    "now_start.year"
   ]
  },
  {
   "cell_type": "code",
   "execution_count": 13,
   "id": "55ebb25c-5efc-40ad-a1e8-3a5179cb3adb",
   "metadata": {},
   "outputs": [
    {
     "data": {
      "text/plain": [
       "22"
      ]
     },
     "execution_count": 13,
     "metadata": {},
     "output_type": "execute_result"
    }
   ],
   "source": [
    "now_start.day"
   ]
  },
  {
   "cell_type": "code",
   "execution_count": 14,
   "id": "b164f191-162d-4bae-a571-bdf9a46a5a1a",
   "metadata": {},
   "outputs": [
    {
     "data": {
      "text/plain": [
       "1"
      ]
     },
     "execution_count": 14,
     "metadata": {},
     "output_type": "execute_result"
    }
   ],
   "source": [
    "now_start.hour"
   ]
  },
  {
   "cell_type": "code",
   "execution_count": 15,
   "id": "5f065da3-8d06-43f0-a0c3-ca3e440b08f0",
   "metadata": {},
   "outputs": [
    {
     "data": {
      "text/plain": [
       "25"
      ]
     },
     "execution_count": 15,
     "metadata": {},
     "output_type": "execute_result"
    }
   ],
   "source": [
    "now_start.second"
   ]
  },
  {
   "cell_type": "code",
   "execution_count": 16,
   "id": "e7ad0abc-2cbe-4063-b17c-2f33824b3377",
   "metadata": {},
   "outputs": [
    {
     "ename": "AttributeError",
     "evalue": "'datetime.datetime' object has no attribute 'epochtime'",
     "output_type": "error",
     "traceback": [
      "\u001b[0;31m---------------------------------------------------------------------------\u001b[0m",
      "\u001b[0;31mAttributeError\u001b[0m                            Traceback (most recent call last)",
      "Cell \u001b[0;32mIn[16], line 1\u001b[0m\n\u001b[0;32m----> 1\u001b[0m \u001b[43mnow_start\u001b[49m\u001b[38;5;241;43m.\u001b[39;49m\u001b[43mepochtime\u001b[49m()\n",
      "\u001b[0;31mAttributeError\u001b[0m: 'datetime.datetime' object has no attribute 'epochtime'"
     ]
    }
   ],
   "source": [
    "# Move on this isn't working\n",
    "\n",
    "# epoch time is the number of seconds that have passed \n",
    "## Amount of time since 1 January 1970, that's when the Unix operating system started\n",
    "now_start.epochtime()"
   ]
  },
  {
   "cell_type": "markdown",
   "id": "6800f160-f52e-4931-8c0e-e6dcad95c00f",
   "metadata": {},
   "source": [
    "# Datetime math"
   ]
  },
  {
   "cell_type": "code",
   "execution_count": 18,
   "id": "5a96abf9-1e8c-477b-bd30-266d0e11b1fd",
   "metadata": {},
   "outputs": [
    {
     "data": {
      "text/plain": [
       "datetime.timedelta(seconds=54, microseconds=60706)"
      ]
     },
     "execution_count": 18,
     "metadata": {},
     "output_type": "execute_result"
    }
   ],
   "source": [
    "# gives a time delta object\n",
    "time_passed = now_comparison - now_start\n",
    "time_passed"
   ]
  },
  {
   "cell_type": "code",
   "execution_count": 19,
   "id": "fdd18d96-c017-4978-acce-c0b7bf3c8388",
   "metadata": {},
   "outputs": [
    {
     "data": {
      "text/plain": [
       "54"
      ]
     },
     "execution_count": 19,
     "metadata": {},
     "output_type": "execute_result"
    }
   ],
   "source": [
    "time_passed.seconds"
   ]
  },
  {
   "cell_type": "code",
   "execution_count": 21,
   "id": "768ad96d-1430-45b1-9270-d2a2c5eff468",
   "metadata": {},
   "outputs": [
    {
     "ename": "TypeError",
     "evalue": "unsupported operand type(s) for +: 'datetime.datetime' and 'datetime.datetime'",
     "output_type": "error",
     "traceback": [
      "\u001b[0;31m---------------------------------------------------------------------------\u001b[0m",
      "\u001b[0;31mTypeError\u001b[0m                                 Traceback (most recent call last)",
      "Cell \u001b[0;32mIn[21], line 1\u001b[0m\n\u001b[0;32m----> 1\u001b[0m \u001b[43mnow_comparison\u001b[49m\u001b[43m \u001b[49m\u001b[38;5;241;43m+\u001b[39;49m\u001b[43m \u001b[49m\u001b[43mnow_start\u001b[49m\n",
      "\u001b[0;31mTypeError\u001b[0m: unsupported operand type(s) for +: 'datetime.datetime' and 'datetime.datetime'"
     ]
    }
   ],
   "source": [
    "# can't add 2 datetime objects.\n",
    "now_comparison + now_start"
   ]
  },
  {
   "cell_type": "code",
   "execution_count": 22,
   "id": "e7019465-d2e3-4891-970b-b8ead8e62d9b",
   "metadata": {},
   "outputs": [
    {
     "data": {
      "text/plain": [
       "datetime.datetime(2023, 9, 22, 1, 19, 25, 4370)"
      ]
     },
     "execution_count": 22,
     "metadata": {},
     "output_type": "execute_result"
    }
   ],
   "source": [
    "# Can add datetime object + timedelta object.\n",
    "now_comparison - time_passed"
   ]
  },
  {
   "cell_type": "code",
   "execution_count": 23,
   "id": "9650f41e-8800-4b03-b238-96890f939ec2",
   "metadata": {},
   "outputs": [
    {
     "data": {
      "text/plain": [
       "datetime.datetime(2023, 9, 22, 1, 21, 13, 125782)"
      ]
     },
     "execution_count": 23,
     "metadata": {},
     "output_type": "execute_result"
    }
   ],
   "source": [
    "now_comparison + time_passed"
   ]
  },
  {
   "cell_type": "markdown",
   "id": "cc0b7bf2-e12a-420b-9fa5-446f59f3e75d",
   "metadata": {},
   "source": [
    "# Convert a string into a datetime object"
   ]
  },
  {
   "cell_type": "code",
   "execution_count": 24,
   "id": "bd3b8ac3-4a78-4f2b-8e6f-23792872bd48",
   "metadata": {},
   "outputs": [],
   "source": [
    "example_str = \"Jun 1 2005 1:33PM\""
   ]
  },
  {
   "cell_type": "code",
   "execution_count": 26,
   "id": "0dd71538-4b46-4fa0-af67-1c8144000854",
   "metadata": {},
   "outputs": [
    {
     "data": {
      "text/plain": [
       "datetime.datetime(2005, 6, 1, 13, 33)"
      ]
     },
     "execution_count": 26,
     "metadata": {},
     "output_type": "execute_result"
    }
   ],
   "source": [
    "# first param: string you want to convert\n",
    "# second param is the format of that string\n",
    "\n",
    "datetime.datetime.strptime(example_str, '%b %d %Y %I:%M%p')"
   ]
  },
  {
   "cell_type": "markdown",
   "id": "681013ee-603b-4b56-9f06-1e7c6621be2a",
   "metadata": {},
   "source": [
    "# Using Date"
   ]
  },
  {
   "cell_type": "code",
   "execution_count": 27,
   "id": "dd0838c1-f2bd-485a-a3c7-eff248b5a4a7",
   "metadata": {},
   "outputs": [],
   "source": [
    "# params: year, month, day\n",
    "my_date = datetime.date(2023, 9, 21)"
   ]
  },
  {
   "cell_type": "code",
   "execution_count": 28,
   "id": "f57ce549-24c8-450f-88c8-65a67ad7069e",
   "metadata": {},
   "outputs": [
    {
     "data": {
      "text/plain": [
       "datetime.date(2023, 9, 21)"
      ]
     },
     "execution_count": 28,
     "metadata": {},
     "output_type": "execute_result"
    }
   ],
   "source": [
    "my_date"
   ]
  },
  {
   "cell_type": "code",
   "execution_count": null,
   "id": "cdec4112-7019-4d97-802b-8962e1981e56",
   "metadata": {},
   "outputs": [],
   "source": []
  }
 ],
 "metadata": {
  "kernelspec": {
   "display_name": "Python 3 (ipykernel)",
   "language": "python",
   "name": "python3"
  },
  "language_info": {
   "codemirror_mode": {
    "name": "ipython",
    "version": 3
   },
   "file_extension": ".py",
   "mimetype": "text/x-python",
   "name": "python",
   "nbconvert_exporter": "python",
   "pygments_lexer": "ipython3",
   "version": "3.11.5"
  }
 },
 "nbformat": 4,
 "nbformat_minor": 5
}
