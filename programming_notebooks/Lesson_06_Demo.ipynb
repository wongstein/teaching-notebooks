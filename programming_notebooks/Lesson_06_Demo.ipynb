{
 "cells": [
  {
   "cell_type": "markdown",
   "id": "e4a34db6",
   "metadata": {},
   "source": [
    "# Functions"
   ]
  },
  {
   "cell_type": "code",
   "execution_count": null,
   "id": "97325690",
   "metadata": {},
   "outputs": [],
   "source": [
    "# Function Definition\n",
    "def greetings(name, greeting):\n",
    "    print(greeting ,'! ', name, sep = '')"
   ]
  },
  {
   "cell_type": "code",
   "execution_count": null,
   "id": "79faff5a",
   "metadata": {},
   "outputs": [],
   "source": [
    "# Function call\n",
    "greetings('John', 'Hello')"
   ]
  },
  {
   "cell_type": "markdown",
   "id": "0c5dc33e",
   "metadata": {},
   "source": [
    "### Positional Argument"
   ]
  },
  {
   "cell_type": "code",
   "execution_count": null,
   "id": "2a62dd6f",
   "metadata": {},
   "outputs": [],
   "source": [
    "greetings('Hello', 'John')"
   ]
  },
  {
   "cell_type": "markdown",
   "id": "fe0d89a1",
   "metadata": {},
   "source": [
    "### Keyword Arguments"
   ]
  },
  {
   "cell_type": "code",
   "execution_count": null,
   "id": "8660f5c1",
   "metadata": {},
   "outputs": [],
   "source": [
    "greetings(greeting= 'Hello', name = 'John')"
   ]
  },
  {
   "cell_type": "markdown",
   "id": "7b869737",
   "metadata": {},
   "source": [
    "### Parameters with Default value "
   ]
  },
  {
   "cell_type": "code",
   "execution_count": null,
   "id": "585f8c46",
   "metadata": {},
   "outputs": [],
   "source": [
    "def greetings(name, greeting):\n",
    "    print(greeting ,'! ', name, sep = '')"
   ]
  },
  {
   "cell_type": "code",
   "execution_count": null,
   "id": "cb537ed1",
   "metadata": {},
   "outputs": [],
   "source": [
    "greetings('John')"
   ]
  },
  {
   "cell_type": "code",
   "execution_count": null,
   "id": "8ecec28b",
   "metadata": {},
   "outputs": [],
   "source": [
    "def greetings(name, greeting = 'Hello'):\n",
    "    print(greeting ,'! ', name, sep = '')"
   ]
  },
  {
   "cell_type": "code",
   "execution_count": null,
   "id": "0f7b8ad2",
   "metadata": {},
   "outputs": [],
   "source": [
    "greetings('John')"
   ]
  },
  {
   "cell_type": "code",
   "execution_count": null,
   "id": "777e818d",
   "metadata": {},
   "outputs": [],
   "source": [
    "greetings('John', 'Hi')"
   ]
  },
  {
   "cell_type": "markdown",
   "id": "729d0605",
   "metadata": {},
   "source": [
    "### Arbitrary Arguments"
   ]
  },
  {
   "cell_type": "markdown",
   "id": "4daec50f",
   "metadata": {},
   "source": [
    "#### Non Keyword Arbitrary Argument"
   ]
  },
  {
   "cell_type": "code",
   "execution_count": null,
   "id": "52ca8c7f",
   "metadata": {},
   "outputs": [],
   "source": [
    "# function defined with non keyword variable no. of arguments\n",
    "def total(*args):\n",
    "    tot = 0\n",
    "    for n in args:\n",
    "        tot += n\n",
    "    print(tot)"
   ]
  },
  {
   "cell_type": "code",
   "execution_count": null,
   "id": "48bb47e4",
   "metadata": {},
   "outputs": [],
   "source": [
    "total(23, 67)"
   ]
  },
  {
   "cell_type": "code",
   "execution_count": null,
   "id": "05066ea7",
   "metadata": {},
   "outputs": [],
   "source": [
    "total(90, 100, 10, 30, 40)"
   ]
  },
  {
   "cell_type": "markdown",
   "id": "1bc66a76",
   "metadata": {},
   "source": [
    "#### Keyword Arbitrary Argument"
   ]
  },
  {
   "cell_type": "code",
   "execution_count": null,
   "id": "a6a99945",
   "metadata": {},
   "outputs": [],
   "source": [
    "# function defined with variable no. keyword variable no. of arguments\n",
    "def information(**kwargs):\n",
    "    for key in kwargs.keys():\n",
    "        print(key, \":\", kwargs[key])\n",
    "    "
   ]
  },
  {
   "cell_type": "code",
   "execution_count": null,
   "id": "24565f24",
   "metadata": {},
   "outputs": [],
   "source": [
    "information(name = 'John Davis', age = 34)"
   ]
  },
  {
   "cell_type": "code",
   "execution_count": null,
   "id": "34a45fe6",
   "metadata": {},
   "outputs": [],
   "source": [
    "information(name = 'John Davis', age = 34, city = 'London', country  = 'UK')"
   ]
  },
  {
   "cell_type": "markdown",
   "id": "a53e6611",
   "metadata": {},
   "source": [
    "## return statement"
   ]
  },
  {
   "cell_type": "code",
   "execution_count": null,
   "id": "507d9cf6",
   "metadata": {},
   "outputs": [],
   "source": [
    "def net_amount(Amount, tax= 18, discount = 10):\n",
    "    disc = (Amount * discount/100)\n",
    "    tax_amnt = (Amount - disc) * tax/100\n",
    "    net = (Amount - disc) + tax_amnt\n",
    "    print(round(net,2))"
   ]
  },
  {
   "cell_type": "code",
   "execution_count": null,
   "id": "08649f10",
   "metadata": {},
   "outputs": [],
   "source": [
    "amnt = float(input('Please enter the bill amount '))\n",
    "tax = float(input('Please enter tax percentage :'))\n",
    "discount = float(input('Please enter discount percentage :'))"
   ]
  },
  {
   "cell_type": "code",
   "execution_count": null,
   "id": "53cf7537",
   "metadata": {},
   "outputs": [],
   "source": [
    "return_value = net_amount(amnt, tax, discount)"
   ]
  },
  {
   "cell_type": "code",
   "execution_count": null,
   "id": "ef16b6bf",
   "metadata": {},
   "outputs": [],
   "source": [
    "print(return_value)"
   ]
  },
  {
   "cell_type": "code",
   "execution_count": null,
   "id": "3672b7ec",
   "metadata": {},
   "outputs": [],
   "source": [
    "def net_amount(Amount, tax= 18, discount = 10):\n",
    "    disc = (Amount * discount/100)\n",
    "    tax_amnt = (Amount - disc) * tax/100\n",
    "    net = (Amount - disc) + tax_amnt\n",
    "    return net"
   ]
  },
  {
   "cell_type": "code",
   "execution_count": null,
   "id": "144a33d4",
   "metadata": {},
   "outputs": [],
   "source": [
    "amnt = float(input('Please enter the bill amount '))\n",
    "tax = float(input('Please enter tax percentage :'))\n",
    "discount = float(input('Please enter discount percentage :'))"
   ]
  },
  {
   "cell_type": "code",
   "execution_count": null,
   "id": "2413214e",
   "metadata": {},
   "outputs": [],
   "source": [
    "return_value = net_amount(amnt, tax, discount)"
   ]
  },
  {
   "cell_type": "code",
   "execution_count": null,
   "id": "62ccdb62",
   "metadata": {},
   "outputs": [],
   "source": [
    "print('Total Amount to be paid : ', return_value)"
   ]
  },
  {
   "cell_type": "markdown",
   "id": "381a1176",
   "metadata": {},
   "source": [
    "## Scope of Variables"
   ]
  },
  {
   "cell_type": "markdown",
   "id": "6bb2fd62",
   "metadata": {},
   "source": [
    "### global variable"
   ]
  },
  {
   "cell_type": "code",
   "execution_count": null,
   "id": "3ccb59fb",
   "metadata": {},
   "outputs": [],
   "source": [
    "var = 10\n",
    "print(var)"
   ]
  },
  {
   "cell_type": "markdown",
   "id": "3f7490d9",
   "metadata": {},
   "source": [
    "### local variables"
   ]
  },
  {
   "cell_type": "code",
   "execution_count": null,
   "id": "1930fc97",
   "metadata": {},
   "outputs": [],
   "source": [
    "def foo(inp):\n",
    "    # local variable\n",
    "    lc = 30\n",
    "    print('input parameter : ', inp)\n",
    "    print('local value : ', lc)"
   ]
  },
  {
   "cell_type": "code",
   "execution_count": null,
   "id": "71a6c7ce",
   "metadata": {},
   "outputs": [],
   "source": [
    "foo(45)"
   ]
  },
  {
   "cell_type": "markdown",
   "id": "3052c225",
   "metadata": {},
   "source": [
    "#### calling local variable outside function"
   ]
  },
  {
   "cell_type": "code",
   "execution_count": null,
   "id": "fc7950ee",
   "metadata": {},
   "outputs": [],
   "source": [
    "print(inp)"
   ]
  },
  {
   "cell_type": "markdown",
   "id": "84660bf1",
   "metadata": {},
   "source": [
    "#### calling global variable inside a function"
   ]
  },
  {
   "cell_type": "code",
   "execution_count": null,
   "id": "cba9565b",
   "metadata": {},
   "outputs": [],
   "source": [
    "def foo2():\n",
    "    square = var ** 2\n",
    "    return square"
   ]
  },
  {
   "cell_type": "code",
   "execution_count": null,
   "id": "d5cada1b",
   "metadata": {},
   "outputs": [],
   "source": [
    "foo2()"
   ]
  },
  {
   "cell_type": "markdown",
   "id": "197be538",
   "metadata": {},
   "source": [
    "### local and global variable with same name"
   ]
  },
  {
   "cell_type": "code",
   "execution_count": null,
   "id": "0b95d93c",
   "metadata": {},
   "outputs": [],
   "source": [
    "var = 10 # global variable"
   ]
  },
  {
   "cell_type": "code",
   "execution_count": null,
   "id": "9db06902",
   "metadata": {},
   "outputs": [],
   "source": [
    "def foo3():\n",
    "    var = 50 # local variable\n",
    "    print('inside function var  =', var)"
   ]
  },
  {
   "cell_type": "code",
   "execution_count": null,
   "id": "cedc213a",
   "metadata": {},
   "outputs": [],
   "source": [
    "foo3()\n",
    "print('outside function var =', var)"
   ]
  },
  {
   "cell_type": "markdown",
   "id": "750d301e",
   "metadata": {},
   "source": [
    "### creating or manipulating global variable inside a function"
   ]
  },
  {
   "cell_type": "code",
   "execution_count": null,
   "id": "45f1ac6d",
   "metadata": {},
   "outputs": [],
   "source": [
    "var = 15\n",
    "print('before function call var =', var)\n",
    "\n",
    "def foo4():\n",
    "    global var\n",
    "    var *= 5\n",
    "    print('inside function var  =', var)\n",
    "\n",
    "foo4()\n",
    "print('outside function var =', var)"
   ]
  },
  {
   "cell_type": "markdown",
   "id": "8e7bb5b8",
   "metadata": {},
   "source": [
    "## Generator Functions"
   ]
  },
  {
   "cell_type": "code",
   "execution_count": null,
   "id": "249165af",
   "metadata": {},
   "outputs": [],
   "source": [
    "def myGenerator():\n",
    "    n = 1\n",
    "    print('First Iteration')\n",
    "    yield 'Number 1 : n = ' + str(n)\n",
    "    \n",
    "    n += 2\n",
    "    print('Second Iteration')\n",
    "    yield 'Number 2 : n = ' + str(n)\n",
    "    \n",
    "    n += 3\n",
    "    print('Third Iteration')\n",
    "    yield 'Number 3 : n = ' + str(n)"
   ]
  },
  {
   "cell_type": "markdown",
   "id": "d2d23dcc",
   "metadata": {},
   "source": [
    "### generator call : way 1"
   ]
  },
  {
   "cell_type": "code",
   "execution_count": null,
   "id": "af302604",
   "metadata": {},
   "outputs": [],
   "source": [
    "gen = myGenerator()"
   ]
  },
  {
   "cell_type": "code",
   "execution_count": null,
   "id": "716c0aa7",
   "metadata": {},
   "outputs": [],
   "source": [
    "gen"
   ]
  },
  {
   "cell_type": "code",
   "execution_count": null,
   "id": "77475210",
   "metadata": {},
   "outputs": [],
   "source": [
    "print(next(gen))"
   ]
  },
  {
   "cell_type": "code",
   "execution_count": null,
   "id": "885f4600",
   "metadata": {},
   "outputs": [],
   "source": [
    "print(next(gen))"
   ]
  },
  {
   "cell_type": "code",
   "execution_count": null,
   "id": "c341380c",
   "metadata": {},
   "outputs": [],
   "source": [
    "print(next(gen))"
   ]
  },
  {
   "cell_type": "markdown",
   "id": "241c6aaa",
   "metadata": {},
   "source": [
    "### the next function is called untill all values are yielded."
   ]
  },
  {
   "cell_type": "markdown",
   "id": "dd40e409",
   "metadata": {},
   "source": [
    "### generator call : way 2"
   ]
  },
  {
   "cell_type": "code",
   "execution_count": null,
   "id": "0c36d08b",
   "metadata": {},
   "outputs": [],
   "source": [
    "gen = myGenerator()\n",
    "for value in gen :\n",
    "    print(value, '\\n')"
   ]
  },
  {
   "cell_type": "markdown",
   "id": "c6822ac4",
   "metadata": {},
   "source": [
    "## built in functions"
   ]
  },
  {
   "cell_type": "code",
   "execution_count": null,
   "id": "9dca7502",
   "metadata": {},
   "outputs": [],
   "source": [
    "print(dir(__builtins__))"
   ]
  },
  {
   "cell_type": "markdown",
   "id": "dad5a2ba",
   "metadata": {},
   "source": [
    "## map function"
   ]
  },
  {
   "cell_type": "code",
   "execution_count": null,
   "id": "ba432bb9",
   "metadata": {},
   "outputs": [],
   "source": [
    "temp = [22.0, 45.3, 35.4, 40.0, 44.7, 21.5]\n",
    "for T in temp:\n",
    "    f = ((9/5) * T) + 32\n",
    "    print('{:5.1f} in degree C is equivalent to {:6.1f} in degree F.'.format(T,f))"
   ]
  },
  {
   "cell_type": "code",
   "execution_count": null,
   "id": "cb7bfd1c",
   "metadata": {},
   "outputs": [],
   "source": [
    "def Fahrenhite(T):\n",
    "    return round(((9/5) * T) + 32, 1)"
   ]
  },
  {
   "cell_type": "code",
   "execution_count": null,
   "id": "31bd5c17",
   "metadata": {},
   "outputs": [],
   "source": [
    "results = list(map(Fahrenhite, temp))\n",
    "print('Temp in deg C ', temp)\n",
    "print('Temp in deg F ', results)"
   ]
  },
  {
   "cell_type": "markdown",
   "id": "0a7c9c55",
   "metadata": {},
   "source": [
    "### using lambda function"
   ]
  },
  {
   "cell_type": "code",
   "execution_count": null,
   "id": "39edc980",
   "metadata": {},
   "outputs": [],
   "source": [
    "results = list(map(lambda T: round(((9/5) * T) + 32, 1), temp))\n",
    "print('Temp in deg C ', temp)\n",
    "print('Temp in deg F ', results)"
   ]
  },
  {
   "cell_type": "markdown",
   "id": "268506e3",
   "metadata": {},
   "source": [
    "## filter function"
   ]
  },
  {
   "cell_type": "code",
   "execution_count": null,
   "id": "770f7ab1",
   "metadata": {},
   "outputs": [],
   "source": [
    "numbers = [32, 45, 62, 21, 55, 91, 88, 17 ]\n",
    "odd_numbers = []\n",
    "for n in numbers:\n",
    "    if n % 2 :\n",
    "        odd_numbers.append(n)\n",
    "print(odd_numbers)"
   ]
  },
  {
   "cell_type": "code",
   "execution_count": null,
   "id": "9bb19105",
   "metadata": {},
   "outputs": [],
   "source": [
    "numbers = [32, 45, 62, 21, 55, 91, 88, 17 ]\n",
    "odd_numbers = list(filter ( lambda n : n % 2, numbers))\n",
    "print(odd_numbers)"
   ]
  },
  {
   "cell_type": "markdown",
   "id": "2407bc73",
   "metadata": {},
   "source": [
    "## reduce function"
   ]
  },
  {
   "cell_type": "code",
   "execution_count": null,
   "id": "f96d9e4b",
   "metadata": {},
   "outputs": [],
   "source": [
    "numbers = [2,4,6,8,10,12]\n",
    "tot = 0\n",
    "for n in numbers:\n",
    "    tot += n\n",
    "print('Total :', tot)"
   ]
  },
  {
   "cell_type": "code",
   "execution_count": null,
   "id": "0a4f44fc",
   "metadata": {},
   "outputs": [],
   "source": [
    "from _functools import reduce\n",
    "numbers = [2,4,6,8,10,12]\n",
    "result = reduce(lambda x , y : x + y, numbers)\n",
    "print('Total = ', result)"
   ]
  },
  {
   "cell_type": "code",
   "execution_count": null,
   "id": "960e4059",
   "metadata": {},
   "outputs": [],
   "source": []
  }
 ],
 "metadata": {
  "kernelspec": {
   "display_name": "Python 3 (ipykernel)",
   "language": "python",
   "name": "python3"
  },
  "language_info": {
   "codemirror_mode": {
    "name": "ipython",
    "version": 3
   },
   "file_extension": ".py",
   "mimetype": "text/x-python",
   "name": "python",
   "nbconvert_exporter": "python",
   "pygments_lexer": "ipython3",
   "version": "3.9.6"
  }
 },
 "nbformat": 4,
 "nbformat_minor": 5
}
