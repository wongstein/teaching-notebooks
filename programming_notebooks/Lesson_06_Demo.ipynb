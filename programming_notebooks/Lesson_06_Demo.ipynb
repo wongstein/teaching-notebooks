{
 "cells": [
  {
   "cell_type": "markdown",
   "id": "e4a34db6",
   "metadata": {},
   "source": [
    "# Functions"
   ]
  },
  {
   "cell_type": "code",
   "execution_count": 1,
   "id": "97325690",
   "metadata": {},
   "outputs": [],
   "source": [
    "# Function Definition\n",
    "def greetings(name, greeting):\n",
    "    print(greeting ,'! ', name, sep = '')"
   ]
  },
  {
   "cell_type": "code",
   "execution_count": 2,
   "id": "79faff5a",
   "metadata": {},
   "outputs": [
    {
     "name": "stdout",
     "output_type": "stream",
     "text": [
      "Hello! John\n"
     ]
    }
   ],
   "source": [
    "# Function call\n",
    "greetings('John', 'Hello')"
   ]
  },
  {
   "cell_type": "markdown",
   "id": "0c5dc33e",
   "metadata": {},
   "source": [
    "### Positional Argument"
   ]
  },
  {
   "cell_type": "code",
   "execution_count": 3,
   "id": "2a62dd6f",
   "metadata": {},
   "outputs": [
    {
     "name": "stdout",
     "output_type": "stream",
     "text": [
      "John! Hello\n"
     ]
    }
   ],
   "source": [
    "greetings('Hello', 'John')"
   ]
  },
  {
   "cell_type": "markdown",
   "id": "fe0d89a1",
   "metadata": {},
   "source": [
    "### Keyword Arguments"
   ]
  },
  {
   "cell_type": "code",
   "execution_count": 4,
   "id": "8660f5c1",
   "metadata": {},
   "outputs": [
    {
     "name": "stdout",
     "output_type": "stream",
     "text": [
      "Hello! John\n"
     ]
    }
   ],
   "source": [
    "greetings(greeting= 'Hello', name = 'John')"
   ]
  },
  {
   "cell_type": "markdown",
   "id": "7b869737",
   "metadata": {},
   "source": [
    "### Parameters with Default value "
   ]
  },
  {
   "cell_type": "code",
   "execution_count": 5,
   "id": "585f8c46",
   "metadata": {},
   "outputs": [],
   "source": [
    "def greetings(name, greeting):\n",
    "    print(greeting ,'! ', name, sep = '')"
   ]
  },
  {
   "cell_type": "code",
   "execution_count": 6,
   "id": "cb537ed1",
   "metadata": {},
   "outputs": [
    {
     "ename": "TypeError",
     "evalue": "greetings() missing 1 required positional argument: 'greeting'",
     "output_type": "error",
     "traceback": [
      "\u001b[0;31m---------------------------------------------------------------------------\u001b[0m",
      "\u001b[0;31mTypeError\u001b[0m                                 Traceback (most recent call last)",
      "\u001b[0;32m<ipython-input-6-e30223bc8154>\u001b[0m in \u001b[0;36m<module>\u001b[0;34m\u001b[0m\n\u001b[0;32m----> 1\u001b[0;31m \u001b[0mgreetings\u001b[0m\u001b[0;34m(\u001b[0m\u001b[0;34m'John'\u001b[0m\u001b[0;34m)\u001b[0m\u001b[0;34m\u001b[0m\u001b[0;34m\u001b[0m\u001b[0m\n\u001b[0m",
      "\u001b[0;31mTypeError\u001b[0m: greetings() missing 1 required positional argument: 'greeting'"
     ]
    }
   ],
   "source": [
    "greetings('John')"
   ]
  },
  {
   "cell_type": "code",
   "execution_count": 7,
   "id": "8ecec28b",
   "metadata": {},
   "outputs": [],
   "source": [
    "def greetings(name, greeting = 'Hello'):\n",
    "    print(greeting ,'! ', name, sep = '')"
   ]
  },
  {
   "cell_type": "code",
   "execution_count": 8,
   "id": "0f7b8ad2",
   "metadata": {},
   "outputs": [
    {
     "name": "stdout",
     "output_type": "stream",
     "text": [
      "Hello! John\n"
     ]
    }
   ],
   "source": [
    "greetings('John')"
   ]
  },
  {
   "cell_type": "code",
   "execution_count": 9,
   "id": "777e818d",
   "metadata": {},
   "outputs": [
    {
     "name": "stdout",
     "output_type": "stream",
     "text": [
      "Hi! John\n"
     ]
    }
   ],
   "source": [
    "greetings('John', 'Hi')"
   ]
  },
  {
   "cell_type": "markdown",
   "id": "729d0605",
   "metadata": {},
   "source": [
    "### Arbitrary Arguments"
   ]
  },
  {
   "cell_type": "markdown",
   "id": "4daec50f",
   "metadata": {},
   "source": [
    "#### Non Keyword Arbitrary Argument"
   ]
  },
  {
   "cell_type": "code",
   "execution_count": 10,
   "id": "52ca8c7f",
   "metadata": {},
   "outputs": [],
   "source": [
    "# function defined with non keyword variable no. of arguments\n",
    "def total(*args):\n",
    "    tot = 0\n",
    "    for n in args:\n",
    "        tot += n\n",
    "    print(tot)"
   ]
  },
  {
   "cell_type": "code",
   "execution_count": 11,
   "id": "48bb47e4",
   "metadata": {},
   "outputs": [
    {
     "name": "stdout",
     "output_type": "stream",
     "text": [
      "90\n"
     ]
    }
   ],
   "source": [
    "total(23, 67)"
   ]
  },
  {
   "cell_type": "code",
   "execution_count": 12,
   "id": "05066ea7",
   "metadata": {},
   "outputs": [
    {
     "name": "stdout",
     "output_type": "stream",
     "text": [
      "270\n"
     ]
    }
   ],
   "source": [
    "total(90, 100, 10, 30, 40)"
   ]
  },
  {
   "cell_type": "markdown",
   "id": "1bc66a76",
   "metadata": {},
   "source": [
    "#### Keyword Arbitrary Argument"
   ]
  },
  {
   "cell_type": "code",
   "execution_count": 13,
   "id": "a6a99945",
   "metadata": {},
   "outputs": [],
   "source": [
    "# function defined with variable no. keyword variable no. of arguments\n",
    "def information(**kwargs):\n",
    "    for key in kwargs.keys():\n",
    "        print(key, \":\", kwargs[key])\n",
    "    "
   ]
  },
  {
   "cell_type": "code",
   "execution_count": 14,
   "id": "24565f24",
   "metadata": {},
   "outputs": [
    {
     "name": "stdout",
     "output_type": "stream",
     "text": [
      "name : John Davis\n",
      "age : 34\n"
     ]
    }
   ],
   "source": [
    "information(name = 'John Davis', age = 34)"
   ]
  },
  {
   "cell_type": "code",
   "execution_count": 15,
   "id": "34a45fe6",
   "metadata": {},
   "outputs": [
    {
     "name": "stdout",
     "output_type": "stream",
     "text": [
      "name : John Davis\n",
      "age : 34\n",
      "city : London\n",
      "country : UK\n"
     ]
    }
   ],
   "source": [
    "information(name = 'John Davis', age = 34, city = 'London', country  = 'UK')"
   ]
  },
  {
   "cell_type": "markdown",
   "id": "a53e6611",
   "metadata": {},
   "source": [
    "## return statement"
   ]
  },
  {
   "cell_type": "code",
   "execution_count": 16,
   "id": "507d9cf6",
   "metadata": {},
   "outputs": [],
   "source": [
    "def net_amount(Amount, tax= 18, discount = 10):\n",
    "    disc = (Amount * discount/100)\n",
    "    tax_amnt = (Amount - disc) * tax/100\n",
    "    net = (Amount - disc) + tax_amnt\n",
    "    print(round(net,2))"
   ]
  },
  {
   "cell_type": "code",
   "execution_count": 18,
   "id": "08649f10",
   "metadata": {},
   "outputs": [
    {
     "name": "stdin",
     "output_type": "stream",
     "text": [
      "Please enter the bill amount  5000\n",
      "Please enter tax percentage : 9\n",
      "Please enter discount percentage : 15\n"
     ]
    }
   ],
   "source": [
    "amnt = float(input('Please enter the bill amount '))\n",
    "tax = float(input('Please enter tax percentage :'))\n",
    "discount = float(input('Please enter discount percentage :'))"
   ]
  },
  {
   "cell_type": "code",
   "execution_count": 19,
   "id": "53cf7537",
   "metadata": {},
   "outputs": [
    {
     "name": "stdout",
     "output_type": "stream",
     "text": [
      "4632.5\n"
     ]
    }
   ],
   "source": [
    "return_value = net_amount(amnt, tax, discount)"
   ]
  },
  {
   "cell_type": "code",
   "execution_count": 20,
   "id": "ef16b6bf",
   "metadata": {},
   "outputs": [
    {
     "name": "stdout",
     "output_type": "stream",
     "text": [
      "None\n"
     ]
    }
   ],
   "source": [
    "print(return_value)"
   ]
  },
  {
   "cell_type": "code",
   "execution_count": 21,
   "id": "3672b7ec",
   "metadata": {},
   "outputs": [],
   "source": [
    "def net_amount(Amount, tax= 18, discount = 10):\n",
    "    disc = (Amount * discount/100)\n",
    "    tax_amnt = (Amount - disc) * tax/100\n",
    "    net = (Amount - disc) + tax_amnt\n",
    "    return net"
   ]
  },
  {
   "cell_type": "code",
   "execution_count": 22,
   "id": "144a33d4",
   "metadata": {},
   "outputs": [
    {
     "name": "stdin",
     "output_type": "stream",
     "text": [
      "Please enter the bill amount  5000\n",
      "Please enter tax percentage : 9\n",
      "Please enter discount percentage : 15\n"
     ]
    }
   ],
   "source": [
    "amnt = float(input('Please enter the bill amount '))\n",
    "tax = float(input('Please enter tax percentage :'))\n",
    "discount = float(input('Please enter discount percentage :'))"
   ]
  },
  {
   "cell_type": "code",
   "execution_count": 23,
   "id": "2413214e",
   "metadata": {},
   "outputs": [],
   "source": [
    "return_value = net_amount(amnt, tax, discount)"
   ]
  },
  {
   "cell_type": "code",
   "execution_count": 24,
   "id": "62ccdb62",
   "metadata": {},
   "outputs": [
    {
     "name": "stdout",
     "output_type": "stream",
     "text": [
      "Total Amount to be paid :  4632.5\n"
     ]
    }
   ],
   "source": [
    "print('Total Amount to be paid : ', return_value)"
   ]
  },
  {
   "cell_type": "markdown",
   "id": "381a1176",
   "metadata": {},
   "source": [
    "## Scope of Variables"
   ]
  },
  {
   "cell_type": "markdown",
   "id": "6bb2fd62",
   "metadata": {},
   "source": [
    "### global variable"
   ]
  },
  {
   "cell_type": "code",
   "execution_count": 25,
   "id": "3ccb59fb",
   "metadata": {},
   "outputs": [
    {
     "name": "stdout",
     "output_type": "stream",
     "text": [
      "10\n"
     ]
    }
   ],
   "source": [
    "var = 10\n",
    "print(var)"
   ]
  },
  {
   "cell_type": "markdown",
   "id": "3f7490d9",
   "metadata": {},
   "source": [
    "### local variables"
   ]
  },
  {
   "cell_type": "code",
   "execution_count": 26,
   "id": "1930fc97",
   "metadata": {},
   "outputs": [],
   "source": [
    "def foo(inp):\n",
    "    # local variable\n",
    "    lc = 30\n",
    "    print('input parameter : ', inp)\n",
    "    print('local value : ', lc)"
   ]
  },
  {
   "cell_type": "code",
   "execution_count": 27,
   "id": "71a6c7ce",
   "metadata": {},
   "outputs": [
    {
     "name": "stdout",
     "output_type": "stream",
     "text": [
      "input parameter :  45\n",
      "local value :  30\n"
     ]
    }
   ],
   "source": [
    "foo(45)"
   ]
  },
  {
   "cell_type": "markdown",
   "id": "3052c225",
   "metadata": {},
   "source": [
    "#### calling local variable outside function"
   ]
  },
  {
   "cell_type": "code",
   "execution_count": 28,
   "id": "fc7950ee",
   "metadata": {},
   "outputs": [
    {
     "ename": "NameError",
     "evalue": "name 'inp' is not defined",
     "output_type": "error",
     "traceback": [
      "\u001b[0;31m---------------------------------------------------------------------------\u001b[0m",
      "\u001b[0;31mNameError\u001b[0m                                 Traceback (most recent call last)",
      "\u001b[0;32m<ipython-input-28-cb8c237a903d>\u001b[0m in \u001b[0;36m<module>\u001b[0;34m\u001b[0m\n\u001b[0;32m----> 1\u001b[0;31m \u001b[0mprint\u001b[0m\u001b[0;34m(\u001b[0m\u001b[0minp\u001b[0m\u001b[0;34m)\u001b[0m\u001b[0;34m\u001b[0m\u001b[0;34m\u001b[0m\u001b[0m\n\u001b[0m",
      "\u001b[0;31mNameError\u001b[0m: name 'inp' is not defined"
     ]
    }
   ],
   "source": [
    "print(inp)"
   ]
  },
  {
   "cell_type": "markdown",
   "id": "84660bf1",
   "metadata": {},
   "source": [
    "#### calling global variable inside a function"
   ]
  },
  {
   "cell_type": "code",
   "execution_count": 29,
   "id": "cba9565b",
   "metadata": {},
   "outputs": [],
   "source": [
    "def foo2():\n",
    "    square = var ** 2\n",
    "    return square"
   ]
  },
  {
   "cell_type": "code",
   "execution_count": 30,
   "id": "d5cada1b",
   "metadata": {},
   "outputs": [
    {
     "data": {
      "text/plain": [
       "100"
      ]
     },
     "execution_count": 30,
     "metadata": {},
     "output_type": "execute_result"
    }
   ],
   "source": [
    "foo2()"
   ]
  },
  {
   "cell_type": "markdown",
   "id": "197be538",
   "metadata": {},
   "source": [
    "### local and global variable with same name"
   ]
  },
  {
   "cell_type": "code",
   "execution_count": 31,
   "id": "0b95d93c",
   "metadata": {},
   "outputs": [],
   "source": [
    "var = 10 # global variable"
   ]
  },
  {
   "cell_type": "code",
   "execution_count": 32,
   "id": "9db06902",
   "metadata": {},
   "outputs": [],
   "source": [
    "def foo3():\n",
    "    var = 50 # local variable\n",
    "    print('inside function var  =', var)"
   ]
  },
  {
   "cell_type": "code",
   "execution_count": 33,
   "id": "cedc213a",
   "metadata": {},
   "outputs": [
    {
     "name": "stdout",
     "output_type": "stream",
     "text": [
      "inside function var  = 50\n",
      "outside function var = 10\n"
     ]
    }
   ],
   "source": [
    "foo3()\n",
    "print('outside function var =', var)"
   ]
  },
  {
   "cell_type": "markdown",
   "id": "750d301e",
   "metadata": {},
   "source": [
    "### creating or manipulating global variable inside a function"
   ]
  },
  {
   "cell_type": "code",
   "execution_count": 34,
   "id": "45f1ac6d",
   "metadata": {},
   "outputs": [
    {
     "name": "stdout",
     "output_type": "stream",
     "text": [
      "before function call var = 15\n",
      "inside function var  = 75\n",
      "outside function var = 75\n"
     ]
    }
   ],
   "source": [
    "var = 15\n",
    "print('before function call var =', var)\n",
    "\n",
    "def foo4():\n",
    "    global var\n",
    "    var *= 5\n",
    "    print('inside function var  =', var)\n",
    "\n",
    "foo4()\n",
    "print('outside function var =', var)"
   ]
  },
  {
   "cell_type": "markdown",
   "id": "8e7bb5b8",
   "metadata": {},
   "source": [
    "## Generator Functions"
   ]
  },
  {
   "cell_type": "code",
   "execution_count": 35,
   "id": "249165af",
   "metadata": {},
   "outputs": [],
   "source": [
    "def myGenerator():\n",
    "    n = 1\n",
    "    print('First Iteration')\n",
    "    yield 'Number 1 : n = ' + str(n)\n",
    "    \n",
    "    n += 2\n",
    "    print('Second Iteration')\n",
    "    yield 'Number 2 : n = ' + str(n)\n",
    "    \n",
    "    n += 3\n",
    "    print('Third Iteration')\n",
    "    yield 'Number 3 : n = ' + str(n)"
   ]
  },
  {
   "cell_type": "markdown",
   "id": "d2d23dcc",
   "metadata": {},
   "source": [
    "### generator call : way 1"
   ]
  },
  {
   "cell_type": "code",
   "execution_count": 36,
   "id": "af302604",
   "metadata": {},
   "outputs": [],
   "source": [
    "gen = myGenerator()"
   ]
  },
  {
   "cell_type": "code",
   "execution_count": 37,
   "id": "716c0aa7",
   "metadata": {},
   "outputs": [
    {
     "data": {
      "text/plain": [
       "<generator object myGenerator at 0x7faf79799740>"
      ]
     },
     "execution_count": 37,
     "metadata": {},
     "output_type": "execute_result"
    }
   ],
   "source": [
    "gen"
   ]
  },
  {
   "cell_type": "code",
   "execution_count": 38,
   "id": "77475210",
   "metadata": {},
   "outputs": [
    {
     "name": "stdout",
     "output_type": "stream",
     "text": [
      "First Iteration\n",
      "Number 1 : n = 1\n"
     ]
    }
   ],
   "source": [
    "print(next(gen))"
   ]
  },
  {
   "cell_type": "code",
   "execution_count": 39,
   "id": "885f4600",
   "metadata": {},
   "outputs": [
    {
     "name": "stdout",
     "output_type": "stream",
     "text": [
      "Second Iteration\n",
      "Number 2 : n = 3\n"
     ]
    }
   ],
   "source": [
    "print(next(gen))"
   ]
  },
  {
   "cell_type": "code",
   "execution_count": 40,
   "id": "c341380c",
   "metadata": {},
   "outputs": [
    {
     "name": "stdout",
     "output_type": "stream",
     "text": [
      "Third Iteration\n",
      "Number 3 : n = 6\n"
     ]
    }
   ],
   "source": [
    "print(next(gen))"
   ]
  },
  {
   "cell_type": "markdown",
   "id": "241c6aaa",
   "metadata": {},
   "source": [
    "### the next function is called untill all values are yielded."
   ]
  },
  {
   "cell_type": "markdown",
   "id": "dd40e409",
   "metadata": {},
   "source": [
    "### generator call : way 2"
   ]
  },
  {
   "cell_type": "code",
   "execution_count": 41,
   "id": "0c36d08b",
   "metadata": {},
   "outputs": [
    {
     "name": "stdout",
     "output_type": "stream",
     "text": [
      "First Iteration\n",
      "Number 1 : n = 1 \n",
      "\n",
      "Second Iteration\n",
      "Number 2 : n = 3 \n",
      "\n",
      "Third Iteration\n",
      "Number 3 : n = 6 \n",
      "\n"
     ]
    }
   ],
   "source": [
    "gen = myGenerator()\n",
    "for value in gen :\n",
    "    print(value, '\\n')"
   ]
  },
  {
   "cell_type": "markdown",
   "id": "c6822ac4",
   "metadata": {},
   "source": [
    "## built in functions"
   ]
  },
  {
   "cell_type": "code",
   "execution_count": 42,
   "id": "9dca7502",
   "metadata": {},
   "outputs": [
    {
     "name": "stdout",
     "output_type": "stream",
     "text": [
      "['ArithmeticError', 'AssertionError', 'AttributeError', 'BaseException', 'BlockingIOError', 'BrokenPipeError', 'BufferError', 'BytesWarning', 'ChildProcessError', 'ConnectionAbortedError', 'ConnectionError', 'ConnectionRefusedError', 'ConnectionResetError', 'DeprecationWarning', 'EOFError', 'Ellipsis', 'EnvironmentError', 'Exception', 'False', 'FileExistsError', 'FileNotFoundError', 'FloatingPointError', 'FutureWarning', 'GeneratorExit', 'IOError', 'ImportError', 'ImportWarning', 'IndentationError', 'IndexError', 'InterruptedError', 'IsADirectoryError', 'KeyError', 'KeyboardInterrupt', 'LookupError', 'MemoryError', 'ModuleNotFoundError', 'NameError', 'None', 'NotADirectoryError', 'NotImplemented', 'NotImplementedError', 'OSError', 'OverflowError', 'PendingDeprecationWarning', 'PermissionError', 'ProcessLookupError', 'RecursionError', 'ReferenceError', 'ResourceWarning', 'RuntimeError', 'RuntimeWarning', 'StopAsyncIteration', 'StopIteration', 'SyntaxError', 'SyntaxWarning', 'SystemError', 'SystemExit', 'TabError', 'TimeoutError', 'True', 'TypeError', 'UnboundLocalError', 'UnicodeDecodeError', 'UnicodeEncodeError', 'UnicodeError', 'UnicodeTranslateError', 'UnicodeWarning', 'UserWarning', 'ValueError', 'Warning', 'ZeroDivisionError', '__IPYTHON__', '__build_class__', '__debug__', '__doc__', '__import__', '__loader__', '__name__', '__package__', '__spec__', 'abs', 'all', 'any', 'ascii', 'bin', 'bool', 'breakpoint', 'bytearray', 'bytes', 'callable', 'chr', 'classmethod', 'compile', 'complex', 'copyright', 'credits', 'delattr', 'dict', 'dir', 'display', 'divmod', 'enumerate', 'eval', 'exec', 'filter', 'float', 'format', 'frozenset', 'get_ipython', 'getattr', 'globals', 'hasattr', 'hash', 'help', 'hex', 'id', 'input', 'int', 'isinstance', 'issubclass', 'iter', 'len', 'license', 'list', 'locals', 'map', 'max', 'memoryview', 'min', 'next', 'object', 'oct', 'open', 'ord', 'pow', 'print', 'property', 'range', 'repr', 'reversed', 'round', 'set', 'setattr', 'slice', 'sorted', 'staticmethod', 'str', 'sum', 'super', 'tuple', 'type', 'vars', 'zip']\n"
     ]
    }
   ],
   "source": [
    "print(dir(__builtins__))"
   ]
  },
  {
   "cell_type": "markdown",
   "id": "dad5a2ba",
   "metadata": {},
   "source": [
    "## map function"
   ]
  },
  {
   "cell_type": "code",
   "execution_count": 43,
   "id": "ba432bb9",
   "metadata": {},
   "outputs": [
    {
     "name": "stdout",
     "output_type": "stream",
     "text": [
      " 22.0 in degree C is equivalent to   71.6 in degree F.\n",
      " 45.3 in degree C is equivalent to  113.5 in degree F.\n",
      " 35.4 in degree C is equivalent to   95.7 in degree F.\n",
      " 40.0 in degree C is equivalent to  104.0 in degree F.\n",
      " 44.7 in degree C is equivalent to  112.5 in degree F.\n",
      " 21.5 in degree C is equivalent to   70.7 in degree F.\n"
     ]
    }
   ],
   "source": [
    "temp = [22.0, 45.3, 35.4, 40.0, 44.7, 21.5]\n",
    "for T in temp:\n",
    "    f = ((9/5) * T) + 32\n",
    "    print('{:5.1f} in degree C is equivalent to {:6.1f} in degree F.'.format(T,f))"
   ]
  },
  {
   "cell_type": "code",
   "execution_count": 44,
   "id": "cb7bfd1c",
   "metadata": {},
   "outputs": [],
   "source": [
    "def Fahrenhite(T):\n",
    "    return round(((9/5) * T) + 32, 1)"
   ]
  },
  {
   "cell_type": "code",
   "execution_count": 45,
   "id": "31bd5c17",
   "metadata": {},
   "outputs": [
    {
     "name": "stdout",
     "output_type": "stream",
     "text": [
      "Temp in deg C  [22.0, 45.3, 35.4, 40.0, 44.7, 21.5]\n",
      "Temp in deg F  [71.6, 113.5, 95.7, 104.0, 112.5, 70.7]\n"
     ]
    }
   ],
   "source": [
    "results = list(map(Fahrenhite, temp))\n",
    "print('Temp in deg C ', temp)\n",
    "print('Temp in deg F ', results)"
   ]
  },
  {
   "cell_type": "markdown",
   "id": "0a7c9c55",
   "metadata": {},
   "source": [
    "### using lambda function"
   ]
  },
  {
   "cell_type": "code",
   "execution_count": 46,
   "id": "39edc980",
   "metadata": {},
   "outputs": [
    {
     "name": "stdout",
     "output_type": "stream",
     "text": [
      "Temp in deg C  [22.0, 45.3, 35.4, 40.0, 44.7, 21.5]\n",
      "Temp in deg F  [71.6, 113.5, 95.7, 104.0, 112.5, 70.7]\n"
     ]
    }
   ],
   "source": [
    "results = list(map(lambda T: round(((9/5) * T) + 32, 1), temp))\n",
    "print('Temp in deg C ', temp)\n",
    "print('Temp in deg F ', results)"
   ]
  },
  {
   "cell_type": "markdown",
   "id": "268506e3",
   "metadata": {},
   "source": [
    "## filter function"
   ]
  },
  {
   "cell_type": "code",
   "execution_count": 47,
   "id": "770f7ab1",
   "metadata": {},
   "outputs": [
    {
     "name": "stdout",
     "output_type": "stream",
     "text": [
      "[45, 21, 55, 91, 17]\n"
     ]
    }
   ],
   "source": [
    "numbers = [32, 45, 62, 21, 55, 91, 88, 17 ]\n",
    "odd_numbers = []\n",
    "for n in numbers:\n",
    "    if n % 2 :\n",
    "        odd_numbers.append(n)\n",
    "print(odd_numbers)"
   ]
  },
  {
   "cell_type": "code",
   "execution_count": 48,
   "id": "9bb19105",
   "metadata": {},
   "outputs": [
    {
     "name": "stdout",
     "output_type": "stream",
     "text": [
      "[45, 21, 55, 91, 17]\n"
     ]
    }
   ],
   "source": [
    "numbers = [32, 45, 62, 21, 55, 91, 88, 17 ]\n",
    "odd_numbers = list(filter ( lambda n : n % 2, numbers))\n",
    "print(odd_numbers)"
   ]
  },
  {
   "cell_type": "markdown",
   "id": "2407bc73",
   "metadata": {},
   "source": [
    "## reduce function"
   ]
  },
  {
   "cell_type": "code",
   "execution_count": 49,
   "id": "f96d9e4b",
   "metadata": {},
   "outputs": [
    {
     "name": "stdout",
     "output_type": "stream",
     "text": [
      "Total : 42\n"
     ]
    }
   ],
   "source": [
    "numbers = [2,4,6,8,10,12]\n",
    "tot = 0\n",
    "for n in numbers:\n",
    "    tot += n\n",
    "print('Total :', tot)"
   ]
  },
  {
   "cell_type": "code",
   "execution_count": 50,
   "id": "0a4f44fc",
   "metadata": {},
   "outputs": [
    {
     "name": "stdout",
     "output_type": "stream",
     "text": [
      "Total =  42\n"
     ]
    }
   ],
   "source": [
    "from _functools import reduce\n",
    "numbers = [2,4,6,8,10,12]\n",
    "result = reduce(lambda x , y : x + y, numbers)\n",
    "print('Total = ', result)"
   ]
  },
  {
   "cell_type": "code",
   "execution_count": null,
   "id": "960e4059",
   "metadata": {},
   "outputs": [],
   "source": []
  }
 ],
 "metadata": {
  "kernelspec": {
   "display_name": "Python 3 (ipykernel)",
   "language": "python",
   "name": "python3"
  },
  "language_info": {
   "codemirror_mode": {
    "name": "ipython",
    "version": 3
   },
   "file_extension": ".py",
   "mimetype": "text/x-python",
   "name": "python",
   "nbconvert_exporter": "python",
   "pygments_lexer": "ipython3",
   "version": "3.9.6"
  }
 },
 "nbformat": 4,
 "nbformat_minor": 5
}
