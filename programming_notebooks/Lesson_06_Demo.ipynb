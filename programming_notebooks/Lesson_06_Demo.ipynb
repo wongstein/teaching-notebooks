{
 "cells": [
  {
   "cell_type": "markdown",
   "id": "e4a34db6",
   "metadata": {},
   "source": [
    "# Functions"
   ]
  },
  {
   "cell_type": "code",
   "execution_count": 43,
   "id": "97325690",
   "metadata": {},
   "outputs": [],
   "source": [
    "# Function Definition simplest syntax\n",
    "\n",
    "# This cell only defines my function.  But it doesn't run it\n",
    "def greetings(name, greeting):\n",
    "    print(greeting ,'! ', name, sep = '')\n",
    "    \n",
    "    for i in range(10):\n",
    "        print(i)"
   ]
  },
  {
   "cell_type": "code",
   "execution_count": 45,
   "id": "31368af8",
   "metadata": {
    "scrolled": true
   },
   "outputs": [
    {
     "ename": "TypeError",
     "evalue": "greetings() missing 2 required positional arguments: 'name' and 'greeting'",
     "output_type": "error",
     "traceback": [
      "\u001b[0;31m---------------------------------------------------------------------------\u001b[0m",
      "\u001b[0;31mTypeError\u001b[0m                                 Traceback (most recent call last)",
      "Cell \u001b[0;32mIn[45], line 1\u001b[0m\n\u001b[0;32m----> 1\u001b[0m \u001b[43mgreetings\u001b[49m\u001b[43m(\u001b[49m\u001b[43m)\u001b[49m\n",
      "\u001b[0;31mTypeError\u001b[0m: greetings() missing 2 required positional arguments: 'name' and 'greeting'"
     ]
    }
   ],
   "source": [
    "greetings()"
   ]
  },
  {
   "cell_type": "code",
   "execution_count": 9,
   "id": "6d685528",
   "metadata": {},
   "outputs": [],
   "source": [
    "# function no parameters\n",
    "\n",
    "def hi_john():\n",
    "    print(\"hello john!\")"
   ]
  },
  {
   "cell_type": "code",
   "execution_count": 16,
   "id": "1a6132fa",
   "metadata": {},
   "outputs": [
    {
     "ename": "TypeError",
     "evalue": "hi_john() takes 0 positional arguments but 2 were given",
     "output_type": "error",
     "traceback": [
      "\u001b[0;31m---------------------------------------------------------------------------\u001b[0m",
      "\u001b[0;31mTypeError\u001b[0m                                 Traceback (most recent call last)",
      "Cell \u001b[0;32mIn[16], line 1\u001b[0m\n\u001b[0;32m----> 1\u001b[0m \u001b[43mhi_john\u001b[49m\u001b[43m(\u001b[49m\u001b[38;5;241;43m1\u001b[39;49m\u001b[43m,\u001b[49m\u001b[43m \u001b[49m\u001b[38;5;124;43m\"\u001b[39;49m\u001b[38;5;124;43mjohn\u001b[39;49m\u001b[38;5;124;43m\"\u001b[39;49m\u001b[43m)\u001b[49m\n",
      "\u001b[0;31mTypeError\u001b[0m: hi_john() takes 0 positional arguments but 2 were given"
     ]
    }
   ],
   "source": [
    "hi_john(, \"john\")"
   ]
  },
  {
   "cell_type": "code",
   "execution_count": 17,
   "id": "79faff5a",
   "metadata": {
    "scrolled": false
   },
   "outputs": [
    {
     "name": "stdout",
     "output_type": "stream",
     "text": [
      "10! hello\n",
      "0\n",
      "1\n",
      "2\n",
      "3\n",
      "4\n",
      "5\n",
      "6\n",
      "7\n",
      "8\n",
      "9\n"
     ]
    }
   ],
   "source": [
    "# Function call\n",
    "greeting = \"hello\"\n",
    "name = \"john\"\n",
    "greetings(greeting, 10)"
   ]
  },
  {
   "cell_type": "markdown",
   "id": "34945921",
   "metadata": {},
   "source": [
    "# Functions with parameters with default values"
   ]
  },
  {
   "cell_type": "code",
   "execution_count": 49,
   "id": "25e56c6b",
   "metadata": {},
   "outputs": [],
   "source": [
    "def greetings_defaults(name, greeting = \"hello\"):\n",
    "    print(name, greeting)"
   ]
  },
  {
   "cell_type": "code",
   "execution_count": 50,
   "id": "0d44291b",
   "metadata": {},
   "outputs": [
    {
     "ename": "TypeError",
     "evalue": "greetings_defaults() missing 1 required positional argument: 'name'",
     "output_type": "error",
     "traceback": [
      "\u001b[0;31m---------------------------------------------------------------------------\u001b[0m",
      "\u001b[0;31mTypeError\u001b[0m                                 Traceback (most recent call last)",
      "Cell \u001b[0;32mIn[50], line 1\u001b[0m\n\u001b[0;32m----> 1\u001b[0m \u001b[43mgreetings_defaults\u001b[49m\u001b[43m(\u001b[49m\u001b[43m)\u001b[49m\n",
      "\u001b[0;31mTypeError\u001b[0m: greetings_defaults() missing 1 required positional argument: 'name'"
     ]
    }
   ],
   "source": [
    "greetings_defaults()"
   ]
  },
  {
   "cell_type": "code",
   "execution_count": 52,
   "id": "9e23ee3f",
   "metadata": {},
   "outputs": [
    {
     "ename": "SyntaxError",
     "evalue": "invalid syntax (711051773.py, line 1)",
     "output_type": "error",
     "traceback": [
      "\u001b[0;36m  Cell \u001b[0;32mIn[52], line 1\u001b[0;36m\u001b[0m\n\u001b[0;31m    greetings_defaults(\"john\", greeting = \"john\") obj\u001b[0m\n\u001b[0m                                                  ^\u001b[0m\n\u001b[0;31mSyntaxError\u001b[0m\u001b[0;31m:\u001b[0m invalid syntax\n"
     ]
    }
   ],
   "source": [
    "greetings_defaults(\"john\", greeting = \"john\")"
   ]
  },
  {
   "cell_type": "markdown",
   "id": "d3959c46",
   "metadata": {},
   "source": [
    "# Defining functions for typing"
   ]
  },
  {
   "cell_type": "code",
   "execution_count": 36,
   "id": "353ae3be",
   "metadata": {},
   "outputs": [],
   "source": [
    "def greetings_typed(name: str, greeting: float):\n",
    "    print(type(greeting))\n",
    "    print(greeting ,'! ', name, sep = '')"
   ]
  },
  {
   "cell_type": "code",
   "execution_count": 37,
   "id": "7ef11112",
   "metadata": {},
   "outputs": [
    {
     "name": "stdout",
     "output_type": "stream",
     "text": [
      "<class 'str'>\n",
      "hello! john\n"
     ]
    }
   ],
   "source": [
    "greetings_typed(\"john\", \"hello\")"
   ]
  },
  {
   "cell_type": "code",
   "execution_count": 38,
   "id": "334a5691",
   "metadata": {},
   "outputs": [
    {
     "name": "stdout",
     "output_type": "stream",
     "text": [
      "<class 'float'>\n",
      "10.0! john\n"
     ]
    }
   ],
   "source": [
    "greetings_typed(\"john\", 10.0)"
   ]
  },
  {
   "cell_type": "markdown",
   "id": "0c5dc33e",
   "metadata": {},
   "source": [
    "### Positional Argument"
   ]
  },
  {
   "cell_type": "code",
   "execution_count": null,
   "id": "2a62dd6f",
   "metadata": {},
   "outputs": [],
   "source": [
    "greetings('Hello', 'John')"
   ]
  },
  {
   "cell_type": "markdown",
   "id": "fe0d89a1",
   "metadata": {},
   "source": [
    "### Keyword Arguments"
   ]
  },
  {
   "cell_type": "code",
   "execution_count": 55,
   "id": "8660f5c1",
   "metadata": {},
   "outputs": [
    {
     "name": "stdout",
     "output_type": "stream",
     "text": [
      "John! Hello\n",
      "0\n",
      "1\n",
      "2\n",
      "3\n",
      "4\n",
      "5\n",
      "6\n",
      "7\n",
      "8\n",
      "9\n"
     ]
    }
   ],
   "source": [
    "# def greetings(name, greeting):\n",
    "\n",
    "## Here the position doesn't matter\n",
    "greetings('Hello', greeting = 'John')"
   ]
  },
  {
   "cell_type": "code",
   "execution_count": 56,
   "id": "8f0fefaf",
   "metadata": {},
   "outputs": [],
   "source": [
    "# Mixed positional keyword function\n",
    "\n",
    "def so_many_parameters(one, two, three = 3, four = 4):\n",
    "    print(one, two, three, four)"
   ]
  },
  {
   "cell_type": "code",
   "execution_count": 61,
   "id": "5c3c7c2b",
   "metadata": {},
   "outputs": [
    {
     "name": "stdout",
     "output_type": "stream",
     "text": [
      "2 3 3 4\n"
     ]
    }
   ],
   "source": [
    "so_many_parameters(2, 3 )"
   ]
  },
  {
   "cell_type": "code",
   "execution_count": 62,
   "id": "fa87c85c",
   "metadata": {},
   "outputs": [
    {
     "ename": "TypeError",
     "evalue": "so_many_parameters() missing 1 required positional argument: 'two'",
     "output_type": "error",
     "traceback": [
      "\u001b[0;31m---------------------------------------------------------------------------\u001b[0m",
      "\u001b[0;31mTypeError\u001b[0m                                 Traceback (most recent call last)",
      "Cell \u001b[0;32mIn[62], line 1\u001b[0m\n\u001b[0;32m----> 1\u001b[0m \u001b[43mso_many_parameters\u001b[49m\u001b[43m(\u001b[49m\u001b[38;5;241;43m1\u001b[39;49m\u001b[43m)\u001b[49m\n",
      "\u001b[0;31mTypeError\u001b[0m: so_many_parameters() missing 1 required positional argument: 'two'"
     ]
    }
   ],
   "source": [
    "so_many_parameters(1)"
   ]
  },
  {
   "cell_type": "code",
   "execution_count": 59,
   "id": "a390c152",
   "metadata": {},
   "outputs": [
    {
     "name": "stdout",
     "output_type": "stream",
     "text": [
      "1 2 5 4\n"
     ]
    }
   ],
   "source": [
    "so_many_parameters(1, 2, 5)"
   ]
  },
  {
   "cell_type": "code",
   "execution_count": 63,
   "id": "44d349db",
   "metadata": {},
   "outputs": [
    {
     "name": "stdout",
     "output_type": "stream",
     "text": [
      "1 2 3 5\n"
     ]
    }
   ],
   "source": [
    "so_many_parameters(1, 2, four = 5, three = 3)"
   ]
  },
  {
   "cell_type": "markdown",
   "id": "7b869737",
   "metadata": {},
   "source": [
    "### Parameters with Default value "
   ]
  },
  {
   "cell_type": "code",
   "execution_count": 64,
   "id": "585f8c46",
   "metadata": {},
   "outputs": [],
   "source": [
    "def greetings(name, greeting):\n",
    "    print(greeting ,'! ', name, sep = '')"
   ]
  },
  {
   "cell_type": "code",
   "execution_count": 65,
   "id": "cb537ed1",
   "metadata": {},
   "outputs": [
    {
     "ename": "TypeError",
     "evalue": "greetings() missing 1 required positional argument: 'greeting'",
     "output_type": "error",
     "traceback": [
      "\u001b[0;31m---------------------------------------------------------------------------\u001b[0m",
      "\u001b[0;31mTypeError\u001b[0m                                 Traceback (most recent call last)",
      "Cell \u001b[0;32mIn[65], line 1\u001b[0m\n\u001b[0;32m----> 1\u001b[0m \u001b[43mgreetings\u001b[49m\u001b[43m(\u001b[49m\u001b[38;5;124;43m'\u001b[39;49m\u001b[38;5;124;43mJohn\u001b[39;49m\u001b[38;5;124;43m'\u001b[39;49m\u001b[43m)\u001b[49m\n",
      "\u001b[0;31mTypeError\u001b[0m: greetings() missing 1 required positional argument: 'greeting'"
     ]
    }
   ],
   "source": [
    "greetings('John')"
   ]
  },
  {
   "cell_type": "code",
   "execution_count": 66,
   "id": "8ecec28b",
   "metadata": {},
   "outputs": [],
   "source": [
    "def greetings(name, greeting = 'Hello'):\n",
    "    print(greeting ,'! ', name, sep = '')"
   ]
  },
  {
   "cell_type": "code",
   "execution_count": 67,
   "id": "0f7b8ad2",
   "metadata": {},
   "outputs": [
    {
     "name": "stdout",
     "output_type": "stream",
     "text": [
      "Hello! John\n"
     ]
    }
   ],
   "source": [
    "greetings('John')"
   ]
  },
  {
   "cell_type": "code",
   "execution_count": 68,
   "id": "777e818d",
   "metadata": {},
   "outputs": [
    {
     "name": "stdout",
     "output_type": "stream",
     "text": [
      "Hi! John\n"
     ]
    }
   ],
   "source": [
    "greetings('John', 'Hi')"
   ]
  },
  {
   "cell_type": "markdown",
   "id": "729d0605",
   "metadata": {},
   "source": [
    "### Arbitrary Arguments"
   ]
  },
  {
   "cell_type": "markdown",
   "id": "4daec50f",
   "metadata": {},
   "source": [
    "#### Non Keyword Arbitrary Argument"
   ]
  },
  {
   "cell_type": "code",
   "execution_count": 87,
   "id": "52ca8c7f",
   "metadata": {},
   "outputs": [],
   "source": [
    "# function defined with non keyword variable no. of arguments\n",
    "def total(*args):\n",
    "    tot = 0\n",
    "    print(args[0])\n",
    "    for n in args:\n",
    "        tot += n\n",
    "    print(tot)"
   ]
  },
  {
   "cell_type": "code",
   "execution_count": 88,
   "id": "6110d9cb",
   "metadata": {},
   "outputs": [
    {
     "name": "stdout",
     "output_type": "stream",
     "text": [
      "10\n",
      "14\n"
     ]
    }
   ],
   "source": [
    "total(10, 1, 3)"
   ]
  },
  {
   "cell_type": "code",
   "execution_count": 70,
   "id": "5fab488f",
   "metadata": {},
   "outputs": [],
   "source": [
    "# you can call the object whatever want, it doesn't have to be args.\n",
    "def total_works(*hello):\n",
    "    print(hello)"
   ]
  },
  {
   "cell_type": "code",
   "execution_count": 76,
   "id": "b6315487",
   "metadata": {},
   "outputs": [
    {
     "name": "stdout",
     "output_type": "stream",
     "text": [
      "10\n"
     ]
    }
   ],
   "source": [
    "total(1, 2, 3, 4)"
   ]
  },
  {
   "cell_type": "code",
   "execution_count": 71,
   "id": "d81fc9b1",
   "metadata": {},
   "outputs": [
    {
     "name": "stdout",
     "output_type": "stream",
     "text": [
      "(10, 123, 32)\n"
     ]
    }
   ],
   "source": [
    "total_works(10, 123,32)"
   ]
  },
  {
   "cell_type": "code",
   "execution_count": null,
   "id": "48bb47e4",
   "metadata": {},
   "outputs": [],
   "source": [
    "total(23, 67)"
   ]
  },
  {
   "cell_type": "code",
   "execution_count": null,
   "id": "05066ea7",
   "metadata": {},
   "outputs": [],
   "source": [
    "total(90, 100, 10, 30, 40)"
   ]
  },
  {
   "cell_type": "code",
   "execution_count": 82,
   "id": "11097c15",
   "metadata": {},
   "outputs": [],
   "source": [
    "# explicitly using an array\n",
    "\n",
    "def total_with_list_param(my_list):\n",
    "    print(my_list[0])\n",
    "    print(sum(my_list))"
   ]
  },
  {
   "cell_type": "code",
   "execution_count": 83,
   "id": "9cef3497",
   "metadata": {},
   "outputs": [
    {
     "ename": "TypeError",
     "evalue": "total_with_list_param() takes 1 positional argument but 3 were given",
     "output_type": "error",
     "traceback": [
      "\u001b[0;31m---------------------------------------------------------------------------\u001b[0m",
      "\u001b[0;31mTypeError\u001b[0m                                 Traceback (most recent call last)",
      "Cell \u001b[0;32mIn[83], line 1\u001b[0m\n\u001b[0;32m----> 1\u001b[0m \u001b[43mtotal_with_list_param\u001b[49m\u001b[43m(\u001b[49m\u001b[38;5;241;43m20\u001b[39;49m\u001b[43m,\u001b[49m\u001b[43m \u001b[49m\u001b[38;5;241;43m10\u001b[39;49m\u001b[43m \u001b[49m\u001b[43m,\u001b[49m\u001b[38;5;241;43m20\u001b[39;49m\u001b[43m)\u001b[49m\n",
      "\u001b[0;31mTypeError\u001b[0m: total_with_list_param() takes 1 positional argument but 3 were given"
     ]
    }
   ],
   "source": [
    "total_with_list_param(20, 10 ,20)"
   ]
  },
  {
   "cell_type": "code",
   "execution_count": 84,
   "id": "d4ba46f8",
   "metadata": {},
   "outputs": [
    {
     "name": "stdout",
     "output_type": "stream",
     "text": [
      "20\n",
      "50\n"
     ]
    }
   ],
   "source": [
    "total_with_list_param([20, 10, 20])"
   ]
  },
  {
   "cell_type": "code",
   "execution_count": 85,
   "id": "b0d6aaec",
   "metadata": {},
   "outputs": [
    {
     "name": "stdout",
     "output_type": "stream",
     "text": [
      "20\n",
      "50\n"
     ]
    }
   ],
   "source": [
    "my_list = [20, 10, 20]\n",
    "total_with_list_param(my_list)"
   ]
  },
  {
   "cell_type": "markdown",
   "id": "1bc66a76",
   "metadata": {},
   "source": [
    "#### Keyword Arbitrary Argument"
   ]
  },
  {
   "cell_type": "code",
   "execution_count": 97,
   "id": "a6a99945",
   "metadata": {},
   "outputs": [],
   "source": [
    "# function defined with variable no. keyword variable no. of arguments\n",
    "def information(**kwargs):\n",
    "    # kwargs has a dictionary structure: key: value\n",
    "    # kwargs.keys() => all keys in the diction\n",
    "    # kwargs.items() : key value pairs\n",
    "    # kwargs.values() : just the values\n",
    "    \n",
    "    print(\"made a change\")\n",
    "    for key in kwargs.keys():\n",
    "        print(key, \":\", kwargs[key])\n",
    "    "
   ]
  },
  {
   "cell_type": "code",
   "execution_count": 103,
   "id": "e6c6c502",
   "metadata": {},
   "outputs": [
    {
     "ename": "AttributeError",
     "evalue": "'function' object has no attribute 'key'",
     "output_type": "error",
     "traceback": [
      "\u001b[0;31m---------------------------------------------------------------------------\u001b[0m",
      "\u001b[0;31mAttributeError\u001b[0m                            Traceback (most recent call last)",
      "Cell \u001b[0;32mIn[103], line 1\u001b[0m\n\u001b[0;32m----> 1\u001b[0m \u001b[38;5;28mprint\u001b[39m(\u001b[43minformation\u001b[49m\u001b[38;5;241;43m.\u001b[39;49m\u001b[43mkey\u001b[49m)\n",
      "\u001b[0;31mAttributeError\u001b[0m: 'function' object has no attribute 'key'"
     ]
    }
   ],
   "source": [
    "print(information.key)"
   ]
  },
  {
   "cell_type": "code",
   "execution_count": 99,
   "id": "24565f24",
   "metadata": {
    "scrolled": true
   },
   "outputs": [
    {
     "name": "stdout",
     "output_type": "stream",
     "text": [
      "made a change\n",
      "name : John Davis\n",
      "age : 34\n"
     ]
    }
   ],
   "source": [
    "information(name = 'John Davis', age = 34)"
   ]
  },
  {
   "cell_type": "code",
   "execution_count": 100,
   "id": "a91791e1",
   "metadata": {},
   "outputs": [
    {
     "name": "stdout",
     "output_type": "stream",
     "text": [
      "made a change\n",
      "legal_name : john davis\n",
      "legal_age : 18\n"
     ]
    }
   ],
   "source": [
    "information(legal_name = \"john davis\", legal_age = 18)"
   ]
  },
  {
   "cell_type": "code",
   "execution_count": 101,
   "id": "34a45fe6",
   "metadata": {},
   "outputs": [
    {
     "name": "stdout",
     "output_type": "stream",
     "text": [
      "made a change\n",
      "name : John Davis\n",
      "age : 34\n",
      "city : London\n",
      "country : UK\n"
     ]
    }
   ],
   "source": [
    "information(name = 'John Davis', age = 34, city = 'London', country  = 'UK')"
   ]
  },
  {
   "cell_type": "markdown",
   "id": "a53e6611",
   "metadata": {},
   "source": [
    "## return statement"
   ]
  },
  {
   "cell_type": "code",
   "execution_count": 104,
   "id": "507d9cf6",
   "metadata": {},
   "outputs": [],
   "source": [
    "def net_amount(Amount, tax= 18, discount = 10):\n",
    "    disc = (Amount * discount/100)\n",
    "    tax_amnt = (Amount - disc) * tax/100\n",
    "    net = (Amount - disc) + tax_amnt\n",
    "    print(round(net,2))\n",
    "    \n",
    "    # This return statement is implied when not coded\n",
    "    return None"
   ]
  },
  {
   "cell_type": "code",
   "execution_count": 105,
   "id": "bbe372b8",
   "metadata": {},
   "outputs": [
    {
     "name": "stdout",
     "output_type": "stream",
     "text": [
      "<function net_amount at 0x10d22a5e0>\n"
     ]
    }
   ],
   "source": [
    "print(net_amount)"
   ]
  },
  {
   "cell_type": "code",
   "execution_count": 106,
   "id": "a47912e3",
   "metadata": {},
   "outputs": [
    {
     "name": "stdout",
     "output_type": "stream",
     "text": [
      "106.2\n"
     ]
    }
   ],
   "source": [
    "temporary_obj = net_amount(100)"
   ]
  },
  {
   "cell_type": "code",
   "execution_count": 108,
   "id": "2637f524",
   "metadata": {},
   "outputs": [
    {
     "name": "stdout",
     "output_type": "stream",
     "text": [
      "None\n"
     ]
    }
   ],
   "source": [
    "# python defaults to returning a None object with every function unless otherwise specified.\n",
    "print(temporary_obj)"
   ]
  },
  {
   "cell_type": "code",
   "execution_count": 109,
   "id": "08649f10",
   "metadata": {},
   "outputs": [
    {
     "name": "stdout",
     "output_type": "stream",
     "text": [
      "Please enter the bill amount 100\n",
      "Please enter tax percentage :2\n",
      "Please enter discount percentage :10\n"
     ]
    }
   ],
   "source": [
    "amnt = float(input('Please enter the bill amount '))\n",
    "tax = float(input('Please enter tax percentage :'))\n",
    "discount = float(input('Please enter discount percentage :'))"
   ]
  },
  {
   "cell_type": "code",
   "execution_count": 110,
   "id": "53cf7537",
   "metadata": {},
   "outputs": [
    {
     "name": "stdout",
     "output_type": "stream",
     "text": [
      "91.8\n"
     ]
    }
   ],
   "source": [
    "return_value = net_amount(amnt, tax, discount)"
   ]
  },
  {
   "cell_type": "code",
   "execution_count": 111,
   "id": "ef16b6bf",
   "metadata": {},
   "outputs": [
    {
     "name": "stdout",
     "output_type": "stream",
     "text": [
      "None\n"
     ]
    }
   ],
   "source": [
    "print(return_value)"
   ]
  },
  {
   "cell_type": "code",
   "execution_count": 116,
   "id": "3672b7ec",
   "metadata": {},
   "outputs": [],
   "source": [
    "def net_amount_with_return(Amount, tax= 18, discount = 10):\n",
    "    disc = (Amount * discount/100)\n",
    "    tax_amnt = (Amount - disc) * tax/100\n",
    "    net = (Amount - disc) + tax_amnt\n",
    "    print(round(net,2))\n",
    "    return net"
   ]
  },
  {
   "cell_type": "code",
   "execution_count": 113,
   "id": "8d1344f0",
   "metadata": {},
   "outputs": [
    {
     "name": "stdout",
     "output_type": "stream",
     "text": [
      "<function net_amount_with_return at 0x10d271310>\n"
     ]
    }
   ],
   "source": [
    "print(net_amount_with_return)"
   ]
  },
  {
   "cell_type": "code",
   "execution_count": null,
   "id": "144a33d4",
   "metadata": {},
   "outputs": [],
   "source": [
    "amnt = float(input('Please enter the bill amount '))\n",
    "tax = float(input('Please enter tax percentage :'))\n",
    "discount = float(input('Please enter discount percentage :'))"
   ]
  },
  {
   "cell_type": "code",
   "execution_count": 117,
   "id": "2413214e",
   "metadata": {},
   "outputs": [
    {
     "name": "stdout",
     "output_type": "stream",
     "text": [
      "91.8\n"
     ]
    }
   ],
   "source": [
    "return_value = net_amount_with_return(amnt, tax, discount)"
   ]
  },
  {
   "cell_type": "code",
   "execution_count": 118,
   "id": "8971653d",
   "metadata": {},
   "outputs": [
    {
     "name": "stdout",
     "output_type": "stream",
     "text": [
      "91.8\n"
     ]
    }
   ],
   "source": [
    "print(return_value)"
   ]
  },
  {
   "cell_type": "code",
   "execution_count": 119,
   "id": "62ccdb62",
   "metadata": {},
   "outputs": [
    {
     "name": "stdout",
     "output_type": "stream",
     "text": [
      "Total Amount to be paid :  91.8\n"
     ]
    }
   ],
   "source": [
    "print('Total Amount to be paid : ', return_value)"
   ]
  },
  {
   "cell_type": "markdown",
   "id": "381a1176",
   "metadata": {},
   "source": [
    "## Scope of Variables"
   ]
  },
  {
   "cell_type": "markdown",
   "id": "6bb2fd62",
   "metadata": {},
   "source": [
    "### global variable"
   ]
  },
  {
   "cell_type": "code",
   "execution_count": 120,
   "id": "3ccb59fb",
   "metadata": {},
   "outputs": [
    {
     "name": "stdout",
     "output_type": "stream",
     "text": [
      "10\n"
     ]
    }
   ],
   "source": [
    "var = 10\n",
    "print(var)"
   ]
  },
  {
   "cell_type": "code",
   "execution_count": 121,
   "id": "83917f1c",
   "metadata": {},
   "outputs": [
    {
     "data": {
      "text/plain": [
       "10"
      ]
     },
     "execution_count": 121,
     "metadata": {},
     "output_type": "execute_result"
    }
   ],
   "source": [
    "var"
   ]
  },
  {
   "cell_type": "code",
   "execution_count": 122,
   "id": "86d54dd9",
   "metadata": {},
   "outputs": [],
   "source": [
    "var += 10"
   ]
  },
  {
   "cell_type": "code",
   "execution_count": 123,
   "id": "cb5cf49d",
   "metadata": {},
   "outputs": [
    {
     "name": "stdout",
     "output_type": "stream",
     "text": [
      "20\n"
     ]
    }
   ],
   "source": [
    "print(var)"
   ]
  },
  {
   "cell_type": "code",
   "execution_count": 130,
   "id": "c9e8b362",
   "metadata": {},
   "outputs": [],
   "source": [
    "def function():\n",
    "    global var\n",
    "    print(var)"
   ]
  },
  {
   "cell_type": "code",
   "execution_count": 132,
   "id": "d4dd2218",
   "metadata": {},
   "outputs": [
    {
     "name": "stdout",
     "output_type": "stream",
     "text": [
      "20\n"
     ]
    }
   ],
   "source": [
    "function()"
   ]
  },
  {
   "cell_type": "markdown",
   "id": "3f7490d9",
   "metadata": {},
   "source": [
    "### local variables"
   ]
  },
  {
   "cell_type": "code",
   "execution_count": 133,
   "id": "1930fc97",
   "metadata": {},
   "outputs": [],
   "source": [
    "def foo(inp):\n",
    "    # local variable\n",
    "    lc = 30\n",
    "    print('input parameter : ', inp)\n",
    "    print('local value : ', lc)"
   ]
  },
  {
   "cell_type": "code",
   "execution_count": 134,
   "id": "71a6c7ce",
   "metadata": {},
   "outputs": [
    {
     "name": "stdout",
     "output_type": "stream",
     "text": [
      "input parameter :  45\n",
      "local value :  30\n"
     ]
    }
   ],
   "source": [
    "foo(45)"
   ]
  },
  {
   "cell_type": "code",
   "execution_count": 135,
   "id": "f516cafb",
   "metadata": {},
   "outputs": [
    {
     "ename": "NameError",
     "evalue": "name 'lc' is not defined",
     "output_type": "error",
     "traceback": [
      "\u001b[0;31m---------------------------------------------------------------------------\u001b[0m",
      "\u001b[0;31mNameError\u001b[0m                                 Traceback (most recent call last)",
      "Cell \u001b[0;32mIn[135], line 1\u001b[0m\n\u001b[0;32m----> 1\u001b[0m \u001b[43mlc\u001b[49m\n",
      "\u001b[0;31mNameError\u001b[0m: name 'lc' is not defined"
     ]
    }
   ],
   "source": [
    "lc"
   ]
  },
  {
   "cell_type": "markdown",
   "id": "3052c225",
   "metadata": {},
   "source": [
    "#### calling local variable outside function"
   ]
  },
  {
   "cell_type": "code",
   "execution_count": null,
   "id": "fc7950ee",
   "metadata": {},
   "outputs": [],
   "source": [
    "print(inp)"
   ]
  },
  {
   "cell_type": "markdown",
   "id": "84660bf1",
   "metadata": {},
   "source": [
    "#### calling global variable inside a function"
   ]
  },
  {
   "cell_type": "code",
   "execution_count": null,
   "id": "cba9565b",
   "metadata": {},
   "outputs": [],
   "source": [
    "def foo2():\n",
    "    square = var ** 2\n",
    "    return square"
   ]
  },
  {
   "cell_type": "code",
   "execution_count": null,
   "id": "d5cada1b",
   "metadata": {},
   "outputs": [],
   "source": [
    "foo2()"
   ]
  },
  {
   "cell_type": "markdown",
   "id": "197be538",
   "metadata": {},
   "source": [
    "### local and global variable with same name"
   ]
  },
  {
   "cell_type": "code",
   "execution_count": null,
   "id": "0b95d93c",
   "metadata": {},
   "outputs": [],
   "source": [
    "var = 10 # global variable"
   ]
  },
  {
   "cell_type": "code",
   "execution_count": null,
   "id": "9db06902",
   "metadata": {},
   "outputs": [],
   "source": [
    "def foo3():\n",
    "    var = 50 # local variable\n",
    "    print('inside function var  =', var)"
   ]
  },
  {
   "cell_type": "code",
   "execution_count": null,
   "id": "cedc213a",
   "metadata": {},
   "outputs": [],
   "source": [
    "foo3()\n",
    "print('outside function var =', var)"
   ]
  },
  {
   "cell_type": "markdown",
   "id": "750d301e",
   "metadata": {},
   "source": [
    "### creating or manipulating global variable inside a function"
   ]
  },
  {
   "cell_type": "code",
   "execution_count": null,
   "id": "45f1ac6d",
   "metadata": {},
   "outputs": [],
   "source": [
    "var = 15\n",
    "print('before function call var =', var)\n",
    "\n",
    "def foo4():\n",
    "    global var\n",
    "    var *= 5\n",
    "    print('inside function var  =', var)\n",
    "\n",
    "foo4()\n",
    "print('outside function var =', var)"
   ]
  },
  {
   "cell_type": "markdown",
   "id": "8e7bb5b8",
   "metadata": {},
   "source": [
    "## Generator Functions"
   ]
  },
  {
   "cell_type": "code",
   "execution_count": 136,
   "id": "249165af",
   "metadata": {},
   "outputs": [],
   "source": [
    "def myGenerator():\n",
    "    n = 1\n",
    "    print('First Iteration')\n",
    "    yield 'Number 1 : n = ' + str(n)\n",
    "    \n",
    "    n += 2\n",
    "    print('Second Iteration')\n",
    "    yield 'Number 2 : n = ' + str(n)\n",
    "    \n",
    "    n += 3\n",
    "    print('Third Iteration')\n",
    "    yield 'Number 3 : n = ' + str(n)"
   ]
  },
  {
   "cell_type": "markdown",
   "id": "d2d23dcc",
   "metadata": {},
   "source": [
    "### generator call : way 1"
   ]
  },
  {
   "cell_type": "code",
   "execution_count": 141,
   "id": "a573d0ca",
   "metadata": {},
   "outputs": [],
   "source": [
    "def my_function():\n",
    "    print(\"hello\")"
   ]
  },
  {
   "cell_type": "code",
   "execution_count": 155,
   "id": "af302604",
   "metadata": {},
   "outputs": [],
   "source": [
    "gen = myGenerator()"
   ]
  },
  {
   "cell_type": "code",
   "execution_count": 138,
   "id": "716c0aa7",
   "metadata": {},
   "outputs": [
    {
     "data": {
      "text/plain": [
       "<generator object myGenerator at 0x10d296580>"
      ]
     },
     "execution_count": 138,
     "metadata": {},
     "output_type": "execute_result"
    }
   ],
   "source": [
    "gen"
   ]
  },
  {
   "cell_type": "code",
   "execution_count": 145,
   "id": "183a84a7",
   "metadata": {},
   "outputs": [
    {
     "name": "stdout",
     "output_type": "stream",
     "text": [
      "hello\n"
     ]
    }
   ],
   "source": [
    "test_function = my_function()"
   ]
  },
  {
   "cell_type": "code",
   "execution_count": 147,
   "id": "fa85d67a",
   "metadata": {},
   "outputs": [
    {
     "name": "stdout",
     "output_type": "stream",
     "text": [
      "None\n"
     ]
    }
   ],
   "source": [
    "print(test_function)"
   ]
  },
  {
   "cell_type": "code",
   "execution_count": 139,
   "id": "77475210",
   "metadata": {},
   "outputs": [
    {
     "name": "stdout",
     "output_type": "stream",
     "text": [
      "First Iteration\n",
      "Number 1 : n = 1\n"
     ]
    }
   ],
   "source": [
    "print(next(gen))"
   ]
  },
  {
   "cell_type": "code",
   "execution_count": 140,
   "id": "c381c4c1",
   "metadata": {},
   "outputs": [
    {
     "data": {
      "text/plain": [
       "<generator object myGenerator at 0x10d296580>"
      ]
     },
     "execution_count": 140,
     "metadata": {},
     "output_type": "execute_result"
    }
   ],
   "source": [
    "gen"
   ]
  },
  {
   "cell_type": "code",
   "execution_count": 148,
   "id": "885f4600",
   "metadata": {},
   "outputs": [
    {
     "name": "stdout",
     "output_type": "stream",
     "text": [
      "Second Iteration\n",
      "Number 2 : n = 3\n"
     ]
    }
   ],
   "source": [
    "print(next(gen))"
   ]
  },
  {
   "cell_type": "code",
   "execution_count": 149,
   "id": "9c95b8e0",
   "metadata": {},
   "outputs": [
    {
     "data": {
      "text/plain": [
       "<generator object myGenerator at 0x10d296580>"
      ]
     },
     "execution_count": 149,
     "metadata": {},
     "output_type": "execute_result"
    }
   ],
   "source": [
    "gen"
   ]
  },
  {
   "cell_type": "code",
   "execution_count": 150,
   "id": "c341380c",
   "metadata": {},
   "outputs": [
    {
     "name": "stdout",
     "output_type": "stream",
     "text": [
      "Third Iteration\n",
      "Number 3 : n = 6\n"
     ]
    }
   ],
   "source": [
    "print(next(gen))"
   ]
  },
  {
   "cell_type": "code",
   "execution_count": 151,
   "id": "f588bfbd",
   "metadata": {},
   "outputs": [
    {
     "data": {
      "text/plain": [
       "<generator object myGenerator at 0x10d296580>"
      ]
     },
     "execution_count": 151,
     "metadata": {},
     "output_type": "execute_result"
    }
   ],
   "source": [
    "gen"
   ]
  },
  {
   "cell_type": "code",
   "execution_count": 152,
   "id": "2a935e5c",
   "metadata": {},
   "outputs": [
    {
     "ename": "StopIteration",
     "evalue": "",
     "output_type": "error",
     "traceback": [
      "\u001b[0;31m---------------------------------------------------------------------------\u001b[0m",
      "\u001b[0;31mStopIteration\u001b[0m                             Traceback (most recent call last)",
      "Cell \u001b[0;32mIn[152], line 1\u001b[0m\n\u001b[0;32m----> 1\u001b[0m \u001b[38;5;28mprint\u001b[39m(\u001b[38;5;28;43mnext\u001b[39;49m\u001b[43m(\u001b[49m\u001b[43mgen\u001b[49m\u001b[43m)\u001b[49m)\n",
      "\u001b[0;31mStopIteration\u001b[0m: "
     ]
    }
   ],
   "source": [
    "print(next(gen))"
   ]
  },
  {
   "cell_type": "code",
   "execution_count": 154,
   "id": "3f99bec0",
   "metadata": {},
   "outputs": [],
   "source": [
    "import pandas as pd\n",
    "\n",
    "rows_in_list = []\n",
    "\n",
    "rows_in_list = pd.DataFrame.values #(numpy array)\n",
    "\n",
    "for row in pd.DataFrame.iterrow():\n",
    "    rows_in_list.append(row)\n",
    "\n",
    "# [[row], [row], ]\n",
    "rows_in_list[0]\n",
    "rows_in_list[1]\n",
    "\n",
    "pd.DataFrame().iterrows() # this is a generator function\n",
    "\n",
    "\n",
    "    \n",
    "my_lists = pd.DataFrame(file =\"\").iterrows()[0] # not allowed!\n",
    "for key,value in dict.items()"
   ]
  },
  {
   "cell_type": "markdown",
   "id": "ef2b7e6d",
   "metadata": {},
   "source": [
    "# Try and Except"
   ]
  },
  {
   "cell_type": "code",
   "execution_count": null,
   "id": "a80a52d1",
   "metadata": {},
   "outputs": [],
   "source": [
    "for i in range(0, 1000):\n",
    "    try:\n",
    "        next(gen)\n",
    "    except exception as e:\n",
    "        ipdb.set_trace()"
   ]
  },
  {
   "cell_type": "markdown",
   "id": "241c6aaa",
   "metadata": {},
   "source": [
    "### the next function is called untill all values are yielded."
   ]
  },
  {
   "cell_type": "markdown",
   "id": "dd40e409",
   "metadata": {},
   "source": [
    "### generator call : way 2"
   ]
  },
  {
   "cell_type": "code",
   "execution_count": 156,
   "id": "0c36d08b",
   "metadata": {},
   "outputs": [
    {
     "name": "stdout",
     "output_type": "stream",
     "text": [
      "First Iteration\n",
      "Number 1 : n = 1 \n",
      "\n",
      "Second Iteration\n",
      "Number 2 : n = 3 \n",
      "\n",
      "Third Iteration\n",
      "Number 3 : n = 6 \n",
      "\n"
     ]
    }
   ],
   "source": [
    "gen = myGenerator()\n",
    "for value in gen:\n",
    "    print(value, '\\n')"
   ]
  },
  {
   "cell_type": "markdown",
   "id": "c6822ac4",
   "metadata": {},
   "source": [
    "## built in functions"
   ]
  },
  {
   "cell_type": "code",
   "execution_count": null,
   "id": "9dca7502",
   "metadata": {},
   "outputs": [],
   "source": [
    "print(dir(__builtins__))"
   ]
  },
  {
   "cell_type": "markdown",
   "id": "dad5a2ba",
   "metadata": {},
   "source": [
    "## map function"
   ]
  },
  {
   "cell_type": "code",
   "execution_count": null,
   "id": "ba432bb9",
   "metadata": {},
   "outputs": [],
   "source": [
    "temp = [22.0, 45.3, 35.4, 40.0, 44.7, 21.5]\n",
    "for T in temp:\n",
    "    f = ((9/5) * T) + 32\n",
    "    print('{:5.1f} in degree C is equivalent to {:6.1f} in degree F.'.format(T,f))"
   ]
  },
  {
   "cell_type": "code",
   "execution_count": null,
   "id": "cb7bfd1c",
   "metadata": {},
   "outputs": [],
   "source": [
    "def Fahrenhite(T):\n",
    "    return round(((9/5) * T) + 32, 1)"
   ]
  },
  {
   "cell_type": "code",
   "execution_count": null,
   "id": "31bd5c17",
   "metadata": {},
   "outputs": [],
   "source": [
    "results = list(map(Fahrenhite, temp))\n",
    "print('Temp in deg C ', temp)\n",
    "print('Temp in deg F ', results)"
   ]
  },
  {
   "cell_type": "markdown",
   "id": "0a7c9c55",
   "metadata": {},
   "source": [
    "### using lambda function"
   ]
  },
  {
   "cell_type": "code",
   "execution_count": null,
   "id": "39edc980",
   "metadata": {},
   "outputs": [],
   "source": [
    "results = list(map(lambda T: round(((9/5) * T) + 32, 1), temp))\n",
    "print('Temp in deg C ', temp)\n",
    "print('Temp in deg F ', results)"
   ]
  },
  {
   "cell_type": "markdown",
   "id": "268506e3",
   "metadata": {},
   "source": [
    "## filter function"
   ]
  },
  {
   "cell_type": "code",
   "execution_count": null,
   "id": "770f7ab1",
   "metadata": {},
   "outputs": [],
   "source": [
    "numbers = [32, 45, 62, 21, 55, 91, 88, 17 ]\n",
    "odd_numbers = []\n",
    "for n in numbers:\n",
    "    if n % 2 :\n",
    "        odd_numbers.append(n)\n",
    "print(odd_numbers)"
   ]
  },
  {
   "cell_type": "code",
   "execution_count": null,
   "id": "9bb19105",
   "metadata": {},
   "outputs": [],
   "source": [
    "numbers = [32, 45, 62, 21, 55, 91, 88, 17 ]\n",
    "odd_numbers = list(filter ( lambda n : n % 2, numbers))\n",
    "print(odd_numbers)"
   ]
  },
  {
   "cell_type": "markdown",
   "id": "2407bc73",
   "metadata": {},
   "source": [
    "## reduce function"
   ]
  },
  {
   "cell_type": "code",
   "execution_count": null,
   "id": "f96d9e4b",
   "metadata": {},
   "outputs": [],
   "source": [
    "numbers = [2,4,6,8,10,12]\n",
    "tot = 0\n",
    "for n in numbers:\n",
    "    tot += n\n",
    "print('Total :', tot)"
   ]
  },
  {
   "cell_type": "code",
   "execution_count": null,
   "id": "0a4f44fc",
   "metadata": {},
   "outputs": [],
   "source": [
    "from _functools import reduce\n",
    "numbers = [2,4,6,8,10,12]\n",
    "result = reduce(lambda x , y : x + y, numbers)\n",
    "print('Total = ', result)"
   ]
  },
  {
   "cell_type": "code",
   "execution_count": null,
   "id": "960e4059",
   "metadata": {},
   "outputs": [],
   "source": []
  }
 ],
 "metadata": {
  "kernelspec": {
   "display_name": "Python 3 (ipykernel)",
   "language": "python",
   "name": "python3"
  },
  "language_info": {
   "codemirror_mode": {
    "name": "ipython",
    "version": 3
   },
   "file_extension": ".py",
   "mimetype": "text/x-python",
   "name": "python",
   "nbconvert_exporter": "python",
   "pygments_lexer": "ipython3",
   "version": "3.9.6"
  }
 },
 "nbformat": 4,
 "nbformat_minor": 5
}
