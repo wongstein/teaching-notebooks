{
 "cells": [
  {
   "cell_type": "markdown",
   "metadata": {
    "id": "eQmpPfZxYHKE"
   },
   "source": [
    "## __Common Mathematical and Statistical Function in Numpy__\n",
    "## Step 1: Import the NumPy Library and Create an Array\n"
   ]
  },
  {
   "cell_type": "code",
   "execution_count": null,
   "metadata": {
    "id": "hWki15qVMC8e"
   },
   "outputs": [],
   "source": [
    "import numpy as np"
   ]
  },
  {
   "cell_type": "markdown",
   "metadata": {
    "id": "ItCoUwm-29iP"
   },
   "source": [
    "Create a 2D array:"
   ]
  },
  {
   "cell_type": "code",
   "execution_count": null,
   "metadata": {
    "id": "qfQXVtYWMC8f"
   },
   "outputs": [],
   "source": [
    "arr = np.array([[4,3,2],[10,1,0],[5,8,24]])"
   ]
  },
  {
   "cell_type": "markdown",
   "metadata": {
    "id": "LMZ8_Q3U3EAd"
   },
   "source": [
    "Display the array using its variable name:"
   ]
  },
  {
   "cell_type": "code",
   "execution_count": null,
   "metadata": {
    "colab": {
     "base_uri": "https://localhost:8080/"
    },
    "executionInfo": {
     "elapsed": 6,
     "status": "ok",
     "timestamp": 1682233613766,
     "user": {
      "displayName": "Vikas Singh",
      "userId": "04375885343580620832"
     },
     "user_tz": -330
    },
    "id": "UPVX8WH5MC8g",
    "outputId": "1d6f3a0f-8241-414d-d8f4-4c1876b5f7ae"
   },
   "outputs": [
    {
     "data": {
      "text/plain": [
       "array([[ 4,  3,  2],\n",
       "       [10,  1,  0],\n",
       "       [ 5,  8, 24]])"
      ]
     },
     "execution_count": 4,
     "metadata": {},
     "output_type": "execute_result"
    }
   ],
   "source": [
    "arr"
   ]
  },
  {
   "cell_type": "markdown",
   "metadata": {
    "id": "4tskNlo7aUQn"
   },
   "source": [
    "## Step 2: Minimum and Maximum Values in an Array\n",
    "- Use the `np.amin()` function to find the minimum value in an array\n",
    "- Use the `np.amax()` function to find the maximum value in an array\n",
    "\n",
    "Now, let's determine the minimum value in the array:"
   ]
  },
  {
   "cell_type": "code",
   "execution_count": null,
   "metadata": {
    "colab": {
     "base_uri": "https://localhost:8080/"
    },
    "executionInfo": {
     "elapsed": 5,
     "status": "ok",
     "timestamp": 1682233704004,
     "user": {
      "displayName": "Vikas Singh",
      "userId": "04375885343580620832"
     },
     "user_tz": -330
    },
    "id": "v3nc10w58Qrq",
    "outputId": "1067ed59-2ced-438c-e2b8-b7ac4f6bc243"
   },
   "outputs": [
    {
     "data": {
      "text/plain": [
       "0"
      ]
     },
     "execution_count": 5,
     "metadata": {},
     "output_type": "execute_result"
    }
   ],
   "source": [
    "np.amin(arr)"
   ]
  },
  {
   "cell_type": "markdown",
   "metadata": {
    "id": "9TvpXMGb8XTG"
   },
   "source": [
    "Now, calculate the minimum values in the array along the vertical axis:"
   ]
  },
  {
   "cell_type": "code",
   "execution_count": null,
   "metadata": {
    "colab": {
     "base_uri": "https://localhost:8080/"
    },
    "executionInfo": {
     "elapsed": 478,
     "status": "ok",
     "timestamp": 1682234446539,
     "user": {
      "displayName": "Vikas Singh",
      "userId": "04375885343580620832"
     },
     "user_tz": -330
    },
    "id": "bNZ7TWguMC8i",
    "outputId": "8cf7ebc4-0039-4fc2-a8d3-f67fa5100482"
   },
   "outputs": [
    {
     "data": {
      "text/plain": [
       "array([4, 1, 0])"
      ]
     },
     "execution_count": 7,
     "metadata": {},
     "output_type": "execute_result"
    }
   ],
   "source": [
    "np.amin(arr,axis=0)"
   ]
  },
  {
   "cell_type": "markdown",
   "metadata": {
    "id": "a7UNfZyZ98u3"
   },
   "source": [
    "**Observation:**\n",
    "- `axis=0` gives you the minimum values in along the vertical axis as shown above."
   ]
  },
  {
   "cell_type": "markdown",
   "metadata": {
    "id": "xvmiQQLm-6qi"
   },
   "source": [
    "Then, calculate the minimum values in the array along the horizontal axis:"
   ]
  },
  {
   "cell_type": "code",
   "execution_count": null,
   "metadata": {
    "colab": {
     "base_uri": "https://localhost:8080/"
    },
    "executionInfo": {
     "elapsed": 837,
     "status": "ok",
     "timestamp": 1682234426320,
     "user": {
      "displayName": "Vikas Singh",
      "userId": "04375885343580620832"
     },
     "user_tz": -330
    },
    "id": "jb8I7QZtMC8j",
    "outputId": "cc53b34c-afe3-4ef2-f772-da45816a06bc"
   },
   "outputs": [
    {
     "data": {
      "text/plain": [
       "array([2, 0, 5])"
      ]
     },
     "execution_count": 6,
     "metadata": {},
     "output_type": "execute_result"
    }
   ],
   "source": [
    "np.amin(arr,axis=1)"
   ]
  },
  {
   "cell_type": "markdown",
   "metadata": {
    "id": "WNtSdpqT_gnw"
   },
   "source": [
    "**Observation:**\n",
    "- `axis=1` gives you the minimum values along the horizontal axis as shown above."
   ]
  },
  {
   "cell_type": "markdown",
   "metadata": {
    "id": "lRgimi1uASC6"
   },
   "source": [
    "Now, calculate the maximum value of the array using `np.max()`"
   ]
  },
  {
   "cell_type": "code",
   "execution_count": null,
   "metadata": {
    "colab": {
     "base_uri": "https://localhost:8080/"
    },
    "executionInfo": {
     "elapsed": 5,
     "status": "ok",
     "timestamp": 1682234689906,
     "user": {
      "displayName": "Vikas Singh",
      "userId": "04375885343580620832"
     },
     "user_tz": -330
    },
    "id": "72b8KMycMC8j",
    "outputId": "aa23f8f7-1448-4367-acba-4c4eceb51d75"
   },
   "outputs": [
    {
     "data": {
      "text/plain": [
       "24"
      ]
     },
     "execution_count": 9,
     "metadata": {},
     "output_type": "execute_result"
    }
   ],
   "source": [
    "np.max(arr)"
   ]
  },
  {
   "cell_type": "markdown",
   "metadata": {
    "id": "Pj5HlmKLAh82"
   },
   "source": [
    "Now, let's calculate the maximum values of the array along the vertical and horizontal axes using `np.amax()` with axis parameter:\n",
    "- The same pattern of choosing values in horizonatal and vertical axes has been followed."
   ]
  },
  {
   "cell_type": "code",
   "execution_count": null,
   "metadata": {
    "id": "cLdcMAadMC8k",
    "outputId": "38dabffb-8463-4a42-806b-ea18adb89b67"
   },
   "outputs": [
    {
     "data": {
      "text/plain": [
       "array([10,  8, 24])"
      ]
     },
     "execution_count": 8,
     "metadata": {},
     "output_type": "execute_result"
    }
   ],
   "source": [
    "np.amax(arr,axis=0)"
   ]
  },
  {
   "cell_type": "code",
   "execution_count": null,
   "metadata": {
    "id": "ex9DWBobMC8k",
    "outputId": "c091a777-549e-4d71-a84f-6fb459fc6631"
   },
   "outputs": [
    {
     "data": {
      "text/plain": [
       "array([ 4, 10, 24])"
      ]
     },
     "execution_count": 9,
     "metadata": {},
     "output_type": "execute_result"
    }
   ],
   "source": [
    "np.amax(arr,axis=1)"
   ]
  },
  {
   "cell_type": "markdown",
   "metadata": {
    "id": "rD2RMpNsbPi9"
   },
   "source": [
    "## Step 3: Compute Median, Mean, Standard Deviation and Variance in the Array\n",
    "\n",
    "Here, we will start by calculating the median of the NumPy array."
   ]
  },
  {
   "cell_type": "code",
   "execution_count": null,
   "metadata": {
    "colab": {
     "base_uri": "https://localhost:8080/"
    },
    "executionInfo": {
     "elapsed": 7,
     "status": "ok",
     "timestamp": 1682235097879,
     "user": {
      "displayName": "Vikas Singh",
      "userId": "04375885343580620832"
     },
     "user_tz": -330
    },
    "id": "fJLbQ0lWMC8l",
    "outputId": "49d94165-e893-4658-831e-4e291c5206b7"
   },
   "outputs": [
    {
     "data": {
      "text/plain": [
       "4.0"
      ]
     },
     "execution_count": 10,
     "metadata": {},
     "output_type": "execute_result"
    }
   ],
   "source": [
    "np.median(arr)"
   ]
  },
  {
   "cell_type": "markdown",
   "metadata": {
    "id": "4coC8DBIHOz9"
   },
   "source": [
    "Then, calculate the mean of the NumPy array:"
   ]
  },
  {
   "cell_type": "code",
   "execution_count": null,
   "metadata": {
    "id": "BH4jnJsDMC8l",
    "outputId": "7da8e4e9-bb2a-4509-ac49-71c576e700d8"
   },
   "outputs": [
    {
     "data": {
      "text/plain": [
       "-2.7925"
      ]
     },
     "execution_count": 24,
     "metadata": {},
     "output_type": "execute_result"
    }
   ],
   "source": [
    "np.mean(arr)"
   ]
  },
  {
   "cell_type": "markdown",
   "metadata": {
    "id": "-afjYf5eHSFL"
   },
   "source": [
    "Then, calculate the standard deviation of the NumPy array:"
   ]
  },
  {
   "cell_type": "code",
   "execution_count": null,
   "metadata": {
    "id": "079bwuIFMC8l",
    "outputId": "40b04086-df3c-4aff-a53c-8c29dd40a312"
   },
   "outputs": [
    {
     "data": {
      "text/plain": [
       "6.944222218666553"
      ]
     },
     "execution_count": 12,
     "metadata": {},
     "output_type": "execute_result"
    }
   ],
   "source": [
    "np.std(arr)"
   ]
  },
  {
   "cell_type": "markdown",
   "metadata": {
    "id": "ST8T672ZHWcW"
   },
   "source": [
    "Then, calculate the variance of the NumPy array:"
   ]
  },
  {
   "cell_type": "code",
   "execution_count": null,
   "metadata": {
    "id": "0cssPhvAMC8m",
    "outputId": "3312bbc8-8cf3-41e7-8368-8ea853befa62"
   },
   "outputs": [
    {
     "data": {
      "text/plain": [
       "48.22222222222222"
      ]
     },
     "execution_count": 13,
     "metadata": {},
     "output_type": "execute_result"
    }
   ],
   "source": [
    "np.var(arr)"
   ]
  },
  {
   "cell_type": "markdown",
   "metadata": {
    "id": "vC2vpeczbfC9"
   },
   "source": [
    "## Step 4: Calculate Percentiles\n",
    "- The `np.percentile()` function is used to compute the nth percentile of the array elements.\n",
    "\n",
    "- The nth percentile value should be in between 0 and 100.\n",
    "\n",
    "Find the value under the 50th percentile of the NumPy array.\n",
    "\n"
   ]
  },
  {
   "cell_type": "code",
   "execution_count": null,
   "metadata": {
    "id": "1WnHsEZ2MC8m",
    "outputId": "bf7eb992-f439-46f2-d0b5-3251063f3b9b"
   },
   "outputs": [
    {
     "data": {
      "text/plain": [
       "4.0"
      ]
     },
     "execution_count": 14,
     "metadata": {},
     "output_type": "execute_result"
    }
   ],
   "source": [
    "np.percentile(arr,50)"
   ]
  },
  {
   "cell_type": "markdown",
   "metadata": {
    "id": "bMQBsqMSbpvE"
   },
   "source": [
    "## Step 5: Trigonometric Functions\n",
    "\n",
    "Now, we will learn to execute the trigonometric functions.\n",
    "\n",
    "- Compute sine, cosine and tangent of the NumPy array using `np.sin()`, `np.cos()`, and `np.tan()` respectively\n"
   ]
  },
  {
   "cell_type": "markdown",
   "metadata": {
    "id": "XvW6R2yjIVIW"
   },
   "source": [
    "Let's create an array of degree values using `np.array()`:"
   ]
  },
  {
   "cell_type": "code",
   "execution_count": null,
   "metadata": {
    "id": "63USp_huMC8m"
   },
   "outputs": [],
   "source": [
    "deg = np.array([0,30,45,60,90])"
   ]
  },
  {
   "cell_type": "markdown",
   "metadata": {
    "id": "uCtS9KAHIiI6"
   },
   "source": [
    "Then, convert the degrees to radians by multiplying the values with pi/180 and then find the sine value using the sine function:"
   ]
  },
  {
   "cell_type": "code",
   "execution_count": null,
   "metadata": {
    "id": "QY9DWGV2MC8m",
    "outputId": "ed8f061f-711c-46cd-adf7-cf7444fe7ac1"
   },
   "outputs": [
    {
     "data": {
      "text/plain": [
       "array([0.        , 0.5       , 0.70710678, 0.8660254 , 1.        ])"
      ]
     },
     "execution_count": 16,
     "metadata": {},
     "output_type": "execute_result"
    }
   ],
   "source": [
    "np.sin(deg*np.pi/180)"
   ]
  },
  {
   "cell_type": "markdown",
   "metadata": {
    "id": "Nr8srZV1J7P-"
   },
   "source": [
    "Then, convert the degrees to radians by multiplying the values with pi/180 and then find the cosine value using the cosine function:"
   ]
  },
  {
   "cell_type": "code",
   "execution_count": null,
   "metadata": {
    "id": "_cMnFrWLMC8n",
    "outputId": "970ecbb5-9d0d-4db4-bbf8-5b7fd02de5f1"
   },
   "outputs": [
    {
     "data": {
      "text/plain": [
       "array([1.00000000e+00, 8.66025404e-01, 7.07106781e-01, 5.00000000e-01,\n",
       "       6.12323400e-17])"
      ]
     },
     "execution_count": 17,
     "metadata": {},
     "output_type": "execute_result"
    }
   ],
   "source": [
    "np.cos(deg*np.pi/180)"
   ]
  },
  {
   "cell_type": "markdown",
   "metadata": {
    "id": "IrurhhN2KT_f"
   },
   "source": [
    "Now, convert the degrees to radians by multiplying the values with pi/180 and then find the tangent value using the tangent function:"
   ]
  },
  {
   "cell_type": "code",
   "execution_count": null,
   "metadata": {
    "id": "IZWMV01uMC8n",
    "outputId": "cce617bc-1b53-4b72-c037-40b3d60a9852"
   },
   "outputs": [
    {
     "data": {
      "text/plain": [
       "array([0.00000000e+00, 5.77350269e-01, 1.00000000e+00, 1.73205081e+00,\n",
       "       1.63312394e+16])"
      ]
     },
     "execution_count": 18,
     "metadata": {},
     "output_type": "execute_result"
    }
   ],
   "source": [
    "np.tan(deg*np.pi/180)"
   ]
  },
  {
   "cell_type": "markdown",
   "metadata": {
    "id": "dPd0ue_dMC8n"
   },
   "source": [
    "You can also work with inverse trigonometric functions, such as:\n",
    "- arcsin\n",
    "- arccos\n",
    "- arctan\n"
   ]
  },
  {
   "cell_type": "markdown",
   "metadata": {
    "id": "EWvClLIosPso"
   },
   "source": [
    "## Step 6: Floor and Ceil Functions\n",
    "\n",
    "Here, we will calculate the floor and ceil values.\n",
    "\n",
    "1. Floor: Round down\n",
    "2. Ceil: Round up\n"
   ]
  },
  {
   "cell_type": "markdown",
   "metadata": {
    "id": "46sZ_2y7NvmV"
   },
   "source": [
    "Let's create a NumPy array:"
   ]
  },
  {
   "cell_type": "code",
   "execution_count": null,
   "metadata": {
    "id": "vItaxxGAMC8n"
   },
   "outputs": [],
   "source": [
    "arr = np.array([0.1,0.8,-2.2,-9.87])"
   ]
  },
  {
   "cell_type": "markdown",
   "metadata": {
    "id": "IKMq9NYjN21U"
   },
   "source": [
    "Then, calculate the floor values of the NumPy array:"
   ]
  },
  {
   "cell_type": "code",
   "execution_count": null,
   "metadata": {
    "id": "-7Eo-0t5MC8o",
    "outputId": "c121ffb4-623d-422a-d099-8f67fd531d4a"
   },
   "outputs": [
    {
     "data": {
      "text/plain": [
       "array([  0.,   0.,  -3., -10.])"
      ]
     },
     "execution_count": 21,
     "metadata": {},
     "output_type": "execute_result"
    }
   ],
   "source": [
    "np.floor(arr)"
   ]
  },
  {
   "cell_type": "markdown",
   "metadata": {
    "id": "1hVs6lv7N9Cd"
   },
   "source": [
    "Finally, let's calculate the ceil values of the NumPy array:"
   ]
  },
  {
   "cell_type": "code",
   "execution_count": null,
   "metadata": {
    "id": "1wLmOx1oMC8o",
    "outputId": "a410dca7-85fa-421f-8de4-26db2959ff6d"
   },
   "outputs": [
    {
     "data": {
      "text/plain": [
       "array([ 1.,  1., -2., -9.])"
      ]
     },
     "execution_count": 22,
     "metadata": {},
     "output_type": "execute_result"
    }
   ],
   "source": [
    "np.ceil(arr)"
   ]
  }
 ],
 "metadata": {
  "colab": {
   "provenance": []
  },
  "kernelspec": {
   "display_name": "Python 3 (ipykernel)",
   "language": "python",
   "name": "python3"
  },
  "language_info": {
   "codemirror_mode": {
    "name": "ipython",
    "version": 3
   },
   "file_extension": ".py",
   "mimetype": "text/x-python",
   "name": "python",
   "nbconvert_exporter": "python",
   "pygments_lexer": "ipython3",
   "version": "3.11.5"
  }
 },
 "nbformat": 4,
 "nbformat_minor": 4
}
