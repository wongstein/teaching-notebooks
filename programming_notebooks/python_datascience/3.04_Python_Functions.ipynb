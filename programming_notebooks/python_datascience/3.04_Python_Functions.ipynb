{
 "cells": [
  {
   "cell_type": "markdown",
   "metadata": {
    "id": "BlLSAta8NNrL"
   },
   "source": [
    "## __Python Functions__\n",
    "\n",
    "A Python function is a block of reusable, organized code that performs a specific task. It offers better modularity for the application and a high level of code reuse.\n",
    "\n"
   ]
  },
  {
   "cell_type": "markdown",
   "metadata": {
    "id": "ePiPYO7QvkBA"
   },
   "source": [
    "\n",
    "## Step 1: Define Empty Functions \n",
    "\n",
    "- Python functions are defined using the “def” keyword followed by the function name with brackets and a semicolon. \n",
    "- When we press enter, it creates four blocks or four-wide spaces. This is Python's way of indicating that it's a separate block of code.\n",
    " "
   ]
  },
  {
   "cell_type": "code",
   "execution_count": null,
   "metadata": {
    "id": "ZdoxavoGCnCd"
   },
   "outputs": [],
   "source": [
    "def function_name():\n",
    "    '''\n",
    "    '''"
   ]
  },
  {
   "cell_type": "markdown",
   "metadata": {
    "id": "dbr5RRgKNcD6"
   },
   "source": [
    "## Step 2: Define and Call the HelloWorld() Function\n",
    "Let's create a function to print \"Hello World\".\n",
    "\n",
    "- Use the keyword 'def' followed by \"HelloWorld\" with the brackets and a colon\n",
    "- Use the 'print()' function to print \" Hello world\"\n",
    "\n",
    "\n"
   ]
  },
  {
   "cell_type": "code",
   "execution_count": null,
   "metadata": {
    "id": "leXcQnbee89q"
   },
   "outputs": [],
   "source": [
    "def HelloWorld():\n",
    "  print('Hello world')"
   ]
  },
  {
   "cell_type": "markdown",
   "metadata": {
    "id": "YhWL8qafhmx_"
   },
   "source": [
    "Once the function is defined, call the function for execution."
   ]
  },
  {
   "cell_type": "code",
   "execution_count": null,
   "metadata": {
    "colab": {
     "base_uri": "https://localhost:8080/"
    },
    "executionInfo": {
     "elapsed": 5,
     "status": "ok",
     "timestamp": 1683192821626,
     "user": {
      "displayName": "IFFATH ZAKIR",
      "userId": "08841559175934332701"
     },
     "user_tz": -330
    },
    "id": "82fKoM1-hztQ",
    "outputId": "12c13eca-9b75-4fb6-85a7-be754fb9980f"
   },
   "outputs": [
    {
     "name": "stdout",
     "output_type": "stream",
     "text": [
      "Hello world\n"
     ]
    }
   ],
   "source": [
    "HelloWorld()"
   ]
  },
  {
   "cell_type": "markdown",
   "metadata": {
    "id": "6YPwMlEBiJDp"
   },
   "source": [
    "\n",
    "\n",
    "__Observation__ \n",
    "- In order to call the function, we use the function name \"HelloWorld()\" and execute it. It prints \"Hello World\". \n",
    "- Notice that once we call the function \"HelloWorld()\", it goes into the function definition and executes it.\n"
   ]
  },
  {
   "cell_type": "markdown",
   "metadata": {
    "id": "MEA1EIBOiopP"
   },
   "source": [
    "Let’s modify this to 'Hello world, welcome to the company' and re-execute it.\n"
   ]
  },
  {
   "cell_type": "code",
   "execution_count": null,
   "metadata": {
    "id": "IZJZivpkCnCe"
   },
   "outputs": [],
   "source": [
    "def HelloWorld():\n",
    "    print('Hello world, welcome to the company')"
   ]
  },
  {
   "cell_type": "code",
   "execution_count": null,
   "metadata": {
    "colab": {
     "base_uri": "https://localhost:8080/"
    },
    "executionInfo": {
     "elapsed": 3,
     "status": "ok",
     "timestamp": 1683193404705,
     "user": {
      "displayName": "IFFATH ZAKIR",
      "userId": "08841559175934332701"
     },
     "user_tz": -330
    },
    "id": "xVhlRcUkCnCf",
    "outputId": "0391869a-2e1c-461b-b98b-d0473fa699bb"
   },
   "outputs": [
    {
     "name": "stdout",
     "output_type": "stream",
     "text": [
      "Hello world, welcome to the company\n"
     ]
    }
   ],
   "source": [
    "HelloWorld()"
   ]
  },
  {
   "cell_type": "markdown",
   "metadata": {
    "id": "PCeV4SyXjpjl"
   },
   "source": [
    "__Observation__\n",
    "\n",
    "- We can see that the output has changed. \n",
    "\n",
    "- Note that there are no parameters included."
   ]
  },
  {
   "cell_type": "markdown",
   "metadata": {
    "id": "MQQU-KiONgUI"
   },
   "source": [
    "## Step 3: Types of Functions\n",
    "\n",
    "- User-defined functions: We can create our own functions based on our requirements.\n",
    "- Built-in functions: These are standard functions available in Python.\n",
    "\n",
    "\n",
    "\n"
   ]
  },
  {
   "cell_type": "markdown",
   "metadata": {
    "id": "g1sjUqu5NgEZ"
   },
   "source": [
    "## Example of a Built-In Function\n",
    "- The built-in sum function in Python accepts an iterable, such as a list, tuple, dictionary or set, as an argument, adds the iterable's elements and then returns the sum. "
   ]
  },
  {
   "cell_type": "code",
   "execution_count": null,
   "metadata": {
    "id": "8suXxpB5NlM5"
   },
   "outputs": [],
   "source": [
    "a = (4,5)\n",
    "x = sum(a)\n",
    "print(x)\n"
   ]
  },
  {
   "cell_type": "markdown",
   "metadata": {
    "id": "1WnnxwIDT2nu"
   },
   "source": [
    "__Observation__\n",
    "\n",
    "- The above code prints the value 9."
   ]
  },
  {
   "cell_type": "markdown",
   "metadata": {
    "id": "y-8i1_RgLB3p"
   },
   "source": [
    "## Example of a User-Defined Function\n",
    "- Let's write a small function to add two numbers x and y.\n",
    "- This returns x+y.\n",
    "\n",
    "\n",
    "\n"
   ]
  },
  {
   "cell_type": "code",
   "execution_count": null,
   "metadata": {
    "id": "eoe23tYPCnCf"
   },
   "outputs": [],
   "source": [
    "def add(x,y):\n",
    "    return x+y"
   ]
  },
  {
   "cell_type": "markdown",
   "metadata": {
    "id": "3gX56WTRlEdl"
   },
   "source": [
    "__Observation__ \n",
    "- x and y are the parameters.\n",
    "- The 'return' keyword is used to return the result."
   ]
  },
  {
   "cell_type": "markdown",
   "metadata": {
    "id": "VOtYi7gjlgf4"
   },
   "source": [
    "## Step 4: Parameters and Arguments\n",
    "\n",
    "- A parameter is a variable that is specified in the function definition inside parentheses.\n",
    "- The value passed to a function when it is called is known as an argument."
   ]
  },
  {
   "cell_type": "code",
   "execution_count": null,
   "metadata": {
    "colab": {
     "base_uri": "https://localhost:8080/"
    },
    "executionInfo": {
     "elapsed": 462,
     "status": "ok",
     "timestamp": 1682332581798,
     "user": {
      "displayName": "Prerna Karn",
      "userId": "16431587453626938972"
     },
     "user_tz": -330
    },
    "id": "j8u10TAtCnCg",
    "outputId": "461ba01a-3057-4667-8e9a-b4830d322a2d"
   },
   "outputs": [
    {
     "data": {
      "text/plain": [
       "9"
      ]
     },
     "execution_count": 13,
     "metadata": {},
     "output_type": "execute_result"
    }
   ],
   "source": [
    "add(5, 4) "
   ]
  },
  {
   "cell_type": "markdown",
   "metadata": {
    "id": "Ofvt_Sn7M77t"
   },
   "source": [
    "If we execute the above code, it returns the value 9."
   ]
  },
  {
   "cell_type": "markdown",
   "metadata": {
    "id": "JYG9aRIeNnyJ"
   },
   "source": [
    "## Step 5: Check the Type of the 'HelloWorld' Function and 'None' Function\n",
    "\n",
    "- Use the 'type' function to determine the type of the 'HelloWorld' function\n",
    "- Use the 'type' function to determine the type of the 'None' function\n"
   ]
  },
  {
   "cell_type": "code",
   "execution_count": null,
   "metadata": {
    "colab": {
     "base_uri": "https://localhost:8080/"
    },
    "executionInfo": {
     "elapsed": 604,
     "status": "ok",
     "timestamp": 1683197027898,
     "user": {
      "displayName": "IFFATH ZAKIR",
      "userId": "08841559175934332701"
     },
     "user_tz": -330
    },
    "id": "1QE5CTURCnCg",
    "outputId": "f80d0ea9-da95-400d-bbc8-4cf8645196cc"
   },
   "outputs": [
    {
     "data": {
      "text/plain": [
       "function"
      ]
     },
     "execution_count": 19,
     "metadata": {},
     "output_type": "execute_result"
    }
   ],
   "source": [
    "type(HelloWorld)"
   ]
  },
  {
   "cell_type": "code",
   "execution_count": null,
   "metadata": {
    "colab": {
     "base_uri": "https://localhost:8080/"
    },
    "executionInfo": {
     "elapsed": 410,
     "status": "ok",
     "timestamp": 1682332609086,
     "user": {
      "displayName": "Prerna Karn",
      "userId": "16431587453626938972"
     },
     "user_tz": -330
    },
    "id": "krLQ5hf0CnCg",
    "outputId": "2a5eccf9-c793-47d0-cce2-adccae43f16b"
   },
   "outputs": [
    {
     "data": {
      "text/plain": [
       "NoneType"
      ]
     },
     "execution_count": 15,
     "metadata": {},
     "output_type": "execute_result"
    }
   ],
   "source": [
    "type(None)"
   ]
  },
  {
   "cell_type": "markdown",
   "metadata": {
    "id": "vbEwSOOImdTP"
   },
   "source": [
    "'HelloWorld' returns 'function' as the type, and 'None' is a special function in Python that represents the absence of a value."
   ]
  }
 ],
 "metadata": {
  "colab": {
   "collapsed_sections": [
    "BlLSAta8NNrL",
    "MQQU-KiONgUI"
   ],
   "provenance": []
  },
  "kernelspec": {
   "display_name": "Python 3 (ipykernel)",
   "language": "python",
   "name": "python3"
  },
  "language_info": {
   "codemirror_mode": {
    "name": "ipython",
    "version": 3
   },
   "file_extension": ".py",
   "mimetype": "text/x-python",
   "name": "python",
   "nbconvert_exporter": "python",
   "pygments_lexer": "ipython3",
   "version": "3.11.5"
  }
 },
 "nbformat": 4,
 "nbformat_minor": 4
}
