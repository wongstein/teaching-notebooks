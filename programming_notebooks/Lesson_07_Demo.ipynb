{
 "cells": [
  {
   "cell_type": "markdown",
   "id": "3e14beac",
   "metadata": {},
   "source": [
    "# Clasess & Objects"
   ]
  },
  {
   "cell_type": "code",
   "execution_count": 6,
   "id": "0f60fc25",
   "metadata": {},
   "outputs": [],
   "source": [
    "class demo:\n",
    "    pass"
   ]
  },
  {
   "cell_type": "code",
   "execution_count": 7,
   "id": "9d317429",
   "metadata": {
    "scrolled": true
   },
   "outputs": [
    {
     "name": "stdout",
     "output_type": "stream",
     "text": [
      "<class '__main__.demo'>\n"
     ]
    }
   ],
   "source": [
    "print(demo)"
   ]
  },
  {
   "cell_type": "code",
   "execution_count": 9,
   "id": "cc29a686",
   "metadata": {},
   "outputs": [],
   "source": [
    "obj = demo()"
   ]
  },
  {
   "cell_type": "code",
   "execution_count": 10,
   "id": "ace211e2",
   "metadata": {},
   "outputs": [
    {
     "name": "stdout",
     "output_type": "stream",
     "text": [
      "<__main__.demo object at 0x1060c2100>\n"
     ]
    }
   ],
   "source": [
    "print(obj)"
   ]
  },
  {
   "cell_type": "code",
   "execution_count": 11,
   "id": "c1458534",
   "metadata": {},
   "outputs": [
    {
     "name": "stdout",
     "output_type": "stream",
     "text": [
      "Help on demo in module __main__ object:\n",
      "\n",
      "class demo(builtins.object)\n",
      " |  Data descriptors defined here:\n",
      " |  \n",
      " |  __dict__\n",
      " |      dictionary for instance variables (if defined)\n",
      " |  \n",
      " |  __weakref__\n",
      " |      list of weak references to the object (if defined)\n",
      "\n"
     ]
    }
   ],
   "source": [
    "help(obj)"
   ]
  },
  {
   "cell_type": "markdown",
   "id": "365057bf",
   "metadata": {},
   "source": [
    "## Attributes & Methods"
   ]
  },
  {
   "cell_type": "code",
   "execution_count": 33,
   "id": "7d798fae",
   "metadata": {},
   "outputs": [],
   "source": [
    "class Health:\n",
    "    '''This is class \"Health\" with information and functions related with our health. '''\n",
    "    # __init__ function\n",
    "    \n",
    "    ## Self doesn't need to be self, it can be whatever you want\n",
    "    # overwriting the python base object __init__ function.\n",
    "    def __init__(self, name, age, loc): \n",
    "        '''\n",
    "        Initialization of Health class.\n",
    "        '''\n",
    "        self.name = name\n",
    "        self.age = age\n",
    "        self.location = loc\n",
    "        \n",
    "    # another method to display data \n",
    "    def print_info(self):\n",
    "        print('Individual Helath Information :')\n",
    "        print('Name     : ', self.name)\n",
    "        print('Age      : ', self.age)\n",
    "        print('Location : ', self.location)"
   ]
  },
  {
   "cell_type": "code",
   "execution_count": 35,
   "id": "6d49da1a",
   "metadata": {},
   "outputs": [],
   "source": [
    "h1 = Health('John Davis', 54, 'Texas')"
   ]
  },
  {
   "cell_type": "code",
   "execution_count": 36,
   "id": "a2910dd8",
   "metadata": {},
   "outputs": [
    {
     "name": "stdout",
     "output_type": "stream",
     "text": [
      "<__main__.Health object at 0x1061d0700>\n"
     ]
    }
   ],
   "source": [
    "print(h1)"
   ]
  },
  {
   "cell_type": "code",
   "execution_count": 37,
   "id": "caf3f3f9",
   "metadata": {},
   "outputs": [
    {
     "data": {
      "text/plain": [
       "('Texas', 'John Davis', 54)"
      ]
     },
     "execution_count": 37,
     "metadata": {},
     "output_type": "execute_result"
    }
   ],
   "source": [
    "h1.location, h1.name, h1.age"
   ]
  },
  {
   "cell_type": "code",
   "execution_count": 39,
   "id": "8110a281",
   "metadata": {},
   "outputs": [
    {
     "ename": "NameError",
     "evalue": "name 'print_info' is not defined",
     "output_type": "error",
     "traceback": [
      "\u001b[0;31m---------------------------------------------------------------------------\u001b[0m",
      "\u001b[0;31mNameError\u001b[0m                                 Traceback (most recent call last)",
      "Cell \u001b[0;32mIn[39], line 1\u001b[0m\n\u001b[0;32m----> 1\u001b[0m \u001b[43mprint_info\u001b[49m()\n",
      "\u001b[0;31mNameError\u001b[0m: name 'print_info' is not defined"
     ]
    }
   ],
   "source": [
    "print_info()"
   ]
  },
  {
   "cell_type": "code",
   "execution_count": 40,
   "id": "4440125f",
   "metadata": {},
   "outputs": [
    {
     "name": "stdout",
     "output_type": "stream",
     "text": [
      "<class '__main__.Health'>\n"
     ]
    }
   ],
   "source": [
    "print(Health)"
   ]
  },
  {
   "cell_type": "code",
   "execution_count": 41,
   "id": "eb069812",
   "metadata": {},
   "outputs": [
    {
     "data": {
      "text/plain": [
       "__main__.Health"
      ]
     },
     "execution_count": 41,
     "metadata": {},
     "output_type": "execute_result"
    }
   ],
   "source": [
    "Health"
   ]
  },
  {
   "cell_type": "code",
   "execution_count": 45,
   "id": "7db7ae47",
   "metadata": {},
   "outputs": [
    {
     "ename": "TypeError",
     "evalue": "print_info() missing 1 required positional argument: 'self'",
     "output_type": "error",
     "traceback": [
      "\u001b[0;31m---------------------------------------------------------------------------\u001b[0m",
      "\u001b[0;31mTypeError\u001b[0m                                 Traceback (most recent call last)",
      "Cell \u001b[0;32mIn[45], line 1\u001b[0m\n\u001b[0;32m----> 1\u001b[0m \u001b[43mHealth\u001b[49m\u001b[38;5;241;43m.\u001b[39;49m\u001b[43mprint_info\u001b[49m\u001b[43m(\u001b[49m\u001b[43m)\u001b[49m\n",
      "\u001b[0;31mTypeError\u001b[0m: print_info() missing 1 required positional argument: 'self'"
     ]
    }
   ],
   "source": [
    "## Calling method from class without instance passed leads to error\n",
    "Health.print_info()"
   ]
  },
  {
   "cell_type": "code",
   "execution_count": 44,
   "id": "8e2c50db",
   "metadata": {},
   "outputs": [
    {
     "name": "stdout",
     "output_type": "stream",
     "text": [
      "Individual Helath Information :\n",
      "Name     :  John Davis\n",
      "Age      :  54\n",
      "Location :  Texas\n"
     ]
    }
   ],
   "source": [
    "Health.print_info(h1)"
   ]
  },
  {
   "cell_type": "code",
   "execution_count": 43,
   "id": "8d8dadf7",
   "metadata": {},
   "outputs": [
    {
     "name": "stdout",
     "output_type": "stream",
     "text": [
      "Individual Helath Information :\n",
      "Name     :  John Davis\n",
      "Age      :  54\n",
      "Location :  Texas\n"
     ]
    }
   ],
   "source": [
    "h1.print_info()"
   ]
  },
  {
   "cell_type": "markdown",
   "id": "cf30bc77",
   "metadata": {},
   "source": [
    "## Data attributes & class attributes"
   ]
  },
  {
   "cell_type": "code",
   "execution_count": 69,
   "id": "a190a782",
   "metadata": {},
   "outputs": [],
   "source": [
    "class Health :\n",
    "    '''This is class \"Health\" with information and functions related with our health. '''\n",
    "    # class attribute\n",
    "    private counter = 0\n",
    "    \n",
    "    # __init__ function \n",
    "    def __init__(self, name, age, loc):\n",
    "        '''\n",
    "        Initialization of Health class.\n",
    "        '''\n",
    "        self.name = name\n",
    "        self.age = age\n",
    "        self.location = loc\n",
    "        Health.counter += 1\n",
    "        \n",
    "    # another method to display data \n",
    "    def print_info(self):\n",
    "        print('Individual Information :')\n",
    "        print('Name     : ', self.name)\n",
    "        print('Age      : ', self.age)\n",
    "        print('Location : ', self.location)\n",
    "        print('No. of Objects : ', Health.counter)\n",
    "    \n",
    "    def change_name(self, new_name):\n",
    "        self.name = new_name\n",
    "        print(f\"My name is {self.name}\")"
   ]
  },
  {
   "cell_type": "code",
   "execution_count": 73,
   "id": "372a224a",
   "metadata": {},
   "outputs": [
    {
     "name": "stdout",
     "output_type": "stream",
     "text": [
      "0\n"
     ]
    }
   ],
   "source": [
    "class Health1:\n",
    "    print(Health.counter)"
   ]
  },
  {
   "cell_type": "code",
   "execution_count": 70,
   "id": "b71947d1",
   "metadata": {},
   "outputs": [
    {
     "data": {
      "text/plain": [
       "0"
      ]
     },
     "execution_count": 70,
     "metadata": {},
     "output_type": "execute_result"
    }
   ],
   "source": [
    "Health.counter"
   ]
  },
  {
   "cell_type": "code",
   "execution_count": 47,
   "id": "58aa5fef",
   "metadata": {},
   "outputs": [],
   "source": [
    "obj_1 = Health('John Davis', 54, 'Texas')"
   ]
  },
  {
   "cell_type": "code",
   "execution_count": 48,
   "id": "ea40b576",
   "metadata": {
    "scrolled": true
   },
   "outputs": [
    {
     "name": "stdout",
     "output_type": "stream",
     "text": [
      "Individual Information :\n",
      "Name     :  John Davis\n",
      "Age      :  54\n",
      "Location :  Texas\n",
      "No. of Objects :  1\n"
     ]
    }
   ],
   "source": [
    "obj_1.print_info()"
   ]
  },
  {
   "cell_type": "code",
   "execution_count": 49,
   "id": "b1574aec",
   "metadata": {},
   "outputs": [
    {
     "name": "stdout",
     "output_type": "stream",
     "text": [
      "My name is Ginger Davis\n"
     ]
    }
   ],
   "source": [
    "obj_1.change_name(\"Ginger Davis\")"
   ]
  },
  {
   "cell_type": "code",
   "execution_count": 52,
   "id": "fb8e3e65",
   "metadata": {},
   "outputs": [],
   "source": [
    "obj_1.name = \"John Doe\""
   ]
  },
  {
   "cell_type": "code",
   "execution_count": 53,
   "id": "50b47eaf",
   "metadata": {},
   "outputs": [
    {
     "name": "stdout",
     "output_type": "stream",
     "text": [
      "Individual Information :\n",
      "Name     :  John Doe\n",
      "Age      :  54\n",
      "Location :  Texas\n",
      "No. of Objects :  1\n"
     ]
    }
   ],
   "source": [
    "obj_1.print_info()"
   ]
  },
  {
   "cell_type": "code",
   "execution_count": 54,
   "id": "f0e499a6",
   "metadata": {},
   "outputs": [],
   "source": [
    "obj_2 = Health('Dave Jones', 31, 'NewYork')"
   ]
  },
  {
   "cell_type": "code",
   "execution_count": 55,
   "id": "d12a131b",
   "metadata": {
    "scrolled": true
   },
   "outputs": [
    {
     "name": "stdout",
     "output_type": "stream",
     "text": [
      "Individual Information :\n",
      "Name     :  Dave Jones\n",
      "Age      :  31\n",
      "Location :  NewYork\n",
      "No. of Objects :  2\n"
     ]
    }
   ],
   "source": [
    "obj_2.print_info()"
   ]
  },
  {
   "cell_type": "code",
   "execution_count": 58,
   "id": "62f1a79e",
   "metadata": {},
   "outputs": [
    {
     "name": "stdout",
     "output_type": "stream",
     "text": [
      "My name is Taylor Morris\n"
     ]
    }
   ],
   "source": [
    "obj_2.change_name(\"Taylor Morris\")"
   ]
  },
  {
   "cell_type": "code",
   "execution_count": 59,
   "id": "e6ced1e3",
   "metadata": {},
   "outputs": [
    {
     "name": "stdout",
     "output_type": "stream",
     "text": [
      "Individual Information :\n",
      "Name     :  Taylor Morris\n",
      "Age      :  31\n",
      "Location :  NewYork\n",
      "No. of Objects :  2\n"
     ]
    }
   ],
   "source": [
    "obj_2.print_info()"
   ]
  },
  {
   "cell_type": "code",
   "execution_count": 60,
   "id": "cde18486",
   "metadata": {},
   "outputs": [
    {
     "name": "stdout",
     "output_type": "stream",
     "text": [
      "Individual Information :\n",
      "Name     :  John Doe\n",
      "Age      :  54\n",
      "Location :  Texas\n",
      "No. of Objects :  2\n"
     ]
    }
   ],
   "source": [
    "obj_1.print_info()"
   ]
  },
  {
   "cell_type": "markdown",
   "id": "7e2d1a13",
   "metadata": {},
   "source": [
    "## Access Data & Class Attributes"
   ]
  },
  {
   "cell_type": "code",
   "execution_count": 66,
   "id": "c8eb8b78",
   "metadata": {},
   "outputs": [],
   "source": [
    "obj_2 = Health('Dave Jones', 31, 'NewYork')"
   ]
  },
  {
   "cell_type": "code",
   "execution_count": 65,
   "id": "dfe90a26",
   "metadata": {},
   "outputs": [
    {
     "data": {
      "text/plain": [
       "('John Doe', 54)"
      ]
     },
     "execution_count": 65,
     "metadata": {},
     "output_type": "execute_result"
    }
   ],
   "source": [
    "# data attributes\n",
    "obj_1.name, obj_1.age"
   ]
  },
  {
   "cell_type": "code",
   "execution_count": 67,
   "id": "6d4ab229",
   "metadata": {},
   "outputs": [
    {
     "data": {
      "text/plain": [
       "('Dave Jones', 31)"
      ]
     },
     "execution_count": 67,
     "metadata": {},
     "output_type": "execute_result"
    }
   ],
   "source": [
    "# data attributes\n",
    "obj_2.name, obj_2.age"
   ]
  },
  {
   "cell_type": "code",
   "execution_count": 68,
   "id": "72ca3bba",
   "metadata": {},
   "outputs": [
    {
     "data": {
      "text/plain": [
       "(3, 3)"
      ]
     },
     "execution_count": 68,
     "metadata": {},
     "output_type": "execute_result"
    }
   ],
   "source": [
    "obj_1.counter , obj_2.counter"
   ]
  },
  {
   "cell_type": "markdown",
   "id": "6788656b",
   "metadata": {},
   "source": [
    "# Deleting a variable"
   ]
  },
  {
   "cell_type": "code",
   "execution_count": 63,
   "id": "b3c04b93",
   "metadata": {},
   "outputs": [
    {
     "ename": "NameError",
     "evalue": "name 'obj_2' is not defined",
     "output_type": "error",
     "traceback": [
      "\u001b[0;31m---------------------------------------------------------------------------\u001b[0m",
      "\u001b[0;31mNameError\u001b[0m                                 Traceback (most recent call last)",
      "Cell \u001b[0;32mIn[63], line 2\u001b[0m\n\u001b[1;32m      1\u001b[0m \u001b[38;5;66;03m# Deleting\u001b[39;00m\n\u001b[0;32m----> 2\u001b[0m \u001b[38;5;28;01mdel\u001b[39;00m obj_2\n\u001b[1;32m      4\u001b[0m var \u001b[38;5;241m=\u001b[39m \u001b[38;5;241m1\u001b[39m\n\u001b[1;32m      5\u001b[0m \u001b[38;5;28;01mdel\u001b[39;00m var\n",
      "\u001b[0;31mNameError\u001b[0m: name 'obj_2' is not defined"
     ]
    }
   ],
   "source": [
    "# Deleting\n",
    "del obj_2"
   ]
  },
  {
   "cell_type": "code",
   "execution_count": 62,
   "id": "f9b85d0a",
   "metadata": {},
   "outputs": [
    {
     "ename": "NameError",
     "evalue": "name 'obj_2' is not defined",
     "output_type": "error",
     "traceback": [
      "\u001b[0;31m---------------------------------------------------------------------------\u001b[0m",
      "\u001b[0;31mNameError\u001b[0m                                 Traceback (most recent call last)",
      "Cell \u001b[0;32mIn[62], line 1\u001b[0m\n\u001b[0;32m----> 1\u001b[0m \u001b[43mobj_2\u001b[49m\n",
      "\u001b[0;31mNameError\u001b[0m: name 'obj_2' is not defined"
     ]
    }
   ],
   "source": [
    "obj_2"
   ]
  },
  {
   "cell_type": "code",
   "execution_count": 64,
   "id": "2026b1e7",
   "metadata": {},
   "outputs": [
    {
     "ename": "NameError",
     "evalue": "name 'var' is not defined",
     "output_type": "error",
     "traceback": [
      "\u001b[0;31m---------------------------------------------------------------------------\u001b[0m",
      "\u001b[0;31mNameError\u001b[0m                                 Traceback (most recent call last)",
      "Cell \u001b[0;32mIn[64], line 3\u001b[0m\n\u001b[1;32m      1\u001b[0m var \u001b[38;5;241m=\u001b[39m \u001b[38;5;241m1\u001b[39m\n\u001b[1;32m      2\u001b[0m \u001b[38;5;28;01mdel\u001b[39;00m var\n\u001b[0;32m----> 3\u001b[0m \u001b[43mvar\u001b[49m\n",
      "\u001b[0;31mNameError\u001b[0m: name 'var' is not defined"
     ]
    }
   ],
   "source": [
    "var = 1\n",
    "del var\n",
    "var"
   ]
  },
  {
   "cell_type": "markdown",
   "id": "020aa43e",
   "metadata": {
    "tags": []
   },
   "source": [
    "## Data Attributes vs Class Attributes "
   ]
  },
  {
   "cell_type": "code",
   "execution_count": null,
   "id": "6ecedf7b",
   "metadata": {},
   "outputs": [],
   "source": [
    "obj_1.name is obj_2.name"
   ]
  },
  {
   "cell_type": "code",
   "execution_count": null,
   "id": "80f43362",
   "metadata": {},
   "outputs": [],
   "source": [
    "obj_1.counter is obj_2.counter"
   ]
  },
  {
   "cell_type": "code",
   "execution_count": null,
   "id": "eaa90356",
   "metadata": {},
   "outputs": [],
   "source": []
  },
  {
   "cell_type": "markdown",
   "id": "02ca7008",
   "metadata": {
    "tags": []
   },
   "source": [
    "# Access Modifiers"
   ]
  },
  {
   "cell_type": "code",
   "execution_count": 74,
   "id": "436400ac",
   "metadata": {},
   "outputs": [],
   "source": [
    "\n",
    "class student :\n",
    "    counter = 0\n",
    "    \n",
    "    # constructor\n",
    "    def __init__(self, name, fathersname, age):\n",
    "        self.name = name\n",
    "        self.fathersname = fathersname\n",
    "        self.age = age\n",
    "        student.counter +=1\n",
    "        \n",
    "        #protected\n",
    "        self._roll_no = 'A2022/{}/{:003d}'.format(self.name[:3].upper() ,student.counter)\n",
    "        \n",
    "        # private\n",
    "        self.__file_no = 'A2022/{}/{:003d}'.format(self.name.upper() ,student.counter)\n",
    "    \n",
    "    def print_info(self):\n",
    "        print('Name          : ', self.name)\n",
    "        print(\"Father's Name : \",self.fathersname )\n",
    "        print(\"Age           : \", self.age)\n",
    "        print(\"Roll No.      : \", self._roll_no)\n",
    "        print(\"File No.      : \", self.__file_no)"
   ]
  },
  {
   "cell_type": "code",
   "execution_count": 75,
   "id": "3555a739",
   "metadata": {},
   "outputs": [],
   "source": [
    "st1 = student('John Davis', 'Malcom Davis', 10)"
   ]
  },
  {
   "cell_type": "code",
   "execution_count": 76,
   "id": "a67717fc",
   "metadata": {
    "scrolled": true
   },
   "outputs": [
    {
     "name": "stdout",
     "output_type": "stream",
     "text": [
      "Name          :  John Davis\n",
      "Father's Name :  Malcom Davis\n",
      "Age           :  10\n",
      "Roll No.      :  A2022/JOH/001\n",
      "File No.      :  A2022/JOHN DAVIS/001\n"
     ]
    }
   ],
   "source": [
    "st1.print_info()"
   ]
  },
  {
   "cell_type": "code",
   "execution_count": 82,
   "id": "86a9024f",
   "metadata": {},
   "outputs": [],
   "source": [
    "class history_student(student):\n",
    "    def history_rocks(self):\n",
    "        print(\"HISTORY ROCKS\")"
   ]
  },
  {
   "cell_type": "code",
   "execution_count": 83,
   "id": "0b772df2",
   "metadata": {},
   "outputs": [
    {
     "ename": "TypeError",
     "evalue": "Cannot create a consistent method resolution\norder (MRO) for bases student, history_student",
     "output_type": "error",
     "traceback": [
      "\u001b[0;31m---------------------------------------------------------------------------\u001b[0m",
      "\u001b[0;31mTypeError\u001b[0m                                 Traceback (most recent call last)",
      "Cell \u001b[0;32mIn[83], line 3\u001b[0m\n\u001b[1;32m      1\u001b[0m \u001b[38;5;66;03m# This syntax is creating a class called science_student which inherits \u001b[39;00m\n\u001b[1;32m      2\u001b[0m \u001b[38;5;66;03m# from the student classs\u001b[39;00m\n\u001b[0;32m----> 3\u001b[0m \u001b[38;5;28;01mclass\u001b[39;00m \u001b[38;5;21;01mscience_student\u001b[39;00m(student, history_student):\n\u001b[1;32m      4\u001b[0m     \u001b[38;5;28;01mdef\u001b[39;00m \u001b[38;5;21mdisplay\u001b[39m(\u001b[38;5;28mself\u001b[39m):\n\u001b[1;32m      5\u001b[0m         \u001b[38;5;28mprint\u001b[39m(\u001b[38;5;124m'\u001b[39m\u001b[38;5;124mName          : \u001b[39m\u001b[38;5;124m'\u001b[39m, \u001b[38;5;28mself\u001b[39m\u001b[38;5;241m.\u001b[39mname)\n",
      "\u001b[0;31mTypeError\u001b[0m: Cannot create a consistent method resolution\norder (MRO) for bases student, history_student"
     ]
    }
   ],
   "source": [
    "# This syntax is creating a class called science_student which inherits \n",
    "# from the student classs\n",
    "class science_student(student, history_student):\n",
    "    def display(self):\n",
    "        print('Name          : ', self.name)\n",
    "        print(\"Father's Name : \",self.fathersname )\n",
    "        print(\"Age           : \", self.age)\n",
    "        print(\"Roll No.      : \", self._roll_no)\n",
    "        print(\"File No.      : \", self.__file_no)\n",
    "        "
   ]
  },
  {
   "cell_type": "code",
   "execution_count": 79,
   "id": "b9c0473b",
   "metadata": {},
   "outputs": [],
   "source": [
    "sci_st = science_student('John Davis', 'Malcom Davis', 15)"
   ]
  },
  {
   "cell_type": "code",
   "execution_count": 80,
   "id": "868d0779",
   "metadata": {},
   "outputs": [
    {
     "name": "stdout",
     "output_type": "stream",
     "text": [
      "Name          :  John Davis\n",
      "Father's Name :  Malcom Davis\n",
      "Age           :  15\n",
      "Roll No.      :  A2022/JOH/002\n",
      "File No.      :  A2022/JOHN DAVIS/002\n"
     ]
    }
   ],
   "source": [
    "sci_st.print_info()"
   ]
  },
  {
   "cell_type": "code",
   "execution_count": 81,
   "id": "f7068c41",
   "metadata": {},
   "outputs": [
    {
     "name": "stdout",
     "output_type": "stream",
     "text": [
      "Name          :  John Davis\n",
      "Father's Name :  Malcom Davis\n",
      "Age           :  15\n",
      "Roll No.      :  A2022/JOH/002\n"
     ]
    },
    {
     "ename": "AttributeError",
     "evalue": "'science_student' object has no attribute '_science_student__file_no'",
     "output_type": "error",
     "traceback": [
      "\u001b[0;31m---------------------------------------------------------------------------\u001b[0m",
      "\u001b[0;31mAttributeError\u001b[0m                            Traceback (most recent call last)",
      "Cell \u001b[0;32mIn[81], line 1\u001b[0m\n\u001b[0;32m----> 1\u001b[0m \u001b[43msci_st\u001b[49m\u001b[38;5;241;43m.\u001b[39;49m\u001b[43mdisplay\u001b[49m\u001b[43m(\u001b[49m\u001b[43m)\u001b[49m\n",
      "Cell \u001b[0;32mIn[78], line 7\u001b[0m, in \u001b[0;36mscience_student.display\u001b[0;34m(self)\u001b[0m\n\u001b[1;32m      5\u001b[0m \u001b[38;5;28mprint\u001b[39m(\u001b[38;5;124m\"\u001b[39m\u001b[38;5;124mAge           : \u001b[39m\u001b[38;5;124m\"\u001b[39m, \u001b[38;5;28mself\u001b[39m\u001b[38;5;241m.\u001b[39mage)\n\u001b[1;32m      6\u001b[0m \u001b[38;5;28mprint\u001b[39m(\u001b[38;5;124m\"\u001b[39m\u001b[38;5;124mRoll No.      : \u001b[39m\u001b[38;5;124m\"\u001b[39m, \u001b[38;5;28mself\u001b[39m\u001b[38;5;241m.\u001b[39m_roll_no)\n\u001b[0;32m----> 7\u001b[0m \u001b[38;5;28mprint\u001b[39m(\u001b[38;5;124m\"\u001b[39m\u001b[38;5;124mFile No.      : \u001b[39m\u001b[38;5;124m\"\u001b[39m, \u001b[38;5;28;43mself\u001b[39;49m\u001b[38;5;241;43m.\u001b[39;49m\u001b[43m__file_no\u001b[49m)\n",
      "\u001b[0;31mAttributeError\u001b[0m: 'science_student' object has no attribute '_science_student__file_no'"
     ]
    }
   ],
   "source": [
    "sci_st.display()"
   ]
  },
  {
   "cell_type": "code",
   "execution_count": null,
   "id": "3d85b101",
   "metadata": {},
   "outputs": [],
   "source": []
  },
  {
   "cell_type": "code",
   "execution_count": null,
   "id": "21de1e9a",
   "metadata": {},
   "outputs": [],
   "source": []
  },
  {
   "cell_type": "markdown",
   "id": "a065b40e",
   "metadata": {},
   "source": [
    "# Inheritance"
   ]
  },
  {
   "cell_type": "code",
   "execution_count": null,
   "id": "6a5ffb18",
   "metadata": {},
   "outputs": [],
   "source": [
    "class Parent :\n",
    "    def __init__(self):\n",
    "        print('Welcome to Parent Class')\n",
    "    \n",
    "    def parent_func(self):\n",
    "        print('This is the parent Function')    "
   ]
  },
  {
   "cell_type": "code",
   "execution_count": null,
   "id": "8a19eab7",
   "metadata": {},
   "outputs": [],
   "source": [
    "class Child(Parent):\n",
    "    pass"
   ]
  },
  {
   "cell_type": "code",
   "execution_count": null,
   "id": "75f390af",
   "metadata": {},
   "outputs": [],
   "source": [
    "obj = Child()"
   ]
  },
  {
   "cell_type": "code",
   "execution_count": null,
   "id": "fcda1b51",
   "metadata": {},
   "outputs": [],
   "source": [
    "obj.parent_func()"
   ]
  },
  {
   "cell_type": "markdown",
   "id": "9a1259a0",
   "metadata": {},
   "source": [
    "## Types of Inheritance"
   ]
  },
  {
   "cell_type": "markdown",
   "id": "9dd3dac3",
   "metadata": {},
   "source": [
    "### Single Inheritance"
   ]
  },
  {
   "cell_type": "code",
   "execution_count": null,
   "id": "bd39a8b3",
   "metadata": {},
   "outputs": [],
   "source": [
    "# base class\n",
    "class information:\n",
    "    def __init__(self, name, age, gender):\n",
    "        self.name = name\n",
    "        self.age = age\n",
    "        self.gender = gender\n",
    "    \n",
    "    def print_info(self):\n",
    "        print('Name   : ', self.name)\n",
    "        print('Age    : ', self.age)\n",
    "        print('Gender : ', self.gender)"
   ]
  },
  {
   "cell_type": "code",
   "execution_count": null,
   "id": "f8a99efc",
   "metadata": {},
   "outputs": [],
   "source": [
    "# derived class\n",
    "class learners(information):\n",
    "    def set_learner_data(self, exp = None, qual = None):\n",
    "        self.qual = qual\n",
    "        self.exp = exp\n",
    "   \n",
    "    def display(self):\n",
    "        self.print_info()\n",
    "        print('Qual   : ', self.qual)\n",
    "        print('Exp    : ', self.exp)\n",
    "    "
   ]
  },
  {
   "cell_type": "code",
   "execution_count": null,
   "id": "eb8151ac",
   "metadata": {},
   "outputs": [],
   "source": [
    "obj1 = learners('John Davis', 34, 'M')"
   ]
  },
  {
   "cell_type": "code",
   "execution_count": null,
   "id": "275c821f",
   "metadata": {},
   "outputs": [],
   "source": [
    "obj1.print_info()"
   ]
  },
  {
   "cell_type": "code",
   "execution_count": null,
   "id": "7174dd1c",
   "metadata": {},
   "outputs": [],
   "source": [
    "obj1.set_learner_data(5, 'Graduate')"
   ]
  },
  {
   "cell_type": "code",
   "execution_count": null,
   "id": "790ac43e",
   "metadata": {},
   "outputs": [],
   "source": [
    "obj1.display()"
   ]
  },
  {
   "cell_type": "markdown",
   "id": "ee6c4540",
   "metadata": {},
   "source": [
    "# Multilevel Inheritance"
   ]
  },
  {
   "cell_type": "code",
   "execution_count": null,
   "id": "c6a4e491",
   "metadata": {},
   "outputs": [],
   "source": [
    "# base class\n",
    "class information:\n",
    "    def __init__(self, name, age, gender):\n",
    "        self.name = name\n",
    "        self.age = age\n",
    "        self.gender = gender\n",
    "    \n",
    "    def print_info(self):\n",
    "        print('Name   : ', self.name)\n",
    "        print('Age    : ', self.age)\n",
    "        print('Gender : ', self.gender)"
   ]
  },
  {
   "cell_type": "code",
   "execution_count": null,
   "id": "dee5989a",
   "metadata": {},
   "outputs": [],
   "source": [
    "# derived class\n",
    "class learners(information):\n",
    "    def set_learner_data(self, exp = None, qual = None):\n",
    "        self.qual = qual\n",
    "        self.exp = exp\n",
    "   \n",
    "    def display(self):\n",
    "        self.print_info()\n",
    "        print('Qual   : ', self.qual)\n",
    "        print('Exp    : ', self.exp)"
   ]
  },
  {
   "cell_type": "code",
   "execution_count": null,
   "id": "7f286dfb",
   "metadata": {},
   "outputs": [],
   "source": [
    "class profile(learners) :\n",
    "    pass"
   ]
  },
  {
   "cell_type": "code",
   "execution_count": null,
   "id": "9876afc6",
   "metadata": {},
   "outputs": [],
   "source": [
    "obj_2 = profile('John Davis', 34, 'M')"
   ]
  },
  {
   "cell_type": "code",
   "execution_count": null,
   "id": "9ca1caa8",
   "metadata": {},
   "outputs": [],
   "source": [
    "obj_2.print_info()"
   ]
  },
  {
   "cell_type": "code",
   "execution_count": null,
   "id": "3c6a9a45",
   "metadata": {},
   "outputs": [],
   "source": [
    "obj_2.set_learner_data(3, 'Graduate')"
   ]
  },
  {
   "cell_type": "code",
   "execution_count": null,
   "id": "9c05f240",
   "metadata": {},
   "outputs": [],
   "source": [
    "obj_2.display()"
   ]
  },
  {
   "cell_type": "markdown",
   "id": "8acb4af0",
   "metadata": {},
   "source": [
    "## Hierarchical Inheritance"
   ]
  },
  {
   "cell_type": "code",
   "execution_count": null,
   "id": "60f10fad",
   "metadata": {},
   "outputs": [],
   "source": [
    "# base class\n",
    "class information:\n",
    "    def __init__(self, name, age, gender):\n",
    "        self.name = name\n",
    "        self.age = age\n",
    "        self.gender = gender\n",
    "    \n",
    "    def print_info(self):\n",
    "        print('Name   : ', self.name)\n",
    "        print('Age    : ', self.age)\n",
    "        print('Gender : ', self.gender)"
   ]
  },
  {
   "cell_type": "code",
   "execution_count": null,
   "id": "17647af9",
   "metadata": {},
   "outputs": [],
   "source": [
    "# derived class 1\n",
    "class learners(information):\n",
    "    def set_learner_data(self, exp = None, qual = None):\n",
    "        self.qual = qual\n",
    "        self.exp = exp\n",
    "   \n",
    "    def display(self):\n",
    "        self.print_info()\n",
    "        print('Qual   : ', self.qual)\n",
    "        print('Exp    : ', self.exp)"
   ]
  },
  {
   "cell_type": "code",
   "execution_count": null,
   "id": "7419c327",
   "metadata": {},
   "outputs": [],
   "source": [
    "# derived class 2\n",
    "class trainer(information):\n",
    "    def set_trainer_data(self, exp, charges ):\n",
    "        self.exp = exp\n",
    "        self.charges = charges\n",
    "    \n",
    "    def display_trainer(self):\n",
    "        self.print_info()\n",
    "        print('Experience        : ', self.exp)\n",
    "        print('Hourly Charges    : ', self.charges)"
   ]
  },
  {
   "cell_type": "code",
   "execution_count": null,
   "id": "4b870253",
   "metadata": {},
   "outputs": [],
   "source": [
    "obj_learner = learners('John Davis', 21, 'M')\n",
    "obj_learner.set_learner_data(3, 'Graduate')"
   ]
  },
  {
   "cell_type": "code",
   "execution_count": null,
   "id": "e91ba762",
   "metadata": {},
   "outputs": [],
   "source": [
    "obj_learner.print_info()"
   ]
  },
  {
   "cell_type": "code",
   "execution_count": null,
   "id": "7e6ca983",
   "metadata": {},
   "outputs": [],
   "source": [
    "obj_learner.display()"
   ]
  },
  {
   "cell_type": "code",
   "execution_count": null,
   "id": "777d9d79",
   "metadata": {},
   "outputs": [],
   "source": [
    "obj_trainer = trainer('Michael Dave', 43, 'Doctrate')\n",
    "obj_trainer.set_trainer_data(15, 3500)"
   ]
  },
  {
   "cell_type": "code",
   "execution_count": null,
   "id": "a47fde13",
   "metadata": {},
   "outputs": [],
   "source": [
    "obj_trainer.print_info()"
   ]
  },
  {
   "cell_type": "code",
   "execution_count": null,
   "id": "c325fdc0",
   "metadata": {},
   "outputs": [],
   "source": [
    "obj_trainer.display_trainer()"
   ]
  },
  {
   "cell_type": "markdown",
   "id": "f24af616",
   "metadata": {},
   "source": [
    "## Multiple Inheritance"
   ]
  },
  {
   "cell_type": "code",
   "execution_count": null,
   "id": "2cd39099",
   "metadata": {},
   "outputs": [],
   "source": [
    "# base class 1\n",
    "class information:\n",
    "    def __init__(self, name, age, gender):\n",
    "        self.name = name\n",
    "        self.age = age\n",
    "        self.gender = gender\n",
    "    \n",
    "    def print_info(self):\n",
    "        print('Name   : ', self.name)\n",
    "        print('Age    : ', self.age)\n",
    "        print('Gender : ', self.gender)"
   ]
  },
  {
   "cell_type": "code",
   "execution_count": null,
   "id": "a4e9f29d",
   "metadata": {},
   "outputs": [],
   "source": [
    "# base class 2\n",
    "class course_inf:\n",
    "    def __init__(self):\n",
    "        self.inf = {'Weekend' : {'Big Data & AI':12, \n",
    "                                'Cloud Computing' : 8,\n",
    "                                'Data Science with Python' :6,\n",
    "                                'Data Science with R' : 5 },\n",
    "                   'Weekday' : {'Big Data & AI':6, \n",
    "                                'Cloud Computing' : 5,\n",
    "                                'Data Science with Python': 3,\n",
    "                                'Data Science with R' : 2.5 }}"
   ]
  },
  {
   "cell_type": "code",
   "execution_count": null,
   "id": "57c9cdf0",
   "metadata": {},
   "outputs": [],
   "source": [
    "# derived class\n",
    "class learners(information, course_inf):\n",
    "    \n",
    "    def __init__(self,name, age, gender,course, pref):\n",
    "        information.__init__(self, name, age, gender)\n",
    "        course_inf.__init__(self)\n",
    "        self.course = course\n",
    "        self.pref = pref\n",
    "        \n",
    "    def display(self):\n",
    "        information.print_info(self)\n",
    "        print('Course : ', self.course)\n",
    "        print('Pref   : ', self.pref)\n",
    "        weeks = self.inf[self.pref][self.course]\n",
    "        print('# of Weeks : ', weeks)"
   ]
  },
  {
   "cell_type": "code",
   "execution_count": null,
   "id": "002fce25",
   "metadata": {},
   "outputs": [],
   "source": [
    "obj_learn = learners('Ava Jones', 33, 'F', 'Data Science with R', 'Weekend')\n",
    "\n",
    "obj_learn.display()"
   ]
  },
  {
   "cell_type": "code",
   "execution_count": null,
   "id": "f6ee4ac3",
   "metadata": {},
   "outputs": [],
   "source": [
    "obj_learn.inf"
   ]
  },
  {
   "cell_type": "markdown",
   "id": "3607099b",
   "metadata": {},
   "source": [
    "# "
   ]
  },
  {
   "cell_type": "markdown",
   "id": "a5af7780",
   "metadata": {},
   "source": [
    "# "
   ]
  },
  {
   "cell_type": "markdown",
   "id": "702f0453",
   "metadata": {},
   "source": [
    "# Polymorphism\n",
    "## Method Overloading"
   ]
  },
  {
   "cell_type": "code",
   "execution_count": null,
   "id": "004fae24",
   "metadata": {},
   "outputs": [],
   "source": [
    "class information:\n",
    "    def __init__(self, name, age, gender):\n",
    "        self.name = name\n",
    "        self.age = age\n",
    "        self.gender = gender\n",
    "    \n",
    "    def print_info(self):\n",
    "        print('Name   : ', self.name)\n",
    "        print('Age    : ', self.age)\n",
    "        print('Gender : ', self.gender)"
   ]
  },
  {
   "cell_type": "code",
   "execution_count": null,
   "id": "92f7ca81",
   "metadata": {},
   "outputs": [],
   "source": [
    "class learners:\n",
    "    def __init__(self, name, age, gender, exp, qual):\n",
    "        self.name = name\n",
    "        self.age = age\n",
    "        self.gender = gender\n",
    "        self.qual = qual\n",
    "        self.exp = exp\n",
    "   \n",
    "    def print_info(self):\n",
    "        print('Name\\t: ', self.name)\n",
    "        print('Age\\t: ', self.age)\n",
    "        print('Gender\\t: ', self.gender)\n",
    "        print('Qual   : ', self.qual)\n",
    "        print('Exp    : ', self.exp)"
   ]
  },
  {
   "cell_type": "code",
   "execution_count": null,
   "id": "5743b878",
   "metadata": {},
   "outputs": [],
   "source": [
    "obj1 = information('John Davis', 34, 'M' )\n",
    "obj2 = learners('John Davis', 34, 'M', 3.5, 'Graduate')"
   ]
  },
  {
   "cell_type": "code",
   "execution_count": null,
   "id": "34762d2a",
   "metadata": {},
   "outputs": [],
   "source": [
    "obj1.print_info()"
   ]
  },
  {
   "cell_type": "code",
   "execution_count": null,
   "id": "60d8e781",
   "metadata": {},
   "outputs": [],
   "source": [
    "obj2.print_info()"
   ]
  },
  {
   "cell_type": "markdown",
   "id": "8e0c828c",
   "metadata": {},
   "source": [
    "## Operator Overloading"
   ]
  },
  {
   "cell_type": "code",
   "execution_count": null,
   "id": "a998bd70",
   "metadata": {},
   "outputs": [],
   "source": [
    "x = 8; y = 15\n",
    "x + y"
   ]
  },
  {
   "cell_type": "code",
   "execution_count": null,
   "id": "3704c98c",
   "metadata": {},
   "outputs": [],
   "source": [
    "x = 'FirstName' \n",
    "y = 'LastName'\n",
    "x + ' ' + y"
   ]
  },
  {
   "cell_type": "markdown",
   "id": "1246d948",
   "metadata": {},
   "source": [
    "## Method Overriding"
   ]
  },
  {
   "cell_type": "code",
   "execution_count": null,
   "id": "fa978646",
   "metadata": {},
   "outputs": [],
   "source": [
    "class information:\n",
    "    def __init__(self, name, age, gender):\n",
    "        self.name = name\n",
    "        self.age = age\n",
    "        self.gender = gender\n",
    "    \n",
    "    def print_info(self):\n",
    "        print('Name   : ', self.name)\n",
    "        print('Age    : ', self.age)\n",
    "        print('Gender : ', self.gender)"
   ]
  },
  {
   "cell_type": "code",
   "execution_count": null,
   "id": "8b559a78",
   "metadata": {},
   "outputs": [],
   "source": [
    "class learners(information):\n",
    "    def __init__(self, name, age, gender, exp, qual):\n",
    "        information.__init__(self, name, age, gender)\n",
    "        self.qual = qual\n",
    "        self.exp = exp\n",
    "   \n",
    "    def print_info(self):\n",
    "        '''print_info function of derived class overrides the print_info function of parent class'''\n",
    "        print('Qual   : ', self.qual)\n",
    "        print('Exp    : ', self.exp)"
   ]
  },
  {
   "cell_type": "code",
   "execution_count": null,
   "id": "56c5e3dd",
   "metadata": {},
   "outputs": [],
   "source": [
    "obj = learners('John Davis', 45, 'M', 4.5, 'Graduate')"
   ]
  },
  {
   "cell_type": "code",
   "execution_count": null,
   "id": "091dc52c",
   "metadata": {},
   "outputs": [],
   "source": [
    "obj.print_info()"
   ]
  },
  {
   "cell_type": "code",
   "execution_count": null,
   "id": "5790e506",
   "metadata": {},
   "outputs": [],
   "source": [
    "class learners(information):\n",
    "    def __init__(self, name, age, gender, exp, qual):\n",
    "        information.__init__(self, name, age, gender)\n",
    "        self.qual = qual\n",
    "        self.exp = exp\n",
    "   \n",
    "    def print_info(self):\n",
    "        '''\n",
    "        print_info function of derived class overrides the print_info function of parent class. \n",
    "        To use the print ifno function of parent class, the function needs to be invoked explicitly.\n",
    "        '''\n",
    "        information.print_info(self)\n",
    "        print('Qual   : ', self.qual)\n",
    "        print('Exp    : ', self.exp)"
   ]
  },
  {
   "cell_type": "code",
   "execution_count": null,
   "id": "fad14a91",
   "metadata": {},
   "outputs": [],
   "source": [
    "obj = learners('John Davis', 45, 'M', 4.5, 'Graduate')"
   ]
  },
  {
   "cell_type": "code",
   "execution_count": null,
   "id": "5a0c8f9c",
   "metadata": {},
   "outputs": [],
   "source": [
    "obj.print_info()"
   ]
  },
  {
   "cell_type": "code",
   "execution_count": null,
   "id": "7c49f5f2",
   "metadata": {},
   "outputs": [],
   "source": []
  },
  {
   "cell_type": "code",
   "execution_count": null,
   "id": "85bb4ecf",
   "metadata": {},
   "outputs": [],
   "source": []
  },
  {
   "cell_type": "markdown",
   "id": "93b4dc20",
   "metadata": {},
   "source": [
    "# "
   ]
  },
  {
   "cell_type": "markdown",
   "id": "777f4c57",
   "metadata": {},
   "source": [
    "# "
   ]
  },
  {
   "cell_type": "markdown",
   "id": "59e72974",
   "metadata": {},
   "source": [
    "# Abstraction "
   ]
  },
  {
   "cell_type": "code",
   "execution_count": 1,
   "id": "1d2a78c9",
   "metadata": {},
   "outputs": [],
   "source": [
    "from abc import abstractmethod, ABC"
   ]
  },
  {
   "cell_type": "code",
   "execution_count": 2,
   "id": "9b054e58",
   "metadata": {},
   "outputs": [],
   "source": [
    "class beverage(ABC):\n",
    "    @abstractmethod\n",
    "    def ingredients(self):\n",
    "        print('base')\n",
    "    def taste(self):\n",
    "        pass"
   ]
  },
  {
   "cell_type": "code",
   "execution_count": 3,
   "id": "c44f33d1",
   "metadata": {},
   "outputs": [
    {
     "ename": "TypeError",
     "evalue": "Can't instantiate abstract class beverage with abstract methods ingredients",
     "output_type": "error",
     "traceback": [
      "\u001b[0;31m---------------------------------------------------------------------------\u001b[0m",
      "\u001b[0;31mTypeError\u001b[0m                                 Traceback (most recent call last)",
      "\u001b[0;32m<ipython-input-3-570ae97a100b>\u001b[0m in \u001b[0;36m<module>\u001b[0;34m\u001b[0m\n\u001b[0;32m----> 1\u001b[0;31m \u001b[0mobj\u001b[0m \u001b[0;34m=\u001b[0m \u001b[0mbeverage\u001b[0m\u001b[0;34m(\u001b[0m\u001b[0;34m)\u001b[0m\u001b[0;34m\u001b[0m\u001b[0;34m\u001b[0m\u001b[0m\n\u001b[0m",
      "\u001b[0;31mTypeError\u001b[0m: Can't instantiate abstract class beverage with abstract methods ingredients"
     ]
    }
   ],
   "source": [
    "obj = beverage()"
   ]
  },
  {
   "cell_type": "code",
   "execution_count": 4,
   "id": "1d767d96",
   "metadata": {},
   "outputs": [],
   "source": [
    "# derived class 1\n",
    "class mango_shake(beverage):\n",
    "    def ingredients(self):\n",
    "        print('Mango, Milk and Sugar')\n",
    "        \n",
    "    def taste(self):\n",
    "        print('Yumm!!')"
   ]
  },
  {
   "cell_type": "code",
   "execution_count": 5,
   "id": "fc57b4ff",
   "metadata": {},
   "outputs": [],
   "source": [
    "# derived class 1\n",
    "class orange_juice(beverage):\n",
    "    def ingredients(self):\n",
    "        print('Orange, Water and Sugar')\n",
    "        \n",
    "    def taste(self):\n",
    "        print('Sweet!!')"
   ]
  },
  {
   "cell_type": "code",
   "execution_count": 6,
   "id": "b8c2079d",
   "metadata": {},
   "outputs": [
    {
     "name": "stdout",
     "output_type": "stream",
     "text": [
      "Mango, Milk and Sugar\n",
      "Yumm!!\n"
     ]
    }
   ],
   "source": [
    "obj1 = mango_shake()\n",
    "obj1.ingredients()\n",
    "obj1.taste()"
   ]
  },
  {
   "cell_type": "code",
   "execution_count": 7,
   "id": "2a4cfd06",
   "metadata": {},
   "outputs": [
    {
     "name": "stdout",
     "output_type": "stream",
     "text": [
      "Orange, Water and Sugar\n",
      "Sweet!!\n"
     ]
    }
   ],
   "source": [
    "obj2 = orange_juice()\n",
    "obj2.ingredients()\n",
    "obj2.taste()"
   ]
  },
  {
   "cell_type": "code",
   "execution_count": null,
   "id": "138a4c7e",
   "metadata": {},
   "outputs": [],
   "source": []
  }
 ],
 "metadata": {
  "kernelspec": {
   "display_name": "Python 3 (ipykernel)",
   "language": "python",
   "name": "python3"
  },
  "language_info": {
   "codemirror_mode": {
    "name": "ipython",
    "version": 3
   },
   "file_extension": ".py",
   "mimetype": "text/x-python",
   "name": "python",
   "nbconvert_exporter": "python",
   "pygments_lexer": "ipython3",
   "version": "3.9.6"
  }
 },
 "nbformat": 4,
 "nbformat_minor": 5
}
