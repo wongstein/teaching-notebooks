{
 "cells": [
  {
   "cell_type": "markdown",
   "metadata": {},
   "source": [
    "# Threading"
   ]
  },
  {
   "cell_type": "code",
   "execution_count": 1,
   "metadata": {},
   "outputs": [],
   "source": [
    "import time\n",
    "\n",
    "def counting():\n",
    "    for i in range(1, 10):\n",
    "        time.sleep(1) # sleep takes 1 integer as a parameter and it's second\n",
    "        print(i)"
   ]
  },
  {
   "cell_type": "code",
   "execution_count": 2,
   "metadata": {},
   "outputs": [],
   "source": [
    "def alphabets():  \n",
    "    for i in range(ord('A'), ord('Z')+1): # this is how you get the alphabet\n",
    "        time.sleep(0.5)\n",
    "        print(chr(i))"
   ]
  },
  {
   "cell_type": "code",
   "execution_count": null,
   "metadata": {},
   "outputs": [],
   "source": [
    "# function call\n",
    "counting()\n",
    "alphabets()"
   ]
  },
  {
   "cell_type": "code",
   "execution_count": null,
   "metadata": {},
   "outputs": [],
   "source": [
    "import threading\n",
    "def counting():\n",
    "    for i in range(1, 11):\n",
    "        time.sleep(2)\n",
    "        print('\\t', i)\n",
    "def alphabets():  \n",
    "    for i in range(ord('A'), ord('Z')+1):\n",
    "        time.sleep(1) # integer is number of seconds\n",
    "        print(chr(i))"
   ]
  },
  {
   "cell_type": "markdown",
   "metadata": {
    "collapsed": true,
    "jupyter": {
     "outputs_hidden": true
    }
   },
   "source": [
    "## create new threads"
   ]
  },
  {
   "cell_type": "code",
   "execution_count": null,
   "metadata": {},
   "outputs": [],
   "source": [
    "# syntax: target param takes the function you want the thread to execute\n",
    "t1 = threading.Thread(target=counting)\n",
    "t2 = threading.Thread(target=alphabets)"
   ]
  },
  {
   "cell_type": "markdown",
   "metadata": {},
   "source": [
    "## start the thread"
   ]
  },
  {
   "cell_type": "code",
   "execution_count": null,
   "metadata": {},
   "outputs": [],
   "source": [
    "t1.start()\n",
    "t2.start()"
   ]
  },
  {
   "cell_type": "markdown",
   "metadata": {},
   "source": [
    "## using a derived class of thread"
   ]
  },
  {
   "cell_type": "code",
   "execution_count": null,
   "metadata": {},
   "outputs": [],
   "source": [
    "class myThread (threading.Thread):\n",
    "    def __init__(self, threadID, name, counter):\n",
    "        threading.Thread.__init__(self)\n",
    "        self.threadID = threadID\n",
    "        self.name = name\n",
    "        self.counter = counter\n",
    "    def run(self): # overwriting parent run function\n",
    "        print (\"Starting \" + self.name)\n",
    "        print_time(self.name, 5, self.counter)\n",
    "        print (\"Exiting \" + self.name)\n",
    "\n",
    "def print_time(threadName, delay, counter):\n",
    "    while counter:\n",
    "        time.sleep(delay)\n",
    "        print (\"{}: {}\".format(threadName, time.ctime(time.time())))\n",
    "        counter -= 1\n",
    "\n",
    "# Create new threads\n",
    "thread1 = myThread(1, \"Thread-1\", 3)\n",
    "thread2 = myThread(2, \"Thread-2\", 2)\n",
    "\n",
    "# Start new Threads\n",
    "thread1.start()\n",
    "thread2.start()\n",
    "thread1.join()\n",
    "thread2.join()\n",
    "print (\"Exiting Main Thread\")"
   ]
  },
  {
   "cell_type": "code",
   "execution_count": null,
   "metadata": {},
   "outputs": [],
   "source": [
    "class myThread (threading.Thread):\n",
    "    def __init__(self, threadID, name, counter):\n",
    "        threading.Thread.__init__(self)\n",
    "        self.threadID = threadID\n",
    "        self.name = name\n",
    "        self.counter = counter\n",
    "    def run(self):\n",
    "        print (\"Starting \" + self.name)\n",
    "        print_time(self.name, 5, self.counter)\n",
    "        print (\"Exiting \" + self.name)\n",
    "\n",
    "def print_time(threadName, delay, counter):\n",
    "    while counter:\n",
    "        time.sleep(delay)\n",
    "        print (\"{}: {}\".format(threadName, time.ctime(time.time())))\n",
    "        counter -= 1\n",
    "\n",
    "# Create new threads\n",
    "thread1 = myThread(1, \"Thread-1\", 3)\n",
    "thread2 = myThread(2, \"Thread-2\", 2)\n",
    "\n",
    "# Start new Threads\n",
    "thread1.start()\n",
    "thread2.start()\n",
    "print (\"Exiting Main Thread\")"
   ]
  },
  {
   "cell_type": "markdown",
   "metadata": {},
   "source": [
    "# \n",
    "# \n",
    "# \n",
    "# \n",
    "# \n",
    "# "
   ]
  },
  {
   "cell_type": "markdown",
   "metadata": {},
   "source": [
    "# Synchronization\n",
    "\n",
    "Using threading on a shared resource can lead to synchronization issues on that shared resource, which can be bad!"
   ]
  },
  {
   "cell_type": "code",
   "execution_count": null,
   "metadata": {},
   "outputs": [],
   "source": [
    "import threading\n",
    "import time"
   ]
  },
  {
   "cell_type": "code",
   "execution_count": null,
   "metadata": {},
   "outputs": [],
   "source": [
    "balance = 200\n",
    "\n",
    "print('initial balance value : ', balance)\n",
    "\n",
    "class myThread(threading.Thread):\n",
    "    def __init__(self, name, target ):\n",
    "        threading.Thread.__init__(self)\n",
    "        self.name = name\n",
    "        self.target = target\n",
    "    \n",
    "    def run(self):\n",
    "        print('\\nStarting Thread', self.name)\n",
    "        # function call\n",
    "        self.target()\n",
    "        \n",
    "def double_balance():\n",
    "    print(\"\\n double_balance called \\n\")\n",
    "    time.sleep(3)\n",
    "    global balance\n",
    "    balance = balance * 2\n",
    "    print('\\nFinal Balance after double_balance', balance)\n",
    "\n",
    "def half_balance():\n",
    "    print(\"\\n half_balance called \\n\")\n",
    "    global balance\n",
    "    balance /= 2\n",
    "    print('\\nvalue of balance after half_balance updated ', balance)\n",
    "\n",
    "thread1 = myThread(name = 1, target= double_balance)\n",
    "thread2 = myThread(name = 2, target= half_balance)\n",
    "\n"
   ]
  },
  {
   "cell_type": "code",
   "execution_count": null,
   "metadata": {},
   "outputs": [],
   "source": [
    "thread1.start() # double the balance => 400\n",
    "thread2.start() # halving the balance => 200"
   ]
  },
  {
   "cell_type": "code",
   "execution_count": null,
   "metadata": {},
   "outputs": [],
   "source": [
    "balance = 200\n",
    "\n",
    "print('initial balance value : ', balance)\n",
    "\n",
    "class myThread(threading.Thread):\n",
    "    def __init__(self, name, target):\n",
    "        threading.Thread.__init__(self)\n",
    "        self.name = name\n",
    "        self.target = target\n",
    "    \n",
    "    def run(self):\n",
    "        print('\\n\\nStarting Thread', self.name)\n",
    "        # acquire\n",
    "        threadLock.acquire()\n",
    "        print('\\nLock acquired for thread :', self.name)\n",
    "        \n",
    "        # function call\n",
    "        self.target()\n",
    "        \n",
    "        # Free lock\n",
    "        threadLock.release()\n",
    "        print('\\nLock released for thread :', self.name)\n",
    "        \n",
    "        \n",
    "def double_balance():\n",
    "    print(\"\\n double_balance called \\n\")\n",
    "    time.sleep(3)\n",
    "    global balance\n",
    "    balance = balance * 2\n",
    "    print('\\nFinal Balance after double_balance', balance)\n",
    "\n",
    "def half_balance():\n",
    "    print(\"\\n half_balance called \\n\")\n",
    "    global balance\n",
    "    balance /= 2\n",
    "    print('\\nvalue of balance updated ', balance)\n",
    "\n",
    "# creating a lock object\n",
    "threadLock = threading.Lock()\n",
    "\n",
    "\n",
    "thread1 = myThread(name = 1, target= double_balance)\n",
    "thread2 = myThread(name = 2, target= half_balance)\n",
    "\n",
    "thread1.start()\n",
    "thread2.start()\n",
    "thread1.join()\n",
    "thread2.join()"
   ]
  },
  {
   "cell_type": "markdown",
   "metadata": {},
   "source": [
    "# DeadLock\n",
    "\n",
    "Deadlock happens when the lock is never released on a thread, and as a result all other threads are held up and can never run while waiting for the lock to release"
   ]
  },
  {
   "cell_type": "code",
   "execution_count": null,
   "metadata": {},
   "outputs": [],
   "source": [
    "# There are many ways that a deadlock can happen\n",
    "## This example demonstrates two threads waiting for each other to release a lock that the other is dependent on\n",
    "\n",
    "# task to be executed in a new thread\n",
    "\n",
    "from time import sleep\n",
    "\n",
    "def task(number, lock1, lock2):\n",
    "    # acquire the first lock\n",
    "    print(f'Thread {number} acquiring lock 1...')\n",
    "    with lock1:\n",
    "        # wait a moment\n",
    "        sleep(1)\n",
    "        # acquire the next lock\n",
    "        print(f'Thread {number} acquiring lock 2...')\n",
    "        with lock2:\n",
    "            # never gets here..\n",
    "            pass"
   ]
  },
  {
   "cell_type": "code",
   "execution_count": null,
   "metadata": {},
   "outputs": [],
   "source": [
    "# create the mutex locks\n",
    "from threading import Lock\n",
    "\n",
    "lock1 = Lock()\n",
    "lock2 = Lock()"
   ]
  },
  {
   "cell_type": "code",
   "execution_count": null,
   "metadata": {},
   "outputs": [],
   "source": [
    "# create and configure the new threads\n",
    "from threading import Thread\n",
    "\n",
    "thread1 = Thread(target=task, args=(1, lock1, lock2))\n",
    "thread2 = Thread(target=task, args=(2, lock2, lock1)) # passing in locks in opposite order"
   ]
  },
  {
   "cell_type": "code",
   "execution_count": null,
   "metadata": {},
   "outputs": [],
   "source": [
    "...\n",
    "# start the new threads\n",
    "thread1.start()\n",
    "thread2.start()\n",
    "# wait for threads to exit...\n",
    "thread1.join()\n",
    "thread2.join()\n",
    "\n",
    "# Only way to get out of this deadlock is the kill the kernel"
   ]
  },
  {
   "cell_type": "markdown",
   "metadata": {},
   "source": [
    "# LiveLock\n",
    "Livelock happens when threads cannot make progress (however that is defined) but can acquire locks"
   ]
  },
  {
   "cell_type": "code",
   "execution_count": null,
   "metadata": {},
   "outputs": [],
   "source": [
    "from time import sleep\n",
    "from threading import Thread\n",
    "from threading import Lock"
   ]
  },
  {
   "cell_type": "code",
   "execution_count": null,
   "metadata": {},
   "outputs": [],
   "source": [
    "# task for worker threads\n",
    "def task(number, lock1, lock2):\n",
    "    # loop until the task is completed\n",
    "    while True:\n",
    "        # acquire the first lock\n",
    "        with lock1:\n",
    "            # wait a moment\n",
    "            sleep(0.1)\n",
    "            # check if the second lock is available\n",
    "            if lock2.locked():\n",
    "                print(f'Task {number} cannot get the second lock, giving up...')\n",
    "            else:\n",
    "                # acquire lock2\n",
    "                with lock2:\n",
    "                    print(f'Task {number} made it, all done.')\n",
    "                    break"
   ]
  },
  {
   "cell_type": "code",
   "execution_count": null,
   "metadata": {},
   "outputs": [],
   "source": [
    "# create locks\n",
    "lock1 = Lock()\n",
    "lock2 = Lock()"
   ]
  },
  {
   "cell_type": "code",
   "execution_count": null,
   "metadata": {},
   "outputs": [],
   "source": [
    "...\n",
    "# create threads\n",
    "thread1 = Thread(target=task, args=(0, lock1, lock2))\n",
    "thread2 = Thread(target=task, args=(1, lock2, lock1))"
   ]
  },
  {
   "cell_type": "code",
   "execution_count": null,
   "metadata": {},
   "outputs": [],
   "source": [
    "...\n",
    "# start threads\n",
    "thread1.start()\n",
    "thread2.start()\n",
    "# wait for threads to finish\n",
    "thread1.join()\n",
    "thread2.join()"
   ]
  },
  {
   "cell_type": "markdown",
   "metadata": {},
   "source": [
    "# Final thoughts\n",
    "\n",
    "Threads and locking are hard.  They can lead to a lot of problems if not done correctly.  Deadlock and Livelock are some of the problems that can arise when using threading.  "
   ]
  }
 ],
 "metadata": {
  "kernelspec": {
   "display_name": "Python 3 (ipykernel)",
   "language": "python",
   "name": "python3"
  },
  "language_info": {
   "codemirror_mode": {
    "name": "ipython",
    "version": 3
   },
   "file_extension": ".py",
   "mimetype": "text/x-python",
   "name": "python",
   "nbconvert_exporter": "python",
   "pygments_lexer": "ipython3",
   "version": "3.11.5"
  }
 },
 "nbformat": 4,
 "nbformat_minor": 4
}
