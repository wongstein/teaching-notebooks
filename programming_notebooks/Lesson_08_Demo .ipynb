{
 "cells": [
  {
   "cell_type": "markdown",
   "metadata": {},
   "source": [
    "# Threading"
   ]
  },
  {
   "cell_type": "code",
   "execution_count": 1,
   "metadata": {},
   "outputs": [],
   "source": [
    "import time\n",
    "\n",
    "def counting():\n",
    "    for i in range(1, 10):\n",
    "        time.sleep(1)\n",
    "        print(i)"
   ]
  },
  {
   "cell_type": "code",
   "execution_count": 2,
   "metadata": {},
   "outputs": [],
   "source": [
    "def alphabets():  \n",
    "    for i in range(ord('A'), ord('Z')+1):\n",
    "        time.sleep(0.5)\n",
    "        print(chr(i))"
   ]
  },
  {
   "cell_type": "code",
   "execution_count": null,
   "metadata": {},
   "outputs": [
    {
     "name": "stdout",
     "output_type": "stream",
     "text": [
      "1\n",
      "2\n",
      "3\n",
      "4\n",
      "5\n",
      "6\n",
      "7\n",
      "8\n",
      "9\n",
      "A\n",
      "B\n",
      "C\n"
     ]
    }
   ],
   "source": [
    "# function call\n",
    "counting()\n",
    "alphabets()"
   ]
  },
  {
   "cell_type": "code",
   "execution_count": null,
   "metadata": {},
   "outputs": [],
   "source": [
    "import threading\n",
    "def counting():\n",
    "    for i in range(1, 11):\n",
    "        time.sleep(2)\n",
    "        print('\\t', i)\n",
    "def alphabets():  \n",
    "    for i in range(ord('A'), ord('Z')+1):\n",
    "        time.sleep(1)\n",
    "        print(chr(i))"
   ]
  },
  {
   "cell_type": "markdown",
   "metadata": {
    "jupyter": {
     "outputs_hidden": true
    }
   },
   "source": [
    "## create new threads"
   ]
  },
  {
   "cell_type": "code",
   "execution_count": null,
   "metadata": {},
   "outputs": [],
   "source": [
    "t1 = threading.Thread(target=counting)\n",
    "t2 = threading.Thread(target=alphabets)"
   ]
  },
  {
   "cell_type": "markdown",
   "metadata": {},
   "source": [
    "## start the thread"
   ]
  },
  {
   "cell_type": "code",
   "execution_count": null,
   "metadata": {},
   "outputs": [],
   "source": [
    "t1.start()\n",
    "t2.start()"
   ]
  },
  {
   "cell_type": "markdown",
   "metadata": {},
   "source": [
    "## using a derived class of thread"
   ]
  },
  {
   "cell_type": "code",
   "execution_count": null,
   "metadata": {},
   "outputs": [],
   "source": [
    "class myThread (threading.Thread):\n",
    "    def __init__(self, threadID, name, counter):\n",
    "        threading.Thread.__init__(self)\n",
    "        self.threadID = threadID\n",
    "        self.name = name\n",
    "        self.counter = counter\n",
    "    def run(self):\n",
    "        print (\"Starting \" + self.name)\n",
    "        print_time(self.name, 5, self.counter)\n",
    "        print (\"Exiting \" + self.name)\n",
    "\n",
    "def print_time(threadName, delay, counter):\n",
    "    while counter:\n",
    "        time.sleep(delay)\n",
    "        print (\"{}: {}\".format(threadName, time.ctime(time.time())))\n",
    "        counter -= 1\n",
    "\n",
    "# Create new threads\n",
    "thread1 = myThread(1, \"Thread-1\", 3)\n",
    "thread2 = myThread(2, \"Thread-2\", 2)\n",
    "\n",
    "# Start new Threads\n",
    "thread1.start()\n",
    "thread2.start()\n",
    "thread1.join()\n",
    "thread2.join()\n",
    "print (\"Exiting Main Thread\")"
   ]
  },
  {
   "cell_type": "code",
   "execution_count": null,
   "metadata": {},
   "outputs": [],
   "source": [
    "class myThread (threading.Thread):\n",
    "    def __init__(self, threadID, name, counter):\n",
    "        threading.Thread.__init__(self)\n",
    "        self.threadID = threadID\n",
    "        self.name = name\n",
    "        self.counter = counter\n",
    "    def run(self):\n",
    "        print (\"Starting \" + self.name)\n",
    "        print_time(self.name, 5, self.counter)\n",
    "        print (\"Exiting \" + self.name)\n",
    "\n",
    "def print_time(threadName, delay, counter):\n",
    "    while counter:\n",
    "        time.sleep(delay)\n",
    "        print (\"{}: {}\".format(threadName, time.ctime(time.time())))\n",
    "        counter -= 1\n",
    "\n",
    "# Create new threads\n",
    "thread1 = myThread(1, \"Thread-1\", 3)\n",
    "thread2 = myThread(2, \"Thread-2\", 2)\n",
    "\n",
    "# Start new Threads\n",
    "thread1.start()\n",
    "thread2.start()\n",
    "print (\"Exiting Main Thread\")"
   ]
  },
  {
   "cell_type": "markdown",
   "metadata": {},
   "source": [
    "# \n",
    "# \n",
    "# \n",
    "# \n",
    "# \n",
    "# "
   ]
  },
  {
   "cell_type": "markdown",
   "metadata": {},
   "source": [
    "# Synchronization"
   ]
  },
  {
   "cell_type": "code",
   "execution_count": 1,
   "metadata": {},
   "outputs": [],
   "source": [
    "import threading\n",
    "import time"
   ]
  },
  {
   "cell_type": "code",
   "execution_count": 2,
   "metadata": {},
   "outputs": [
    {
     "name": "stdout",
     "output_type": "stream",
     "text": [
      "initial balance value :  200\n",
      "\n",
      "Starting Thread 1\n",
      "\n",
      " foo 1 called \n",
      "\n",
      "\n",
      "Starting Thread 2\n",
      "\n",
      " foo 2 called \n",
      "\n",
      "\n",
      "value of balance updated  100.0\n",
      "\n",
      "Final Balance 200.0\n"
     ]
    }
   ],
   "source": [
    "balance = 200\n",
    "\n",
    "print('initial balance value : ', balance)\n",
    "\n",
    "class myThread(threading.Thread):\n",
    "    def __init__(self, name, target ):\n",
    "        threading.Thread.__init__(self)\n",
    "        self.name = name\n",
    "        self.target = target\n",
    "    \n",
    "    def run(self):\n",
    "        print('\\nStarting Thread', self.name)\n",
    "        # function call\n",
    "        self.target()\n",
    "        \n",
    "def foo1():\n",
    "    print(\"\\n foo 1 called \\n\")\n",
    "    time.sleep(3)\n",
    "    final_balance = balance * 2\n",
    "    print('\\nFinal Balance', final_balance)\n",
    "\n",
    "def foo2():\n",
    "    print(\"\\n foo 2 called \\n\")\n",
    "    global balance\n",
    "    balance /= 2\n",
    "    print('\\nvalue of balance updated ', balance)\n",
    "\n",
    "thread1 = myThread(name = 1, target= foo1)\n",
    "thread2 = myThread(name = 2, target= foo2)\n",
    "\n",
    "thread1.start()\n",
    "thread2.start()"
   ]
  },
  {
   "cell_type": "code",
   "execution_count": 4,
   "metadata": {},
   "outputs": [
    {
     "name": "stdout",
     "output_type": "stream",
     "text": [
      "initial balance value :  200\n",
      "\n",
      "\n",
      "Starting Thread\n",
      "\n",
      "Starting Thread  1\n",
      "\n",
      "Lock acquired for thread : 1\n",
      "\n",
      " foo 1 called \n",
      "\n",
      "2\n",
      "\n",
      "Final Balance 400\n",
      "\n",
      "Lock released for thread : 1\n",
      "\n",
      "Lock acquired for thread : 2\n",
      "\n",
      " foo 2 called \n",
      "\n",
      "\n",
      "value of balance updated  100.0\n",
      "\n",
      "Lock released for thread : 2\n"
     ]
    }
   ],
   "source": [
    "balance = 200\n",
    "\n",
    "print('initial balance value : ', balance)\n",
    "\n",
    "class myThread(threading.Thread):\n",
    "    def __init__(self, name, target ):\n",
    "        threading.Thread.__init__(self)\n",
    "        self.name = name\n",
    "        self.target = target\n",
    "    \n",
    "    def run(self):\n",
    "        print('\\n\\nStarting Thread', self.name)\n",
    "        # acquire\n",
    "        threadLock.acquire()\n",
    "        print('\\nLock acquired for thread :', self.name)\n",
    "        \n",
    "        # function call\n",
    "        self.target()\n",
    "        \n",
    "        # Free lock\n",
    "        threadLock.release()\n",
    "        print('\\nLock released for thread :', self.name)\n",
    "        \n",
    "        \n",
    "def foo1():\n",
    "    print(\"\\n foo 1 called \\n\")\n",
    "    time.sleep(3)\n",
    "    final_balance = balance * 2\n",
    "    print('\\nFinal Balance', final_balance)\n",
    "\n",
    "def foo2():\n",
    "    print(\"\\n foo 2 called \\n\")\n",
    "    global balance\n",
    "    balance /= 2\n",
    "    print('\\nvalue of balance updated ', balance)\n",
    "\n",
    "# creating a lock object\n",
    "threadLock = threading.Lock()\n",
    "\n",
    "\n",
    "thread1 = myThread(name = 1, target= foo1)\n",
    "thread2 = myThread(name = 2, target= foo2)\n",
    "\n",
    "thread1.start()\n",
    "thread2.start()\n",
    "thread1.join()\n",
    "thread2.join()"
   ]
  },
  {
   "cell_type": "code",
   "execution_count": null,
   "metadata": {},
   "outputs": [],
   "source": []
  }
 ],
 "metadata": {
  "kernelspec": {
   "display_name": "Python 3",
   "language": "python",
   "name": "python3"
  },
  "language_info": {
   "codemirror_mode": {
    "name": "ipython",
    "version": 3
   },
   "file_extension": ".py",
   "mimetype": "text/x-python",
   "name": "python",
   "nbconvert_exporter": "python",
   "pygments_lexer": "ipython3",
   "version": "3.8.2"
  }
 },
 "nbformat": 4,
 "nbformat_minor": 4
}
