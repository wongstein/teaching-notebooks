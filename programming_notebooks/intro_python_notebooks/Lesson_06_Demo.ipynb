{
 "cells": [
  {
   "cell_type": "markdown",
   "id": "a2408ee7",
   "metadata": {},
   "source": [
    "# Functions"
   ]
  },
  {
   "cell_type": "code",
   "execution_count": 1,
   "id": "28ff123d",
   "metadata": {},
   "outputs": [],
   "source": [
    "# Function Definition\n",
    "def greetings(name, greeting):\n",
    "    print(greeting ,'! ', name, sep = '')"
   ]
  },
  {
   "cell_type": "code",
   "execution_count": 2,
   "id": "c9c6854b",
   "metadata": {},
   "outputs": [
    {
     "name": "stdout",
     "output_type": "stream",
     "text": [
      "Hello! John\n"
     ]
    }
   ],
   "source": [
    "# Function call\n",
    "greetings('John', 'Hello')"
   ]
  },
  {
   "cell_type": "markdown",
   "id": "566f452b",
   "metadata": {},
   "source": [
    "### Positional Argument"
   ]
  },
  {
   "cell_type": "code",
   "execution_count": 3,
   "id": "ec0d3ee4",
   "metadata": {},
   "outputs": [
    {
     "name": "stdout",
     "output_type": "stream",
     "text": [
      "John! Hello\n"
     ]
    }
   ],
   "source": [
    "greetings('Hello', 'John')"
   ]
  },
  {
   "cell_type": "markdown",
   "id": "e56a104c",
   "metadata": {},
   "source": [
    "### Keyword Arguments"
   ]
  },
  {
   "cell_type": "code",
   "execution_count": 4,
   "id": "cbc2c9d1",
   "metadata": {},
   "outputs": [
    {
     "name": "stdout",
     "output_type": "stream",
     "text": [
      "Hello! John\n"
     ]
    }
   ],
   "source": [
    "greetings(greeting= 'Hello', name = 'John')"
   ]
  },
  {
   "cell_type": "markdown",
   "id": "855dca99",
   "metadata": {},
   "source": [
    "### Parameters with Default value "
   ]
  },
  {
   "cell_type": "code",
   "execution_count": 5,
   "id": "2702811c",
   "metadata": {},
   "outputs": [],
   "source": [
    "def greetings(name, greeting):\n",
    "    print(greeting ,'! ', name, sep = '')"
   ]
  },
  {
   "cell_type": "code",
   "execution_count": 6,
   "id": "7ba087fb",
   "metadata": {},
   "outputs": [
    {
     "ename": "TypeError",
     "evalue": "greetings() missing 1 required positional argument: 'greeting'",
     "output_type": "error",
     "traceback": [
      "\u001b[0;31m---------------------------------------------------------------------------\u001b[0m",
      "\u001b[0;31mTypeError\u001b[0m                                 Traceback (most recent call last)",
      "\u001b[0;32m<ipython-input-6-e30223bc8154>\u001b[0m in \u001b[0;36m<module>\u001b[0;34m\u001b[0m\n\u001b[0;32m----> 1\u001b[0;31m \u001b[0mgreetings\u001b[0m\u001b[0;34m(\u001b[0m\u001b[0;34m'John'\u001b[0m\u001b[0;34m)\u001b[0m\u001b[0;34m\u001b[0m\u001b[0;34m\u001b[0m\u001b[0m\n\u001b[0m",
      "\u001b[0;31mTypeError\u001b[0m: greetings() missing 1 required positional argument: 'greeting'"
     ]
    }
   ],
   "source": [
    "greetings('John')"
   ]
  },
  {
   "cell_type": "code",
   "execution_count": 7,
   "id": "eee0fdba",
   "metadata": {},
   "outputs": [],
   "source": [
    "def greetings(name, greeting = 'Hello'):\n",
    "    print(greeting ,'! ', name, sep = '')"
   ]
  },
  {
   "cell_type": "code",
   "execution_count": 8,
   "id": "3df332b4",
   "metadata": {},
   "outputs": [
    {
     "name": "stdout",
     "output_type": "stream",
     "text": [
      "Hello! John\n"
     ]
    }
   ],
   "source": [
    "greetings('John')"
   ]
  },
  {
   "cell_type": "code",
   "execution_count": 9,
   "id": "0c323e51",
   "metadata": {},
   "outputs": [
    {
     "name": "stdout",
     "output_type": "stream",
     "text": [
      "Hi! John\n"
     ]
    }
   ],
   "source": [
    "greetings('John', 'Hi')"
   ]
  },
  {
   "cell_type": "markdown",
   "id": "2073b32f",
   "metadata": {},
   "source": [
    "### Arbitrary Arguments"
   ]
  },
  {
   "cell_type": "markdown",
   "id": "15975983",
   "metadata": {},
   "source": [
    "#### Non Keyword Arbitrary Argument"
   ]
  },
  {
   "cell_type": "code",
   "execution_count": 10,
   "id": "e4666192",
   "metadata": {},
   "outputs": [],
   "source": [
    "# function defined with non keyword variable no. of arguments\n",
    "def total(*args):\n",
    "    tot = 0\n",
    "    for n in args:\n",
    "        tot += n\n",
    "    print(tot)"
   ]
  },
  {
   "cell_type": "code",
   "execution_count": 11,
   "id": "14ba98b3",
   "metadata": {},
   "outputs": [
    {
     "name": "stdout",
     "output_type": "stream",
     "text": [
      "90\n"
     ]
    }
   ],
   "source": [
    "total(23, 67)"
   ]
  },
  {
   "cell_type": "code",
   "execution_count": 12,
   "id": "8a377c28",
   "metadata": {},
   "outputs": [
    {
     "name": "stdout",
     "output_type": "stream",
     "text": [
      "270\n"
     ]
    }
   ],
   "source": [
    "total(90, 100, 10, 30, 40)"
   ]
  },
  {
   "cell_type": "markdown",
   "id": "3d277a3d",
   "metadata": {},
   "source": [
    "#### Keyword Arbitrary Argument"
   ]
  },
  {
   "cell_type": "code",
   "execution_count": 13,
   "id": "492d7047",
   "metadata": {},
   "outputs": [],
   "source": [
    "# function defined with variable no. keyword variable no. of arguments\n",
    "def information(**kwargs):\n",
    "    for key in kwargs.keys():\n",
    "        print(key, \":\", kwargs[key])\n",
    "    "
   ]
  },
  {
   "cell_type": "code",
   "execution_count": 14,
   "id": "58954c97",
   "metadata": {},
   "outputs": [
    {
     "name": "stdout",
     "output_type": "stream",
     "text": [
      "name : John Davis\n",
      "age : 34\n"
     ]
    }
   ],
   "source": [
    "information(name = 'John Davis', age = 34)"
   ]
  },
  {
   "cell_type": "code",
   "execution_count": 15,
   "id": "60924c19",
   "metadata": {},
   "outputs": [
    {
     "name": "stdout",
     "output_type": "stream",
     "text": [
      "name : John Davis\n",
      "age : 34\n",
      "city : London\n",
      "country : UK\n"
     ]
    }
   ],
   "source": [
    "information(name = 'John Davis', age = 34, city = 'London', country  = 'UK')"
   ]
  },
  {
   "cell_type": "markdown",
   "id": "fa60cdea",
   "metadata": {},
   "source": [
    "## return statement"
   ]
  },
  {
   "cell_type": "code",
   "execution_count": 16,
   "id": "ef5e5909",
   "metadata": {},
   "outputs": [],
   "source": [
    "def net_amount(Amount, tax= 18, discount = 10):\n",
    "    disc = (Amount * discount/100)\n",
    "    tax_amnt = (Amount - disc) * tax/100\n",
    "    net = (Amount - disc) + tax_amnt\n",
    "    print(round(net,2))"
   ]
  },
  {
   "cell_type": "code",
   "execution_count": 18,
   "id": "a5895d16",
   "metadata": {},
   "outputs": [
    {
     "name": "stdin",
     "output_type": "stream",
     "text": [
      "Please enter the bill amount  5000\n",
      "Please enter tax percentage : 9\n",
      "Please enter discount percentage : 15\n"
     ]
    }
   ],
   "source": [
    "amnt = float(input('Please enter the bill amount '))\n",
    "tax = float(input('Please enter tax percentage :'))\n",
    "discount = float(input('Please enter discount percentage :'))"
   ]
  },
  {
   "cell_type": "code",
   "execution_count": 19,
   "id": "cd5cbe59",
   "metadata": {},
   "outputs": [
    {
     "name": "stdout",
     "output_type": "stream",
     "text": [
      "4632.5\n"
     ]
    }
   ],
   "source": [
    "return_value = net_amount(amnt, tax, discount)"
   ]
  },
  {
   "cell_type": "code",
   "execution_count": 20,
   "id": "cd8e03c1",
   "metadata": {},
   "outputs": [
    {
     "name": "stdout",
     "output_type": "stream",
     "text": [
      "None\n"
     ]
    }
   ],
   "source": [
    "print(return_value)"
   ]
  },
  {
   "cell_type": "code",
   "execution_count": 21,
   "id": "3c5c28e7",
   "metadata": {},
   "outputs": [],
   "source": [
    "def net_amount(Amount, tax= 18, discount = 10):\n",
    "    disc = (Amount * discount/100)\n",
    "    tax_amnt = (Amount - disc) * tax/100\n",
    "    net = (Amount - disc) + tax_amnt\n",
    "    return net"
   ]
  },
  {
   "cell_type": "code",
   "execution_count": 22,
   "id": "a5f0e521",
   "metadata": {},
   "outputs": [
    {
     "name": "stdin",
     "output_type": "stream",
     "text": [
      "Please enter the bill amount  5000\n",
      "Please enter tax percentage : 9\n",
      "Please enter discount percentage : 15\n"
     ]
    }
   ],
   "source": [
    "amnt = float(input('Please enter the bill amount '))\n",
    "tax = float(input('Please enter tax percentage :'))\n",
    "discount = float(input('Please enter discount percentage :'))"
   ]
  },
  {
   "cell_type": "code",
   "execution_count": 23,
   "id": "5b11c7cc",
   "metadata": {},
   "outputs": [],
   "source": [
    "return_value = net_amount(amnt, tax, discount)"
   ]
  },
  {
   "cell_type": "code",
   "execution_count": 24,
   "id": "69f6da4c",
   "metadata": {},
   "outputs": [
    {
     "name": "stdout",
     "output_type": "stream",
     "text": [
      "Total Amount to be paid :  4632.5\n"
     ]
    }
   ],
   "source": [
    "print('Total Amount to be paid : ', return_value)"
   ]
  },
  {
   "cell_type": "markdown",
   "id": "f257bf8c",
   "metadata": {},
   "source": [
    "## Scope of Variables"
   ]
  },
  {
   "cell_type": "markdown",
   "id": "c5d86e3c",
   "metadata": {},
   "source": [
    "### global variable"
   ]
  },
  {
   "cell_type": "code",
   "execution_count": 25,
   "id": "544098ac",
   "metadata": {},
   "outputs": [
    {
     "name": "stdout",
     "output_type": "stream",
     "text": [
      "10\n"
     ]
    }
   ],
   "source": [
    "var = 10\n",
    "print(var)"
   ]
  },
  {
   "cell_type": "markdown",
   "id": "a819e4f4",
   "metadata": {},
   "source": [
    "### local variables"
   ]
  },
  {
   "cell_type": "code",
   "execution_count": 26,
   "id": "7667b1f6",
   "metadata": {},
   "outputs": [],
   "source": [
    "def foo(inp):\n",
    "    # local variable\n",
    "    lc = 30\n",
    "    print('input parameter : ', inp)\n",
    "    print('local value : ', lc)"
   ]
  },
  {
   "cell_type": "code",
   "execution_count": 27,
   "id": "0ea4170b",
   "metadata": {},
   "outputs": [
    {
     "name": "stdout",
     "output_type": "stream",
     "text": [
      "input parameter :  45\n",
      "local value :  30\n"
     ]
    }
   ],
   "source": [
    "foo(45)"
   ]
  },
  {
   "cell_type": "markdown",
   "id": "2e4e4573",
   "metadata": {},
   "source": [
    "#### calling local variable outside function"
   ]
  },
  {
   "cell_type": "code",
   "execution_count": 28,
   "id": "435331e7",
   "metadata": {},
   "outputs": [
    {
     "ename": "NameError",
     "evalue": "name 'inp' is not defined",
     "output_type": "error",
     "traceback": [
      "\u001b[0;31m---------------------------------------------------------------------------\u001b[0m",
      "\u001b[0;31mNameError\u001b[0m                                 Traceback (most recent call last)",
      "\u001b[0;32m<ipython-input-28-cb8c237a903d>\u001b[0m in \u001b[0;36m<module>\u001b[0;34m\u001b[0m\n\u001b[0;32m----> 1\u001b[0;31m \u001b[0mprint\u001b[0m\u001b[0;34m(\u001b[0m\u001b[0minp\u001b[0m\u001b[0;34m)\u001b[0m\u001b[0;34m\u001b[0m\u001b[0;34m\u001b[0m\u001b[0m\n\u001b[0m",
      "\u001b[0;31mNameError\u001b[0m: name 'inp' is not defined"
     ]
    }
   ],
   "source": [
    "print(inp)"
   ]
  },
  {
   "cell_type": "markdown",
   "id": "a749aba4",
   "metadata": {},
   "source": [
    "#### calling global variable inside a function"
   ]
  },
  {
   "cell_type": "code",
   "execution_count": 29,
   "id": "22842176",
   "metadata": {},
   "outputs": [],
   "source": [
    "def foo2():\n",
    "    square = var ** 2\n",
    "    return square"
   ]
  },
  {
   "cell_type": "code",
   "execution_count": 30,
   "id": "5b796126",
   "metadata": {},
   "outputs": [
    {
     "data": {
      "text/plain": [
       "100"
      ]
     },
     "execution_count": 30,
     "metadata": {},
     "output_type": "execute_result"
    }
   ],
   "source": [
    "foo2()"
   ]
  },
  {
   "cell_type": "markdown",
   "id": "ef2d34d1",
   "metadata": {},
   "source": [
    "### local and global variable with same name"
   ]
  },
  {
   "cell_type": "code",
   "execution_count": 31,
   "id": "58db9e7c",
   "metadata": {},
   "outputs": [],
   "source": [
    "var = 10 # global variable"
   ]
  },
  {
   "cell_type": "code",
   "execution_count": 32,
   "id": "3153cf4e",
   "metadata": {},
   "outputs": [],
   "source": [
    "def foo3():\n",
    "    var = 50 # local variable\n",
    "    print('inside function var  =', var)"
   ]
  },
  {
   "cell_type": "code",
   "execution_count": 33,
   "id": "32bffe23",
   "metadata": {},
   "outputs": [
    {
     "name": "stdout",
     "output_type": "stream",
     "text": [
      "inside function var  = 50\n",
      "outside function var = 10\n"
     ]
    }
   ],
   "source": [
    "foo3()\n",
    "print('outside function var =', var)"
   ]
  },
  {
   "cell_type": "markdown",
   "id": "c8a7207a",
   "metadata": {},
   "source": [
    "### creating or manipulating global variable inside a function"
   ]
  },
  {
   "cell_type": "code",
   "execution_count": 34,
   "id": "33cc5e40",
   "metadata": {},
   "outputs": [
    {
     "name": "stdout",
     "output_type": "stream",
     "text": [
      "before function call var = 15\n",
      "inside function var  = 75\n",
      "outside function var = 75\n"
     ]
    }
   ],
   "source": [
    "var = 15\n",
    "print('before function call var =', var)\n",
    "\n",
    "def foo4():\n",
    "    global var\n",
    "    var *= 5\n",
    "    print('inside function var  =', var)\n",
    "\n",
    "foo4()\n",
    "print('outside function var =', var)"
   ]
  },
  {
   "cell_type": "markdown",
   "id": "1a646d78",
   "metadata": {},
   "source": [
    "## Generator Functions"
   ]
  },
  {
   "cell_type": "code",
   "execution_count": 35,
   "id": "7cbcfb78",
   "metadata": {},
   "outputs": [],
   "source": [
    "def myGenerator():\n",
    "    n = 1\n",
    "    print('First Iteration')\n",
    "    yield 'Number 1 : n = ' + str(n)\n",
    "    \n",
    "    n += 2\n",
    "    print('Second Iteration')\n",
    "    yield 'Number 2 : n = ' + str(n)\n",
    "    \n",
    "    n += 3\n",
    "    print('Third Iteration')\n",
    "    yield 'Number 3 : n = ' + str(n)"
   ]
  },
  {
   "cell_type": "markdown",
   "id": "5bc2de36",
   "metadata": {},
   "source": [
    "### generator call : way 1"
   ]
  },
  {
   "cell_type": "code",
   "execution_count": 36,
   "id": "38efec56",
   "metadata": {},
   "outputs": [],
   "source": [
    "gen = myGenerator()"
   ]
  },
  {
   "cell_type": "code",
   "execution_count": 37,
   "id": "b099a748",
   "metadata": {},
   "outputs": [
    {
     "data": {
      "text/plain": [
       "<generator object myGenerator at 0x7faf79799740>"
      ]
     },
     "execution_count": 37,
     "metadata": {},
     "output_type": "execute_result"
    }
   ],
   "source": [
    "gen"
   ]
  },
  {
   "cell_type": "code",
   "execution_count": 38,
   "id": "e79abfaf",
   "metadata": {},
   "outputs": [
    {
     "name": "stdout",
     "output_type": "stream",
     "text": [
      "First Iteration\n",
      "Number 1 : n = 1\n"
     ]
    }
   ],
   "source": [
    "print(next(gen))"
   ]
  },
  {
   "cell_type": "code",
   "execution_count": 39,
   "id": "459ba7cc",
   "metadata": {},
   "outputs": [
    {
     "name": "stdout",
     "output_type": "stream",
     "text": [
      "Second Iteration\n",
      "Number 2 : n = 3\n"
     ]
    }
   ],
   "source": [
    "print(next(gen))"
   ]
  },
  {
   "cell_type": "code",
   "execution_count": 40,
   "id": "99184a59",
   "metadata": {},
   "outputs": [
    {
     "name": "stdout",
     "output_type": "stream",
     "text": [
      "Third Iteration\n",
      "Number 3 : n = 6\n"
     ]
    }
   ],
   "source": [
    "print(next(gen))"
   ]
  },
  {
   "cell_type": "markdown",
   "id": "82d7bc41",
   "metadata": {},
   "source": [
    "### the next function is called untill all values are yielded."
   ]
  },
  {
   "cell_type": "markdown",
   "id": "5fc49fc6",
   "metadata": {},
   "source": [
    "### generator call : way 2"
   ]
  },
  {
   "cell_type": "code",
   "execution_count": 41,
   "id": "603a4cc8",
   "metadata": {},
   "outputs": [
    {
     "name": "stdout",
     "output_type": "stream",
     "text": [
      "First Iteration\n",
      "Number 1 : n = 1 \n",
      "\n",
      "Second Iteration\n",
      "Number 2 : n = 3 \n",
      "\n",
      "Third Iteration\n",
      "Number 3 : n = 6 \n",
      "\n"
     ]
    }
   ],
   "source": [
    "gen = myGenerator()\n",
    "for value in gen :\n",
    "    print(value, '\\n')"
   ]
  },
  {
   "cell_type": "markdown",
   "id": "b76691b5",
   "metadata": {
    "tags": []
   },
   "source": [
    "## built in functions"
   ]
  },
  {
   "cell_type": "code",
   "execution_count": 7,
   "id": "3e362198-3b58-4882-9e2b-7ef99f5e24f6",
   "metadata": {},
   "outputs": [
    {
     "data": {
      "text/plain": [
       "dict_keys(['__name__', '__doc__', '__package__', '__loader__', '__spec__', '__path__', '__file__', '__cached__', '__builtins__', '__docformat__', '_typing', '_config', '_libs', 'core', 'errors', 'util', 'compat', '_is_numpy_dev', 'get_option', 'set_option', 'reset_option', 'describe_option', 'option_context', 'options', 'pandas', 'io', 'tseries', 'arrays', 'plotting', 'Int8Dtype', 'Int16Dtype', 'Int32Dtype', 'Int64Dtype', 'UInt8Dtype', 'UInt16Dtype', 'UInt32Dtype', 'UInt64Dtype', 'Float32Dtype', 'Float64Dtype', 'CategoricalDtype', 'PeriodDtype', 'IntervalDtype', 'DatetimeTZDtype', 'StringDtype', 'BooleanDtype', 'NA', 'isna', 'isnull', 'notna', 'notnull', 'Index', 'CategoricalIndex', 'RangeIndex', 'MultiIndex', 'IntervalIndex', 'TimedeltaIndex', 'DatetimeIndex', 'PeriodIndex', 'IndexSlice', 'NaT', 'Period', 'period_range', 'Timedelta', 'timedelta_range', 'Timestamp', 'date_range', 'bdate_range', 'Interval', 'interval_range', 'DateOffset', 'to_numeric', 'to_datetime', 'to_timedelta', 'Flags', 'Grouper', 'factorize', 'unique', 'value_counts', 'NamedAgg', 'array', 'Categorical', 'set_eng_float_format', 'Series', 'DataFrame', 'SparseDtype', 'infer_freq', 'offsets', 'eval', 'concat', 'lreshape', 'melt', 'wide_to_long', 'merge', 'merge_asof', 'merge_ordered', 'crosstab', 'pivot', 'pivot_table', 'get_dummies', 'cut', 'qcut', 'api', '_testing', 'testing', 'show_versions', 'ExcelFile', 'ExcelWriter', 'read_excel', 'read_csv', 'read_fwf', 'read_table', 'read_pickle', 'to_pickle', 'HDFStore', 'read_hdf', 'read_sql', 'read_sql_query', 'read_sql_table', 'read_clipboard', 'read_parquet', 'read_orc', 'read_feather', 'read_gbq', 'read_html', 'read_xml', 'read_json', 'read_stata', 'read_sas', 'read_spss', 'json_normalize', 'test', '_version', '__version__', '__git_version__', '__deprecated_num_index_names', '__dir__', '__getattr__', '__all__'])"
      ]
     },
     "execution_count": 7,
     "metadata": {},
     "output_type": "execute_result"
    }
   ],
   "source": [
    "import pandas\n",
    "\n",
    "# Only methods related to pandas\n",
    "pandas.__dict__.keys()"
   ]
  },
  {
   "cell_type": "code",
   "execution_count": 42,
   "id": "6adc6d24",
   "metadata": {},
   "outputs": [
    {
     "name": "stdout",
     "output_type": "stream",
     "text": [
      "['ArithmeticError', 'AssertionError', 'AttributeError', 'BaseException', 'BlockingIOError', 'BrokenPipeError', 'BufferError', 'BytesWarning', 'ChildProcessError', 'ConnectionAbortedError', 'ConnectionError', 'ConnectionRefusedError', 'ConnectionResetError', 'DeprecationWarning', 'EOFError', 'Ellipsis', 'EnvironmentError', 'Exception', 'False', 'FileExistsError', 'FileNotFoundError', 'FloatingPointError', 'FutureWarning', 'GeneratorExit', 'IOError', 'ImportError', 'ImportWarning', 'IndentationError', 'IndexError', 'InterruptedError', 'IsADirectoryError', 'KeyError', 'KeyboardInterrupt', 'LookupError', 'MemoryError', 'ModuleNotFoundError', 'NameError', 'None', 'NotADirectoryError', 'NotImplemented', 'NotImplementedError', 'OSError', 'OverflowError', 'PendingDeprecationWarning', 'PermissionError', 'ProcessLookupError', 'RecursionError', 'ReferenceError', 'ResourceWarning', 'RuntimeError', 'RuntimeWarning', 'StopAsyncIteration', 'StopIteration', 'SyntaxError', 'SyntaxWarning', 'SystemError', 'SystemExit', 'TabError', 'TimeoutError', 'True', 'TypeError', 'UnboundLocalError', 'UnicodeDecodeError', 'UnicodeEncodeError', 'UnicodeError', 'UnicodeTranslateError', 'UnicodeWarning', 'UserWarning', 'ValueError', 'Warning', 'ZeroDivisionError', '__IPYTHON__', '__build_class__', '__debug__', '__doc__', '__import__', '__loader__', '__name__', '__package__', '__spec__', 'abs', 'all', 'any', 'ascii', 'bin', 'bool', 'breakpoint', 'bytearray', 'bytes', 'callable', 'chr', 'classmethod', 'compile', 'complex', 'copyright', 'credits', 'delattr', 'dict', 'dir', 'display', 'divmod', 'enumerate', 'eval', 'exec', 'filter', 'float', 'format', 'frozenset', 'get_ipython', 'getattr', 'globals', 'hasattr', 'hash', 'help', 'hex', 'id', 'input', 'int', 'isinstance', 'issubclass', 'iter', 'len', 'license', 'list', 'locals', 'map', 'max', 'memoryview', 'min', 'next', 'object', 'oct', 'open', 'ord', 'pow', 'print', 'property', 'range', 'repr', 'reversed', 'round', 'set', 'setattr', 'slice', 'sorted', 'staticmethod', 'str', 'sum', 'super', 'tuple', 'type', 'vars', 'zip']\n"
     ]
    }
   ],
   "source": [
    "# Methods / Classes that come for free with Python\n",
    "print(dir(__builtins__))"
   ]
  },
  {
   "cell_type": "markdown",
   "id": "27d9800d-80c7-4644-8fc0-fb9d974ffa5e",
   "metadata": {},
   "source": [
    "# Lambda"
   ]
  },
  {
   "cell_type": "code",
   "execution_count": 8,
   "id": "47122fec-4dca-4004-bb34-59a1aaca0327",
   "metadata": {},
   "outputs": [],
   "source": [
    "test = lambda var: var + 1\n"
   ]
  },
  {
   "cell_type": "code",
   "execution_count": 9,
   "id": "56270474-4580-4477-bb32-bc524cc358bb",
   "metadata": {},
   "outputs": [
    {
     "data": {
      "text/plain": [
       "2"
      ]
     },
     "execution_count": 9,
     "metadata": {},
     "output_type": "execute_result"
    }
   ],
   "source": [
    "test(1)"
   ]
  },
  {
   "cell_type": "code",
   "execution_count": 10,
   "id": "1c0d4fd1-10ad-440e-8fd6-771f8b6bc665",
   "metadata": {},
   "outputs": [],
   "source": [
    "get_max_list = lambda some_list: max(some_list)"
   ]
  },
  {
   "cell_type": "code",
   "execution_count": 11,
   "id": "36c12e04-2545-4594-8088-8fdfd3933e26",
   "metadata": {},
   "outputs": [
    {
     "data": {
      "text/plain": [
       "3"
      ]
     },
     "execution_count": 11,
     "metadata": {},
     "output_type": "execute_result"
    }
   ],
   "source": [
    "get_max_list([1, 2, 3])"
   ]
  },
  {
   "cell_type": "code",
   "execution_count": 12,
   "id": "5bda882a-935e-4963-8f39-48ad0b4d4695",
   "metadata": {},
   "outputs": [],
   "source": [
    "lambda_inception = lambda x: lambda x: x"
   ]
  },
  {
   "cell_type": "code",
   "execution_count": 14,
   "id": "498120e7-8be2-4112-bdc2-1b7172db2f2c",
   "metadata": {},
   "outputs": [
    {
     "data": {
      "text/plain": [
       "1"
      ]
     },
     "execution_count": 14,
     "metadata": {},
     "output_type": "execute_result"
    }
   ],
   "source": [
    "lambda_inception(1)(1)"
   ]
  },
  {
   "cell_type": "code",
   "execution_count": 15,
   "id": "501aaff2-42ed-455e-88b1-104b9f252398",
   "metadata": {},
   "outputs": [
    {
     "data": {
      "text/plain": [
       "1"
      ]
     },
     "execution_count": 15,
     "metadata": {},
     "output_type": "execute_result"
    }
   ],
   "source": [
    "# If else statement syntax\n",
    "# STATEMENT if (condition) else STATEMENT\n",
    "\n",
    "test = lambda x, y, z: x if x == 1 else y\n",
    "\n",
    "test(1, 2, 3)"
   ]
  },
  {
   "cell_type": "code",
   "execution_count": 16,
   "id": "0c84f3ed-6026-4537-b061-41087b3f1c2c",
   "metadata": {},
   "outputs": [
    {
     "data": {
      "text/plain": [
       "2"
      ]
     },
     "execution_count": 16,
     "metadata": {},
     "output_type": "execute_result"
    }
   ],
   "source": [
    "test(3, 2, 1)"
   ]
  },
  {
   "cell_type": "markdown",
   "id": "a1d6f9ad",
   "metadata": {},
   "source": [
    "## map function"
   ]
  },
  {
   "cell_type": "code",
   "execution_count": 17,
   "id": "ddbda620",
   "metadata": {},
   "outputs": [
    {
     "name": "stdout",
     "output_type": "stream",
     "text": [
      " 22.0 in degree C is equivalent to   71.6 in degree F.\n",
      " 45.3 in degree C is equivalent to  113.5 in degree F.\n",
      " 35.4 in degree C is equivalent to   95.7 in degree F.\n",
      " 40.0 in degree C is equivalent to  104.0 in degree F.\n",
      " 44.7 in degree C is equivalent to  112.5 in degree F.\n",
      " 21.5 in degree C is equivalent to   70.7 in degree F.\n"
     ]
    }
   ],
   "source": [
    "temp = [22.0, 45.3, 35.4, 40.0, 44.7, 21.5] # celsius\n",
    "for T in temp:\n",
    "    f = ((9/5) * T) + 32\n",
    "    print('{:5.1f} in degree C is equivalent to {:6.1f} in degree F.'.format(T,f))"
   ]
  },
  {
   "cell_type": "code",
   "execution_count": 18,
   "id": "da8a1d86-6918-4f98-8425-2033d8986731",
   "metadata": {},
   "outputs": [
    {
     "name": "stdout",
     "output_type": "stream",
     "text": [
      "Help on built-in function round in module builtins:\n",
      "\n",
      "round(number, ndigits=None)\n",
      "    Round a number to a given precision in decimal digits.\n",
      "    \n",
      "    The return value is an integer if ndigits is omitted or None.  Otherwise\n",
      "    the return value has the same type as the number.  ndigits may be negative.\n",
      "\n"
     ]
    }
   ],
   "source": [
    "help(round)"
   ]
  },
  {
   "cell_type": "code",
   "execution_count": 19,
   "id": "bf944a1b",
   "metadata": {},
   "outputs": [],
   "source": [
    "def Fahrenhite(T):\n",
    "    return round(((9/5) * T) + 32, 1)"
   ]
  },
  {
   "cell_type": "code",
   "execution_count": 21,
   "id": "69bac8f8-57f7-4253-8177-36ab904b051e",
   "metadata": {},
   "outputs": [
    {
     "data": {
      "text/plain": [
       "[71.6, 113.5, 95.7, 104.0, 112.5, 70.7]"
      ]
     },
     "execution_count": 21,
     "metadata": {},
     "output_type": "execute_result"
    }
   ],
   "source": [
    "list(map(Fahrenhite, temp))"
   ]
  },
  {
   "cell_type": "code",
   "execution_count": 22,
   "id": "e2b9b970",
   "metadata": {},
   "outputs": [
    {
     "name": "stdout",
     "output_type": "stream",
     "text": [
      "Temp in deg C  [22.0, 45.3, 35.4, 40.0, 44.7, 21.5]\n",
      "Temp in deg F  [71.6, 113.5, 95.7, 104.0, 112.5, 70.7]\n"
     ]
    }
   ],
   "source": [
    "results = list(map(Fahrenhite, temp))\n",
    "print('Temp in deg C ', temp)\n",
    "print('Temp in deg F ', results)"
   ]
  },
  {
   "cell_type": "code",
   "execution_count": 25,
   "id": "35095f40-240d-4805-a9ae-af5aa889c292",
   "metadata": {},
   "outputs": [],
   "source": [
    "def Key_Value(x):\n",
    "    print(x)\n",
    "    global test_dict # yikes kind of messy\n",
    "    print(test_dict[x])\n",
    "\n",
    "test_dict = {\"hello\": \"world\"}"
   ]
  },
  {
   "cell_type": "code",
   "execution_count": 26,
   "id": "aaef8926-b3cc-47a9-83cc-6d66274dd9f8",
   "metadata": {},
   "outputs": [
    {
     "name": "stdout",
     "output_type": "stream",
     "text": [
      "hello\n"
     ]
    },
    {
     "data": {
      "text/plain": [
       "[None]"
      ]
     },
     "execution_count": 26,
     "metadata": {},
     "output_type": "execute_result"
    }
   ],
   "source": [
    "list(map(Key_Value, test_dict))"
   ]
  },
  {
   "cell_type": "code",
   "execution_count": 28,
   "id": "6ccf7e3f-03a2-443a-b81d-7d15e48a1298",
   "metadata": {},
   "outputs": [
    {
     "data": {
      "text/plain": [
       "[71.6, 113.5, 95.7, 104.0, 112.5, 70.7]"
      ]
     },
     "execution_count": 28,
     "metadata": {},
     "output_type": "execute_result"
    }
   ],
   "source": [
    "# refactor with Lambda\n",
    "list(map(lambda T: round(((9/5) * T) + 32, 1), temp))"
   ]
  },
  {
   "cell_type": "code",
   "execution_count": 29,
   "id": "cb28e2a9-3ca7-43a4-9952-9d33b7217875",
   "metadata": {},
   "outputs": [
    {
     "data": {
      "text/plain": [
       "[71.6, 113.5, 95.7, 104.0, 112.5, 70.7]"
      ]
     },
     "execution_count": 29,
     "metadata": {},
     "output_type": "execute_result"
    }
   ],
   "source": [
    "## Refactor 2\n",
    "farenheit_conversion = lambda T: round(((9/5) * T) + 32, 1)\n",
    "list(map(farenheit_conversion, temp))"
   ]
  },
  {
   "cell_type": "markdown",
   "id": "6e10de15-3ee2-4853-bf27-c875df1ab187",
   "metadata": {},
   "source": [
    "# List/ Dictionary Comprehensions"
   ]
  },
  {
   "cell_type": "code",
   "execution_count": 1,
   "id": "3b1d3a4f-3cb7-4070-946e-8b4c266731d4",
   "metadata": {},
   "outputs": [],
   "source": [
    "def make_even(num):\n",
    "    if num % 2 == 0:\n",
    "        return num\n",
    "    return num + 1 # cast up always"
   ]
  },
  {
   "cell_type": "code",
   "execution_count": 40,
   "id": "17e9826e-0ca7-4a7d-999c-4ae32fec4462",
   "metadata": {},
   "outputs": [],
   "source": [
    "numbers = [1, 3,235,692, 23,5,8,10]"
   ]
  },
  {
   "cell_type": "code",
   "execution_count": 5,
   "id": "421efcf1-36ca-4424-87c2-e997b570cce1",
   "metadata": {},
   "outputs": [
    {
     "data": {
      "text/plain": [
       "[4, 236, 692, 24, 6, 8, 10]"
      ]
     },
     "execution_count": 5,
     "metadata": {},
     "output_type": "execute_result"
    }
   ],
   "source": [
    "# List Comprehension Syntax: [do_things(var) for var in iterable]\n",
    "numbers_evened = [make_even(num) for num in numbers]\n",
    "numbers_evened"
   ]
  },
  {
   "cell_type": "code",
   "execution_count": 34,
   "id": "2b0b2177-3b2b-4955-84d8-ef35885f7d8e",
   "metadata": {},
   "outputs": [
    {
     "data": {
      "text/plain": [
       "[694, 10, 12]"
      ]
     },
     "execution_count": 34,
     "metadata": {},
     "output_type": "execute_result"
    }
   ],
   "source": [
    "# You just have if, no else.\n",
    "## Keep this number if it's even, else don't include (Filter)\n",
    "\n",
    "# Syntax: [statement for var in iterable if (condition)]\n",
    "\n",
    "numbers_only_even = [num + 2 for num in numbers if num % 2 == 0]\n",
    "numbers_only_even"
   ]
  },
  {
   "cell_type": "code",
   "execution_count": 42,
   "id": "37147eeb-acf6-4a43-967e-c740417a0470",
   "metadata": {},
   "outputs": [
    {
     "data": {
      "text/plain": [
       "[2, 4, 236, 692, 24, 6, 8, 10]"
      ]
     },
     "execution_count": 42,
     "metadata": {},
     "output_type": "execute_result"
    }
   ],
   "source": [
    "# rewrite without function\n",
    "## SYNTAX = [STATEMENT if (condition) else som_other_var for som_var in list]\n",
    "\n",
    "[num if (num % 2 == 0) else num + 1 for num in numbers]"
   ]
  },
  {
   "cell_type": "code",
   "execution_count": 45,
   "id": "3e498f3e-9523-48ad-8890-1a3713babf38",
   "metadata": {},
   "outputs": [
    {
     "data": {
      "text/plain": [
       "{'mon': 1, 'tues': 2, 'wed': 3, 'thurs': 4, 'fri': 5, 'sat': 6, 'sun': 7}"
      ]
     },
     "execution_count": 45,
     "metadata": {},
     "output_type": "execute_result"
    }
   ],
   "source": [
    "# Dictionary Comprehension\n",
    "\n",
    "days_week = [\"mon\", \"tues\", \"wed\", \"thurs\", \"fri\", \"sat\", \"sun\"]\n",
    "days_int = [1 , 2, 3, 4, 5, 6, 7, 8, 10]\n",
    "\n",
    "# what I want: \n",
    "## Day_int_map = {\"Mon\": 1} # get this without writing it myself, because I'm lazy\n",
    "\n",
    "# using dictionary comprehension\n",
    "# Syntax: { key: value for var in iterable}\n",
    "\n",
    "days_int_map = {days_week[i]: days_int[i] for i in range(0, 5)} \n",
    "days_int_map"
   ]
  },
  {
   "cell_type": "code",
   "execution_count": 48,
   "id": "4743cbcb-d2fa-4302-8ff2-7aad5d4c145e",
   "metadata": {},
   "outputs": [
    {
     "ename": "IndexError",
     "evalue": "list index out of range",
     "output_type": "error",
     "traceback": [
      "\u001b[0;31m---------------------------------------------------------------------------\u001b[0m",
      "\u001b[0;31mIndexError\u001b[0m                                Traceback (most recent call last)",
      "\u001b[0;32m/tmp/ipykernel_70/3605107717.py\u001b[0m in \u001b[0;36m<cell line: 4>\u001b[0;34m()\u001b[0m\n\u001b[1;32m      2\u001b[0m \u001b[0;34m\u001b[0m\u001b[0m\n\u001b[1;32m      3\u001b[0m \u001b[0;34m\u001b[0m\u001b[0m\n\u001b[0;32m----> 4\u001b[0;31m \u001b[0;34m{\u001b[0m\u001b[0mdays_week\u001b[0m\u001b[0;34m[\u001b[0m\u001b[0mi\u001b[0m\u001b[0;34m]\u001b[0m\u001b[0;34m:\u001b[0m \u001b[0mdays_int\u001b[0m\u001b[0;34m[\u001b[0m\u001b[0mi\u001b[0m\u001b[0;34m]\u001b[0m \u001b[0;32mfor\u001b[0m \u001b[0mi\u001b[0m \u001b[0;32min\u001b[0m \u001b[0mrange\u001b[0m\u001b[0;34m(\u001b[0m\u001b[0;36m0\u001b[0m\u001b[0;34m,\u001b[0m \u001b[0;36m10\u001b[0m\u001b[0;34m)\u001b[0m\u001b[0;34m}\u001b[0m\u001b[0;34m\u001b[0m\u001b[0;34m\u001b[0m\u001b[0m\n\u001b[0m",
      "\u001b[0;32m/tmp/ipykernel_70/3605107717.py\u001b[0m in \u001b[0;36m<dictcomp>\u001b[0;34m(.0)\u001b[0m\n\u001b[1;32m      2\u001b[0m \u001b[0;34m\u001b[0m\u001b[0m\n\u001b[1;32m      3\u001b[0m \u001b[0;34m\u001b[0m\u001b[0m\n\u001b[0;32m----> 4\u001b[0;31m \u001b[0;34m{\u001b[0m\u001b[0mdays_week\u001b[0m\u001b[0;34m[\u001b[0m\u001b[0mi\u001b[0m\u001b[0;34m]\u001b[0m\u001b[0;34m:\u001b[0m \u001b[0mdays_int\u001b[0m\u001b[0;34m[\u001b[0m\u001b[0mi\u001b[0m\u001b[0;34m]\u001b[0m \u001b[0;32mfor\u001b[0m \u001b[0mi\u001b[0m \u001b[0;32min\u001b[0m \u001b[0mrange\u001b[0m\u001b[0;34m(\u001b[0m\u001b[0;36m0\u001b[0m\u001b[0;34m,\u001b[0m \u001b[0;36m10\u001b[0m\u001b[0;34m)\u001b[0m\u001b[0;34m}\u001b[0m\u001b[0;34m\u001b[0m\u001b[0;34m\u001b[0m\u001b[0m\n\u001b[0m",
      "\u001b[0;31mIndexError\u001b[0m: list index out of range"
     ]
    }
   ],
   "source": [
    "# example of getting index error because the iterable used is too much\n",
    "\n",
    "\n",
    "{days_week[i]: days_int[i] for i in range(0, 10)} "
   ]
  },
  {
   "cell_type": "code",
   "execution_count": 54,
   "id": "ddc85b6c-5c6c-4653-8812-6738ae12f9c2",
   "metadata": {},
   "outputs": [
    {
     "data": {
      "text/plain": [
       "[2, 4]"
      ]
     },
     "execution_count": 54,
     "metadata": {},
     "output_type": "execute_result"
    }
   ],
   "source": [
    "# getting a list from the dictionary\n",
    "\n",
    "# syntax = [statement for key, value in dictionary]\n",
    "\n",
    "# I just want tuesday and thursday => [2, 4]\n",
    "\n",
    "tues_thursday_int = [\n",
    "    days_int_map[key] for key, value in days_int_map.items() if key in [\"tues\", \"thurs\"]\n",
    "]\n",
    "tues_thursday_int"
   ]
  },
  {
   "cell_type": "markdown",
   "id": "3576c07b",
   "metadata": {},
   "source": [
    "### using lambda function"
   ]
  },
  {
   "cell_type": "code",
   "execution_count": 46,
   "id": "ff45bc6a",
   "metadata": {},
   "outputs": [
    {
     "name": "stdout",
     "output_type": "stream",
     "text": [
      "Temp in deg C  [22.0, 45.3, 35.4, 40.0, 44.7, 21.5]\n",
      "Temp in deg F  [71.6, 113.5, 95.7, 104.0, 112.5, 70.7]\n"
     ]
    }
   ],
   "source": [
    "results = list(map(lambda T: round(((9/5) * T) + 32, 1), temp))\n",
    "print('Temp in deg C ', temp)\n",
    "print('Temp in deg F ', results)"
   ]
  },
  {
   "cell_type": "markdown",
   "id": "847e61dd",
   "metadata": {},
   "source": [
    "## filter function"
   ]
  },
  {
   "cell_type": "code",
   "execution_count": 58,
   "id": "4fbc4d57",
   "metadata": {},
   "outputs": [
    {
     "name": "stdout",
     "output_type": "stream",
     "text": [
      "[45, 21, 55, 91, 17]\n",
      "[32, 62, 88]\n"
     ]
    }
   ],
   "source": [
    "numbers = [32, 45, 62, 21, 55, 91, 88, 17 ]\n",
    "\n",
    "odd_numbers = []\n",
    "even_numbers = []\n",
    "for n in numbers:\n",
    "    if (n % 2 == 1): # 1 only conditions that evalute to True end up executing if blocks.\n",
    "        odd_numbers.append(n)\n",
    "    else:\n",
    "        even_numbers.append(n)\n",
    "print(odd_numbers)\n",
    "print(even_numbers)"
   ]
  },
  {
   "cell_type": "code",
   "execution_count": null,
   "id": "85d72eaf-2acb-4ae2-afb4-009fe4cb93ec",
   "metadata": {},
   "outputs": [],
   "source": []
  },
  {
   "cell_type": "code",
   "execution_count": 66,
   "id": "b7da9c12",
   "metadata": {},
   "outputs": [
    {
     "name": "stdout",
     "output_type": "stream",
     "text": [
      "[32, 45, 62, 21, 55, 91, 88, 17]\n"
     ]
    }
   ],
   "source": [
    "numbers = [32, 45, 62, 21, 55, 91, 88, 17 ]\n",
    "\n",
    "# function output: True means don't filter, false means filter and output 1 is True\n",
    "odd_numbers = list(filter ( lambda n : n % 2 == 1, numbers)) \n",
    "print(odd_numbers)"
   ]
  },
  {
   "cell_type": "code",
   "execution_count": 61,
   "id": "b1acc629-46c5-42d5-84b6-7f518dde6b9d",
   "metadata": {},
   "outputs": [],
   "source": [
    "test_filter = filter ( lambda n : n % 2 == 1, numbers)"
   ]
  },
  {
   "cell_type": "code",
   "execution_count": 65,
   "id": "12780078-999c-4690-8d37-0f26fafd9a47",
   "metadata": {},
   "outputs": [
    {
     "data": {
      "text/plain": [
       "55"
      ]
     },
     "execution_count": 65,
     "metadata": {},
     "output_type": "execute_result"
    }
   ],
   "source": [
    "next(test_filter)"
   ]
  },
  {
   "cell_type": "code",
   "execution_count": 10,
   "id": "73ee2d55-4ade-4945-8412-70906f93781a",
   "metadata": {},
   "outputs": [
    {
     "data": {
      "text/plain": [
       "[692, 8, 10]"
      ]
     },
     "execution_count": 10,
     "metadata": {},
     "output_type": "execute_result"
    }
   ],
   "source": [
    "# refactor with list comprehension\n",
    "\n",
    "## SYNTAX FOR JUST IF: [some_var for some_var in list if (condition)]\n",
    "[num for num in numbers if num % 2 == 0]"
   ]
  },
  {
   "cell_type": "markdown",
   "id": "aa9b1493",
   "metadata": {},
   "source": [
    "## reduce function"
   ]
  },
  {
   "cell_type": "code",
   "execution_count": 67,
   "id": "9c282bf4",
   "metadata": {},
   "outputs": [
    {
     "name": "stdout",
     "output_type": "stream",
     "text": [
      "Total : 42\n"
     ]
    }
   ],
   "source": [
    "numbers = [2,4,6,8,10,12]\n",
    "tot = 0\n",
    "for n in numbers:\n",
    "    tot += n\n",
    "print('Total :', tot)"
   ]
  },
  {
   "cell_type": "code",
   "execution_count": 75,
   "id": "00b21dc4",
   "metadata": {},
   "outputs": [
    {
     "name": "stdout",
     "output_type": "stream",
     "text": [
      "Total =  42\n"
     ]
    }
   ],
   "source": [
    "from _functools import reduce\n",
    "\n",
    "def reduce_logic(x, y):\n",
    "    pass\n",
    "\n",
    "numbers = [2,4,6,8,10,12]\n",
    "result = reduce(lambda x , y : x + y if y % 2 == 0 else 0, numbers)\n",
    "print('Total = ', result)"
   ]
  },
  {
   "cell_type": "code",
   "execution_count": 70,
   "id": "da5007b4",
   "metadata": {},
   "outputs": [
    {
     "data": {
      "text/plain": [
       "42"
      ]
     },
     "execution_count": 70,
     "metadata": {},
     "output_type": "execute_result"
    }
   ],
   "source": [
    "sum(numbers)"
   ]
  },
  {
   "cell_type": "code",
   "execution_count": null,
   "id": "a2474de9-9d78-4c6f-8f22-e4c2e72dd688",
   "metadata": {},
   "outputs": [],
   "source": [
    "from pandas import DataFrame\n",
    "\n",
    "from seaborn import histgraph, normgraph"
   ]
  }
 ],
 "metadata": {
  "kernelspec": {
   "display_name": "Python 3 [3.10]",
   "language": "python",
   "name": "python3"
  },
  "language_info": {
   "codemirror_mode": {
    "name": "ipython",
    "version": 3
   },
   "file_extension": ".py",
   "mimetype": "text/x-python",
   "name": "python",
   "nbconvert_exporter": "python",
   "pygments_lexer": "ipython3",
   "version": "3.10.2"
  }
 },
 "nbformat": 4,
 "nbformat_minor": 5
}
