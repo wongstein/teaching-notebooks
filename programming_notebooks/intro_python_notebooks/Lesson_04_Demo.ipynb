{
 "cells": [
  {
   "cell_type": "markdown",
   "id": "9aced902",
   "metadata": {},
   "source": [
    "# Data Types"
   ]
  },
  {
   "cell_type": "code",
   "execution_count": 45,
   "id": "723d66cf",
   "metadata": {},
   "outputs": [],
   "source": [
    "x = None"
   ]
  },
  {
   "cell_type": "code",
   "execution_count": 14,
   "id": "6ca18130",
   "metadata": {},
   "outputs": [
    {
     "name": "stdout",
     "output_type": "stream",
     "text": [
      "x =  34 y =  67.89 z =  True\n"
     ]
    }
   ],
   "source": [
    "x = 34 ; y = 67.89 ; z = True\n",
    "\n",
    "print('x = ', \n",
    "      x, \n",
    "      'y = ', \n",
    "      y, \n",
    "      'z = ', \n",
    "      z)"
   ]
  },
  {
   "cell_type": "code",
   "execution_count": 9,
   "id": "47c43a9e",
   "metadata": {},
   "outputs": [],
   "source": [
    "import pandas as pd\n",
    "test = pd.DataFrame()"
   ]
  },
  {
   "cell_type": "code",
   "execution_count": 10,
   "id": "91dcd266",
   "metadata": {},
   "outputs": [
    {
     "data": {
      "text/plain": [
       "pandas.core.frame.DataFrame"
      ]
     },
     "execution_count": 10,
     "metadata": {},
     "output_type": "execute_result"
    }
   ],
   "source": [
    "type(test)"
   ]
  },
  {
   "cell_type": "code",
   "execution_count": 11,
   "id": "82e95903",
   "metadata": {},
   "outputs": [
    {
     "name": "stdout",
     "output_type": "stream",
     "text": [
      "Type of \n",
      "x =  <class 'int'> \ty =  <class 'float'> \tz =  <class 'bool'>\n"
     ]
    }
   ],
   "source": [
    "print('Type of \\nx = ', type(x), '\\ty = ', type(y), '\\tz = ', type(z))"
   ]
  },
  {
   "cell_type": "code",
   "execution_count": 12,
   "id": "fc1fba8e",
   "metadata": {},
   "outputs": [
    {
     "name": "stdout",
     "output_type": "stream",
     "text": [
      "var =  abc\n",
      "type of var  <class 'str'>\n"
     ]
    }
   ],
   "source": [
    "var = 'abc'\n",
    "print('var = ', var)\n",
    "print('type of var ', type(var))"
   ]
  },
  {
   "cell_type": "markdown",
   "id": "4a9d0925",
   "metadata": {},
   "source": [
    "## Data Type Conversion"
   ]
  },
  {
   "cell_type": "code",
   "execution_count": null,
   "id": "97a56a14",
   "metadata": {},
   "outputs": [],
   "source": [
    "x = 45.77\n",
    "int(x)"
   ]
  },
  {
   "cell_type": "code",
   "execution_count": null,
   "id": "42512a58",
   "metadata": {},
   "outputs": [],
   "source": [
    "str(x)"
   ]
  },
  {
   "cell_type": "code",
   "execution_count": null,
   "id": "9acb4b11",
   "metadata": {},
   "outputs": [],
   "source": [
    "bool(x)"
   ]
  },
  {
   "cell_type": "code",
   "execution_count": null,
   "id": "1fe99516",
   "metadata": {},
   "outputs": [],
   "source": [
    "y = '45.88'"
   ]
  },
  {
   "cell_type": "code",
   "execution_count": null,
   "id": "f5fce844",
   "metadata": {},
   "outputs": [],
   "source": [
    "float(y)"
   ]
  },
  {
   "cell_type": "code",
   "execution_count": null,
   "id": "d91abd5b",
   "metadata": {},
   "outputs": [],
   "source": [
    "int(y)"
   ]
  },
  {
   "cell_type": "markdown",
   "id": "86e40fae",
   "metadata": {},
   "source": [
    "## Checking Refrences "
   ]
  },
  {
   "cell_type": "code",
   "execution_count": 3,
   "id": "211e4a70",
   "metadata": {},
   "outputs": [
    {
     "name": "stdout",
     "output_type": "stream",
     "text": [
      "x =  34 ;  id of x =  4434074960\n",
      "y =  34 ;  id of y =  4434074960\n",
      "True\n"
     ]
    }
   ],
   "source": [
    "x = 34  # x <- y (id x)\n",
    "y = x # y is holding the value of x\n",
    "print('x = ', x, ';  id of x = ', id(x))\n",
    "print('y = ', y, ';  id of y = ', id(y))\n",
    "\n",
    "print(id(x) == id(y))"
   ]
  },
  {
   "cell_type": "code",
   "execution_count": 4,
   "id": "d121e6b9",
   "metadata": {},
   "outputs": [
    {
     "name": "stdout",
     "output_type": "stream",
     "text": [
      "x =  65 ;  id of x =  4434264432\n",
      "y =  34 ;  id of y =  4434074960\n"
     ]
    }
   ],
   "source": [
    "x = 65\n",
    "print('x = ', x, ';  id of x = ', id(x))\n",
    "print('y = ', y, ';  id of y = ', id(y))"
   ]
  },
  {
   "cell_type": "code",
   "execution_count": 3,
   "id": "33c7ec57",
   "metadata": {},
   "outputs": [
    {
     "name": "stdout",
     "output_type": "stream",
     "text": [
      "x =  65 ;  id of x =  4333351280\n",
      "y =  78 ;  id of y =  4333351696\n"
     ]
    }
   ],
   "source": [
    "y = 78\n",
    "print('x = ', x, ';  id of x = ', id(x))\n",
    "print('y = ', y, ';  id of y = ', id(y))"
   ]
  },
  {
   "cell_type": "code",
   "execution_count": 4,
   "id": "7b8efcf5",
   "metadata": {},
   "outputs": [
    {
     "name": "stdout",
     "output_type": "stream",
     "text": [
      "4333351280\n"
     ]
    }
   ],
   "source": [
    "y = 65\n",
    "print(id(y))"
   ]
  },
  {
   "cell_type": "markdown",
   "id": "450ce25b",
   "metadata": {},
   "source": [
    "# Arithemetic Operations"
   ]
  },
  {
   "cell_type": "code",
   "execution_count": 6,
   "id": "dc9a1e41",
   "metadata": {},
   "outputs": [
    {
     "data": {
      "text/plain": [
       "3"
      ]
     },
     "execution_count": 6,
     "metadata": {},
     "output_type": "execute_result"
    }
   ],
   "source": [
    "# addition\n",
    "1 + 2"
   ]
  },
  {
   "cell_type": "code",
   "execution_count": 8,
   "id": "2f2c4134",
   "metadata": {},
   "outputs": [
    {
     "data": {
      "text/plain": [
       "3.0"
      ]
     },
     "execution_count": 8,
     "metadata": {},
     "output_type": "execute_result"
    }
   ],
   "source": [
    "x = 1.0\n",
    "y = 2.0\n",
    "\n",
    "x + y"
   ]
  },
  {
   "cell_type": "code",
   "execution_count": 9,
   "id": "8b513a83",
   "metadata": {
    "scrolled": true
   },
   "outputs": [
    {
     "data": {
      "text/plain": [
       "'hello world'"
      ]
     },
     "execution_count": 9,
     "metadata": {},
     "output_type": "execute_result"
    }
   ],
   "source": [
    "x = \"hello \"\n",
    "y =\"world\"\n",
    "\n",
    "x + y"
   ]
  },
  {
   "cell_type": "code",
   "execution_count": 12,
   "id": "42a422ac",
   "metadata": {},
   "outputs": [
    {
     "data": {
      "text/plain": [
       "-1.0"
      ]
     },
     "execution_count": 12,
     "metadata": {},
     "output_type": "execute_result"
    }
   ],
   "source": [
    "# subtraction\n",
    "x = 1.0\n",
    "y = 2.0\n",
    "\n",
    "x - y"
   ]
  },
  {
   "cell_type": "code",
   "execution_count": 13,
   "id": "68fb9088",
   "metadata": {},
   "outputs": [
    {
     "data": {
      "text/plain": [
       "2.0"
      ]
     },
     "execution_count": 13,
     "metadata": {},
     "output_type": "execute_result"
    }
   ],
   "source": [
    "# multiplication\n",
    "x * y"
   ]
  },
  {
   "cell_type": "code",
   "execution_count": 16,
   "id": "88c3185e",
   "metadata": {},
   "outputs": [
    {
     "data": {
      "text/plain": [
       "4"
      ]
     },
     "execution_count": 16,
     "metadata": {},
     "output_type": "execute_result"
    }
   ],
   "source": [
    "# exponents\n",
    "x = 2\n",
    "y = 2\n",
    "\n",
    "x ** y"
   ]
  },
  {
   "cell_type": "code",
   "execution_count": 19,
   "id": "feb7fcd3",
   "metadata": {},
   "outputs": [
    {
     "data": {
      "text/plain": [
       "0"
      ]
     },
     "execution_count": 19,
     "metadata": {},
     "output_type": "execute_result"
    }
   ],
   "source": [
    "# modulo\n",
    "\n",
    "10 % 1 # "
   ]
  },
  {
   "cell_type": "code",
   "execution_count": 20,
   "id": "950014eb",
   "metadata": {},
   "outputs": [
    {
     "data": {
      "text/plain": [
       "1.5"
      ]
     },
     "execution_count": 20,
     "metadata": {},
     "output_type": "execute_result"
    }
   ],
   "source": [
    "## integer divide\n",
    "\n",
    "3 / 2"
   ]
  },
  {
   "cell_type": "code",
   "execution_count": 21,
   "id": "3acaa172",
   "metadata": {},
   "outputs": [
    {
     "data": {
      "text/plain": [
       "1"
      ]
     },
     "execution_count": 21,
     "metadata": {},
     "output_type": "execute_result"
    }
   ],
   "source": [
    "3 // 2 "
   ]
  },
  {
   "cell_type": "code",
   "execution_count": 22,
   "id": "fde0226a",
   "metadata": {},
   "outputs": [
    {
     "name": "stdout",
     "output_type": "stream",
     "text": [
      "2\n"
     ]
    }
   ],
   "source": [
    "# fun shortcuts\n",
    "\n",
    "x = 1\n",
    "x = x + 1\n",
    "print(x)"
   ]
  },
  {
   "cell_type": "markdown",
   "id": "b32557ff",
   "metadata": {},
   "source": [
    "# Assignment Operators"
   ]
  },
  {
   "cell_type": "code",
   "execution_count": 23,
   "id": "3a269ead",
   "metadata": {},
   "outputs": [
    {
     "name": "stdout",
     "output_type": "stream",
     "text": [
      "2\n"
     ]
    }
   ],
   "source": [
    "x = 1\n",
    "x += 1\n",
    "print(x)"
   ]
  },
  {
   "cell_type": "code",
   "execution_count": 24,
   "id": "699a7b0a",
   "metadata": {},
   "outputs": [
    {
     "name": "stdout",
     "output_type": "stream",
     "text": [
      "1\n"
     ]
    }
   ],
   "source": [
    "x = 2\n",
    "x -= 1\n",
    "print(x)"
   ]
  },
  {
   "cell_type": "code",
   "execution_count": 28,
   "id": "8ea46a7c",
   "metadata": {},
   "outputs": [
    {
     "name": "stdout",
     "output_type": "stream",
     "text": [
      "0\n"
     ]
    }
   ],
   "source": [
    "x = 2\n",
    "x %= 2\n",
    "print(x)"
   ]
  },
  {
   "cell_type": "markdown",
   "id": "4f64b86d",
   "metadata": {},
   "source": [
    "# Arithmetic Operators"
   ]
  },
  {
   "cell_type": "code",
   "execution_count": null,
   "id": "a017356b",
   "metadata": {},
   "outputs": [],
   "source": [
    "x = 50\n",
    "y = 4"
   ]
  },
  {
   "cell_type": "code",
   "execution_count": null,
   "id": "3cc11e3e",
   "metadata": {},
   "outputs": [],
   "source": [
    "print('Sum of x & y                   : ', x + y)\n",
    "print('Difference between x & y       : ', x - y)\n",
    "print('Product of x & y               : ', x * y)\n",
    "print('Division of x by y             : ', x / y)"
   ]
  },
  {
   "cell_type": "code",
   "execution_count": null,
   "id": "7895174a",
   "metadata": {},
   "outputs": [],
   "source": [
    "print('Remainder of x divided by y    : ', x % y)\n",
    "print('Floor Division x divided by y  : ', x // y)\n",
    "print('Exponential value for x raised to power y : ', x ** y)"
   ]
  },
  {
   "cell_type": "markdown",
   "id": "3739e351",
   "metadata": {},
   "source": [
    "# \n",
    "# \n",
    "# \n",
    "# "
   ]
  },
  {
   "cell_type": "markdown",
   "id": "73aeedf6",
   "metadata": {},
   "source": [
    "# Arithmetic Assignment Operators"
   ]
  },
  {
   "cell_type": "code",
   "execution_count": null,
   "id": "2f472384",
   "metadata": {},
   "outputs": [],
   "source": [
    "a = 10\n",
    "print('Present value of a = ', a )"
   ]
  },
  {
   "cell_type": "code",
   "execution_count": null,
   "id": "87177319",
   "metadata": {},
   "outputs": [],
   "source": [
    "a += 5\n",
    "print('Updated value of a = ', a )"
   ]
  },
  {
   "cell_type": "code",
   "execution_count": null,
   "id": "d9040bfe",
   "metadata": {},
   "outputs": [],
   "source": [
    "a = 10\n",
    "print('Present value of a = ', a )\n",
    "print('Present id of a = ', id(a))"
   ]
  },
  {
   "cell_type": "code",
   "execution_count": null,
   "id": "a9165b39",
   "metadata": {},
   "outputs": [],
   "source": [
    "a += 15\n",
    "print('Updated value of a = ', a )\n",
    "print('Updated id of a = ', id(a))"
   ]
  },
  {
   "cell_type": "markdown",
   "id": "45574b07",
   "metadata": {},
   "source": [
    "# Comparison Operators"
   ]
  },
  {
   "cell_type": "code",
   "execution_count": 30,
   "id": "db51ea5f",
   "metadata": {},
   "outputs": [
    {
     "name": "stdout",
     "output_type": "stream",
     "text": [
      "a =  20   b =  20\n",
      "a == b  :  True\n"
     ]
    }
   ],
   "source": [
    "a = 20\n",
    "b = 20\n",
    "print('a = ', a, '  b = ', b)\n",
    "print('a == b  : ', a == b) # Comparisons are always going to give bool (True or False)"
   ]
  },
  {
   "cell_type": "code",
   "execution_count": 32,
   "id": "1ab4e87d",
   "metadata": {},
   "outputs": [
    {
     "name": "stdout",
     "output_type": "stream",
     "text": [
      "a =  20   b =  20\n",
      "a != b  :  False\n"
     ]
    }
   ],
   "source": [
    "a = 20\n",
    "b = 20\n",
    "print('a = ', a, '  b = ', b)\n",
    "print('a != b  : ', a != b)"
   ]
  },
  {
   "cell_type": "code",
   "execution_count": 33,
   "id": "1e5dee2f",
   "metadata": {},
   "outputs": [
    {
     "name": "stdout",
     "output_type": "stream",
     "text": [
      "a =  40   b =  30\n",
      "a <= b  :  False\n"
     ]
    }
   ],
   "source": [
    "a = 40\n",
    "b = 30\n",
    "print('a = ', a, '  b = ', b)\n",
    "print('a <= b  : ', a <= b)"
   ]
  },
  {
   "cell_type": "code",
   "execution_count": 35,
   "id": "973bc18c",
   "metadata": {},
   "outputs": [
    {
     "data": {
      "text/plain": [
       "False"
      ]
     },
     "execution_count": 35,
     "metadata": {},
     "output_type": "execute_result"
    }
   ],
   "source": [
    "a < b"
   ]
  },
  {
   "cell_type": "code",
   "execution_count": 34,
   "id": "28343f52",
   "metadata": {},
   "outputs": [
    {
     "name": "stdout",
     "output_type": "stream",
     "text": [
      "a =  30   b =  30\n",
      "a >= b  :  True\n"
     ]
    }
   ],
   "source": [
    "a = 30\n",
    "b = 30\n",
    "print('a = ', a, '  b = ', b)\n",
    "print('a >= b  : ', a >= b)"
   ]
  },
  {
   "cell_type": "code",
   "execution_count": 36,
   "id": "9396fd3f",
   "metadata": {},
   "outputs": [
    {
     "data": {
      "text/plain": [
       "False"
      ]
     },
     "execution_count": 36,
     "metadata": {},
     "output_type": "execute_result"
    }
   ],
   "source": [
    "a > b"
   ]
  },
  {
   "cell_type": "markdown",
   "id": "3e6de0d1",
   "metadata": {},
   "source": [
    "# Logical Operators"
   ]
  },
  {
   "cell_type": "code",
   "execution_count": 37,
   "id": "a75579e9",
   "metadata": {},
   "outputs": [
    {
     "name": "stdout",
     "output_type": "stream",
     "text": [
      "a =  30   b =  30\n",
      "a < b            :  False\n",
      "a == b           :  True\n"
     ]
    }
   ],
   "source": [
    "a = 30\n",
    "b = 30\n",
    "print('a = ', a, '  b = ', b)\n",
    "print('a < b            : ', a < b)\n",
    "print('a == b           : ', a == b)"
   ]
  },
  {
   "cell_type": "code",
   "execution_count": 39,
   "id": "7d857250",
   "metadata": {},
   "outputs": [
    {
     "name": "stdout",
     "output_type": "stream",
     "text": [
      "a < b and a == b :  True\n"
     ]
    }
   ],
   "source": [
    "print('a < b and a == b : ', a <= b and a == b)"
   ]
  },
  {
   "cell_type": "code",
   "execution_count": 40,
   "id": "6788452b",
   "metadata": {},
   "outputs": [
    {
     "data": {
      "text/plain": [
       "False"
      ]
     },
     "execution_count": 40,
     "metadata": {},
     "output_type": "execute_result"
    }
   ],
   "source": [
    "(a < b ) and (b == a or a > b)"
   ]
  },
  {
   "cell_type": "code",
   "execution_count": 46,
   "id": "34e2212e",
   "metadata": {},
   "outputs": [],
   "source": [
    "x = 0\n",
    "y = None"
   ]
  },
  {
   "cell_type": "code",
   "execution_count": 60,
   "id": "cb44eaa3",
   "metadata": {},
   "outputs": [
    {
     "name": "stdout",
     "output_type": "stream",
     "text": [
      "True\n",
      "True\n",
      "True\n",
      "True\n"
     ]
    }
   ],
   "source": [
    "# is this reference None?\n",
    "print(not None)\n",
    "y = None\n",
    "x =1 \n",
    "print(not y)\n",
    "print(y is None)\n",
    "print(x == 1)"
   ]
  },
  {
   "cell_type": "code",
   "execution_count": 58,
   "id": "ed978409",
   "metadata": {},
   "outputs": [
    {
     "data": {
      "text/plain": [
       "4443186880"
      ]
     },
     "execution_count": 58,
     "metadata": {},
     "output_type": "execute_result"
    }
   ],
   "source": [
    "id(None)"
   ]
  },
  {
   "cell_type": "code",
   "execution_count": 64,
   "id": "99500ce7",
   "metadata": {},
   "outputs": [
    {
     "data": {
      "text/plain": [
       "True"
      ]
     },
     "execution_count": 64,
     "metadata": {},
     "output_type": "execute_result"
    }
   ],
   "source": [
    "# Is operator\n",
    "import pandas\n",
    "\n",
    "my_unicorn = pandas.DataFrame()\n",
    "\n",
    "my_other_unicorn = my_unicorn\n",
    "my_unicorn is my_other_unicorn"
   ]
  },
  {
   "cell_type": "code",
   "execution_count": 66,
   "id": "6e595c43",
   "metadata": {},
   "outputs": [
    {
     "data": {
      "text/plain": [
       "False"
      ]
     },
     "execution_count": 66,
     "metadata": {},
     "output_type": "execute_result"
    }
   ],
   "source": [
    "# demonstrating \"in\"\n",
    "\n",
    "my_list = [0, 1, 2, 3]\n",
    "\n",
    "1 not in my_list"
   ]
  },
  {
   "cell_type": "code",
   "execution_count": 67,
   "id": "8e5c94cb",
   "metadata": {},
   "outputs": [
    {
     "data": {
      "text/plain": [
       "True"
      ]
     },
     "execution_count": 67,
     "metadata": {},
     "output_type": "execute_result"
    }
   ],
   "source": [
    "my_first_string = \"hello world\"\n",
    "\n",
    "\"hello\" in my_first_string"
   ]
  },
  {
   "cell_type": "code",
   "execution_count": 68,
   "id": "da0ceeb9",
   "metadata": {},
   "outputs": [
    {
     "name": "stdout",
     "output_type": "stream",
     "text": [
      "a =  30   b =  30\n",
      "a < b           :  False\n",
      "a == b          :  True\n"
     ]
    }
   ],
   "source": [
    "a = 30\n",
    "b = 30\n",
    "print('a = ', a, '  b = ', b)\n",
    "print('a < b           : ', a < b)\n",
    "print('a == b          : ', a == b)"
   ]
  },
  {
   "cell_type": "code",
   "execution_count": 69,
   "id": "ba3588b4",
   "metadata": {},
   "outputs": [
    {
     "name": "stdout",
     "output_type": "stream",
     "text": [
      "a < b or a == b :  True\n"
     ]
    }
   ],
   "source": [
    "print('a < b or a == b : ', a < b or a == b)"
   ]
  },
  {
   "cell_type": "code",
   "execution_count": 70,
   "id": "886d5d80",
   "metadata": {},
   "outputs": [
    {
     "name": "stdout",
     "output_type": "stream",
     "text": [
      "a =  40\n",
      "a < 50      :  True\n"
     ]
    }
   ],
   "source": [
    "a = 40\n",
    "print('a = ', a)\n",
    "print('a < 50      : ' , a < 50 )"
   ]
  },
  {
   "cell_type": "code",
   "execution_count": 71,
   "id": "465e795f",
   "metadata": {},
   "outputs": [
    {
     "name": "stdout",
     "output_type": "stream",
     "text": [
      "not a < 50  :  False\n"
     ]
    }
   ],
   "source": [
    "print('not a < 50  : ' , not(a < 50))"
   ]
  },
  {
   "cell_type": "markdown",
   "id": "ac592ac4",
   "metadata": {
    "tags": []
   },
   "source": [
    "# Miscellaneous Operators"
   ]
  },
  {
   "cell_type": "markdown",
   "id": "6782d943",
   "metadata": {},
   "source": [
    "### Identity Operators"
   ]
  },
  {
   "cell_type": "code",
   "execution_count": 87,
   "id": "ea8ed175",
   "metadata": {},
   "outputs": [
    {
     "name": "stdout",
     "output_type": "stream",
     "text": [
      "a is b True\n",
      "a is b False\n"
     ]
    }
   ],
   "source": [
    "a = {'c', 'b', 'a'} [] {} {a: value}\n",
    "b = {'a', 'b', 'c'}\n",
    "print('a is b' , a == b)\n",
    "print('a is b' , a is b)"
   ]
  },
  {
   "cell_type": "code",
   "execution_count": 88,
   "id": "71f96603",
   "metadata": {},
   "outputs": [
    {
     "data": {
      "text/plain": [
       "4826824480"
      ]
     },
     "execution_count": 88,
     "metadata": {},
     "output_type": "execute_result"
    }
   ],
   "source": [
    "id(a)"
   ]
  },
  {
   "cell_type": "code",
   "execution_count": 89,
   "id": "6405876b",
   "metadata": {},
   "outputs": [
    {
     "data": {
      "text/plain": [
       "4826823808"
      ]
     },
     "execution_count": 89,
     "metadata": {},
     "output_type": "execute_result"
    }
   ],
   "source": [
    "id(b)"
   ]
  },
  {
   "cell_type": "code",
   "execution_count": 91,
   "id": "da4ad0e9",
   "metadata": {},
   "outputs": [
    {
     "name": "stdout",
     "output_type": "stream",
     "text": [
      "a is b True\n"
     ]
    }
   ],
   "source": [
    "a = ['a', 'b', 'c']\n",
    "b =  a\n",
    "print('a is b' , a is b)"
   ]
  },
  {
   "cell_type": "code",
   "execution_count": 92,
   "id": "d76d8aea",
   "metadata": {},
   "outputs": [
    {
     "data": {
      "text/plain": [
       "True"
      ]
     },
     "execution_count": 92,
     "metadata": {},
     "output_type": "execute_result"
    }
   ],
   "source": [
    "id(a) == id(b)"
   ]
  },
  {
   "cell_type": "code",
   "execution_count": 93,
   "id": "36f5ee93",
   "metadata": {},
   "outputs": [
    {
     "name": "stdout",
     "output_type": "stream",
     "text": [
      "a is not b True\n"
     ]
    }
   ],
   "source": [
    "a = ['a', 'b', 'c']\n",
    "b = ['a', 'b', 'c']\n",
    "print('a is not b' , a is not b)"
   ]
  },
  {
   "cell_type": "markdown",
   "id": "6d9160ad",
   "metadata": {},
   "source": [
    "### Membership Operators"
   ]
  },
  {
   "cell_type": "code",
   "execution_count": 94,
   "id": "d64b433c",
   "metadata": {},
   "outputs": [
    {
     "name": "stdout",
     "output_type": "stream",
     "text": [
      "a  in \" Dictionary \"\n",
      "True\n"
     ]
    }
   ],
   "source": [
    "x = 'a'\n",
    "y = 'Dictionary'\n",
    "print(x , ' in \"', y, '\"')\n",
    "print( x in y)"
   ]
  },
  {
   "cell_type": "code",
   "execution_count": 95,
   "id": "90ea93be",
   "metadata": {},
   "outputs": [
    {
     "name": "stdout",
     "output_type": "stream",
     "text": [
      "a  in \" Dictionary \"\n",
      "False\n"
     ]
    }
   ],
   "source": [
    "x = 'a'\n",
    "y = 'Dictionary'\n",
    "print(x , ' in \"', y, '\"')\n",
    "print( x not in y)"
   ]
  },
  {
   "cell_type": "code",
   "execution_count": 97,
   "id": "26d9d648",
   "metadata": {},
   "outputs": [
    {
     "data": {
      "text/plain": [
       "True"
      ]
     },
     "execution_count": 97,
     "metadata": {},
     "output_type": "execute_result"
    }
   ],
   "source": [
    "a = [20, 45, 10]\n",
    "10.0 in a"
   ]
  },
  {
   "cell_type": "code",
   "execution_count": 98,
   "id": "0b770448",
   "metadata": {},
   "outputs": [
    {
     "data": {
      "text/plain": [
       "False"
      ]
     },
     "execution_count": 98,
     "metadata": {},
     "output_type": "execute_result"
    }
   ],
   "source": [
    "a = [20, 45, 10]\n",
    "10 not in a"
   ]
  },
  {
   "cell_type": "code",
   "execution_count": 99,
   "id": "e71f4769",
   "metadata": {},
   "outputs": [
    {
     "data": {
      "text/plain": [
       "True"
      ]
     },
     "execution_count": 99,
     "metadata": {},
     "output_type": "execute_result"
    }
   ],
   "source": [
    "my_dict = {\"a\": \"b\"}\n",
    "\"a\" in my_dict"
   ]
  },
  {
   "cell_type": "code",
   "execution_count": 100,
   "id": "eef4ab48",
   "metadata": {},
   "outputs": [
    {
     "data": {
      "text/plain": [
       "True"
      ]
     },
     "execution_count": 100,
     "metadata": {},
     "output_type": "execute_result"
    }
   ],
   "source": [
    "my_set = {1 ,2, 3}\n",
    "\n",
    "2 in my_set"
   ]
  },
  {
   "cell_type": "code",
   "execution_count": 101,
   "id": "621bb71b",
   "metadata": {},
   "outputs": [
    {
     "data": {
      "text/plain": [
       "True"
      ]
     },
     "execution_count": 101,
     "metadata": {},
     "output_type": "execute_result"
    }
   ],
   "source": [
    "my_tuple = (1 , 2 ,3 )\n",
    "2 in my_tuple"
   ]
  },
  {
   "cell_type": "markdown",
   "id": "11f379cb",
   "metadata": {},
   "source": [
    "# Strings in Python"
   ]
  },
  {
   "cell_type": "code",
   "execution_count": null,
   "id": "a6bf0bca",
   "metadata": {},
   "outputs": [],
   "source": [
    "my_str = \"s\""
   ]
  },
  {
   "cell_type": "code",
   "execution_count": 108,
   "id": "354d9147",
   "metadata": {},
   "outputs": [
    {
     "name": "stdout",
     "output_type": "stream",
     "text": [
      "Hi! Welcome to Python Programming!!\n",
      "Hi! Welcome to Python Programming!!\n"
     ]
    }
   ],
   "source": [
    "message_1 = 'Hi! Welcome to Python Programming!!'\n",
    "message_2 = 'Hi! Welcome to Python Programming!!'\n",
    "print(message_1)\n",
    "print(message_2)"
   ]
  },
  {
   "cell_type": "code",
   "execution_count": 109,
   "id": "6b62c1d3",
   "metadata": {},
   "outputs": [
    {
     "data": {
      "text/plain": [
       "4484546352"
      ]
     },
     "execution_count": 109,
     "metadata": {},
     "output_type": "execute_result"
    }
   ],
   "source": [
    "id(message_1)"
   ]
  },
  {
   "cell_type": "code",
   "execution_count": 110,
   "id": "2d878c1d",
   "metadata": {
    "scrolled": true
   },
   "outputs": [
    {
     "data": {
      "text/plain": [
       "4827014512"
      ]
     },
     "execution_count": 110,
     "metadata": {},
     "output_type": "execute_result"
    }
   ],
   "source": [
    "id(message_2)"
   ]
  },
  {
   "cell_type": "code",
   "execution_count": 119,
   "id": "31868ed1",
   "metadata": {},
   "outputs": [
    {
     "data": {
      "text/plain": [
       "'hello world barbie'"
      ]
     },
     "execution_count": 119,
     "metadata": {},
     "output_type": "execute_result"
    }
   ],
   "source": [
    "y = \"hello\"\n",
    "x = \"world barbie\"\n",
    "\n",
    "y + \" \" + x"
   ]
  },
  {
   "cell_type": "code",
   "execution_count": 121,
   "id": "126a3448",
   "metadata": {},
   "outputs": [
    {
     "name": "stdout",
     "output_type": "stream",
     "text": [
      "hello this part is just some string world barbie\n"
     ]
    }
   ],
   "source": [
    "f_string = f\"{y} this part is just some string {x}\"\n",
    "print(f_string)"
   ]
  },
  {
   "cell_type": "code",
   "execution_count": 111,
   "id": "a0deffff",
   "metadata": {
    "scrolled": true
   },
   "outputs": [
    {
     "name": "stdout",
     "output_type": "stream",
     "text": [
      "Hi! Welcome to \"Python Programming\"!!\n",
      "Hi! Welcome to 'Python Programming'!!\n"
     ]
    }
   ],
   "source": [
    "message_1 = 'Hi! Welcome to \"Python Programming\"!!'\n",
    "message_2 = \"Hi! Welcome to 'Python Programming'!!\"\n",
    "print(message_1)\n",
    "print(message_2)"
   ]
  },
  {
   "cell_type": "code",
   "execution_count": 122,
   "id": "f2ef9999",
   "metadata": {},
   "outputs": [
    {
     "data": {
      "text/plain": [
       "'H'"
      ]
     },
     "execution_count": 122,
     "metadata": {},
     "output_type": "execute_result"
    }
   ],
   "source": [
    "message_2[0]"
   ]
  },
  {
   "cell_type": "markdown",
   "id": "309f5707",
   "metadata": {},
   "source": [
    "# List"
   ]
  },
  {
   "cell_type": "code",
   "execution_count": 125,
   "id": "a2b83aa3",
   "metadata": {},
   "outputs": [
    {
     "ename": "IndexError",
     "evalue": "list index out of range",
     "output_type": "error",
     "traceback": [
      "\u001b[0;31m---------------------------------------------------------------------------\u001b[0m",
      "\u001b[0;31mIndexError\u001b[0m                                Traceback (most recent call last)",
      "Cell \u001b[0;32mIn[125], line 5\u001b[0m\n\u001b[1;32m      2\u001b[0m my_list_index \u001b[38;5;241m=\u001b[39m [\u001b[38;5;241m0\u001b[39m, \u001b[38;5;241m1\u001b[39m, \u001b[38;5;241m2\u001b[39m, \u001b[38;5;241m3\u001b[39m] \u001b[38;5;66;03m# 4\u001b[39;00m\n\u001b[1;32m      4\u001b[0m my_list[\u001b[38;5;241m0\u001b[39m] \u001b[38;5;66;03m#obj_num - 1\u001b[39;00m\n\u001b[0;32m----> 5\u001b[0m \u001b[43mmy_list\u001b[49m\u001b[43m[\u001b[49m\u001b[38;5;241;43m4\u001b[39;49m\u001b[43m]\u001b[49m\n",
      "\u001b[0;31mIndexError\u001b[0m: list index out of range"
     ]
    }
   ],
   "source": [
    "my_list = [1, 2, 3, 4] # 5\n",
    "my_list_index = [0, 1, 2, 3] # 4\n",
    "\n",
    "my_list[0] #obj_num - 1\n",
    "my_list[4] # off by 1 error"
   ]
  },
  {
   "cell_type": "code",
   "execution_count": 132,
   "id": "467d3d82",
   "metadata": {},
   "outputs": [
    {
     "data": {
      "text/plain": [
       "[1, 2, 3]"
      ]
     },
     "execution_count": 132,
     "metadata": {},
     "output_type": "execute_result"
    }
   ],
   "source": [
    "my_list[:-1] # upper bound not included"
   ]
  },
  {
   "cell_type": "markdown",
   "id": "68f8278f",
   "metadata": {},
   "source": [
    "# String methods"
   ]
  },
  {
   "cell_type": "code",
   "execution_count": 133,
   "id": "f9f0b374",
   "metadata": {},
   "outputs": [],
   "source": [
    "string = 'She seLLs sEa SHELLS oN tHe SeA sHoRe.'"
   ]
  },
  {
   "cell_type": "code",
   "execution_count": 136,
   "id": "5e35fcf8",
   "metadata": {},
   "outputs": [
    {
     "data": {
      "text/plain": [
       "' '"
      ]
     },
     "execution_count": 136,
     "metadata": {},
     "output_type": "execute_result"
    }
   ],
   "source": [
    "string[23]"
   ]
  },
  {
   "cell_type": "code",
   "execution_count": 137,
   "id": "0db93e7b",
   "metadata": {},
   "outputs": [
    {
     "name": "stdout",
     "output_type": "stream",
     "text": [
      "SHE SELLS SEA SHELLS ON THE SEA SHORE.\n"
     ]
    }
   ],
   "source": [
    "upper_case = string.upper()\n",
    "print(upper_case)"
   ]
  },
  {
   "cell_type": "code",
   "execution_count": 138,
   "id": "2d50ec6b",
   "metadata": {},
   "outputs": [
    {
     "name": "stdout",
     "output_type": "stream",
     "text": [
      "she sells sea shells on the sea shore.\n"
     ]
    }
   ],
   "source": [
    "lower_case = string.lower()\n",
    "print(lower_case)"
   ]
  },
  {
   "cell_type": "code",
   "execution_count": 139,
   "id": "d5752daa",
   "metadata": {},
   "outputs": [
    {
     "name": "stdout",
     "output_type": "stream",
     "text": [
      "She sells sea shells on the sea shore.\n"
     ]
    }
   ],
   "source": [
    "sentence = string.capitalize()\n",
    "print(sentence)"
   ]
  },
  {
   "cell_type": "code",
   "execution_count": 140,
   "id": "5820742e",
   "metadata": {
    "scrolled": true
   },
   "outputs": [
    {
     "data": {
      "text/plain": [
       "'She Sells Sea Shells On The Sea Shore.'"
      ]
     },
     "execution_count": 140,
     "metadata": {},
     "output_type": "execute_result"
    }
   ],
   "source": [
    "word_upper = string.title()\n",
    "word_upper"
   ]
  },
  {
   "cell_type": "code",
   "execution_count": 141,
   "id": "436d03b5",
   "metadata": {},
   "outputs": [
    {
     "data": {
      "text/plain": [
       "'She seLLs sEa SHELLS oN tHe SeA sHoRe.'"
      ]
     },
     "execution_count": 141,
     "metadata": {},
     "output_type": "execute_result"
    }
   ],
   "source": [
    "string"
   ]
  },
  {
   "cell_type": "code",
   "execution_count": null,
   "id": "e7762d7d",
   "metadata": {},
   "outputs": [],
   "source": []
  }
 ],
 "metadata": {
  "kernelspec": {
   "display_name": "Python 3 (ipykernel)",
   "language": "python",
   "name": "python3"
  },
  "language_info": {
   "codemirror_mode": {
    "name": "ipython",
    "version": 3
   },
   "file_extension": ".py",
   "mimetype": "text/x-python",
   "name": "python",
   "nbconvert_exporter": "python",
   "pygments_lexer": "ipython3",
   "version": "3.9.6"
  }
 },
 "nbformat": 4,
 "nbformat_minor": 5
}
