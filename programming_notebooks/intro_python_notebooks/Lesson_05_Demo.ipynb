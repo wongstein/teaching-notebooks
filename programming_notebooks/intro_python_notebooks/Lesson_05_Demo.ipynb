{
 "cells": [
  {
   "cell_type": "markdown",
   "id": "ac8aacb3",
   "metadata": {},
   "source": [
    "## if statement\n",
    "\n",
    "This section of the notebook includes demonstration about an if statement."
   ]
  },
  {
   "cell_type": "code",
   "execution_count": 1,
   "id": "beda7c6e",
   "metadata": {
    "scrolled": true
   },
   "outputs": [
    {
     "name": "stdout",
     "output_type": "stream",
     "text": [
      "Enter Nationality : USA\n"
     ]
    }
   ],
   "source": [
    "inp = input('Enter Nationality : ')"
   ]
  },
  {
   "cell_type": "code",
   "execution_count": 2,
   "id": "a4e6b27b",
   "metadata": {},
   "outputs": [
    {
     "data": {
      "text/plain": [
       "'USA'"
      ]
     },
     "execution_count": 2,
     "metadata": {},
     "output_type": "execute_result"
    }
   ],
   "source": [
    "inp"
   ]
  },
  {
   "cell_type": "code",
   "execution_count": 3,
   "id": "7f7daa88",
   "metadata": {},
   "outputs": [
    {
     "name": "stdout",
     "output_type": "stream",
     "text": [
      "Thank You!!\n"
     ]
    }
   ],
   "source": [
    "if inp == \"French\":\n",
    "    print('Préférez vous parler français ?') # if block\n",
    "\n",
    "print('Thank You!!')"
   ]
  },
  {
   "cell_type": "code",
   "execution_count": 4,
   "id": "39035eef",
   "metadata": {},
   "outputs": [
    {
     "name": "stdout",
     "output_type": "stream",
     "text": [
      "Enter Nationality : French\n",
      "Préférez vous parler français ?\n",
      "Thank You!!\n"
     ]
    }
   ],
   "source": [
    "inp = input('Enter Nationality : ')\n",
    "if inp == \"French\":\n",
    "    print('Préférez vous parler français ?') # if block\n",
    "    \n",
    "print('Thank You!!')"
   ]
  },
  {
   "cell_type": "markdown",
   "id": "9222bf63",
   "metadata": {},
   "source": [
    "## if else"
   ]
  },
  {
   "cell_type": "code",
   "execution_count": 5,
   "id": "0427ae82",
   "metadata": {},
   "outputs": [
    {
     "name": "stdout",
     "output_type": "stream",
     "text": [
      "Enter a number: 1\n"
     ]
    }
   ],
   "source": [
    "num_str = input(\"Enter a number: \")"
   ]
  },
  {
   "cell_type": "code",
   "execution_count": 6,
   "id": "905c088b",
   "metadata": {},
   "outputs": [],
   "source": [
    "num_int = int(num_str)"
   ]
  },
  {
   "cell_type": "code",
   "execution_count": 7,
   "id": "c11a62f4",
   "metadata": {},
   "outputs": [
    {
     "data": {
      "text/plain": [
       "int"
      ]
     },
     "execution_count": 7,
     "metadata": {},
     "output_type": "execute_result"
    }
   ],
   "source": [
    "type(num_int)"
   ]
  },
  {
   "cell_type": "code",
   "execution_count": 8,
   "id": "d1c61e06",
   "metadata": {},
   "outputs": [
    {
     "name": "stdout",
     "output_type": "stream",
     "text": [
      "Enter a number : 10\n"
     ]
    }
   ],
   "source": [
    "num = int(input('Enter a number : '))"
   ]
  },
  {
   "cell_type": "code",
   "execution_count": 9,
   "id": "0b174976",
   "metadata": {},
   "outputs": [
    {
     "name": "stdout",
     "output_type": "stream",
     "text": [
      "10  is a positve number\n"
     ]
    }
   ],
   "source": [
    "if num > 0 :\n",
    "    print(num, ' is a positve number')\n",
    "    \n",
    "else:\n",
    "    print(num, ' is a negative number')"
   ]
  },
  {
   "cell_type": "code",
   "execution_count": 10,
   "id": "b717879e",
   "metadata": {},
   "outputs": [
    {
     "ename": "IndentationError",
     "evalue": "expected an indented block (3986325278.py, line 2)",
     "output_type": "error",
     "traceback": [
      "\u001b[0;36m  Cell \u001b[0;32mIn[10], line 2\u001b[0;36m\u001b[0m\n\u001b[0;31m    \u001b[0m\n\u001b[0m    ^\u001b[0m\n\u001b[0;31mIndentationError\u001b[0m\u001b[0;31m:\u001b[0m expected an indented block\n"
     ]
    }
   ],
   "source": [
    "if num != 0:\n",
    "    "
   ]
  },
  {
   "cell_type": "markdown",
   "id": "e17a537c",
   "metadata": {},
   "source": [
    "## if elif "
   ]
  },
  {
   "cell_type": "code",
   "execution_count": 11,
   "id": "13397f3d",
   "metadata": {},
   "outputs": [
    {
     "name": "stdout",
     "output_type": "stream",
     "text": [
      "Please enter marks : 50\n",
      "Grade D\n",
      "Thank you !!\n"
     ]
    }
   ],
   "source": [
    "marks =  float(input('Please enter marks : '))\n",
    "if marks >= 90: \n",
    "    print('Grade A')\n",
    "elif marks >=75 : \n",
    "    print('Grade B')\n",
    "elif marks >= 55 : \n",
    "    print('Grade C')\n",
    "elif marks >= 35 :\n",
    "    print('Grade D')\n",
    "else: \n",
    "    print('Grade F')\n",
    "print('Thank you !!')"
   ]
  },
  {
   "cell_type": "markdown",
   "id": "f323f454",
   "metadata": {},
   "source": [
    "## Nested if"
   ]
  },
  {
   "cell_type": "code",
   "execution_count": 5,
   "id": "8bc6bce4",
   "metadata": {},
   "outputs": [
    {
     "name": "stdout",
     "output_type": "stream",
     "text": [
      "Enter a number :1\n",
      "Enter a number :2\n",
      "Enter a number :3\n"
     ]
    }
   ],
   "source": [
    "a = int(input('Enter a number :'))\n",
    "b = int(input('Enter a number :'))\n",
    "c = int(input('Enter a number :'))"
   ]
  },
  {
   "cell_type": "code",
   "execution_count": null,
   "id": "349e98f9",
   "metadata": {},
   "outputs": [],
   "source": [
    "if (a > b): # A 1 > B 2 > C\n",
    "    print(\"Unicorn: I'm at a > B\")\n",
    "    if (a > c):\n",
    "        print('a (', a, ') is greatest')\n",
    "    else :\n",
    "        print('c (', c, ') is greatest')\n",
    "else :\n",
    "    print(\"I'm at b > a\")\n",
    "    if (b > c):\n",
    "        print('b (', b, ') is greatest')\n",
    "    else :\n",
    "        print('c (', c, ') is greatest')"
   ]
  },
  {
   "cell_type": "code",
   "execution_count": 6,
   "id": "0acebc74",
   "metadata": {},
   "outputs": [
    {
     "name": "stdout",
     "output_type": "stream",
     "text": [
      "c ( 3 ) is greatest\n"
     ]
    }
   ],
   "source": [
    "# Refactoring the nested if to be if elif\n",
    "\n",
    "if (a > b) and (a > c):\n",
    "    print('a (', a, ') is greatest')\n",
    "elif (a > b) and (c > a):\n",
    "    print('c (', c, ') is greatest')\n",
    "elif (b > a) and (b > c):\n",
    "    print('b (', b, ') is greatest')\n",
    "elif (b > a) and (c > b):\n",
    "    print('c (', c, ') is greatest')"
   ]
  },
  {
   "cell_type": "code",
   "execution_count": 10,
   "id": "ad7de96d",
   "metadata": {},
   "outputs": [
    {
     "name": "stdout",
     "output_type": "stream",
     "text": [
      "this is True\n",
      "This is the second True!\n"
     ]
    }
   ],
   "source": [
    "a = False\n",
    "\n",
    "if True: # ALWAYS RUNS\n",
    "    print(\"this is True\")\n",
    "\n",
    "if True:\n",
    "    print(\"This is the second True!\")"
   ]
  },
  {
   "cell_type": "markdown",
   "id": "28f7fefb",
   "metadata": {},
   "source": [
    "# Python Conventions\n",
    "\n",
    "### use spaces instead of tabs because it'll make debugging later easier \n",
    "    can achieve by setting your IDE default to use spaces when you push tab. \n",
    "    \n",
    "## PEP-8 Python styling guidelines\n",
    " ** read that\n",
    "\n",
    "1. Variables should be clear (it's better to have a longer variable name that's clear than a short variable name that's not clear)\n",
    "2. Snake Case is more often used (between snake and camel).  "
   ]
  },
  {
   "cell_type": "code",
   "execution_count": null,
   "id": "e0419760",
   "metadata": {},
   "outputs": [],
   "source": []
  },
  {
   "cell_type": "markdown",
   "id": "bd65eb6c",
   "metadata": {},
   "source": [
    "# Loops"
   ]
  },
  {
   "cell_type": "markdown",
   "id": "4a881d01",
   "metadata": {},
   "source": [
    "## for loop"
   ]
  },
  {
   "cell_type": "code",
   "execution_count": 19,
   "id": "1356630c",
   "metadata": {},
   "outputs": [
    {
     "data": {
      "text/plain": [
       "4"
      ]
     },
     "execution_count": 19,
     "metadata": {},
     "output_type": "execute_result"
    }
   ],
   "source": [
    "len('1234')"
   ]
  },
  {
   "cell_type": "code",
   "execution_count": 18,
   "id": "d9b5b411",
   "metadata": {},
   "outputs": [
    {
     "name": "stdout",
     "output_type": "stream",
     "text": [
      "0 P\n",
      "1 y\n",
      "2 t\n",
      "3 h\n",
      "4 o\n",
      "5 n\n"
     ]
    }
   ],
   "source": [
    "string = \"Python\"\n",
    "\n",
    "for index in range(0, len(string)): #len(string) == 1, # range doesn't include the upper bound\n",
    "    print(index, string[index])"
   ]
  },
  {
   "cell_type": "code",
   "execution_count": 24,
   "id": "1bd74653",
   "metadata": {},
   "outputs": [
    {
     "name": "stdout",
     "output_type": "stream",
     "text": [
      "P\n",
      "y\n",
      "t\n",
      "h\n",
      "o\n",
      "n\n",
      "Thank You!!\n"
     ]
    }
   ],
   "source": [
    "string = 'Python' #[\"P\", \"y\", \"t\", \"h\", \"o\", \"n\"]\n",
    "## string = list of chars\n",
    "\n",
    "for element in string: # VERY SPECIFIC TO STRINGS\n",
    "    print(element)\n",
    "print('Thank You!!')"
   ]
  },
  {
   "cell_type": "code",
   "execution_count": 25,
   "id": "34f1388f",
   "metadata": {},
   "outputs": [
    {
     "name": "stdout",
     "output_type": "stream",
     "text": [
      "P\n",
      "y\n",
      "t\n",
      "h\n",
      "o\n",
      "n\n"
     ]
    }
   ],
   "source": [
    "string_list = [\"P\", \"y\", \"t\", \"h\", \"o\", \"n\"]\n",
    "for element in string_list:\n",
    "    print(element)"
   ]
  },
  {
   "cell_type": "code",
   "execution_count": 17,
   "id": "e38491c3",
   "metadata": {},
   "outputs": [
    {
     "ename": "TypeError",
     "evalue": "'int' object is not iterable",
     "output_type": "error",
     "traceback": [
      "\u001b[0;31m---------------------------------------------------------------------------\u001b[0m",
      "\u001b[0;31mTypeError\u001b[0m                                 Traceback (most recent call last)",
      "Cell \u001b[0;32mIn[17], line 1\u001b[0m\n\u001b[0;32m----> 1\u001b[0m \u001b[38;5;28;01mfor\u001b[39;00m num \u001b[38;5;129;01min\u001b[39;00m \u001b[38;5;241m10\u001b[39m:\n\u001b[1;32m      2\u001b[0m     \u001b[38;5;28mprint\u001b[39m(num)\n",
      "\u001b[0;31mTypeError\u001b[0m: 'int' object is not iterable"
     ]
    }
   ],
   "source": [
    "for num in 10:\n",
    "    print(num)"
   ]
  },
  {
   "cell_type": "code",
   "execution_count": 27,
   "id": "165bb3a9",
   "metadata": {},
   "outputs": [
    {
     "name": "stdout",
     "output_type": "stream",
     "text": [
      "0 P\n",
      "hello World\n",
      "1 y\n",
      "hello World\n",
      "2 t\n",
      "hello World\n"
     ]
    }
   ],
   "source": [
    "my_dict = {0: \"P\", 1: \"y\", 2: \"t\" }\n",
    "\n",
    "for key, value in my_dict.items():\n",
    "    print(key, value)\n",
    "    print(\"hello World\")"
   ]
  },
  {
   "cell_type": "markdown",
   "id": "5224182d",
   "metadata": {},
   "source": [
    "## while loop"
   ]
  },
  {
   "cell_type": "code",
   "execution_count": 30,
   "id": "52da3ed7",
   "metadata": {},
   "outputs": [
    {
     "name": "stdout",
     "output_type": "stream",
     "text": [
      "0\n",
      "1\n",
      "2\n",
      "3\n",
      "4\n",
      "Thank You!!\n"
     ]
    }
   ],
   "source": [
    "counter = 0\n",
    "while counter < 5: # counter = 4\n",
    "    print(counter)\n",
    "\n",
    "    counter += 1 \n",
    "print('Thank You!!')"
   ]
  },
  {
   "cell_type": "markdown",
   "id": "c93208a6",
   "metadata": {},
   "source": [
    "##### while loop never executed"
   ]
  },
  {
   "cell_type": "code",
   "execution_count": 34,
   "id": "b2edd360",
   "metadata": {},
   "outputs": [
    {
     "name": "stdout",
     "output_type": "stream",
     "text": [
      "Thank you\n"
     ]
    }
   ],
   "source": [
    "counter = 5\n",
    "while counter < 5:\n",
    "    print(counter)\n",
    "    counter += 1\n",
    "print('Thank you')"
   ]
  },
  {
   "cell_type": "markdown",
   "id": "0b4156cf",
   "metadata": {},
   "source": [
    "##### infinite while loop "
   ]
  },
  {
   "cell_type": "code",
   "execution_count": null,
   "id": "71f1bda9",
   "metadata": {
    "jupyter": {
     "outputs_hidden": true
    },
    "tags": []
   },
   "outputs": [],
   "source": [
    "counter = 0\n",
    "while counter < 5:\n",
    "    print(counter)\n",
    "print('Thank you')"
   ]
  },
  {
   "cell_type": "code",
   "execution_count": 33,
   "id": "864e75d3",
   "metadata": {},
   "outputs": [
    {
     "name": "stdout",
     "output_type": "stream",
     "text": [
      "0\n",
      "Thank you\n"
     ]
    }
   ],
   "source": [
    "# Example of using a break (can use in any loop, for loops included)\n",
    "counter = 0\n",
    "\n",
    "while True: # run the risk of infinite loop\n",
    "    print(counter)\n",
    "    \n",
    "    if counter == 0:\n",
    "        break\n",
    "\n",
    "print(\"Thank you\")"
   ]
  },
  {
   "cell_type": "markdown",
   "id": "a87ac852",
   "metadata": {},
   "source": [
    "## Range function"
   ]
  },
  {
   "cell_type": "markdown",
   "id": "041e306e",
   "metadata": {},
   "source": [
    "#### range(n)"
   ]
  },
  {
   "cell_type": "code",
   "execution_count": 50,
   "id": "353d9e2d",
   "metadata": {},
   "outputs": [
    {
     "name": "stdout",
     "output_type": "stream",
     "text": [
      "range(10, 0, -2)\n"
     ]
    }
   ],
   "source": [
    "start_index = 0\n",
    "end_index = 10\n",
    "\n",
    "step = -2\n",
    "obj = range(end_index, start_index, step)\n",
    "print(obj)"
   ]
  },
  {
   "cell_type": "code",
   "execution_count": 51,
   "id": "77f5ac52",
   "metadata": {},
   "outputs": [
    {
     "name": "stdout",
     "output_type": "stream",
     "text": [
      "[10, 8, 6, 4, 2]\n"
     ]
    }
   ],
   "source": [
    "print(list(obj))"
   ]
  },
  {
   "cell_type": "markdown",
   "id": "8350ef6b",
   "metadata": {},
   "source": [
    "#### range(start, stop) "
   ]
  },
  {
   "cell_type": "code",
   "execution_count": 52,
   "id": "945262fe",
   "metadata": {},
   "outputs": [
    {
     "name": "stdout",
     "output_type": "stream",
     "text": [
      "[5, 6, 7, 8, 9, 10, 11, 12, 13, 14]\n"
     ]
    }
   ],
   "source": [
    "obj = range(5, 15)\n",
    "print(list(obj))"
   ]
  },
  {
   "cell_type": "markdown",
   "id": "925e6001",
   "metadata": {},
   "source": [
    "#### step in range "
   ]
  },
  {
   "cell_type": "code",
   "execution_count": 53,
   "id": "1b665641",
   "metadata": {},
   "outputs": [
    {
     "name": "stdout",
     "output_type": "stream",
     "text": [
      "[2, 4, 6, 8, 10, 12, 14, 16, 18, 20, 22, 24, 26, 28, 30, 32, 34, 36, 38, 40, 42, 44, 46, 48]\n"
     ]
    }
   ],
   "source": [
    "obj = range(2, 50, 2)\n",
    "print(list(obj))"
   ]
  },
  {
   "cell_type": "markdown",
   "id": "5ad33b77",
   "metadata": {},
   "source": [
    "## Nested Loops"
   ]
  },
  {
   "cell_type": "code",
   "execution_count": 70,
   "id": "97eb835c",
   "metadata": {},
   "outputs": [
    {
     "name": "stdout",
     "output_type": "stream",
     "text": [
      "Table of : 2\n",
      "2 x 1 = 2\n",
      "2 x 2 = 4\n",
      "2 x 3 = 6\n",
      "2 x 4 = 8\n",
      "2 x 5 = 10\n",
      "2 x 6 = 12\n",
      "2 x 7 = 14\n",
      "2 x 8 = 16\n",
      "2 x 9 = 18\n",
      "2 x 10 = 20\n",
      "\n",
      "End of multiplication table of  2 \n",
      "\n",
      "Table of : 3\n",
      "3 x 1 = 3\n",
      "3 x 2 = 6\n",
      "3 x 3 = 9\n",
      "3 x 4 = 12\n",
      "3 x 5 = 15\n",
      "3 x 6 = 18\n",
      "3 x 7 = 21\n",
      "3 x 8 = 24\n",
      "3 x 9 = 27\n",
      "3 x 10 = 30\n",
      "\n",
      "End of multiplication table of  3 \n",
      "\n",
      "Table of : 4\n",
      "4 x 1 = 4\n",
      "4 x 2 = 8\n",
      "4 x 3 = 12\n",
      "4 x 4 = 16\n",
      "4 x 5 = 20\n",
      "4 x 6 = 24\n",
      "4 x 7 = 28\n",
      "4 x 8 = 32\n",
      "4 x 9 = 36\n",
      "4 x 10 = 40\n",
      "\n",
      "End of multiplication table of  4 \n",
      "\n",
      "Table of : 5\n",
      "5 x 1 = 5\n",
      "5 x 2 = 10\n",
      "5 x 3 = 15\n",
      "5 x 4 = 20\n",
      "5 x 5 = 25\n",
      "5 x 6 = 30\n",
      "5 x 7 = 35\n",
      "5 x 8 = 40\n",
      "5 x 9 = 45\n",
      "5 x 10 = 50\n",
      "\n",
      "End of multiplication table of  5 \n",
      "\n",
      "Table of : 6\n",
      "6 x 1 = 6\n",
      "6 x 2 = 12\n",
      "6 x 3 = 18\n",
      "6 x 4 = 24\n",
      "6 x 5 = 30\n",
      "6 x 6 = 36\n",
      "6 x 7 = 42\n",
      "6 x 8 = 48\n",
      "6 x 9 = 54\n",
      "6 x 10 = 60\n",
      "\n",
      "End of multiplication table of  6 \n",
      "\n",
      "Table of : 7\n",
      "7 x 1 = 7\n",
      "7 x 2 = 14\n",
      "7 x 3 = 21\n",
      "7 x 4 = 28\n",
      "7 x 5 = 35\n",
      "7 x 6 = 42\n",
      "7 x 7 = 49\n",
      "7 x 8 = 56\n",
      "7 x 9 = 63\n",
      "7 x 10 = 70\n",
      "\n",
      "End of multiplication table of  7 \n",
      "\n",
      "Table of : 8\n",
      "8 x 1 = 8\n",
      "8 x 2 = 16\n",
      "8 x 3 = 24\n",
      "8 x 4 = 32\n",
      "8 x 5 = 40\n",
      "8 x 6 = 48\n",
      "8 x 7 = 56\n",
      "8 x 8 = 64\n",
      "8 x 9 = 72\n",
      "8 x 10 = 80\n",
      "\n",
      "End of multiplication table of  8 \n",
      "\n",
      "Table of : 9\n",
      "9 x 1 = 9\n",
      "9 x 2 = 18\n",
      "9 x 3 = 27\n",
      "9 x 4 = 36\n",
      "9 x 5 = 45\n",
      "9 x 6 = 54\n",
      "9 x 7 = 63\n",
      "9 x 8 = 72\n",
      "9 x 9 = 81\n",
      "9 x 10 = 90\n",
      "\n",
      "End of multiplication table of  9 \n",
      "\n",
      "Table of : 10\n",
      "10 x 1 = 10\n",
      "10 x 2 = 20\n",
      "10 x 3 = 30\n",
      "10 x 4 = 40\n",
      "10 x 5 = 50\n",
      "10 x 6 = 60\n",
      "10 x 7 = 70\n",
      "10 x 8 = 80\n",
      "10 x 9 = 90\n",
      "10 x 10 = 100\n",
      "\n",
      "End of multiplication table of  10 \n",
      "\n",
      "Thank You\n"
     ]
    }
   ],
   "source": [
    "# outer loop\n",
    "for j in range(2,11): # O(N^2) Complexity\n",
    "    print('Table of :', j)\n",
    "    # inner loop\n",
    "    for i in range(1,11):\n",
    "        # print multiplication \n",
    "        \n",
    "        print('{:2d} X {:2d} = {:2d}'.format(j,i, j*i).center(20))\n",
    "        \n",
    "        print(f\"{j} x {i} = {j * i}\") # f string\n",
    "    print('\\nEnd of multiplication table of ', j, '\\n')\n",
    "print('Thank You')"
   ]
  },
  {
   "cell_type": "code",
   "execution_count": 69,
   "id": "c31cb0e5",
   "metadata": {},
   "outputs": [
    {
     "name": "stdout",
     "output_type": "stream",
     "text": [
      "hello world\n"
     ]
    }
   ],
   "source": [
    "test = \"hello\"\n",
    "\n",
    "print(f\"{test} world\")"
   ]
  },
  {
   "cell_type": "code",
   "execution_count": 62,
   "id": "bf8750d6",
   "metadata": {},
   "outputs": [
    {
     "name": "stdout",
     "output_type": "stream",
     "text": [
      "Table of : 10\n",
      "     2 X  1 =  2    \n",
      "     2 X  2 =  4    \n",
      "     2 X  3 =  6    \n",
      "     2 X  4 =  8    \n",
      "     2 X  5 = 10    \n",
      "     2 X  6 = 12    \n",
      "     2 X  7 = 14    \n",
      "     2 X  8 = 16    \n",
      "     2 X  9 = 18    \n",
      "     2 X 10 = 20    \n",
      "\n",
      "End of multiplication table of  2 \n",
      "\n",
      "Table of : 10\n",
      "     3 X  1 =  3    \n",
      "     3 X  2 =  6    \n",
      "     3 X  3 =  9    \n",
      "     3 X  4 = 12    \n",
      "     3 X  5 = 15    \n",
      "     3 X  6 = 18    \n",
      "     3 X  7 = 21    \n",
      "     3 X  8 = 24    \n",
      "     3 X  9 = 27    \n",
      "     3 X 10 = 30    \n",
      "\n",
      "End of multiplication table of  3 \n",
      "\n",
      "Table of : 10\n",
      "     4 X  1 =  4    \n",
      "     4 X  2 =  8    \n",
      "     4 X  3 = 12    \n",
      "     4 X  4 = 16    \n",
      "     4 X  5 = 20    \n",
      "     4 X  6 = 24    \n",
      "     4 X  7 = 28    \n",
      "     4 X  8 = 32    \n",
      "     4 X  9 = 36    \n",
      "     4 X 10 = 40    \n",
      "\n",
      "End of multiplication table of  4 \n",
      "\n",
      "Table of : 10\n",
      "     5 X  1 =  5    \n",
      "     5 X  2 = 10    \n",
      "     5 X  3 = 15    \n",
      "     5 X  4 = 20    \n",
      "     5 X  5 = 25    \n",
      "     5 X  6 = 30    \n",
      "     5 X  7 = 35    \n",
      "     5 X  8 = 40    \n",
      "     5 X  9 = 45    \n",
      "     5 X 10 = 50    \n",
      "\n",
      "End of multiplication table of  5 \n",
      "\n",
      "Table of : 10\n",
      "     6 X  1 =  6    \n",
      "     6 X  2 = 12    \n",
      "     6 X  3 = 18    \n",
      "     6 X  4 = 24    \n",
      "     6 X  5 = 30    \n",
      "     6 X  6 = 36    \n",
      "     6 X  7 = 42    \n",
      "     6 X  8 = 48    \n",
      "     6 X  9 = 54    \n",
      "     6 X 10 = 60    \n",
      "\n",
      "End of multiplication table of  6 \n",
      "\n",
      "Table of : 10\n",
      "     7 X  1 =  7    \n",
      "     7 X  2 = 14    \n",
      "     7 X  3 = 21    \n",
      "     7 X  4 = 28    \n",
      "     7 X  5 = 35    \n",
      "     7 X  6 = 42    \n",
      "     7 X  7 = 49    \n",
      "     7 X  8 = 56    \n",
      "     7 X  9 = 63    \n",
      "     7 X 10 = 70    \n",
      "\n",
      "End of multiplication table of  7 \n",
      "\n",
      "Table of : 10\n",
      "     8 X  1 =  8    \n",
      "     8 X  2 = 16    \n",
      "     8 X  3 = 24    \n",
      "     8 X  4 = 32    \n",
      "     8 X  5 = 40    \n",
      "     8 X  6 = 48    \n",
      "     8 X  7 = 56    \n",
      "     8 X  8 = 64    \n",
      "     8 X  9 = 72    \n",
      "     8 X 10 = 80    \n",
      "\n",
      "End of multiplication table of  8 \n",
      "\n",
      "Table of : 10\n",
      "     9 X  1 =  9    \n",
      "     9 X  2 = 18    \n",
      "     9 X  3 = 27    \n",
      "     9 X  4 = 36    \n",
      "     9 X  5 = 45    \n",
      "     9 X  6 = 54    \n",
      "     9 X  7 = 63    \n",
      "     9 X  8 = 72    \n",
      "     9 X  9 = 81    \n",
      "     9 X 10 = 90    \n",
      "\n",
      "End of multiplication table of  9 \n",
      "\n",
      "Table of : 10\n",
      "    10 X  1 = 10    \n",
      "    10 X  2 = 20    \n",
      "    10 X  3 = 30    \n",
      "    10 X  4 = 40    \n",
      "    10 X  5 = 50    \n",
      "    10 X  6 = 60    \n",
      "    10 X  7 = 70    \n",
      "    10 X  8 = 80    \n",
      "    10 X  9 = 90    \n",
      "   10 X 10 = 100    \n",
      "\n",
      "End of multiplication table of  10 \n",
      "\n",
      "Thank You\n"
     ]
    }
   ],
   "source": [
    "# outer loop\n",
    "for j in range(2,11):\n",
    "    print('Table of :', i)\n",
    "    # inner loop\n",
    "    for i in range(1,11):\n",
    "        # print multiplication \n",
    "        print('{:2d} X {:2d} = {:2d}'.format(j,i, j*i).center(20))\n",
    "    print('\\nEnd of multiplication table of ', j, '\\n')\n",
    "print('Thank You')"
   ]
  },
  {
   "cell_type": "markdown",
   "id": "f4cc15b1",
   "metadata": {
    "tags": []
   },
   "source": [
    "## Loop Control Statements"
   ]
  },
  {
   "cell_type": "code",
   "execution_count": 72,
   "id": "e8166450",
   "metadata": {},
   "outputs": [
    {
     "name": "stdout",
     "output_type": "stream",
     "text": [
      "P\n",
      "y\n",
      "t\n",
      "h\n",
      "End of Loop\n"
     ]
    }
   ],
   "source": [
    "for s in 'Python':\n",
    "    print(s)\n",
    "    if s == 'h':\n",
    "        break\n",
    "print('End of Loop')"
   ]
  },
  {
   "cell_type": "code",
   "execution_count": 75,
   "id": "6b6a0eb7",
   "metadata": {},
   "outputs": [
    {
     "name": "stdout",
     "output_type": "stream",
     "text": [
      "P\n"
     ]
    }
   ],
   "source": [
    "for s in \"Python\":\n",
    "    print(s)\n",
    "    break"
   ]
  },
  {
   "cell_type": "code",
   "execution_count": 74,
   "id": "b2332c7d",
   "metadata": {},
   "outputs": [
    {
     "name": "stdout",
     "output_type": "stream",
     "text": [
      "P\n",
      "y\n",
      "t\n",
      "h\n",
      "o\n",
      "n\n",
      "End of Loop\n"
     ]
    }
   ],
   "source": [
    "for s in 'Python':\n",
    "    print(s)\n",
    "    if s == 'h':\n",
    "        continue\n",
    "    \n",
    "print('End of Loop')"
   ]
  },
  {
   "cell_type": "code",
   "execution_count": 81,
   "id": "e6d3d83e",
   "metadata": {},
   "outputs": [
    {
     "name": "stdout",
     "output_type": "stream",
     "text": [
      "hello\n",
      "hello\n",
      "hello\n",
      "hello\n",
      "hello\n",
      "hello\n"
     ]
    }
   ],
   "source": [
    "for s in \"Python\":\n",
    "    print(\"hello\")\n",
    "    continue\n",
    "    print(s)"
   ]
  },
  {
   "cell_type": "code",
   "execution_count": 79,
   "id": "a821ca7e",
   "metadata": {},
   "outputs": [
    {
     "name": "stdout",
     "output_type": "stream",
     "text": [
      "P\n",
      "y\n",
      "t\n",
      "h\n",
      "o\n",
      "n\n"
     ]
    }
   ],
   "source": [
    "for s in \"Python\":\n",
    "    print(s)\n",
    "    continue"
   ]
  },
  {
   "cell_type": "markdown",
   "id": "71f2a249",
   "metadata": {},
   "source": [
    "## Loop Else Statements"
   ]
  },
  {
   "cell_type": "code",
   "execution_count": 7,
   "id": "75742acb",
   "metadata": {},
   "outputs": [
    {
     "name": "stdout",
     "output_type": "stream",
     "text": [
      "Enter edible item :tuna\n",
      "Great Delicious \n",
      "Enter edible item :spam\n",
      "No more spam please !!\n",
      "Finally finshed stuffing myself!!\n"
     ]
    }
   ],
   "source": [
    "for i in range(0, 3):\n",
    "    food = input('Enter edible item :')\n",
    "    if food == 'spam':\n",
    "        print('No more spam please !!')\n",
    "        break\n",
    "    print('Great Delicious ')\n",
    "else:\n",
    "    print('I am so glad !! No Spam')\n",
    "print('Finally finshed stuffing myself!!')"
   ]
  },
  {
   "cell_type": "code",
   "execution_count": 10,
   "id": "0ab2fc02",
   "metadata": {},
   "outputs": [],
   "source": [
    "# this is the same as not having an else\n",
    "def with_else():\n",
    "    for i in range(0,2):\n",
    "        print(i)\n",
    "    else:\n",
    "        print(\"hello world\")\n",
    "\n",
    "def without_else():\n",
    "    for i in range(0, 2):\n",
    "        print(i)\n",
    "    print(\"hello world\")"
   ]
  },
  {
   "cell_type": "code",
   "execution_count": 15,
   "id": "fefe447a",
   "metadata": {},
   "outputs": [
    {
     "name": "stdout",
     "output_type": "stream",
     "text": [
      "0\n",
      "0\n",
      "hello world\n"
     ]
    }
   ],
   "source": [
    "# the else is only useful for the for loop when there is a conditional break in the for loop\n",
    "\n",
    "def with_else():\n",
    "    for i in range(0, 2):\n",
    "        print(i)\n",
    "        if 1 == 1:\n",
    "            break\n",
    "    else:\n",
    "        print(\"hello world\")\n",
    "\n",
    "def without_else():\n",
    "    for i in range(0, 2):\n",
    "        print(i)\n",
    "        if 1 == 1:\n",
    "            break\n",
    "    print(\"hello world\")  \n",
    "\n",
    "with_else()\n",
    "without_else()"
   ]
  },
  {
   "cell_type": "code",
   "execution_count": null,
   "id": "0df4c9e6",
   "metadata": {},
   "outputs": [],
   "source": [
    "is_garbage = False\n",
    "\n",
    "for i in range(0,10):\n",
    "    is_garbage = is_garbage()\n",
    "    \n",
    "    if is garbage:\n",
    "        break\n",
    "        asfa"
   ]
  },
  {
   "cell_type": "code",
   "execution_count": null,
   "id": "51d0a8b2",
   "metadata": {},
   "outputs": [],
   "source": [
    "for i in range(5):\n",
    "    food = input('Enter edible item :')\n",
    "    if food == 'spam':\n",
    "        print('No more spam please !!')\n",
    "        break\n",
    "    print('Great Delicious ')\n",
    "else :\n",
    "    print('I am so glad !! No Spam')\n",
    "print('Finally finshed stuffing myself!!')"
   ]
  },
  {
   "cell_type": "code",
   "execution_count": 15,
   "id": "c8cb699f",
   "metadata": {},
   "outputs": [
    {
     "data": {
      "text/plain": [
       "100"
      ]
     },
     "execution_count": 15,
     "metadata": {},
     "output_type": "execute_result"
    }
   ],
   "source": [
    "marks"
   ]
  },
  {
   "cell_type": "code",
   "execution_count": 14,
   "id": "7625264c",
   "metadata": {},
   "outputs": [],
   "source": [
    "marks = 100"
   ]
  },
  {
   "cell_type": "code",
   "execution_count": null,
   "id": "61b34567",
   "metadata": {},
   "outputs": [],
   "source": []
  }
 ],
 "metadata": {
  "kernelspec": {
   "display_name": "Python 3 (ipykernel)",
   "language": "python",
   "name": "python3"
  },
  "language_info": {
   "codemirror_mode": {
    "name": "ipython",
    "version": 3
   },
   "file_extension": ".py",
   "mimetype": "text/x-python",
   "name": "python",
   "nbconvert_exporter": "python",
   "pygments_lexer": "ipython3",
   "version": "3.9.6"
  }
 },
 "nbformat": 4,
 "nbformat_minor": 5
}
