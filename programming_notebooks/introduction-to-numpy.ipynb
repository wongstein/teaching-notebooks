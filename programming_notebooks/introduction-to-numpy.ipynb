{
 "cells": [
  {
   "cell_type": "markdown",
   "metadata": {},
   "source": [
    "## Numpy - Numerical Python\n",
    "\n",
    "- It allows working with `multi-dimensional arrays` or `nd arrays`\n",
    "\n",
    "- It also allows `broadcasting and vectorization` which helps speed up calculations by using multiple cores."
   ]
  },
  {
   "cell_type": "code",
   "execution_count": null,
   "metadata": {},
   "outputs": [],
   "source": [
    "import numpy as np"
   ]
  },
  {
   "cell_type": "markdown",
   "metadata": {},
   "source": [
    "## Creating an Array of Zeros\n",
    "\n",
    "```python\n",
    "np.zeros(\"Shape\")\n",
    "```"
   ]
  },
  {
   "cell_type": "code",
   "execution_count": null,
   "metadata": {},
   "outputs": [],
   "source": [
    "np.zeros(5)"
   ]
  },
  {
   "cell_type": "code",
   "execution_count": null,
   "metadata": {},
   "outputs": [],
   "source": [
    "np.zeros((3, 4))"
   ]
  },
  {
   "cell_type": "markdown",
   "metadata": {},
   "source": [
    "## Numpy Terminology"
   ]
  },
  {
   "cell_type": "markdown",
   "metadata": {},
   "source": [
    "- Each `Dimension` of the array is called an `Axis`.\n",
    "\n",
    "- No of Axes of the array is called the `Rank`.  \n",
    "\n",
    "- The shape of the array is given by the `List of ranks`.  \n",
    "\n",
    "- The no of elements in the array is given by the `Product of the ranks`."
   ]
  },
  {
   "cell_type": "code",
   "execution_count": null,
   "metadata": {},
   "outputs": [],
   "source": [
    "zeros = np.zeros((3, 4))\n",
    "print(f\"No of Dimensions: {zeros.ndim}\")\n",
    "print(f\"Shape: {zeros.shape}\")\n",
    "print(f\"Size: {zeros.size}\")"
   ]
  },
  {
   "cell_type": "markdown",
   "metadata": {},
   "source": [
    "## Creating Nd Arrays"
   ]
  },
  {
   "cell_type": "code",
   "execution_count": null,
   "metadata": {},
   "outputs": [],
   "source": [
    "np.zeros((2, 3, 4))"
   ]
  },
  {
   "cell_type": "markdown",
   "metadata": {},
   "source": [
    "## Creating Different Types of Arrays"
   ]
  },
  {
   "cell_type": "markdown",
   "metadata": {},
   "source": [
    "- np.ones(`shape`)"
   ]
  },
  {
   "cell_type": "code",
   "execution_count": null,
   "metadata": {},
   "outputs": [],
   "source": [
    "print(\"Array of Ones: \")\n",
    "print(np.ones((2, 3)))"
   ]
  },
  {
   "cell_type": "markdown",
   "metadata": {},
   "source": [
    "- np.full(`Shape`, `Custom Number`)"
   ]
  },
  {
   "cell_type": "code",
   "execution_count": null,
   "metadata": {},
   "outputs": [],
   "source": [
    "print(\"Array of any custom number: \")\n",
    "print(np.full((2, 3), 10))"
   ]
  },
  {
   "cell_type": "markdown",
   "metadata": {},
   "source": [
    "- np.empty(`Shape`)"
   ]
  },
  {
   "cell_type": "code",
   "execution_count": null,
   "metadata": {},
   "outputs": [],
   "source": [
    "print(\"Array of empty values reflecting the values of the memory address\")\n",
    "print(np.empty((3, 4)))"
   ]
  },
  {
   "cell_type": "markdown",
   "metadata": {},
   "source": [
    "## Converting a python list to an array\n",
    "\n",
    "- np.array(`List`, `dtype`)"
   ]
  },
  {
   "cell_type": "code",
   "execution_count": null,
   "metadata": {},
   "outputs": [],
   "source": [
    "ls = [[1, 2], [3, 4], [5, 6], [7, 8], [9, 10]]\n",
    "np.array(ls)"
   ]
  },
  {
   "cell_type": "markdown",
   "metadata": {
    "tags": []
   },
   "source": [
    "## Numpy Arrays\n",
    "\n",
    "![](https://i.stack.imgur.com/NWTQH.png)"
   ]
  },
  {
   "cell_type": "markdown",
   "metadata": {},
   "source": [
    "### Python lists are not created for scientific computing. They can store data and provide a lot usability, but when it comes to math and matrix we have Numpy arrays\n",
    "\n",
    "1. Python lists are fundamentally created to be data stores that mirror major function of arrays.\n",
    "2. Numpy arrays are meant to express mathmatical matrix behavior.\n",
    "3. Python list behavior like addition is NOT the same as matrix addition behavior. \n",
    "4. There are simple mathmatical tasks that are available to matrices (and also numpy arrays) that ARE NOT available to python lists, like subtraction, multiplication, division."
   ]
  },
  {
   "cell_type": "code",
   "execution_count": null,
   "metadata": {
    "tags": []
   },
   "outputs": [],
   "source": [
    "# let's see how python lists behave\n",
    "a = [1,2,3]\n",
    "b = [4,5,6]\n",
    "\n",
    "# Example of python list addition.\n",
    "a + b"
   ]
  },
  {
   "cell_type": "code",
   "execution_count": null,
   "metadata": {
    "tags": []
   },
   "outputs": [],
   "source": [
    "# example of Python list subtraction\n",
    "a - b"
   ]
  },
  {
   "cell_type": "code",
   "execution_count": null,
   "metadata": {},
   "outputs": [],
   "source": [
    "a * b"
   ]
  },
  {
   "cell_type": "code",
   "execution_count": null,
   "metadata": {},
   "outputs": [],
   "source": [
    "a * 2"
   ]
  },
  {
   "cell_type": "markdown",
   "metadata": {},
   "source": [
    "## Creating Arrays"
   ]
  },
  {
   "cell_type": "code",
   "execution_count": null,
   "metadata": {
    "tags": []
   },
   "outputs": [],
   "source": [
    "# creating array from a list\n",
    "\n",
    "# input into array function: list\n",
    "## documentation on numpy.array: https://numpy.org/doc/stable/reference/generated/numpy.array.html\n",
    "a_array = np.array(a)\n",
    "b_array = np.array(b)"
   ]
  },
  {
   "cell_type": "code",
   "execution_count": null,
   "metadata": {
    "tags": []
   },
   "outputs": [],
   "source": [
    "# Example of how to access element in array\n",
    "## Syntax: list_identifier[index]\n",
    "print(a[0]) \n",
    "print(type(a))\n",
    "print(type(a[0]))"
   ]
  },
  {
   "cell_type": "code",
   "execution_count": null,
   "metadata": {},
   "outputs": [],
   "source": [
    "print(a_array[0])\n",
    "print(type(a_array))"
   ]
  },
  {
   "cell_type": "code",
   "execution_count": null,
   "metadata": {
    "tags": []
   },
   "outputs": [],
   "source": [
    "\n",
    "twod = np.array([ (1,2,3), (4,5,6) ], dtype = float)\n",
    "\n",
    "print(twod)\n",
    "\n",
    "# how to get array dimensions\n",
    "print(\"Array dim: \", twod.shape)\n",
    "\n",
    "# how to get total number of elements in array\n",
    "print(\"Array size: \", twod.size)"
   ]
  },
  {
   "cell_type": "code",
   "execution_count": null,
   "metadata": {},
   "outputs": [],
   "source": [
    "# how to get a single element in a 2D Array\n",
    "#   0 1 2\n",
    "# 0 1 2 3\n",
    "# 1 4 5 6\n",
    "\n",
    "# Get 6\n",
    "## Syntax: array_identifier[row_index, col_index]\n",
    "print(twod[1, 2])\n",
    "\n",
    "## Syntax: array_identifier[row_index][col_index]\n",
    "print(twod[1][2])"
   ]
  },
  {
   "cell_type": "code",
   "execution_count": null,
   "metadata": {
    "tags": []
   },
   "outputs": [],
   "source": [
    "threed = np.array([ (1,2,3), (4,5,6), (7,8,9) ], dtype = float)\n",
    "\n",
    "print(threed)\n",
    "\n",
    "print(\"Array dim: \", threed.shape)\n",
    "print(\"Array size: \", threed.size)"
   ]
  },
  {
   "cell_type": "code",
   "execution_count": null,
   "metadata": {},
   "outputs": [],
   "source": [
    "# how to get a row\n",
    "## syntax : array_identifier[row_index]\n",
    "threed[1]"
   ]
  },
  {
   "cell_type": "markdown",
   "metadata": {},
   "source": [
    "![](https://i.stack.imgur.com/NWTQH.png)"
   ]
  },
  {
   "cell_type": "code",
   "execution_count": null,
   "metadata": {},
   "outputs": [],
   "source": [
    "# 3 D array\n",
    "three_d_array = [[[1, 2], [3, 4]], [[5, 6], [7, 8]]]\n",
    "\n",
    "three_d = np.array(three_d_array)"
   ]
  },
  {
   "cell_type": "code",
   "execution_count": null,
   "metadata": {},
   "outputs": [],
   "source": [
    "three_d"
   ]
  },
  {
   "cell_type": "code",
   "execution_count": null,
   "metadata": {},
   "outputs": [],
   "source": [
    "three_d[0][0][1]"
   ]
  },
  {
   "cell_type": "markdown",
   "metadata": {},
   "source": [
    "## Creating custom arrays using Numpy"
   ]
  },
  {
   "cell_type": "markdown",
   "metadata": {},
   "source": [
    "- np.arange(`Start`, `Stop`, `Step`)"
   ]
  },
  {
   "cell_type": "code",
   "execution_count": null,
   "metadata": {},
   "outputs": [],
   "source": [
    "np.arange(1, 5, 1)"
   ]
  },
  {
   "cell_type": "code",
   "execution_count": null,
   "metadata": {},
   "outputs": [],
   "source": [
    "np.arange(1, 5, 0.5)"
   ]
  },
  {
   "cell_type": "code",
   "execution_count": null,
   "metadata": {},
   "outputs": [],
   "source": [
    "np.arange(1, 5, 0.75)"
   ]
  },
  {
   "cell_type": "markdown",
   "metadata": {},
   "source": [
    "## Creating a custom array using the Gaussian Distribution"
   ]
  },
  {
   "cell_type": "markdown",
   "metadata": {},
   "source": [
    "- np.linspace(`Start`, `Stop`, `No of Values`)"
   ]
  },
  {
   "cell_type": "code",
   "execution_count": null,
   "metadata": {},
   "outputs": [],
   "source": [
    "np.linspace(1, 5, 20)"
   ]
  },
  {
   "cell_type": "markdown",
   "metadata": {},
   "source": [
    "**np.linspace()** is better for fractional values as it utilises the `Gaussian Distribution` for generating the values of the array"
   ]
  },
  {
   "cell_type": "markdown",
   "metadata": {},
   "source": [
    "## Creating an array of Random Values"
   ]
  },
  {
   "cell_type": "markdown",
   "metadata": {},
   "source": [
    "- np.random.rand(`shape`)\n",
    "\n",
    "- This creates an array of the given shape using random values between 0 and 1 from a **`uniform distribution`**."
   ]
  },
  {
   "cell_type": "code",
   "execution_count": null,
   "metadata": {},
   "outputs": [],
   "source": [
    "np.random.rand(4, 5)"
   ]
  },
  {
   "cell_type": "markdown",
   "metadata": {},
   "source": [
    "- np.random.randn(`shape`)\n",
    "\n",
    "- This creates an array of the given shape using random values which follow the **`Gaussian Normal Distribution`**"
   ]
  },
  {
   "cell_type": "code",
   "execution_count": null,
   "metadata": {},
   "outputs": [],
   "source": [
    "np.random.randn(4, 5)"
   ]
  },
  {
   "cell_type": "markdown",
   "metadata": {},
   "source": [
    "## Visualising the Distributions for the functions"
   ]
  },
  {
   "cell_type": "code",
   "execution_count": null,
   "metadata": {},
   "outputs": [],
   "source": [
    "import matplotlib.pyplot as plt\n",
    "%matplotlib inline"
   ]
  },
  {
   "cell_type": "code",
   "execution_count": null,
   "metadata": {},
   "outputs": [],
   "source": [
    "plt.hist(np.random.rand(100000), bins=100, density=True, histtype=\"step\", label=\"Rand\")\n",
    "plt.hist(np.random.randn(100000), bins=100, density=True, histtype=\"step\", label=\"Randn\")\n",
    "plt.axis([-2.5, 2.5, 0, 1.1])\n",
    "plt.legend(loc = \"upper left\")\n",
    "plt.title(\"Random distributions\")\n",
    "plt.xlabel(\"Value\")\n",
    "plt.ylabel(\"Density\")\n",
    "plt.show()"
   ]
  },
  {
   "cell_type": "markdown",
   "metadata": {},
   "source": [
    "## Creating an array using a custom function"
   ]
  },
  {
   "cell_type": "markdown",
   "metadata": {},
   "source": [
    "- np.fromfunction(`Function Name`, `Shape`)\n",
    "\n",
    "- This creates an array of the required shape after `mapping the numbers to the function`.\n",
    "\n",
    "- It is very efficient as it refers to the `function header only once`."
   ]
  },
  {
   "cell_type": "code",
   "execution_count": null,
   "metadata": {},
   "outputs": [],
   "source": [
    "def polynomial(x, y, z):\n",
    "    return x + 10 * y + 100 * z\n",
    "\n",
    "np.fromfunction(polynomial, (3, 5, 2))"
   ]
  },
  {
   "cell_type": "markdown",
   "metadata": {},
   "source": [
    "## Reshaping Numpy Arrays"
   ]
  },
  {
   "cell_type": "markdown",
   "metadata": {},
   "source": [
    "- `nd Array Object`.shape = (`New Shape`)"
   ]
  },
  {
   "cell_type": "code",
   "execution_count": null,
   "metadata": {},
   "outputs": [],
   "source": [
    "new = np.random.rand(12)\n",
    "print(new)\n",
    "print(new.shape)"
   ]
  },
  {
   "cell_type": "code",
   "execution_count": null,
   "metadata": {},
   "outputs": [],
   "source": [
    "print(\"Reshaping the Array to (12, 1), (3, 4) and (6, 2)\")\n",
    "\n",
    "new.shape = (12, 1)\n",
    "print(\"\\n(12, 1)\\n\", new)\n",
    "\n",
    "new.shape = (3, 4)\n",
    "print(\"\\n(3, 4)\\n\", new)\n",
    "\n",
    "new.shape = (6, 2)\n",
    "print(\"\\n(6, 2)\\n\", new)"
   ]
  },
  {
   "cell_type": "markdown",
   "metadata": {},
   "source": [
    "- `nD Array Object`.reshape(`Shape`)"
   ]
  },
  {
   "cell_type": "code",
   "execution_count": null,
   "metadata": {},
   "outputs": [],
   "source": [
    "new = new.reshape(4, 3)\n",
    "print(\"\\n(4, 3)\\n\", new)\n",
    "\n",
    "new = new.reshape(2, 6)\n",
    "print(\"\\n(2, 6)\\n\", new)"
   ]
  },
  {
   "cell_type": "markdown",
   "metadata": {},
   "source": [
    "## Arithematic Operations\n",
    "\n",
    "- All the arithematic operations on arrays work `element-wise` unless invoked using vectorization."
   ]
  },
  {
   "cell_type": "code",
   "execution_count": null,
   "metadata": {},
   "outputs": [],
   "source": [
    "# Declaring the Arrays\n",
    "a = np.array([1, 2, 3, 4, 5])\n",
    "b = np.array([6, 7, 8, 9, 10])\n",
    "\n",
    "print(\"A: \", a)\n",
    "print(\"B: \", b)"
   ]
  },
  {
   "cell_type": "code",
   "execution_count": null,
   "metadata": {},
   "outputs": [],
   "source": [
    "print(\"Performing Arithematic Operations on the Arrays: \")\n",
    "print(f\"\\nA + B: {a + b}\\n\")\n",
    "print(f\"\\nA - B: {a - b}\\n\")\n",
    "print(f\"\\nA * B: {a * b}\\n\")\n",
    "print(f\"\\nA / B: {a / b}\\n\")\n",
    "print(f\"\\nA // B: {a // b}\\n\")\n",
    "print(f\"\\nA ** B: {a ** b}\\n\")\n",
    "print(f\"\\nA % B: {a % b}\\n\")"
   ]
  },
  {
   "cell_type": "markdown",
   "metadata": {},
   "source": [
    "## Numpy Broadcasting"
   ]
  },
  {
   "cell_type": "markdown",
   "metadata": {},
   "source": [
    "- Numpy broadcasting is applied when an arithematic operation is performed on arrays but their shape dont match\n",
    "\n",
    "- **Thus numpy automatically extends / broadcasts the array to match a shape in certain cases**"
   ]
  },
  {
   "cell_type": "code",
   "execution_count": null,
   "metadata": {},
   "outputs": [],
   "source": [
    "a = np.arange(5).reshape(1, 5)\n",
    "print(a)\n",
    "print(a.shape)"
   ]
  },
  {
   "cell_type": "markdown",
   "metadata": {},
   "source": [
    "## Rule - 1\n",
    "\n",
    "- **On trying to `sum with a rank - 1 vector` numpy automatically broadcasts the vector**"
   ]
  },
  {
   "cell_type": "code",
   "execution_count": null,
   "metadata": {},
   "outputs": [],
   "source": [
    "a + [6, 7, 8, 9, 10]"
   ]
  },
  {
   "cell_type": "markdown",
   "metadata": {},
   "source": [
    "- Thus numpy has automatically converted\n",
    "- [6, 7, 8, 9, 10] to [[6, 7, 8, 9, 10]]"
   ]
  },
  {
   "cell_type": "markdown",
   "metadata": {},
   "source": [
    "## Rule - 2\n",
    "\n",
    "- **On trying to a `sum with a column vector` numpy automatically broadcasts the vector**"
   ]
  },
  {
   "cell_type": "code",
   "execution_count": null,
   "metadata": {},
   "outputs": [],
   "source": [
    "a = np.arange(6).reshape(2, 3)\n",
    "print(a)\n",
    "print(a.shape)"
   ]
  },
  {
   "cell_type": "code",
   "execution_count": null,
   "metadata": {},
   "outputs": [],
   "source": [
    "a + [[100], [200]]"
   ]
  },
  {
   "cell_type": "markdown",
   "metadata": {},
   "source": [
    "- Thus numpy automatically converted the array\n",
    "- [[100, 100, 100], [200, 200, 200]]"
   ]
  },
  {
   "cell_type": "markdown",
   "metadata": {},
   "source": [
    "## Combining Rule 1 and Rule 2"
   ]
  },
  {
   "cell_type": "code",
   "execution_count": null,
   "metadata": {},
   "outputs": [],
   "source": [
    "print(a)\n",
    "print(a.shape)"
   ]
  },
  {
   "cell_type": "code",
   "execution_count": null,
   "metadata": {},
   "outputs": [],
   "source": [
    "a + [100, 200, 300]"
   ]
  },
  {
   "cell_type": "markdown",
   "metadata": {},
   "source": [
    "- Thus numpy automatically converts the array\n",
    "- [[100, 200, 300],  \n",
    "   [100, 200, 300]]"
   ]
  },
  {
   "cell_type": "markdown",
   "metadata": {},
   "source": [
    "## Numpy Broadcasting with Conditionals\n",
    "\n",
    "- Numpy broadcasting can also be applied to conditionally select the elements of the array.\n",
    "\n",
    "- On apply a conditional it works `element-wise to give a boolean array`."
   ]
  },
  {
   "cell_type": "code",
   "execution_count": null,
   "metadata": {},
   "outputs": [],
   "source": [
    "a = np.arange(5)\n",
    "b = np.arange(6, 11)\n",
    "print(a)\n",
    "print(b)"
   ]
  },
  {
   "cell_type": "code",
   "execution_count": null,
   "metadata": {},
   "outputs": [],
   "source": [
    "print(\"Checking which values of A < B: \")\n",
    "print(a < b)"
   ]
  },
  {
   "cell_type": "code",
   "execution_count": null,
   "metadata": {},
   "outputs": [],
   "source": [
    "a = a + 10 + np.random.randn(5)\n",
    "b = b + np.random.rand(5)\n",
    "print(a)\n",
    "print(b)\n",
    "print(\"Checking which values of A < B: \")\n",
    "print(a < b)"
   ]
  },
  {
   "cell_type": "markdown",
   "metadata": {},
   "source": [
    "## Conditional Selection\n",
    "\n",
    "- Numpy arrays on conditional selection `return a slice of the array` which match the condition"
   ]
  },
  {
   "cell_type": "code",
   "execution_count": null,
   "metadata": {},
   "outputs": [],
   "source": [
    "print(f\"b[b > 7]: {b[b > 7]}\")"
   ]
  },
  {
   "cell_type": "markdown",
   "metadata": {},
   "source": [
    "## Math and Statistical methods using Numpy"
   ]
  },
  {
   "cell_type": "code",
   "execution_count": null,
   "metadata": {},
   "outputs": [],
   "source": [
    "a = np.linspace(1, 10, 6).reshape(2, 3)\n",
    "print(a)"
   ]
  },
  {
   "cell_type": "code",
   "execution_count": null,
   "metadata": {},
   "outputs": [],
   "source": [
    "for func in (a.mean, a.min, a.max, a.sum, a.prod, a.std, a.var):\n",
    "    print(func.__name__, \" = \", func())"
   ]
  },
  {
   "cell_type": "markdown",
   "metadata": {},
   "source": [
    "- Thus all the major math and statistical functions are standard methods of the `Numpy nd - array object` which  \n",
    "can be referenced using the `. operator`."
   ]
  },
  {
   "cell_type": "markdown",
   "metadata": {},
   "source": [
    "- The standard functions also provide an optional parameter `Axis` which changes the way the methods are applied to the array:\n",
    "    - Column Wise: `Axis = 0`\n",
    "    \n",
    "    - Row Wise: `Axis = 1`"
   ]
  },
  {
   "cell_type": "markdown",
   "metadata": {},
   "source": [
    "- `Axis = 0`: **[1 + 6.4 , 2.8 + 8.2 , 4.6 + 10]**\n",
    "\n",
    "- Column - Wise Addition"
   ]
  },
  {
   "cell_type": "code",
   "execution_count": null,
   "metadata": {},
   "outputs": [],
   "source": [
    "print(f\"Column Wise Addition: \\n{a.sum(axis=0)}\")"
   ]
  },
  {
   "cell_type": "markdown",
   "metadata": {},
   "source": [
    "- `Axis = 1`: **[1 + 2.8 + 4.6 , 6.4 + 8.2 + 10]**\n",
    "\n",
    "- Row - Wise Addtion"
   ]
  },
  {
   "cell_type": "code",
   "execution_count": null,
   "metadata": {},
   "outputs": [],
   "source": [
    "print(f\"Row Wise Addition: \\n{a.sum(axis=1)}\")"
   ]
  },
  {
   "cell_type": "markdown",
   "metadata": {},
   "source": [
    "## Numpy Universal Functions"
   ]
  },
  {
   "cell_type": "markdown",
   "metadata": {},
   "source": [
    "- Numpy universal functions work using a vectorised wrapper to perform operations on arrays.\n",
    "\n",
    "- They are very fast as they split the calculations over multiple cores of CPU\n",
    "\n",
    "- They are of two types:\n",
    "    - Fast Element-Wise `unary operations`\n",
    "        - abs, sqrt, exp, log, ceil ...\n",
    "    \n",
    "    - Fast Element-Wise `binary operations`\n",
    "        - dot, cross, greater, maximum ..."
   ]
  },
  {
   "cell_type": "code",
   "execution_count": null,
   "metadata": {},
   "outputs": [],
   "source": [
    "a = np.linspace(1, 5, 10)\n",
    "print(a)"
   ]
  },
  {
   "cell_type": "markdown",
   "metadata": {},
   "source": [
    "## Unary Operations"
   ]
  },
  {
   "cell_type": "code",
   "execution_count": null,
   "metadata": {},
   "outputs": [],
   "source": [
    "print(\"Unary Operations\")\n",
    "for func in (np.abs, np.sqrt, np.square, np.exp, np.log, np.ceil):\n",
    "    print(\"\\n\", func.__name__)\n",
    "    print(func(a))"
   ]
  },
  {
   "cell_type": "code",
   "execution_count": null,
   "metadata": {},
   "outputs": [],
   "source": [
    "b = np.random.rand(10)\n",
    "print(b)"
   ]
  },
  {
   "cell_type": "markdown",
   "metadata": {},
   "source": [
    "## Binary Operations"
   ]
  },
  {
   "cell_type": "code",
   "execution_count": null,
   "metadata": {},
   "outputs": [],
   "source": [
    "print(\"Binary Operations\")\n",
    "print(\"\\nDot: \", np.dot(a, b))\n",
    "print(\"\\nGreater: \", np.greater(a, b))\n",
    "print(\"\\nMaximum: \", np.maximum(a, b))"
   ]
  },
  {
   "cell_type": "markdown",
   "metadata": {},
   "source": [
    "## Indexing in Numpy Arrays"
   ]
  },
  {
   "cell_type": "markdown",
   "metadata": {},
   "source": [
    "- `One Dimensional Arrays` follow the same indexing as python lists  \n",
    "\n",
    "    [`Start`:`Stop`:`Step`]"
   ]
  },
  {
   "cell_type": "code",
   "execution_count": null,
   "metadata": {},
   "outputs": [],
   "source": [
    "print(a)"
   ]
  },
  {
   "cell_type": "code",
   "execution_count": null,
   "metadata": {},
   "outputs": [],
   "source": [
    "print(a[1:-3])"
   ]
  },
  {
   "cell_type": "code",
   "execution_count": null,
   "metadata": {},
   "outputs": [],
   "source": [
    "print(a[2::2])"
   ]
  },
  {
   "cell_type": "code",
   "execution_count": null,
   "metadata": {},
   "outputs": [],
   "source": [
    "print(a[::-1])"
   ]
  },
  {
   "cell_type": "markdown",
   "metadata": {},
   "source": [
    "- `Multi Dimensional Arrays` follow interior indexing at each level\n",
    "\n",
    "   [`First Dimesion <Start, Stop, Step>`, `Second Dimension <Start, Stop, Step>`, ....]"
   ]
  },
  {
   "cell_type": "code",
   "execution_count": null,
   "metadata": {},
   "outputs": [],
   "source": [
    "multi = np.random.rand(3, 4)\n",
    "print(\"\\n2D Array: \\n\", multi)"
   ]
  },
  {
   "cell_type": "code",
   "execution_count": null,
   "metadata": {},
   "outputs": [],
   "source": [
    "print(f\"Accessing the 1st Row: {multi[1, :]}\")"
   ]
  },
  {
   "cell_type": "code",
   "execution_count": null,
   "metadata": {},
   "outputs": [],
   "source": [
    "print(f\"Accessing the 1st Column: {multi[:, 0]}\")"
   ]
  },
  {
   "cell_type": "code",
   "execution_count": null,
   "metadata": {},
   "outputs": [],
   "source": [
    "print(\"Accessing a subset of the array: \\n\", multi[1:, 1:-1])"
   ]
  },
  {
   "cell_type": "code",
   "execution_count": null,
   "metadata": {},
   "outputs": [],
   "source": [
    "print(f\"Accessing only the first 2 x 2 of the array:\\n {multi[:-1, :-2]}\")"
   ]
  },
  {
   "cell_type": "markdown",
   "metadata": {},
   "source": [
    "## Iterating over the Array"
   ]
  },
  {
   "cell_type": "code",
   "execution_count": null,
   "metadata": {},
   "outputs": [],
   "source": [
    "for row in multi:\n",
    "    print(row)"
   ]
  },
  {
   "cell_type": "code",
   "execution_count": null,
   "metadata": {},
   "outputs": [],
   "source": [
    "for row in multi:\n",
    "    for col in row:\n",
    "        print(col)"
   ]
  },
  {
   "cell_type": "markdown",
   "metadata": {},
   "source": [
    "- To convert a multi-dimensional array into a 1D array for iteration without unpacking using a for loop use the  \n",
    "`<array object>.flat` attribute"
   ]
  },
  {
   "cell_type": "code",
   "execution_count": null,
   "metadata": {},
   "outputs": [],
   "source": [
    "for i in multi.flat:\n",
    "    print(i)"
   ]
  },
  {
   "cell_type": "markdown",
   "metadata": {},
   "source": [
    "## Stacking Numpy Arrays"
   ]
  },
  {
   "cell_type": "markdown",
   "metadata": {},
   "source": [
    "- Numpy provides various methods to stack arrays together\n",
    "    - hstack\n",
    "    - vstack\n",
    "    - concatenate\n",
    "    - stack\n",
    "    \n",
    "- Each function takes `tuple of array objects` as a parameter and returns the new stacked array"
   ]
  },
  {
   "cell_type": "code",
   "execution_count": null,
   "metadata": {},
   "outputs": [],
   "source": [
    "a = np.arange(1, 9).reshape(2, 4)\n",
    "b = np.arange(-1, -9, -1).reshape(2, 4)\n",
    "print(a)\n",
    "print(b)"
   ]
  },
  {
   "cell_type": "markdown",
   "metadata": {},
   "source": [
    "## Using HStack and VStack:\n",
    "\n",
    "- np.hstack(`Tuple of Array Objects`)\n",
    "\n",
    "- np.vstack(`Tuple of Array Objects`)"
   ]
  },
  {
   "cell_type": "code",
   "execution_count": null,
   "metadata": {},
   "outputs": [],
   "source": [
    "print(\"Here is the Horizontal Stack: \\n\", np.hstack((a, b)))\n",
    "print(\"\\nHere is the Vertical Stack: \\n\", np.vstack((a, b)))"
   ]
  },
  {
   "cell_type": "markdown",
   "metadata": {},
   "source": [
    "## Concatenate:\n",
    "\n",
    "- The concatenate method generalises both the operations performed by the hstack and vstack methods.\n",
    "\n",
    "- The concatenate method takes an additional argument `Axis` to provide choice of stack operation.\n",
    "\n",
    "- np.concatenate(`Tuple of Array Objects`, `Axis`)"
   ]
  },
  {
   "cell_type": "code",
   "execution_count": null,
   "metadata": {},
   "outputs": [],
   "source": [
    "print(\"Here is the Horizontal Stack using np.stack(axis = 1): \\n\", np.concatenate((a, b), axis=1))\n",
    "print(\"\\nHere is the Vertical Stack using np.stack(axis = 0): \\n\", np.concatenate((a, b), axis=0))"
   ]
  },
  {
   "cell_type": "markdown",
   "metadata": {},
   "source": [
    "## Stack:\n",
    "\n",
    "- The stack method takes a tuple of array objects and adds each of them to a seperate dimension.\n",
    "\n",
    "- np.stack((`Tuple of Array Objects`))"
   ]
  },
  {
   "cell_type": "code",
   "execution_count": null,
   "metadata": {},
   "outputs": [],
   "source": [
    "np.stack((a, b))"
   ]
  },
  {
   "cell_type": "markdown",
   "metadata": {},
   "source": [
    "## Splitting Numpy Arrays:"
   ]
  },
  {
   "cell_type": "markdown",
   "metadata": {},
   "source": [
    "- Splitting the Numpy arrays follows the same rules as the stack()\n",
    "\n",
    "- vsplit(`Array`, `No of Parts`), hsplit(`Array`, `No of Parts`), split(`Array`, `No of Parts`)\n",
    "\n",
    "- Each of the split() expects a set of variables to unpack the returned values.\n",
    "\n",
    "**The split() takes an additional parameter axis to generalise the to both the cases**"
   ]
  },
  {
   "cell_type": "code",
   "execution_count": null,
   "metadata": {},
   "outputs": [],
   "source": [
    "hstack = np.concatenate((a, b), axis=1)\n",
    "vstack = np.concatenate((a, b), axis=0)\n",
    "print(\"Horizontal Stack\\n\", hstack)\n",
    "print(\"Vertical Stack\\n\", vstack)"
   ]
  },
  {
   "cell_type": "code",
   "execution_count": null,
   "metadata": {},
   "outputs": [],
   "source": [
    "print(\"Splitting the hstack into 4 columns: \")\n",
    "c1, c2, c3, c4 = np.hsplit(hstack, 4)\n",
    "print(\"\\nC1:\\n \", c1)\n",
    "print(\"\\nC2:\\n \", c2)\n",
    "print(\"\\nC3:\\n \", c3)\n",
    "print(\"\\nC4:\\n \", c4)"
   ]
  },
  {
   "cell_type": "code",
   "execution_count": null,
   "metadata": {},
   "outputs": [],
   "source": [
    "print(\"Splitting the vstack into 2 matrices: \")\n",
    "m1, m2 = np.vsplit(vstack, 2)\n",
    "print(\"\\nM1:\\n \", m1)\n",
    "print(\"\\nM2:\\n \", m2)"
   ]
  },
  {
   "cell_type": "code",
   "execution_count": null,
   "metadata": {},
   "outputs": [],
   "source": [
    "print(\"Using the split function to generalise to both the cases: \")\n",
    "print(np.split(hstack, indices_or_sections=4, axis=1))\n",
    "print(np.split(vstack, indices_or_sections=2, axis=0))"
   ]
  },
  {
   "cell_type": "markdown",
   "metadata": {},
   "source": [
    "## Linear Algebra"
   ]
  },
  {
   "cell_type": "markdown",
   "metadata": {},
   "source": [
    "## Matrix Transpose:\n",
    "\n",
    "- Matrix Transpose can be done in three ways:\n",
    "\n",
    "    - np.transpose(`Array Object`)\n",
    "    \n",
    "    - `Array Object`.transpose()\n",
    "    \n",
    "    - `Array Object`.T\n",
    "    \n",
    "    **Here `.T` is short for `.transpose()`**\n",
    "    \n",
    "    **`.T` works only on arrays rank >= 2. Thus it is ineffective against `1D arrays`**"
   ]
  },
  {
   "cell_type": "code",
   "execution_count": null,
   "metadata": {},
   "outputs": [],
   "source": [
    "print(a)"
   ]
  },
  {
   "cell_type": "code",
   "execution_count": null,
   "metadata": {},
   "outputs": [],
   "source": [
    "print(\"Transpose of A: \\n\", a.T)"
   ]
  },
  {
   "cell_type": "code",
   "execution_count": null,
   "metadata": {},
   "outputs": [],
   "source": [
    "print(b)"
   ]
  },
  {
   "cell_type": "code",
   "execution_count": null,
   "metadata": {},
   "outputs": [],
   "source": [
    "print(\"Transpose of B: \\n\", b.transpose())"
   ]
  },
  {
   "cell_type": "code",
   "execution_count": null,
   "metadata": {},
   "outputs": [],
   "source": [
    "oneD = np.linspace(1, 5, 10)\n",
    "print(oneD)"
   ]
  },
  {
   "cell_type": "code",
   "execution_count": null,
   "metadata": {},
   "outputs": [],
   "source": [
    "print(oneD.T)"
   ]
  },
  {
   "cell_type": "code",
   "execution_count": null,
   "metadata": {},
   "outputs": [],
   "source": [
    "print(oneD.reshape(1, 10).T)"
   ]
  },
  {
   "cell_type": "markdown",
   "metadata": {},
   "source": [
    "## Identity Matrix:\n",
    "\n",
    "- np.eye(`Order`)\n",
    "\n",
    "- Creates and returns an identity matrix of the given order"
   ]
  },
  {
   "cell_type": "code",
   "execution_count": null,
   "metadata": {},
   "outputs": [],
   "source": [
    "np.eye(3)"
   ]
  },
  {
   "cell_type": "markdown",
   "metadata": {},
   "source": [
    "## Matrix Multiplication"
   ]
  },
  {
   "cell_type": "markdown",
   "metadata": {},
   "source": [
    "- Matrix multiplication of two arrays is performed using two reference methods\n",
    "\n",
    "    - `Array - 1`.dot(`Array - 2`)\n",
    "    \n",
    "    - np.dot(`Array - 1`, `Array - 2`)\n",
    "    \n",
    "- **On performing multiplication using `*` element wise product is calculated**"
   ]
  },
  {
   "cell_type": "code",
   "execution_count": null,
   "metadata": {},
   "outputs": [],
   "source": [
    "print(a)\n",
    "print(b)"
   ]
  },
  {
   "cell_type": "code",
   "execution_count": null,
   "metadata": {},
   "outputs": [],
   "source": [
    "print(np.dot(a, b.T))"
   ]
  },
  {
   "cell_type": "code",
   "execution_count": null,
   "metadata": {},
   "outputs": [],
   "source": [
    "print(b.dot(a.T))"
   ]
  },
  {
   "cell_type": "code",
   "execution_count": null,
   "metadata": {},
   "outputs": [],
   "source": [
    "print(a * b)"
   ]
  },
  {
   "cell_type": "markdown",
   "metadata": {},
   "source": [
    "## Most of the common Linear Algebra operations require invoking the `numpy.linalg` module\n",
    "\n",
    "## Matrix Inverse"
   ]
  },
  {
   "cell_type": "markdown",
   "metadata": {},
   "source": [
    "- np.linalg.inv(`Array`)\n",
    "\n",
    "- This calculates the inverse of a square matrix"
   ]
  },
  {
   "cell_type": "code",
   "execution_count": null,
   "metadata": {},
   "outputs": [],
   "source": [
    "a = np.random.rand(5, 5)\n",
    "print(a)"
   ]
  },
  {
   "cell_type": "code",
   "execution_count": null,
   "metadata": {},
   "outputs": [],
   "source": [
    "print(\"The inverse of A is: \\n\")\n",
    "print(np.linalg.inv(a))"
   ]
  },
  {
   "cell_type": "markdown",
   "metadata": {},
   "source": [
    "## Matrix Determinant\n",
    "\n",
    "- np.linalg.det(`Array`)"
   ]
  },
  {
   "cell_type": "code",
   "execution_count": null,
   "metadata": {},
   "outputs": [],
   "source": [
    "print(\"The determinant of A is: \")\n",
    "print(np.linalg.det(a))"
   ]
  },
  {
   "cell_type": "markdown",
   "metadata": {},
   "source": [
    "## Eigen Values and Eigen Vectors\n",
    "\n",
    "- `Eigen Values`, `Eigen Vectors` = np.linalg.eig(`Array`)\n",
    "\n",
    "- This returns two arrays which are unpacked to store the eigen values and the eigen vectors"
   ]
  },
  {
   "cell_type": "code",
   "execution_count": null,
   "metadata": {},
   "outputs": [],
   "source": [
    "b = np.arange(9).reshape(3, 3)\n",
    "print(b)"
   ]
  },
  {
   "cell_type": "code",
   "execution_count": null,
   "metadata": {},
   "outputs": [],
   "source": [
    "eigen_values, eigen_vectors = np.linalg.eig(b)\n",
    "print(\"The Eigen Values are:\\n \")\n",
    "print(eigen_values)\n",
    "print(\"\\nThe Eigen Vectors are:\\n \")\n",
    "print(eigen_vectors)"
   ]
  },
  {
   "cell_type": "markdown",
   "metadata": {},
   "source": [
    "## Diagonal And Trace\n",
    "\n",
    "- The diagonal and trace of a matrix can be called from the numpy reference\n",
    "\n",
    "- np.diag(`Array`)\n",
    "\n",
    "- np.trace(`Array`)"
   ]
  },
  {
   "cell_type": "code",
   "execution_count": null,
   "metadata": {},
   "outputs": [],
   "source": [
    "print(\"The Diagonal of B is:\\n\", np.diag(b))\n",
    "print(\"\\nThe Trace of B is:\\n\", np.trace(b))"
   ]
  },
  {
   "cell_type": "markdown",
   "metadata": {},
   "source": [
    "## Saving and Loading Arrays\n",
    "\n",
    "- Binary Format `.npy`\n",
    "\n",
    "- Text Format `.csv`\n",
    "\n",
    "## Binary Format:\n",
    "\n",
    "- **Saving the Array:** np.save(`File.npy`, `Array`)\n",
    "\n",
    "- **Loading the Array:** np.load(`File.npy`)"
   ]
  },
  {
   "cell_type": "code",
   "execution_count": null,
   "metadata": {},
   "outputs": [],
   "source": [
    "print(\"Saving the array to a binary file\")\n",
    "np.save(\"Eval\", eigen_values)"
   ]
  },
  {
   "cell_type": "code",
   "execution_count": null,
   "metadata": {},
   "outputs": [],
   "source": [
    "with open(\"Eval.npy\", \"rb\") as file:\n",
    "    array = file.read()\n",
    "    \n",
    "print(\"Reading the Binary File:\\n \", array)"
   ]
  },
  {
   "cell_type": "code",
   "execution_count": null,
   "metadata": {},
   "outputs": [],
   "source": [
    "print(\"Loading the Array: \\n\")\n",
    "array = np.load(\"Eval.npy\")\n",
    "print(array)"
   ]
  },
  {
   "cell_type": "markdown",
   "metadata": {},
   "source": [
    "## Text Format:\n",
    "\n",
    "- **Saving the Array:** np.savetxt(`File.csv`, `Array`, `Delimiter`)\n",
    "\n",
    "- **Loading the Array:** np.loadtext(`File.npy`, `Delimiter`)"
   ]
  },
  {
   "cell_type": "code",
   "execution_count": null,
   "metadata": {},
   "outputs": [],
   "source": [
    "print(\"Saving the array to a CSV\")\n",
    "np.savetxt(\"Evect.csv\", eigen_vectors, delimiter=\",\")"
   ]
  },
  {
   "cell_type": "code",
   "execution_count": null,
   "metadata": {},
   "outputs": [],
   "source": [
    "with open(\"Evect.csv\") as file:\n",
    "    array = file.read()\n",
    "    \n",
    "print(array)"
   ]
  },
  {
   "cell_type": "code",
   "execution_count": null,
   "metadata": {},
   "outputs": [],
   "source": [
    "print(\"Loading the Array: \\n\")\n",
    "array = np.loadtxt(\"Evect.csv\", delimiter=\",\")\n",
    "print(array)"
   ]
  }
 ],
 "metadata": {
  "kernelspec": {
   "display_name": "Python 3 (ipykernel)",
   "language": "python",
   "name": "python3"
  },
  "language_info": {
   "codemirror_mode": {
    "name": "ipython",
    "version": 3
   },
   "file_extension": ".py",
   "mimetype": "text/x-python",
   "name": "python",
   "nbconvert_exporter": "python",
   "pygments_lexer": "ipython3",
   "version": "3.11.5"
  }
 },
 "nbformat": 4,
 "nbformat_minor": 4
}
