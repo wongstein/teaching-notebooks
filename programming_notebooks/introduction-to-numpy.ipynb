{
 "cells": [
  {
   "cell_type": "markdown",
   "metadata": {},
   "source": [
    "## Numpy - Numerical Python\n",
    "\n",
    "- It allows working with `multi-dimensional arrays` or `nd arrays`\n",
    "\n",
    "- It also allows `broadcasting and vectorization` which helps speed up calculations by using multiple cores."
   ]
  },
  {
   "cell_type": "code",
   "execution_count": 1,
   "metadata": {},
   "outputs": [],
   "source": [
    "!pip install numpy\n",
    "import numpy as np # as np => renaming numpy in the current namespace as np, so I don't have type"
   ]
  },
  {
   "cell_type": "markdown",
   "metadata": {},
   "source": [
    "## Creating an Array of Zeros\n",
    "\n",
    "```python\n",
    "np.zeros(\"Shape\")\n",
    "```"
   ]
  },
  {
   "cell_type": "code",
   "execution_count": 2,
   "metadata": {},
   "outputs": [],
   "source": [
    "# Instantiates numpy array, of size 5 where everythign inside is a 0 \n",
    "\n",
    "# np.zeros : function takes in a integer parameter and creates a np.array of size int \n",
    "## With just 0s\n",
    "test = np.zeros(5)"
   ]
  },
  {
   "cell_type": "code",
   "execution_count": 3,
   "metadata": {},
   "outputs": [
    {
     "data": {
      "text/plain": [
       "array([0., 0., 0., 0., 0.])"
      ]
     },
     "execution_count": 3,
     "metadata": {},
     "output_type": "execute_result"
    }
   ],
   "source": [
    "# 1 dimensional\n",
    "test "
   ]
  },
  {
   "cell_type": "code",
   "execution_count": 4,
   "metadata": {},
   "outputs": [],
   "source": [
    "# to make 2 -D array, can pass in a tuple, or list\n",
    "\n",
    "\n",
    "np_dimension_tuple = (3, 4) # rows, cols\n",
    "test_2d = np.zeros(np_dimension_tuple)"
   ]
  },
  {
   "cell_type": "code",
   "execution_count": 5,
   "metadata": {},
   "outputs": [
    {
     "data": {
      "text/plain": [
       "array([[0., 0., 0., 0.],\n",
       "       [0., 0., 0., 0.],\n",
       "       [0., 0., 0., 0.]])"
      ]
     },
     "execution_count": 5,
     "metadata": {},
     "output_type": "execute_result"
    }
   ],
   "source": [
    "test_2d"
   ]
  },
  {
   "cell_type": "code",
   "execution_count": 6,
   "metadata": {},
   "outputs": [
    {
     "ename": "TypeError",
     "evalue": "'str' object cannot be interpreted as an integer",
     "output_type": "error",
     "traceback": [
      "\u001b[0;31m---------------------------------------------------------------------------\u001b[0m",
      "\u001b[0;31mTypeError\u001b[0m                                 Traceback (most recent call last)",
      "Cell \u001b[0;32mIn[6], line 1\u001b[0m\n\u001b[0;32m----> 1\u001b[0m \u001b[43mnp\u001b[49m\u001b[38;5;241;43m.\u001b[39;49m\u001b[43mzeros\u001b[49m\u001b[43m(\u001b[49m\u001b[38;5;124;43m\"\u001b[39;49m\u001b[38;5;124;43mhello world\u001b[39;49m\u001b[38;5;124;43m\"\u001b[39;49m\u001b[43m)\u001b[49m\n",
      "\u001b[0;31mTypeError\u001b[0m: 'str' object cannot be interpreted as an integer"
     ]
    }
   ],
   "source": [
    "# np.zeros does type checking on the input parameter\n",
    "np.zeros(\"hello world\")"
   ]
  },
  {
   "cell_type": "markdown",
   "metadata": {},
   "source": [
    "## Numpy Terminology"
   ]
  },
  {
   "cell_type": "markdown",
   "metadata": {},
   "source": [
    "- Each `Dimension` of the array is called an `Axis`.\n",
    "\n",
    "- ### first_dimension rank == 2, second_dimension_rank == 3\n",
    "- ###\n",
    "\n",
    "\n",
    "- Number of Axes of the array is called the `Rank`.  \n",
    "\n",
    "- The shape of the array is given by the `List of ranks`.  \n",
    "\n",
    "- The no of elements in the array is given by the `Product of the ranks`."
   ]
  },
  {
   "cell_type": "code",
   "execution_count": 13,
   "metadata": {},
   "outputs": [
    {
     "name": "stdout",
     "output_type": "stream",
     "text": [
      "No of Dimensions: 2\n",
      "Shape: (2, 2)\n",
      "Size: 4\n"
     ]
    }
   ],
   "source": [
    "\n",
    "zeros = np.zeros((2, 2)) # dimension\n",
    "\n",
    "\n",
    "print(f\"No of Dimensions: {zeros.ndim}\")\n",
    "print(f\"Shape: {zeros.shape}\")\n",
    "print(f\"Size: {zeros.size}\") # total number of cells in the array"
   ]
  },
  {
   "cell_type": "code",
   "execution_count": 14,
   "metadata": {},
   "outputs": [
    {
     "data": {
      "text/plain": [
       "array([[0., 0.],\n",
       "       [0., 0.]])"
      ]
     },
     "execution_count": 14,
     "metadata": {},
     "output_type": "execute_result"
    }
   ],
   "source": [
    "zeros"
   ]
  },
  {
   "cell_type": "code",
   "execution_count": 9,
   "metadata": {},
   "outputs": [
    {
     "name": "stdout",
     "output_type": "stream",
     "text": [
      "No of Dimensions: 3\n",
      "Shape: (1, 10, 4)\n",
      "Size: 40\n"
     ]
    }
   ],
   "source": [
    "another_zeros = np.zeros((1, 10, 4))\n",
    "\n",
    "print(f\"No of Dimensions: {another_zeros.ndim}\")\n",
    "print(f\"Shape: {another_zeros.shape}\")\n",
    "print(f\"Size: {another_zeros.size}\")"
   ]
  },
  {
   "cell_type": "markdown",
   "metadata": {},
   "source": [
    "## Creating Nd Arrays"
   ]
  },
  {
   "cell_type": "code",
   "execution_count": 15,
   "metadata": {},
   "outputs": [
    {
     "data": {
      "text/plain": [
       "array([[[0., 0., 0., 0.],\n",
       "        [0., 0., 0., 0.],\n",
       "        [0., 0., 0., 0.]],\n",
       "\n",
       "       [[0., 0., 0., 0.],\n",
       "        [0., 0., 0., 0.],\n",
       "        [0., 0., 0., 0.]]])"
      ]
     },
     "execution_count": 15,
     "metadata": {},
     "output_type": "execute_result"
    }
   ],
   "source": [
    "np.zeros((2, 3, 4))"
   ]
  },
  {
   "cell_type": "markdown",
   "metadata": {},
   "source": [
    "## Creating Different Types of Arrays"
   ]
  },
  {
   "cell_type": "markdown",
   "metadata": {},
   "source": [
    "- np.ones(`shape`)"
   ]
  },
  {
   "cell_type": "code",
   "execution_count": 16,
   "metadata": {},
   "outputs": [
    {
     "name": "stdout",
     "output_type": "stream",
     "text": [
      "Array of Ones: \n",
      "[[1. 1. 1.]\n",
      " [1. 1. 1.]]\n"
     ]
    }
   ],
   "source": [
    "print(\"Array of Ones: \")\n",
    "print(np.ones((2, 3)))"
   ]
  },
  {
   "cell_type": "markdown",
   "metadata": {},
   "source": [
    "Create an array with a specific number that isn't 0, 1, or None\n",
    "- np.full(`Shape`, `Custom Number`)"
   ]
  },
  {
   "cell_type": "code",
   "execution_count": 28,
   "metadata": {},
   "outputs": [
    {
     "name": "stdout",
     "output_type": "stream",
     "text": [
      "Array of any custom number: \n",
      "[[10 10 10]\n",
      " [10 10 10]]\n"
     ]
    }
   ],
   "source": [
    "print(\"Array of any custom number: \")\n",
    "\n",
    "# custom number respects the type passed\n",
    "test_passed_type = np.full((2, 3), 10)\n",
    "print(test_passed_type)"
   ]
  },
  {
   "cell_type": "code",
   "execution_count": 29,
   "metadata": {},
   "outputs": [
    {
     "data": {
      "text/plain": [
       "numpy.int64"
      ]
     },
     "execution_count": 29,
     "metadata": {},
     "output_type": "execute_result"
    }
   ],
   "source": [
    "type(test_passed_type[0][0])"
   ]
  },
  {
   "cell_type": "markdown",
   "metadata": {},
   "source": [
    "- np.empty(`Shape`)"
   ]
  },
  {
   "cell_type": "code",
   "execution_count": 19,
   "metadata": {},
   "outputs": [
    {
     "name": "stdout",
     "output_type": "stream",
     "text": [
      "Array of empty values reflecting the values of the memory address\n",
      "[[0. 0. 0. 0.]\n",
      " [0. 0. 0. 0.]\n",
      " [0. 0. 0. 0.]]\n"
     ]
    }
   ],
   "source": [
    "print(\"Array of empty values reflecting the values of the memory address\")\n",
    "print(np.empty((3, 4)))"
   ]
  },
  {
   "cell_type": "code",
   "execution_count": 24,
   "metadata": {},
   "outputs": [],
   "source": [
    "zeros = np.zeros((1, 1))\n",
    "empty = np.empty((1, 1))"
   ]
  },
  {
   "cell_type": "code",
   "execution_count": 25,
   "metadata": {},
   "outputs": [
    {
     "data": {
      "text/plain": [
       "False"
      ]
     },
     "execution_count": 25,
     "metadata": {},
     "output_type": "execute_result"
    }
   ],
   "source": [
    "zeros is empty"
   ]
  },
  {
   "cell_type": "code",
   "execution_count": 26,
   "metadata": {},
   "outputs": [
    {
     "data": {
      "text/plain": [
       "array([[ True]])"
      ]
     },
     "execution_count": 26,
     "metadata": {},
     "output_type": "execute_result"
    }
   ],
   "source": [
    "# np.empty and np.zeros gives the same values (0 float)\n",
    "zeros == empty"
   ]
  },
  {
   "cell_type": "code",
   "execution_count": 23,
   "metadata": {},
   "outputs": [
    {
     "data": {
      "text/plain": [
       "False"
      ]
     },
     "execution_count": 23,
     "metadata": {},
     "output_type": "execute_result"
    }
   ],
   "source": [
    "# This is the numpy none object.\n",
    "## Different from python None\n",
    "\n",
    "## Empty cells in a csv read by pandas will be interpreted as np.nan\n",
    "np.nan == None"
   ]
  },
  {
   "cell_type": "code",
   "execution_count": 30,
   "metadata": {},
   "outputs": [],
   "source": [
    "test_nan = np.nan"
   ]
  },
  {
   "cell_type": "code",
   "execution_count": 33,
   "metadata": {},
   "outputs": [
    {
     "name": "stdout",
     "output_type": "stream",
     "text": [
      "True\n",
      "False\n",
      "True\n"
     ]
    }
   ],
   "source": [
    "# how to test that nan is nan!  \n",
    "print(np.isnan(test_nan))\n",
    "\n",
    "## This is weird\n",
    "print(test_nan == np.nan)\n",
    "print(test_nan is np.nan)"
   ]
  },
  {
   "cell_type": "markdown",
   "metadata": {},
   "source": [
    "## Converting a python list to an array\n",
    "\n",
    "- np.array(`List`, `dtype`)"
   ]
  },
  {
   "cell_type": "code",
   "execution_count": 43,
   "metadata": {},
   "outputs": [
    {
     "name": "stdout",
     "output_type": "stream",
     "text": [
      "[1 2 3]\n",
      "(3,)\n"
     ]
    }
   ],
   "source": [
    "oned_list = [1, 2, 3]\n",
    "\n",
    "# Passing in the list directly into np.array()\n",
    "## expectation: numpy array with 1 dimension, 1 row and 3 columns, with values 1,2, 3\n",
    "test = np.array(oned_list)\n",
    "print(test)\n",
    "print(test.shape)"
   ]
  },
  {
   "cell_type": "code",
   "execution_count": 38,
   "metadata": {},
   "outputs": [
    {
     "data": {
      "text/plain": [
       "array([1, 2, 3])"
      ]
     },
     "execution_count": 38,
     "metadata": {},
     "output_type": "execute_result"
    }
   ],
   "source": [
    "# can also take numpy array as input\n",
    "np.array(np.array(oned_list))"
   ]
  },
  {
   "cell_type": "code",
   "execution_count": 40,
   "metadata": {},
   "outputs": [
    {
     "data": {
      "text/plain": [
       "array([], shape=(3, 0), dtype=float64)"
      ]
     },
     "execution_count": 40,
     "metadata": {},
     "output_type": "execute_result"
    }
   ],
   "source": [
    "twod_list = [[],[],[]] # 2 d empty list of lists [3, 0]\n",
    "\n",
    "np.array(twod_list)\n"
   ]
  },
  {
   "cell_type": "code",
   "execution_count": 42,
   "metadata": {},
   "outputs": [
    {
     "name": "stdout",
     "output_type": "stream",
     "text": [
      "[[ 1  2]\n",
      " [ 3  4]\n",
      " [ 5  6]\n",
      " [ 7  8]\n",
      " [ 9 10]]\n",
      "(5, 2)\n"
     ]
    }
   ],
   "source": [
    "ls = [[1, 2], [3, 4], [5, 6], [7, 8], [9, 10]]\n",
    "test = np.array(ls)\n",
    "print(np.array(ls))\n",
    "print(test.shape)"
   ]
  },
  {
   "cell_type": "code",
   "execution_count": 44,
   "metadata": {},
   "outputs": [
    {
     "data": {
      "text/plain": [
       "[1, 2, 3]"
      ]
     },
     "execution_count": 44,
     "metadata": {},
     "output_type": "execute_result"
    }
   ],
   "source": [
    "# return an array to a python list\n",
    "test.tolist()"
   ]
  },
  {
   "cell_type": "code",
   "execution_count": 51,
   "metadata": {},
   "outputs": [
    {
     "name": "stdout",
     "output_type": "stream",
     "text": [
      "1\n",
      "()\n"
     ]
    }
   ],
   "source": [
    "# zero dimension arrays\n",
    "zero_dim_array = np.array(1)\n",
    "print(zero_dim_array)\n",
    "print(zero_dim_array.shape)"
   ]
  },
  {
   "cell_type": "markdown",
   "metadata": {},
   "source": [
    "# Calling a cell in NP Arrays"
   ]
  },
  {
   "cell_type": "code",
   "execution_count": 53,
   "metadata": {},
   "outputs": [
    {
     "data": {
      "text/plain": [
       "0"
      ]
     },
     "execution_count": 53,
     "metadata": {},
     "output_type": "execute_result"
    }
   ],
   "source": [
    "oned_test = np.array([0, 1, 2, 3])\n",
    "\n",
    "# call is just like a list: oned_test[index_number]\n",
    "# print 1\n",
    "oned_test[0]"
   ]
  },
  {
   "cell_type": "code",
   "execution_count": 55,
   "metadata": {},
   "outputs": [
    {
     "name": "stdout",
     "output_type": "stream",
     "text": [
      "1\n",
      "1\n"
     ]
    }
   ],
   "source": [
    "ls = [[1, 2], [3, 4], [5, 6], [7, 8], [9, 10]]\n",
    "twod_test = np.array(ls)\n",
    "\n",
    "# twod_test[row_index][col_index]  => This syntax works on lists of lists in Python\n",
    "# twod_test[row_index, col_index]\n",
    "print(twod_test[0][0])\n",
    "print(twod_test[0,0])"
   ]
  },
  {
   "cell_type": "markdown",
   "metadata": {
    "tags": []
   },
   "source": [
    "## Numpy Arrays\n",
    "\n",
    "![](https://i.stack.imgur.com/NWTQH.png)"
   ]
  },
  {
   "cell_type": "markdown",
   "metadata": {},
   "source": [
    "### Python lists are not created for scientific computing. They can store data and provide a lot usability, but when it comes to math and matrix we have Numpy arrays\n",
    "\n",
    "1. Python lists are fundamentally created to be data stores that mirror major function of arrays and fix major developer pain of arrays in other languages\n",
    "   - pain: resizing the array over the course of the program; mixed data object types in that array.\n",
    "3. Numpy arrays are meant to express mathmatical matrix behavior.\n",
    "4. Python list behavior like addition is NOT the same as matrix addition behavior. \n",
    "5. There are simple mathmatical tasks that are available to matrices (and also numpy arrays) that ARE NOT available to python lists, like subtraction, multiplication, division."
   ]
  },
  {
   "cell_type": "code",
   "execution_count": 57,
   "metadata": {
    "tags": []
   },
   "outputs": [
    {
     "data": {
      "text/plain": [
       "[1, 2, 3, 4, 5, 6]"
      ]
     },
     "execution_count": 57,
     "metadata": {},
     "output_type": "execute_result"
    }
   ],
   "source": [
    "# let's see how python lists behave\n",
    "a = [1,2,3]\n",
    "b = [4,5,6]\n",
    "\n",
    "# Example of python list addition.\n",
    "a + b"
   ]
  },
  {
   "cell_type": "code",
   "execution_count": 58,
   "metadata": {},
   "outputs": [
    {
     "data": {
      "text/plain": [
       "array([5, 7, 9])"
      ]
     },
     "execution_count": 58,
     "metadata": {},
     "output_type": "execute_result"
    }
   ],
   "source": [
    "a_np = np.array(a)\n",
    "b_np = np.array(b)\n",
    "\n",
    "# numpy addition is replicating matrix addition!!  Not extending size of array\n",
    "a_np + b_np"
   ]
  },
  {
   "cell_type": "code",
   "execution_count": 59,
   "metadata": {
    "tags": []
   },
   "outputs": [
    {
     "ename": "TypeError",
     "evalue": "unsupported operand type(s) for -: 'list' and 'list'",
     "output_type": "error",
     "traceback": [
      "\u001b[0;31m---------------------------------------------------------------------------\u001b[0m",
      "\u001b[0;31mTypeError\u001b[0m                                 Traceback (most recent call last)",
      "Cell \u001b[0;32mIn[59], line 2\u001b[0m\n\u001b[1;32m      1\u001b[0m \u001b[38;5;66;03m# example of Python list subtraction\u001b[39;00m\n\u001b[0;32m----> 2\u001b[0m \u001b[43ma\u001b[49m\u001b[43m \u001b[49m\u001b[38;5;241;43m-\u001b[39;49m\u001b[43m \u001b[49m\u001b[43mb\u001b[49m\n",
      "\u001b[0;31mTypeError\u001b[0m: unsupported operand type(s) for -: 'list' and 'list'"
     ]
    }
   ],
   "source": [
    "# example of Python list subtraction\n",
    "a - b"
   ]
  },
  {
   "cell_type": "code",
   "execution_count": 60,
   "metadata": {},
   "outputs": [
    {
     "data": {
      "text/plain": [
       "array([-3, -3, -3])"
      ]
     },
     "execution_count": 60,
     "metadata": {},
     "output_type": "execute_result"
    }
   ],
   "source": [
    "a_np - b_np"
   ]
  },
  {
   "cell_type": "code",
   "execution_count": 62,
   "metadata": {},
   "outputs": [
    {
     "ename": "TypeError",
     "evalue": "can't multiply sequence by non-int of type 'list'",
     "output_type": "error",
     "traceback": [
      "\u001b[0;31m---------------------------------------------------------------------------\u001b[0m",
      "\u001b[0;31mTypeError\u001b[0m                                 Traceback (most recent call last)",
      "Cell \u001b[0;32mIn[62], line 2\u001b[0m\n\u001b[1;32m      1\u001b[0m \u001b[38;5;66;03m# python lists have no conception of mulitiplication\u001b[39;00m\n\u001b[0;32m----> 2\u001b[0m \u001b[43ma\u001b[49m\u001b[43m \u001b[49m\u001b[38;5;241;43m*\u001b[39;49m\u001b[43m \u001b[49m\u001b[43mb\u001b[49m\n",
      "\u001b[0;31mTypeError\u001b[0m: can't multiply sequence by non-int of type 'list'"
     ]
    }
   ],
   "source": [
    "# python lists have no conception of mulitiplication\n",
    "a * b"
   ]
  },
  {
   "cell_type": "code",
   "execution_count": 63,
   "metadata": {},
   "outputs": [
    {
     "data": {
      "text/plain": [
       "array([ 4, 10, 18])"
      ]
     },
     "execution_count": 63,
     "metadata": {},
     "output_type": "execute_result"
    }
   ],
   "source": [
    "# numpy knows what matrix multiplication\n",
    "a_np * b_np"
   ]
  },
  {
   "cell_type": "code",
   "execution_count": 66,
   "metadata": {},
   "outputs": [
    {
     "ename": "TypeError",
     "evalue": "can't multiply sequence by non-int of type 'float'",
     "output_type": "error",
     "traceback": [
      "\u001b[0;31m---------------------------------------------------------------------------\u001b[0m",
      "\u001b[0;31mTypeError\u001b[0m                                 Traceback (most recent call last)",
      "Cell \u001b[0;32mIn[66], line 2\u001b[0m\n\u001b[1;32m      1\u001b[0m \u001b[38;5;66;03m# python lists multiplication will replicate itself (or * n itself)\u001b[39;00m\n\u001b[0;32m----> 2\u001b[0m \u001b[43ma\u001b[49m\u001b[43m \u001b[49m\u001b[38;5;241;43m*\u001b[39;49m\u001b[43m \u001b[49m\u001b[38;5;241;43m3.5\u001b[39;49m\n",
      "\u001b[0;31mTypeError\u001b[0m: can't multiply sequence by non-int of type 'float'"
     ]
    }
   ],
   "source": [
    "# python lists multiplication will replicate itself (or * n itself)\n",
    "## Only works with a scalar/ int.  Will break with a float\n",
    "a * 3"
   ]
  },
  {
   "cell_type": "code",
   "execution_count": 69,
   "metadata": {},
   "outputs": [
    {
     "data": {
      "text/plain": [
       "array([ 3.5,  7. , 10.5])"
      ]
     },
     "execution_count": 69,
     "metadata": {},
     "output_type": "execute_result"
    }
   ],
   "source": [
    "# numpy understand matrix multiplication with a scalar and float!\n",
    "a_np * 3.5"
   ]
  },
  {
   "cell_type": "code",
   "execution_count": 70,
   "metadata": {},
   "outputs": [
    {
     "data": {
      "text/plain": [
       "array([  1,  32, 729])"
      ]
     },
     "execution_count": 70,
     "metadata": {},
     "output_type": "execute_result"
    }
   ],
   "source": [
    "a_np ** b_np"
   ]
  },
  {
   "cell_type": "code",
   "execution_count": 71,
   "metadata": {},
   "outputs": [
    {
     "data": {
      "text/plain": [
       "array([0.5, 1. , 1.5])"
      ]
     },
     "execution_count": 71,
     "metadata": {},
     "output_type": "execute_result"
    }
   ],
   "source": [
    "a_np / 2"
   ]
  },
  {
   "cell_type": "code",
   "execution_count": 72,
   "metadata": {},
   "outputs": [
    {
     "data": {
      "text/plain": [
       "array([0.25, 0.4 , 0.5 ])"
      ]
     },
     "execution_count": 72,
     "metadata": {},
     "output_type": "execute_result"
    }
   ],
   "source": [
    "a_np / b_np"
   ]
  },
  {
   "cell_type": "code",
   "execution_count": 73,
   "metadata": {},
   "outputs": [
    {
     "data": {
      "text/plain": [
       "array([1, 2, 3])"
      ]
     },
     "execution_count": 73,
     "metadata": {},
     "output_type": "execute_result"
    }
   ],
   "source": [
    "a_np % b_np"
   ]
  },
  {
   "cell_type": "markdown",
   "metadata": {},
   "source": [
    "## Negative Indexing\n",
    "\n",
    "1. Negative indexing is hard to get right in complicated situations\n",
    "2. I (AMY) personally use it only:\n",
    "    - I need that backwards behavior while iterating through the array.\n",
    "    - I want the last element of an array when you don't know the size of the array."
   ]
  },
  {
   "cell_type": "code",
   "execution_count": 81,
   "metadata": {
    "tags": []
   },
   "outputs": [
    {
     "name": "stdout",
     "output_type": "stream",
     "text": [
      "[1 2 3]\n"
     ]
    }
   ],
   "source": [
    "# creating array from a list\n",
    "\n",
    "# input into array function: list\n",
    "## documentation on numpy.array: https://numpy.org/doc/stable/reference/generated/numpy.array.html\n",
    "a_array = np.array(a)\n",
    "b_array = np.array(b)\n",
    "\n",
    "print(a_array)"
   ]
  },
  {
   "cell_type": "code",
   "execution_count": 82,
   "metadata": {},
   "outputs": [
    {
     "data": {
      "text/plain": [
       "3"
      ]
     },
     "execution_count": 82,
     "metadata": {},
     "output_type": "execute_result"
    }
   ],
   "source": [
    "# negative indexing in 1 dimension\n",
    "# print 3\n",
    "a_array[-1]"
   ]
  },
  {
   "cell_type": "code",
   "execution_count": 83,
   "metadata": {
    "tags": []
   },
   "outputs": [
    {
     "name": "stdout",
     "output_type": "stream",
     "text": [
      "[[1. 2. 3.]\n",
      " [4. 5. 6.]]\n",
      "Array dim:  (2, 3)\n",
      "Array size:  6\n"
     ]
    }
   ],
   "source": [
    "twod = np.array([ (1,2,3), (4,5,6) ], dtype = float)\n",
    "\n",
    "print(twod)\n",
    "\n",
    "# how to get array dimensions\n",
    "print(\"Array dim: \", twod.shape)\n",
    "\n",
    "# how to get total number of elements in array\n",
    "print(\"Array size: \", twod.size)"
   ]
  },
  {
   "cell_type": "code",
   "execution_count": 85,
   "metadata": {},
   "outputs": [
    {
     "name": "stdout",
     "output_type": "stream",
     "text": [
      "6.0\n",
      "6.0\n"
     ]
    }
   ],
   "source": [
    "# how to get a single element in a 2D Array\n",
    "#   -3 -2 -1\n",
    "# -2 1  2  3\n",
    "# -1 4  5  6\n",
    "\n",
    "# Get 6\n",
    "## Syntax: array_identifier[row_index, col_index]\n",
    "print(twod[-1, -1])\n",
    "\n",
    "## Syntax: array_identifier[row_index][col_index]\n",
    "print(twod[1][2])"
   ]
  },
  {
   "cell_type": "code",
   "execution_count": 86,
   "metadata": {
    "tags": []
   },
   "outputs": [
    {
     "name": "stdout",
     "output_type": "stream",
     "text": [
      "[[1. 2. 3.]\n",
      " [4. 5. 6.]\n",
      " [7. 8. 9.]]\n",
      "Array dim:  (3, 3)\n",
      "Array size:  9\n"
     ]
    }
   ],
   "source": [
    "twod = np.array([ (1,2,3), (4,5,6), (7,8,9) ], dtype = float)\n",
    "\n",
    "print(twod)\n",
    "\n",
    "print(\"Array dim: \", twod.shape)\n",
    "print(\"Array size: \", twod.size)"
   ]
  },
  {
   "cell_type": "code",
   "execution_count": 93,
   "metadata": {},
   "outputs": [
    {
     "data": {
      "text/plain": [
       "2.0"
      ]
     },
     "execution_count": 93,
     "metadata": {},
     "output_type": "execute_result"
    }
   ],
   "source": [
    "# Trying to get 8\n",
    "\n",
    "## SO HARD!\n",
    "twod[0][-2]"
   ]
  },
  {
   "cell_type": "code",
   "execution_count": null,
   "metadata": {},
   "outputs": [],
   "source": [
    "# how to get a row\n",
    "## syntax : array_identifier[row_index]\n",
    "threed[1]"
   ]
  },
  {
   "cell_type": "markdown",
   "metadata": {},
   "source": [
    "![](https://i.stack.imgur.com/NWTQH.png)"
   ]
  },
  {
   "cell_type": "code",
   "execution_count": 94,
   "metadata": {},
   "outputs": [],
   "source": [
    "# 3 D array\n",
    "three_d_array = [\n",
    "    [\n",
    "        [1, 2], [3, 4]\n",
    "    ], \n",
    "    [\n",
    "        [5, 6], [7, 8]\n",
    "    ]\n",
    "]\n",
    "\n",
    "three_d = np.array(three_d_array)"
   ]
  },
  {
   "cell_type": "code",
   "execution_count": 95,
   "metadata": {},
   "outputs": [
    {
     "data": {
      "text/plain": [
       "array([[[1, 2],\n",
       "        [3, 4]],\n",
       "\n",
       "       [[5, 6],\n",
       "        [7, 8]]])"
      ]
     },
     "execution_count": 95,
     "metadata": {},
     "output_type": "execute_result"
    }
   ],
   "source": [
    "three_d"
   ]
  },
  {
   "cell_type": "code",
   "execution_count": 96,
   "metadata": {},
   "outputs": [
    {
     "data": {
      "text/plain": [
       "(2, 2, 2)"
      ]
     },
     "execution_count": 96,
     "metadata": {},
     "output_type": "execute_result"
    }
   ],
   "source": [
    "three_d.shape"
   ]
  },
  {
   "cell_type": "code",
   "execution_count": 79,
   "metadata": {},
   "outputs": [
    {
     "name": "stdout",
     "output_type": "stream",
     "text": [
      "2\n",
      "2\n"
     ]
    }
   ],
   "source": [
    "# getting 2 with normal indexing\n",
    "print(three_d[0][0][1])\n",
    "print(three_d[0, 0, 1])"
   ]
  },
  {
   "cell_type": "code",
   "execution_count": 99,
   "metadata": {},
   "outputs": [
    {
     "data": {
      "text/plain": [
       "5"
      ]
     },
     "execution_count": 99,
     "metadata": {},
     "output_type": "execute_result"
    }
   ],
   "source": [
    "# getting the last element with negative indexing\n",
    "three_d[-1, -2, -2]"
   ]
  },
  {
   "cell_type": "markdown",
   "metadata": {},
   "source": [
    "# Slicing\n",
    "1. Slice is any subsection of the array or list"
   ]
  },
  {
   "cell_type": "code",
   "execution_count": 100,
   "metadata": {},
   "outputs": [
    {
     "data": {
      "text/plain": [
       "[4, 5, 6, 7]"
      ]
     },
     "execution_count": 100,
     "metadata": {},
     "output_type": "execute_result"
    }
   ],
   "source": [
    "my_list = [1, 2, 3, 4, 5, 6, 7, 8, 9, 10]\n",
    "\n",
    "# access slice with syntax : my_list[start_index: end_index + 1:(optional) increment value]\n",
    "\n",
    "# let's get 4-> 7 as a slice\n",
    "my_list[3:7]"
   ]
  },
  {
   "cell_type": "code",
   "execution_count": 106,
   "metadata": {},
   "outputs": [
    {
     "data": {
      "text/plain": [
       "[4, 6]"
      ]
     },
     "execution_count": 106,
     "metadata": {},
     "output_type": "execute_result"
    }
   ],
   "source": [
    "# skipping every other\n",
    "my_list[3:7:2]"
   ]
  },
  {
   "cell_type": "code",
   "execution_count": 102,
   "metadata": {},
   "outputs": [
    {
     "data": {
      "text/plain": [
       "array([4, 5, 6, 7])"
      ]
     },
     "execution_count": 102,
     "metadata": {},
     "output_type": "execute_result"
    }
   ],
   "source": [
    "my_array = np.array(my_list)\n",
    "\n",
    "my_array[3: 7]"
   ]
  },
  {
   "cell_type": "code",
   "execution_count": 101,
   "metadata": {},
   "outputs": [
    {
     "name": "stdout",
     "output_type": "stream",
     "text": [
      "[1, 2, 3]\n",
      "[1, 2, 3]\n"
     ]
    }
   ],
   "source": [
    "# syntax for subsection that starts at index 0:\n",
    "\n",
    "# option1 : my_list[0: end_index + 1]\n",
    "# get 1 -> 3\n",
    "print(my_list[0: 3])\n",
    "\n",
    "# option 2: my_list[: end_index + 1]\n",
    "\n",
    "print(my_list[: 3])\n",
    "\n",
    "    "
   ]
  },
  {
   "cell_type": "code",
   "execution_count": 103,
   "metadata": {},
   "outputs": [
    {
     "data": {
      "text/plain": [
       "array([1, 2, 3])"
      ]
     },
     "execution_count": 103,
     "metadata": {},
     "output_type": "execute_result"
    }
   ],
   "source": [
    "# same behavior in numpy\n",
    "my_array[:3]"
   ]
  },
  {
   "cell_type": "code",
   "execution_count": 107,
   "metadata": {},
   "outputs": [
    {
     "data": {
      "text/plain": [
       "[10, 9, 8]"
      ]
     },
     "execution_count": 107,
     "metadata": {},
     "output_type": "execute_result"
    }
   ],
   "source": [
    "# negative indexing with slices \n",
    "\n",
    "# 10, 9, 8\n",
    "## I have to specify a negative step to get the slice backwards\n",
    "my_list[-1:-4:-1]"
   ]
  },
  {
   "cell_type": "code",
   "execution_count": 108,
   "metadata": {},
   "outputs": [
    {
     "data": {
      "text/plain": [
       "[10, 9, 8, 7, 6, 5, 4, 3, 2, 1]"
      ]
     },
     "execution_count": 108,
     "metadata": {},
     "output_type": "execute_result"
    }
   ],
   "source": [
    "# Get the whole array backwards\n",
    "my_list[::-1]"
   ]
  },
  {
   "cell_type": "code",
   "execution_count": 109,
   "metadata": {},
   "outputs": [
    {
     "data": {
      "text/plain": [
       "array([10,  9,  8])"
      ]
     },
     "execution_count": 109,
     "metadata": {},
     "output_type": "execute_result"
    }
   ],
   "source": [
    "my_array[-1:-4:-1]"
   ]
  },
  {
   "cell_type": "markdown",
   "metadata": {},
   "source": [
    "## Creating custom arrays using Numpy with increasing range"
   ]
  },
  {
   "cell_type": "markdown",
   "metadata": {},
   "source": [
    "- np.arange(`Start`, `Stop`, `Step`)"
   ]
  },
  {
   "cell_type": "code",
   "execution_count": 110,
   "metadata": {},
   "outputs": [
    {
     "data": {
      "text/plain": [
       "array([1, 2, 3, 4])"
      ]
     },
     "execution_count": 110,
     "metadata": {},
     "output_type": "execute_result"
    }
   ],
   "source": [
    "np.arange(1, 5, 1)"
   ]
  },
  {
   "cell_type": "code",
   "execution_count": 112,
   "metadata": {},
   "outputs": [
    {
     "data": {
      "text/plain": [
       "array([1.2, 2.7, 4.2])"
      ]
     },
     "execution_count": 112,
     "metadata": {},
     "output_type": "execute_result"
    }
   ],
   "source": [
    "# can take floats at any value\n",
    "np.arange(1.2, 5, 1.5)"
   ]
  },
  {
   "cell_type": "code",
   "execution_count": 113,
   "metadata": {},
   "outputs": [
    {
     "data": {
      "text/plain": [
       "array([1. , 1.5, 2. , 2.5, 3. , 3.5, 4. , 4.5])"
      ]
     },
     "execution_count": 113,
     "metadata": {},
     "output_type": "execute_result"
    }
   ],
   "source": [
    "np.arange(1, 5, 0.5)"
   ]
  },
  {
   "cell_type": "code",
   "execution_count": 114,
   "metadata": {},
   "outputs": [
    {
     "data": {
      "text/plain": [
       "array([], dtype=float64)"
      ]
     },
     "execution_count": 114,
     "metadata": {},
     "output_type": "execute_result"
    }
   ],
   "source": [
    "# when there are logical errors in the parameters, you get an empty array\n",
    "np.arange(-1, 5, -0.75)"
   ]
  },
  {
   "cell_type": "code",
   "execution_count": null,
   "metadata": {},
   "outputs": [],
   "source": [
    "Z = np.array([[11, 22, 33, 44, 55], "
   ]
  },
  {
   "cell_type": "markdown",
   "metadata": {},
   "source": [
    "## Creating a custom array using the Gaussian Distribution"
   ]
  },
  {
   "cell_type": "markdown",
   "metadata": {},
   "source": [
    "- np.linspace(`Start`, `Stop`, `No of Values`)"
   ]
  },
  {
   "cell_type": "code",
   "execution_count": null,
   "metadata": {},
   "outputs": [],
   "source": [
    "np.linspace(1, 5, 20)"
   ]
  },
  {
   "cell_type": "markdown",
   "metadata": {},
   "source": [
    "**np.linspace()** is better for fractional values as it utilises the `Gaussian Distribution` for generating the values of the array"
   ]
  },
  {
   "cell_type": "markdown",
   "metadata": {},
   "source": [
    "## Creating an array of Random Values"
   ]
  },
  {
   "cell_type": "markdown",
   "metadata": {},
   "source": [
    "- np.random.rand(`shape`)\n",
    "\n",
    "- This creates an array of the given shape using random values between 0 and 1 from a **`uniform distribution`**."
   ]
  },
  {
   "cell_type": "code",
   "execution_count": null,
   "metadata": {},
   "outputs": [],
   "source": [
    "np.random.rand(4, 5)"
   ]
  },
  {
   "cell_type": "markdown",
   "metadata": {},
   "source": [
    "- np.random.randn(`shape`)\n",
    "\n",
    "- This creates an array of the given shape using random values which follow the **`Gaussian Normal Distribution`**"
   ]
  },
  {
   "cell_type": "code",
   "execution_count": null,
   "metadata": {},
   "outputs": [],
   "source": [
    "np.random.randn(4, 5)"
   ]
  },
  {
   "cell_type": "markdown",
   "metadata": {},
   "source": [
    "## Visualising the Distributions for the functions"
   ]
  },
  {
   "cell_type": "code",
   "execution_count": null,
   "metadata": {},
   "outputs": [],
   "source": [
    "import matplotlib.pyplot as plt\n",
    "%matplotlib inline"
   ]
  },
  {
   "cell_type": "code",
   "execution_count": null,
   "metadata": {},
   "outputs": [],
   "source": [
    "plt.hist(np.random.rand(100000), bins=100, density=True, histtype=\"step\", label=\"Rand\")\n",
    "plt.hist(np.random.randn(100000), bins=100, density=True, histtype=\"step\", label=\"Randn\")\n",
    "plt.axis([-2.5, 2.5, 0, 1.1])\n",
    "plt.legend(loc = \"upper left\")\n",
    "plt.title(\"Random distributions\")\n",
    "plt.xlabel(\"Value\")\n",
    "plt.ylabel(\"Density\")\n",
    "plt.show()"
   ]
  },
  {
   "cell_type": "markdown",
   "metadata": {},
   "source": [
    "## Creating an array using a custom function"
   ]
  },
  {
   "cell_type": "markdown",
   "metadata": {},
   "source": [
    "- np.fromfunction(`Function Name`, `Shape`)\n",
    "\n",
    "- This creates an array of the required shape after `mapping the numbers to the function`.\n",
    "\n",
    "- It is very efficient as it refers to the `function header only once`."
   ]
  },
  {
   "cell_type": "code",
   "execution_count": null,
   "metadata": {},
   "outputs": [],
   "source": [
    "def polynomial(x, y, z):\n",
    "    return x + 10 * y + 100 * z\n",
    "\n",
    "np.fromfunction(polynomial, (3, 5, 2))"
   ]
  },
  {
   "cell_type": "markdown",
   "metadata": {},
   "source": [
    "## Reshaping Numpy Arrays"
   ]
  },
  {
   "cell_type": "markdown",
   "metadata": {},
   "source": [
    "- `nd Array Object`.shape = (`New Shape`)"
   ]
  },
  {
   "cell_type": "code",
   "execution_count": null,
   "metadata": {},
   "outputs": [],
   "source": [
    "new = np.random.rand(12)\n",
    "print(new)\n",
    "print(new.shape)"
   ]
  },
  {
   "cell_type": "code",
   "execution_count": null,
   "metadata": {},
   "outputs": [],
   "source": [
    "print(\"Reshaping the Array to (12, 1), (3, 4) and (6, 2)\")\n",
    "\n",
    "new.shape = (12, 1)\n",
    "print(\"\\n(12, 1)\\n\", new)\n",
    "\n",
    "new.shape = (3, 4)\n",
    "print(\"\\n(3, 4)\\n\", new)\n",
    "\n",
    "new.shape = (6, 2)\n",
    "print(\"\\n(6, 2)\\n\", new)"
   ]
  },
  {
   "cell_type": "markdown",
   "metadata": {},
   "source": [
    "- `nD Array Object`.reshape(`Shape`)"
   ]
  },
  {
   "cell_type": "code",
   "execution_count": null,
   "metadata": {},
   "outputs": [],
   "source": [
    "new = new.reshape(4, 3)\n",
    "print(\"\\n(4, 3)\\n\", new)\n",
    "\n",
    "new = new.reshape(2, 6)\n",
    "print(\"\\n(2, 6)\\n\", new)"
   ]
  },
  {
   "cell_type": "markdown",
   "metadata": {},
   "source": [
    "## Arithematic Operations\n",
    "\n",
    "- All the arithematic operations on arrays work `element-wise` unless invoked using vectorization."
   ]
  },
  {
   "cell_type": "code",
   "execution_count": null,
   "metadata": {},
   "outputs": [],
   "source": [
    "# Declaring the Arrays\n",
    "a = np.array([1, 2, 3, 4, 5])\n",
    "b = np.array([6, 7, 8, 9, 10])\n",
    "\n",
    "print(\"A: \", a)\n",
    "print(\"B: \", b)"
   ]
  },
  {
   "cell_type": "code",
   "execution_count": null,
   "metadata": {},
   "outputs": [],
   "source": [
    "print(\"Performing Arithematic Operations on the Arrays: \")\n",
    "print(f\"\\nA + B: {a + b}\\n\")\n",
    "print(f\"\\nA - B: {a - b}\\n\")\n",
    "print(f\"\\nA * B: {a * b}\\n\")\n",
    "print(f\"\\nA / B: {a / b}\\n\")\n",
    "print(f\"\\nA // B: {a // b}\\n\")\n",
    "print(f\"\\nA ** B: {a ** b}\\n\")\n",
    "print(f\"\\nA % B: {a % b}\\n\")"
   ]
  },
  {
   "cell_type": "markdown",
   "metadata": {},
   "source": [
    "## Numpy Broadcasting"
   ]
  },
  {
   "cell_type": "markdown",
   "metadata": {},
   "source": [
    "- Numpy broadcasting is applied when an arithematic operation is performed on arrays but their shape dont match\n",
    "\n",
    "- **Thus numpy automatically extends / broadcasts the array to match a shape in certain cases**"
   ]
  },
  {
   "cell_type": "code",
   "execution_count": null,
   "metadata": {},
   "outputs": [],
   "source": [
    "a = np.arange(5).reshape(1, 5)\n",
    "print(a)\n",
    "print(a.shape)"
   ]
  },
  {
   "cell_type": "markdown",
   "metadata": {},
   "source": [
    "## Rule - 1\n",
    "\n",
    "- **On trying to `sum with a rank - 1 vector` numpy automatically broadcasts the vector**"
   ]
  },
  {
   "cell_type": "code",
   "execution_count": null,
   "metadata": {},
   "outputs": [],
   "source": [
    "a + [6, 7, 8, 9, 10]"
   ]
  },
  {
   "cell_type": "markdown",
   "metadata": {},
   "source": [
    "- Thus numpy has automatically converted\n",
    "- [6, 7, 8, 9, 10] to [[6, 7, 8, 9, 10]]"
   ]
  },
  {
   "cell_type": "markdown",
   "metadata": {},
   "source": [
    "## Rule - 2\n",
    "\n",
    "- **On trying to a `sum with a column vector` numpy automatically broadcasts the vector**"
   ]
  },
  {
   "cell_type": "code",
   "execution_count": null,
   "metadata": {},
   "outputs": [],
   "source": [
    "a = np.arange(6).reshape(2, 3)\n",
    "print(a)\n",
    "print(a.shape)"
   ]
  },
  {
   "cell_type": "code",
   "execution_count": null,
   "metadata": {},
   "outputs": [],
   "source": [
    "a + [[100], [200]]"
   ]
  },
  {
   "cell_type": "markdown",
   "metadata": {},
   "source": [
    "- Thus numpy automatically converted the array\n",
    "- [[100, 100, 100], [200, 200, 200]]"
   ]
  },
  {
   "cell_type": "markdown",
   "metadata": {},
   "source": [
    "## Combining Rule 1 and Rule 2"
   ]
  },
  {
   "cell_type": "code",
   "execution_count": null,
   "metadata": {},
   "outputs": [],
   "source": [
    "print(a)\n",
    "print(a.shape)"
   ]
  },
  {
   "cell_type": "code",
   "execution_count": null,
   "metadata": {},
   "outputs": [],
   "source": [
    "a + [100, 200, 300]"
   ]
  },
  {
   "cell_type": "markdown",
   "metadata": {},
   "source": [
    "- Thus numpy automatically converts the array\n",
    "- [[100, 200, 300],  \n",
    "   [100, 200, 300]]"
   ]
  },
  {
   "cell_type": "markdown",
   "metadata": {},
   "source": [
    "## Numpy Broadcasting with Conditionals\n",
    "\n",
    "- Numpy broadcasting can also be applied to conditionally select the elements of the array.\n",
    "\n",
    "- On apply a conditional it works `element-wise to give a boolean array`."
   ]
  },
  {
   "cell_type": "code",
   "execution_count": null,
   "metadata": {},
   "outputs": [],
   "source": [
    "a = np.arange(5)\n",
    "b = np.arange(6, 11)\n",
    "print(a)\n",
    "print(b)"
   ]
  },
  {
   "cell_type": "code",
   "execution_count": null,
   "metadata": {},
   "outputs": [],
   "source": [
    "print(\"Checking which values of A < B: \")\n",
    "print(a < b)"
   ]
  },
  {
   "cell_type": "code",
   "execution_count": null,
   "metadata": {},
   "outputs": [],
   "source": [
    "a = a + 10 + np.random.randn(5)\n",
    "b = b + np.random.rand(5)\n",
    "print(a)\n",
    "print(b)\n",
    "print(\"Checking which values of A < B: \")\n",
    "print(a < b)"
   ]
  },
  {
   "cell_type": "markdown",
   "metadata": {},
   "source": [
    "## Conditional Selection\n",
    "\n",
    "- Numpy arrays on conditional selection `return a slice of the array` which match the condition"
   ]
  },
  {
   "cell_type": "code",
   "execution_count": null,
   "metadata": {},
   "outputs": [],
   "source": [
    "print(f\"b[b > 7]: {b[b > 7]}\")"
   ]
  },
  {
   "cell_type": "markdown",
   "metadata": {},
   "source": [
    "## Math and Statistical methods using Numpy"
   ]
  },
  {
   "cell_type": "code",
   "execution_count": null,
   "metadata": {},
   "outputs": [],
   "source": [
    "a = np.linspace(1, 10, 6).reshape(2, 3)\n",
    "print(a)"
   ]
  },
  {
   "cell_type": "code",
   "execution_count": null,
   "metadata": {},
   "outputs": [],
   "source": [
    "for func in (a.mean, a.min, a.max, a.sum, a.prod, a.std, a.var):\n",
    "    print(func.__name__, \" = \", func())"
   ]
  },
  {
   "cell_type": "markdown",
   "metadata": {},
   "source": [
    "- Thus all the major math and statistical functions are standard methods of the `Numpy nd - array object` which  \n",
    "can be referenced using the `. operator`."
   ]
  },
  {
   "cell_type": "markdown",
   "metadata": {},
   "source": [
    "- The standard functions also provide an optional parameter `Axis` which changes the way the methods are applied to the array:\n",
    "    - Column Wise: `Axis = 0`\n",
    "    \n",
    "    - Row Wise: `Axis = 1`"
   ]
  },
  {
   "cell_type": "markdown",
   "metadata": {},
   "source": [
    "- `Axis = 0`: **[1 + 6.4 , 2.8 + 8.2 , 4.6 + 10]**\n",
    "\n",
    "- Column - Wise Addition"
   ]
  },
  {
   "cell_type": "code",
   "execution_count": null,
   "metadata": {},
   "outputs": [],
   "source": [
    "print(f\"Column Wise Addition: \\n{a.sum(axis=0)}\")"
   ]
  },
  {
   "cell_type": "markdown",
   "metadata": {},
   "source": [
    "- `Axis = 1`: **[1 + 2.8 + 4.6 , 6.4 + 8.2 + 10]**\n",
    "\n",
    "- Row - Wise Addtion"
   ]
  },
  {
   "cell_type": "code",
   "execution_count": null,
   "metadata": {},
   "outputs": [],
   "source": [
    "print(f\"Row Wise Addition: \\n{a.sum(axis=1)}\")"
   ]
  },
  {
   "cell_type": "markdown",
   "metadata": {},
   "source": [
    "## Numpy Universal Functions"
   ]
  },
  {
   "cell_type": "markdown",
   "metadata": {},
   "source": [
    "- Numpy universal functions work using a vectorised wrapper to perform operations on arrays.\n",
    "\n",
    "- They are very fast as they split the calculations over multiple cores of CPU\n",
    "\n",
    "- They are of two types:\n",
    "    - Fast Element-Wise `unary operations`\n",
    "        - abs, sqrt, exp, log, ceil ...\n",
    "    \n",
    "    - Fast Element-Wise `binary operations`\n",
    "        - dot, cross, greater, maximum ..."
   ]
  },
  {
   "cell_type": "code",
   "execution_count": null,
   "metadata": {},
   "outputs": [],
   "source": [
    "a = np.linspace(1, 5, 10)\n",
    "print(a)"
   ]
  },
  {
   "cell_type": "markdown",
   "metadata": {},
   "source": [
    "## Unary Operations"
   ]
  },
  {
   "cell_type": "code",
   "execution_count": null,
   "metadata": {},
   "outputs": [],
   "source": [
    "print(\"Unary Operations\")\n",
    "for func in (np.abs, np.sqrt, np.square, np.exp, np.log, np.ceil):\n",
    "    print(\"\\n\", func.__name__)\n",
    "    print(func(a))"
   ]
  },
  {
   "cell_type": "code",
   "execution_count": null,
   "metadata": {},
   "outputs": [],
   "source": [
    "b = np.random.rand(10)\n",
    "print(b)"
   ]
  },
  {
   "cell_type": "markdown",
   "metadata": {},
   "source": [
    "## Binary Operations"
   ]
  },
  {
   "cell_type": "code",
   "execution_count": null,
   "metadata": {},
   "outputs": [],
   "source": [
    "print(\"Binary Operations\")\n",
    "print(\"\\nDot: \", np.dot(a, b))\n",
    "print(\"\\nGreater: \", np.greater(a, b))\n",
    "print(\"\\nMaximum: \", np.maximum(a, b))"
   ]
  },
  {
   "cell_type": "markdown",
   "metadata": {},
   "source": [
    "## Indexing in Numpy Arrays"
   ]
  },
  {
   "cell_type": "markdown",
   "metadata": {},
   "source": [
    "- `One Dimensional Arrays` follow the same indexing as python lists  \n",
    "\n",
    "    [`Start`:`Stop`:`Step`]"
   ]
  },
  {
   "cell_type": "code",
   "execution_count": null,
   "metadata": {},
   "outputs": [],
   "source": [
    "print(a)"
   ]
  },
  {
   "cell_type": "code",
   "execution_count": null,
   "metadata": {},
   "outputs": [],
   "source": [
    "print(a[1:-3])"
   ]
  },
  {
   "cell_type": "code",
   "execution_count": null,
   "metadata": {},
   "outputs": [],
   "source": [
    "print(a[2::2])"
   ]
  },
  {
   "cell_type": "code",
   "execution_count": null,
   "metadata": {},
   "outputs": [],
   "source": [
    "print(a[::-1])"
   ]
  },
  {
   "cell_type": "markdown",
   "metadata": {},
   "source": [
    "- `Multi Dimensional Arrays` follow interior indexing at each level\n",
    "\n",
    "   [`First Dimesion <Start, Stop, Step>`, `Second Dimension <Start, Stop, Step>`, ....]"
   ]
  },
  {
   "cell_type": "code",
   "execution_count": null,
   "metadata": {},
   "outputs": [],
   "source": [
    "multi = np.random.rand(3, 4)\n",
    "print(\"\\n2D Array: \\n\", multi)"
   ]
  },
  {
   "cell_type": "code",
   "execution_count": null,
   "metadata": {},
   "outputs": [],
   "source": [
    "print(f\"Accessing the 1st Row: {multi[1, :]}\")"
   ]
  },
  {
   "cell_type": "code",
   "execution_count": null,
   "metadata": {},
   "outputs": [],
   "source": [
    "print(f\"Accessing the 1st Column: {multi[:, 0]}\")"
   ]
  },
  {
   "cell_type": "code",
   "execution_count": null,
   "metadata": {},
   "outputs": [],
   "source": [
    "print(\"Accessing a subset of the array: \\n\", multi[1:, 1:-1])"
   ]
  },
  {
   "cell_type": "code",
   "execution_count": null,
   "metadata": {},
   "outputs": [],
   "source": [
    "print(f\"Accessing only the first 2 x 2 of the array:\\n {multi[:-1, :-2]}\")"
   ]
  },
  {
   "cell_type": "markdown",
   "metadata": {},
   "source": [
    "## Iterating over the Array"
   ]
  },
  {
   "cell_type": "code",
   "execution_count": null,
   "metadata": {},
   "outputs": [],
   "source": [
    "for row in multi:\n",
    "    print(row)"
   ]
  },
  {
   "cell_type": "code",
   "execution_count": null,
   "metadata": {},
   "outputs": [],
   "source": [
    "for row in multi:\n",
    "    for col in row:\n",
    "        print(col)"
   ]
  },
  {
   "cell_type": "markdown",
   "metadata": {},
   "source": [
    "- To convert a multi-dimensional array into a 1D array for iteration without unpacking using a for loop use the  \n",
    "`<array object>.flat` attribute"
   ]
  },
  {
   "cell_type": "code",
   "execution_count": null,
   "metadata": {},
   "outputs": [],
   "source": [
    "for i in multi.flat:\n",
    "    print(i)"
   ]
  },
  {
   "cell_type": "markdown",
   "metadata": {},
   "source": [
    "## Stacking Numpy Arrays"
   ]
  },
  {
   "cell_type": "markdown",
   "metadata": {},
   "source": [
    "- Numpy provides various methods to stack arrays together\n",
    "    - hstack\n",
    "    - vstack\n",
    "    - concatenate\n",
    "    - stack\n",
    "    \n",
    "- Each function takes `tuple of array objects` as a parameter and returns the new stacked array"
   ]
  },
  {
   "cell_type": "code",
   "execution_count": null,
   "metadata": {},
   "outputs": [],
   "source": [
    "a = np.arange(1, 9).reshape(2, 4)\n",
    "b = np.arange(-1, -9, -1).reshape(2, 4)\n",
    "print(a)\n",
    "print(b)"
   ]
  },
  {
   "cell_type": "markdown",
   "metadata": {},
   "source": [
    "## Using HStack and VStack:\n",
    "\n",
    "- np.hstack(`Tuple of Array Objects`)\n",
    "\n",
    "- np.vstack(`Tuple of Array Objects`)"
   ]
  },
  {
   "cell_type": "code",
   "execution_count": null,
   "metadata": {},
   "outputs": [],
   "source": [
    "print(\"Here is the Horizontal Stack: \\n\", np.hstack((a, b)))\n",
    "print(\"\\nHere is the Vertical Stack: \\n\", np.vstack((a, b)))"
   ]
  },
  {
   "cell_type": "markdown",
   "metadata": {},
   "source": [
    "## Concatenate:\n",
    "\n",
    "- The concatenate method generalises both the operations performed by the hstack and vstack methods.\n",
    "\n",
    "- The concatenate method takes an additional argument `Axis` to provide choice of stack operation.\n",
    "\n",
    "- np.concatenate(`Tuple of Array Objects`, `Axis`)"
   ]
  },
  {
   "cell_type": "code",
   "execution_count": null,
   "metadata": {},
   "outputs": [],
   "source": [
    "print(\"Here is the Horizontal Stack using np.stack(axis = 1): \\n\", np.concatenate((a, b), axis=1))\n",
    "print(\"\\nHere is the Vertical Stack using np.stack(axis = 0): \\n\", np.concatenate((a, b), axis=0))"
   ]
  },
  {
   "cell_type": "markdown",
   "metadata": {},
   "source": [
    "## Stack:\n",
    "\n",
    "- The stack method takes a tuple of array objects and adds each of them to a seperate dimension.\n",
    "\n",
    "- np.stack((`Tuple of Array Objects`))"
   ]
  },
  {
   "cell_type": "code",
   "execution_count": null,
   "metadata": {},
   "outputs": [],
   "source": [
    "np.stack((a, b))"
   ]
  },
  {
   "cell_type": "markdown",
   "metadata": {},
   "source": [
    "## Splitting Numpy Arrays:"
   ]
  },
  {
   "cell_type": "markdown",
   "metadata": {},
   "source": [
    "- Splitting the Numpy arrays follows the same rules as the stack()\n",
    "\n",
    "- vsplit(`Array`, `No of Parts`), hsplit(`Array`, `No of Parts`), split(`Array`, `No of Parts`)\n",
    "\n",
    "- Each of the split() expects a set of variables to unpack the returned values.\n",
    "\n",
    "**The split() takes an additional parameter axis to generalise the to both the cases**"
   ]
  },
  {
   "cell_type": "code",
   "execution_count": null,
   "metadata": {},
   "outputs": [],
   "source": [
    "hstack = np.concatenate((a, b), axis=1)\n",
    "vstack = np.concatenate((a, b), axis=0)\n",
    "print(\"Horizontal Stack\\n\", hstack)\n",
    "print(\"Vertical Stack\\n\", vstack)"
   ]
  },
  {
   "cell_type": "code",
   "execution_count": null,
   "metadata": {},
   "outputs": [],
   "source": [
    "print(\"Splitting the hstack into 4 columns: \")\n",
    "c1, c2, c3, c4 = np.hsplit(hstack, 4)\n",
    "print(\"\\nC1:\\n \", c1)\n",
    "print(\"\\nC2:\\n \", c2)\n",
    "print(\"\\nC3:\\n \", c3)\n",
    "print(\"\\nC4:\\n \", c4)"
   ]
  },
  {
   "cell_type": "code",
   "execution_count": null,
   "metadata": {},
   "outputs": [],
   "source": [
    "print(\"Splitting the vstack into 2 matrices: \")\n",
    "m1, m2 = np.vsplit(vstack, 2)\n",
    "print(\"\\nM1:\\n \", m1)\n",
    "print(\"\\nM2:\\n \", m2)"
   ]
  },
  {
   "cell_type": "code",
   "execution_count": null,
   "metadata": {},
   "outputs": [],
   "source": [
    "print(\"Using the split function to generalise to both the cases: \")\n",
    "print(np.split(hstack, indices_or_sections=4, axis=1))\n",
    "print(np.split(vstack, indices_or_sections=2, axis=0))"
   ]
  },
  {
   "cell_type": "markdown",
   "metadata": {},
   "source": [
    "## Linear Algebra"
   ]
  },
  {
   "cell_type": "markdown",
   "metadata": {},
   "source": [
    "## Matrix Transpose:\n",
    "\n",
    "- Matrix Transpose can be done in three ways:\n",
    "\n",
    "    - np.transpose(`Array Object`)\n",
    "    \n",
    "    - `Array Object`.transpose()\n",
    "    \n",
    "    - `Array Object`.T\n",
    "    \n",
    "    **Here `.T` is short for `.transpose()`**\n",
    "    \n",
    "    **`.T` works only on arrays rank >= 2. Thus it is ineffective against `1D arrays`**"
   ]
  },
  {
   "cell_type": "code",
   "execution_count": null,
   "metadata": {},
   "outputs": [],
   "source": [
    "print(a)"
   ]
  },
  {
   "cell_type": "code",
   "execution_count": null,
   "metadata": {},
   "outputs": [],
   "source": [
    "print(\"Transpose of A: \\n\", a.T)"
   ]
  },
  {
   "cell_type": "code",
   "execution_count": null,
   "metadata": {},
   "outputs": [],
   "source": [
    "print(b)"
   ]
  },
  {
   "cell_type": "code",
   "execution_count": null,
   "metadata": {},
   "outputs": [],
   "source": [
    "print(\"Transpose of B: \\n\", b.transpose())"
   ]
  },
  {
   "cell_type": "code",
   "execution_count": null,
   "metadata": {},
   "outputs": [],
   "source": [
    "oneD = np.linspace(1, 5, 10)\n",
    "print(oneD)"
   ]
  },
  {
   "cell_type": "code",
   "execution_count": null,
   "metadata": {},
   "outputs": [],
   "source": [
    "print(oneD.T)"
   ]
  },
  {
   "cell_type": "code",
   "execution_count": null,
   "metadata": {},
   "outputs": [],
   "source": [
    "print(oneD.reshape(1, 10).T)"
   ]
  },
  {
   "cell_type": "markdown",
   "metadata": {},
   "source": [
    "## Identity Matrix:\n",
    "\n",
    "- np.eye(`Order`)\n",
    "\n",
    "- Creates and returns an identity matrix of the given order"
   ]
  },
  {
   "cell_type": "code",
   "execution_count": null,
   "metadata": {},
   "outputs": [],
   "source": [
    "np.eye(3)"
   ]
  },
  {
   "cell_type": "markdown",
   "metadata": {},
   "source": [
    "## Matrix Multiplication"
   ]
  },
  {
   "cell_type": "markdown",
   "metadata": {},
   "source": [
    "- Matrix multiplication of two arrays is performed using two reference methods\n",
    "\n",
    "    - `Array - 1`.dot(`Array - 2`)\n",
    "    \n",
    "    - np.dot(`Array - 1`, `Array - 2`)\n",
    "    \n",
    "- **On performing multiplication using `*` element wise product is calculated**"
   ]
  },
  {
   "cell_type": "code",
   "execution_count": null,
   "metadata": {},
   "outputs": [],
   "source": [
    "print(a)\n",
    "print(b)"
   ]
  },
  {
   "cell_type": "code",
   "execution_count": null,
   "metadata": {},
   "outputs": [],
   "source": [
    "print(np.dot(a, b.T))"
   ]
  },
  {
   "cell_type": "code",
   "execution_count": null,
   "metadata": {},
   "outputs": [],
   "source": [
    "print(b.dot(a.T))"
   ]
  },
  {
   "cell_type": "code",
   "execution_count": null,
   "metadata": {},
   "outputs": [],
   "source": [
    "print(a * b)"
   ]
  },
  {
   "cell_type": "markdown",
   "metadata": {},
   "source": [
    "## Most of the common Linear Algebra operations require invoking the `numpy.linalg` module\n",
    "\n",
    "## Matrix Inverse"
   ]
  },
  {
   "cell_type": "markdown",
   "metadata": {},
   "source": [
    "- np.linalg.inv(`Array`)\n",
    "\n",
    "- This calculates the inverse of a square matrix"
   ]
  },
  {
   "cell_type": "code",
   "execution_count": null,
   "metadata": {},
   "outputs": [],
   "source": [
    "a = np.random.rand(5, 5)\n",
    "print(a)"
   ]
  },
  {
   "cell_type": "code",
   "execution_count": null,
   "metadata": {},
   "outputs": [],
   "source": [
    "print(\"The inverse of A is: \\n\")\n",
    "print(np.linalg.inv(a))"
   ]
  },
  {
   "cell_type": "markdown",
   "metadata": {},
   "source": [
    "## Matrix Determinant\n",
    "\n",
    "- np.linalg.det(`Array`)"
   ]
  },
  {
   "cell_type": "code",
   "execution_count": null,
   "metadata": {},
   "outputs": [],
   "source": [
    "print(\"The determinant of A is: \")\n",
    "print(np.linalg.det(a))"
   ]
  },
  {
   "cell_type": "markdown",
   "metadata": {},
   "source": [
    "## Eigen Values and Eigen Vectors\n",
    "\n",
    "- `Eigen Values`, `Eigen Vectors` = np.linalg.eig(`Array`)\n",
    "\n",
    "- This returns two arrays which are unpacked to store the eigen values and the eigen vectors"
   ]
  },
  {
   "cell_type": "code",
   "execution_count": null,
   "metadata": {},
   "outputs": [],
   "source": [
    "b = np.arange(9).reshape(3, 3)\n",
    "print(b)"
   ]
  },
  {
   "cell_type": "code",
   "execution_count": null,
   "metadata": {},
   "outputs": [],
   "source": [
    "eigen_values, eigen_vectors = np.linalg.eig(b)\n",
    "print(\"The Eigen Values are:\\n \")\n",
    "print(eigen_values)\n",
    "print(\"\\nThe Eigen Vectors are:\\n \")\n",
    "print(eigen_vectors)"
   ]
  },
  {
   "cell_type": "markdown",
   "metadata": {},
   "source": [
    "## Diagonal And Trace\n",
    "\n",
    "- The diagonal and trace of a matrix can be called from the numpy reference\n",
    "\n",
    "- np.diag(`Array`)\n",
    "\n",
    "- np.trace(`Array`)"
   ]
  },
  {
   "cell_type": "code",
   "execution_count": null,
   "metadata": {},
   "outputs": [],
   "source": [
    "print(\"The Diagonal of B is:\\n\", np.diag(b))\n",
    "print(\"\\nThe Trace of B is:\\n\", np.trace(b))"
   ]
  },
  {
   "cell_type": "markdown",
   "metadata": {},
   "source": [
    "## Saving and Loading Arrays\n",
    "\n",
    "- Binary Format `.npy`\n",
    "\n",
    "- Text Format `.csv`\n",
    "\n",
    "## Binary Format:\n",
    "\n",
    "- **Saving the Array:** np.save(`File.npy`, `Array`)\n",
    "\n",
    "- **Loading the Array:** np.load(`File.npy`)"
   ]
  },
  {
   "cell_type": "code",
   "execution_count": null,
   "metadata": {},
   "outputs": [],
   "source": [
    "print(\"Saving the array to a binary file\")\n",
    "np.save(\"Eval\", eigen_values)"
   ]
  },
  {
   "cell_type": "code",
   "execution_count": null,
   "metadata": {},
   "outputs": [],
   "source": [
    "with open(\"Eval.npy\", \"rb\") as file:\n",
    "    array = file.read()\n",
    "    \n",
    "print(\"Reading the Binary File:\\n \", array)"
   ]
  },
  {
   "cell_type": "code",
   "execution_count": null,
   "metadata": {},
   "outputs": [],
   "source": [
    "print(\"Loading the Array: \\n\")\n",
    "array = np.load(\"Eval.npy\")\n",
    "print(array)"
   ]
  },
  {
   "cell_type": "markdown",
   "metadata": {},
   "source": [
    "## Text Format:\n",
    "\n",
    "- **Saving the Array:** np.savetxt(`File.csv`, `Array`, `Delimiter`)\n",
    "\n",
    "- **Loading the Array:** np.loadtext(`File.npy`, `Delimiter`)"
   ]
  },
  {
   "cell_type": "code",
   "execution_count": null,
   "metadata": {},
   "outputs": [],
   "source": [
    "print(\"Saving the array to a CSV\")\n",
    "np.savetxt(\"Evect.csv\", eigen_vectors, delimiter=\",\")"
   ]
  },
  {
   "cell_type": "code",
   "execution_count": null,
   "metadata": {},
   "outputs": [],
   "source": [
    "with open(\"Evect.csv\") as file:\n",
    "    array = file.read()\n",
    "    \n",
    "print(array)"
   ]
  },
  {
   "cell_type": "code",
   "execution_count": null,
   "metadata": {},
   "outputs": [],
   "source": [
    "print(\"Loading the Array: \\n\")\n",
    "array = np.loadtxt(\"Evect.csv\", delimiter=\",\")\n",
    "print(array)"
   ]
  }
 ],
 "metadata": {
  "kernelspec": {
   "display_name": "Python 3 (ipykernel)",
   "language": "python",
   "name": "python3"
  },
  "language_info": {
   "codemirror_mode": {
    "name": "ipython",
    "version": 3
   },
   "file_extension": ".py",
   "mimetype": "text/x-python",
   "name": "python",
   "nbconvert_exporter": "python",
   "pygments_lexer": "ipython3",
   "version": "3.11.5"
  }
 },
 "nbformat": 4,
 "nbformat_minor": 4
}
