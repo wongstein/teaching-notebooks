{
 "cells": [
  {
   "cell_type": "markdown",
   "id": "9aced902",
   "metadata": {},
   "source": [
    "# Data Types"
   ]
  },
  {
   "cell_type": "code",
   "execution_count": null,
   "id": "6ca18130",
   "metadata": {},
   "outputs": [],
   "source": [
    "x = 34 ; y = 67.89 ; z = True\n",
    "print('x = ', x, '\\ty = ', y, '\\tz = ', z)"
   ]
  },
  {
   "cell_type": "code",
   "execution_count": null,
   "id": "82e95903",
   "metadata": {},
   "outputs": [],
   "source": [
    "print('Type of \\nx = ', type(x), '\\ty = ', type(y), '\\tz = ', type(z))"
   ]
  },
  {
   "cell_type": "code",
   "execution_count": null,
   "id": "fc1fba8e",
   "metadata": {},
   "outputs": [],
   "source": [
    "var = 'abc'\n",
    "print('var = ', var)\n",
    "print('type of var ', type(var))"
   ]
  },
  {
   "cell_type": "markdown",
   "id": "4a9d0925",
   "metadata": {},
   "source": [
    "## Data Type Conversion"
   ]
  },
  {
   "cell_type": "code",
   "execution_count": null,
   "id": "97a56a14",
   "metadata": {},
   "outputs": [],
   "source": [
    "x = 45.77\n",
    "int(x)"
   ]
  },
  {
   "cell_type": "code",
   "execution_count": null,
   "id": "42512a58",
   "metadata": {},
   "outputs": [],
   "source": [
    "str(x)"
   ]
  },
  {
   "cell_type": "code",
   "execution_count": null,
   "id": "9acb4b11",
   "metadata": {},
   "outputs": [],
   "source": [
    "bool(x)"
   ]
  },
  {
   "cell_type": "code",
   "execution_count": null,
   "id": "1fe99516",
   "metadata": {},
   "outputs": [],
   "source": [
    "y = '45.88'"
   ]
  },
  {
   "cell_type": "code",
   "execution_count": null,
   "id": "f5fce844",
   "metadata": {},
   "outputs": [],
   "source": [
    "float(y)"
   ]
  },
  {
   "cell_type": "code",
   "execution_count": null,
   "id": "d91abd5b",
   "metadata": {},
   "outputs": [],
   "source": [
    "int(y)"
   ]
  },
  {
   "cell_type": "markdown",
   "id": "86e40fae",
   "metadata": {},
   "source": [
    "## Checking Refrences "
   ]
  },
  {
   "cell_type": "code",
   "execution_count": 1,
   "id": "211e4a70",
   "metadata": {},
   "outputs": [
    {
     "name": "stdout",
     "output_type": "stream",
     "text": [
      "x =  34 ;  id of x =  4544240976\n",
      "y =  34 ;  id of y =  4544240976\n"
     ]
    }
   ],
   "source": [
    "x = 34 \n",
    "y = x # y is a pointer to x\n",
    "print('x = ', x, ';  id of x = ', id(x))\n",
    "print('y = ', y, ';  id of y = ', id(y))"
   ]
  },
  {
   "cell_type": "code",
   "execution_count": 2,
   "id": "d121e6b9",
   "metadata": {},
   "outputs": [
    {
     "name": "stdout",
     "output_type": "stream",
     "text": [
      "x =  65 ;  id of x =  4333351280\n",
      "y =  34 ;  id of y =  4333161808\n"
     ]
    }
   ],
   "source": [
    "x = 65\n",
    "print('x = ', x, ';  id of x = ', id(x))\n",
    "print('y = ', y, ';  id of y = ', id(y))"
   ]
  },
  {
   "cell_type": "code",
   "execution_count": 3,
   "id": "33c7ec57",
   "metadata": {},
   "outputs": [
    {
     "name": "stdout",
     "output_type": "stream",
     "text": [
      "x =  65 ;  id of x =  4333351280\n",
      "y =  78 ;  id of y =  4333351696\n"
     ]
    }
   ],
   "source": [
    "y = 78\n",
    "print('x = ', x, ';  id of x = ', id(x))\n",
    "print('y = ', y, ';  id of y = ', id(y))"
   ]
  },
  {
   "cell_type": "code",
   "execution_count": 4,
   "id": "7b8efcf5",
   "metadata": {},
   "outputs": [
    {
     "name": "stdout",
     "output_type": "stream",
     "text": [
      "4333351280\n"
     ]
    }
   ],
   "source": [
    "y = 65\n",
    "print(id(y))"
   ]
  },
  {
   "cell_type": "markdown",
   "id": "1b135e48",
   "metadata": {},
   "source": [
    "# "
   ]
  },
  {
   "cell_type": "markdown",
   "id": "d9d5bc5a",
   "metadata": {},
   "source": [
    "# \n",
    "# \n",
    "# \n",
    "# \n"
   ]
  },
  {
   "cell_type": "markdown",
   "id": "4f64b86d",
   "metadata": {},
   "source": [
    "# Arithmetic Operators"
   ]
  },
  {
   "cell_type": "code",
   "execution_count": null,
   "id": "a017356b",
   "metadata": {},
   "outputs": [],
   "source": [
    "x = 50\n",
    "y = 4"
   ]
  },
  {
   "cell_type": "code",
   "execution_count": null,
   "id": "3cc11e3e",
   "metadata": {},
   "outputs": [],
   "source": [
    "print('Sum of x & y                   : ', x + y)\n",
    "print('Difference between x & y       : ', x - y)\n",
    "print('Product of x & y               : ', x * y)\n",
    "print('Division of x by y             : ', x / y)"
   ]
  },
  {
   "cell_type": "code",
   "execution_count": null,
   "id": "7895174a",
   "metadata": {},
   "outputs": [],
   "source": [
    "print('Remainder of x divided by y    : ', x % y)\n",
    "print('Floor Division x divided by y  : ', x // y)\n",
    "print('Exponential value for x raised to power y : ', x ** y)"
   ]
  },
  {
   "cell_type": "markdown",
   "id": "3739e351",
   "metadata": {},
   "source": [
    "# \n",
    "# \n",
    "# \n",
    "# "
   ]
  },
  {
   "cell_type": "markdown",
   "id": "73aeedf6",
   "metadata": {},
   "source": [
    "# Arithmetic Assignment Operators"
   ]
  },
  {
   "cell_type": "code",
   "execution_count": null,
   "id": "2f472384",
   "metadata": {},
   "outputs": [],
   "source": [
    "a = 10\n",
    "print('Present value of a = ', a )"
   ]
  },
  {
   "cell_type": "code",
   "execution_count": null,
   "id": "87177319",
   "metadata": {},
   "outputs": [],
   "source": [
    "a += 5\n",
    "print('Updated value of a = ', a )"
   ]
  },
  {
   "cell_type": "code",
   "execution_count": null,
   "id": "d9040bfe",
   "metadata": {},
   "outputs": [],
   "source": [
    "a = 10\n",
    "print('Present value of a = ', a )\n",
    "print('Present id of a = ', id(a))"
   ]
  },
  {
   "cell_type": "code",
   "execution_count": null,
   "id": "a9165b39",
   "metadata": {},
   "outputs": [],
   "source": [
    "a += 15\n",
    "print('Updated value of a = ', a )\n",
    "print('Updated id of a = ', id(a))"
   ]
  },
  {
   "cell_type": "markdown",
   "id": "55d2d374",
   "metadata": {},
   "source": [
    "# \n",
    "# \n",
    "# \n",
    "# \n"
   ]
  },
  {
   "cell_type": "markdown",
   "id": "45574b07",
   "metadata": {},
   "source": [
    "# Comparison Operator"
   ]
  },
  {
   "cell_type": "code",
   "execution_count": null,
   "id": "db51ea5f",
   "metadata": {},
   "outputs": [],
   "source": [
    "a = 20\n",
    "b = 20\n",
    "print('a = ', a, '  b = ', b)\n",
    "print('a == b  : ', a == b)"
   ]
  },
  {
   "cell_type": "code",
   "execution_count": null,
   "id": "1ab4e87d",
   "metadata": {},
   "outputs": [],
   "source": [
    "a = 20\n",
    "b = 30\n",
    "print('a = ', a, '  b = ', b)\n",
    "print('a != b  : ', a != b)"
   ]
  },
  {
   "cell_type": "code",
   "execution_count": null,
   "id": "1e5dee2f",
   "metadata": {},
   "outputs": [],
   "source": [
    "a = 40\n",
    "b = 30\n",
    "print('a = ', a, '  b = ', b)\n",
    "print('a <= b  : ', a <= b)"
   ]
  },
  {
   "cell_type": "code",
   "execution_count": null,
   "id": "28343f52",
   "metadata": {},
   "outputs": [],
   "source": [
    "a = 30\n",
    "b = 30\n",
    "print('a = ', a, '  b = ', b)\n",
    "print('a >= b  : ', a >= b)"
   ]
  },
  {
   "cell_type": "markdown",
   "id": "c5aeee8c",
   "metadata": {},
   "source": [
    "# \n",
    "# \n",
    "# \n",
    "# \n"
   ]
  },
  {
   "cell_type": "markdown",
   "id": "3e6de0d1",
   "metadata": {},
   "source": [
    "# Logical Operators"
   ]
  },
  {
   "cell_type": "code",
   "execution_count": null,
   "id": "a75579e9",
   "metadata": {},
   "outputs": [],
   "source": [
    "a = 30\n",
    "b = 30\n",
    "print('a = ', a, '  b = ', b)\n",
    "print('a < b            : ', a < b)\n",
    "print('a == b           : ', a == b)"
   ]
  },
  {
   "cell_type": "code",
   "execution_count": null,
   "id": "7d857250",
   "metadata": {},
   "outputs": [],
   "source": [
    "print('a < b and a == b : ', a < b and a == b)"
   ]
  },
  {
   "cell_type": "code",
   "execution_count": null,
   "id": "da0ceeb9",
   "metadata": {},
   "outputs": [],
   "source": [
    "a = 30\n",
    "b = 30\n",
    "print('a = ', a, '  b = ', b)\n",
    "print('a < b           : ', a < b)\n",
    "print('a == b          : ', a == b)"
   ]
  },
  {
   "cell_type": "code",
   "execution_count": null,
   "id": "ba3588b4",
   "metadata": {},
   "outputs": [],
   "source": [
    "print('a < b or a == b : ', a < b or a == b)"
   ]
  },
  {
   "cell_type": "code",
   "execution_count": null,
   "id": "886d5d80",
   "metadata": {},
   "outputs": [],
   "source": [
    "a = 40\n",
    "print('a = ', a)\n",
    "print('a < 50      : ' , a < 50 )"
   ]
  },
  {
   "cell_type": "code",
   "execution_count": null,
   "id": "465e795f",
   "metadata": {},
   "outputs": [],
   "source": [
    "print('not a < 50  : ' , not(a < 50))"
   ]
  },
  {
   "cell_type": "markdown",
   "id": "b9c9a93b",
   "metadata": {},
   "source": [
    "# \n",
    "# \n",
    "# \n",
    "# \n",
    "# "
   ]
  },
  {
   "cell_type": "markdown",
   "id": "ac592ac4",
   "metadata": {
    "tags": []
   },
   "source": [
    "# Miscellaneous Operators"
   ]
  },
  {
   "cell_type": "markdown",
   "id": "6782d943",
   "metadata": {},
   "source": [
    "### Identity Operators"
   ]
  },
  {
   "cell_type": "code",
   "execution_count": null,
   "id": "ea8ed175",
   "metadata": {},
   "outputs": [],
   "source": [
    "a = ['a', 'b', 'c']\n",
    "b = ['a', 'b', 'c']\n",
    "print('a is b' , a is b)"
   ]
  },
  {
   "cell_type": "code",
   "execution_count": null,
   "id": "da4ad0e9",
   "metadata": {},
   "outputs": [],
   "source": [
    "a = ['a', 'b', 'c']\n",
    "b =  a\n",
    "print('a is b' , a is b)"
   ]
  },
  {
   "cell_type": "code",
   "execution_count": null,
   "id": "d76d8aea",
   "metadata": {},
   "outputs": [],
   "source": [
    "id(a) == id(b)"
   ]
  },
  {
   "cell_type": "code",
   "execution_count": null,
   "id": "36f5ee93",
   "metadata": {},
   "outputs": [],
   "source": [
    "a = ['a', 'b', 'c']\n",
    "b = ['a', 'b', 'c']\n",
    "print('a is not b' , a is not b)"
   ]
  },
  {
   "cell_type": "markdown",
   "id": "6d9160ad",
   "metadata": {},
   "source": [
    "### Membership Operators"
   ]
  },
  {
   "cell_type": "code",
   "execution_count": null,
   "id": "d64b433c",
   "metadata": {},
   "outputs": [],
   "source": [
    "x = 'a'\n",
    "y = 'Dictionary'\n",
    "print(x , ' in \"', y, '\"')\n",
    "print( x in y)"
   ]
  },
  {
   "cell_type": "code",
   "execution_count": null,
   "id": "90ea93be",
   "metadata": {},
   "outputs": [],
   "source": [
    "x = 'a'\n",
    "y = 'Dictionary'\n",
    "print(x , ' in \"', y, '\"')\n",
    "print( x not in y)"
   ]
  },
  {
   "cell_type": "code",
   "execution_count": null,
   "id": "26d9d648",
   "metadata": {},
   "outputs": [],
   "source": [
    "a = [20, 45, 10]\n",
    "10 in a"
   ]
  },
  {
   "cell_type": "code",
   "execution_count": null,
   "id": "0b770448",
   "metadata": {},
   "outputs": [],
   "source": [
    "a = [20, 45, 10]\n",
    "10 not in a"
   ]
  },
  {
   "cell_type": "markdown",
   "id": "3dd82852",
   "metadata": {},
   "source": [
    "# \n",
    "#  \n",
    "# \n",
    "# \n",
    "# \n",
    "# "
   ]
  },
  {
   "cell_type": "markdown",
   "id": "11f379cb",
   "metadata": {},
   "source": [
    "# Strings in Python"
   ]
  },
  {
   "cell_type": "code",
   "execution_count": null,
   "id": "354d9147",
   "metadata": {},
   "outputs": [],
   "source": [
    "message_1 = 'Hi! Welcome to Python Programming!!'\n",
    "message_2 = \"Hi! Welcome to Python Programming!!\"\n",
    "print(message_1)\n",
    "print(message_2)"
   ]
  },
  {
   "cell_type": "code",
   "execution_count": null,
   "id": "a0deffff",
   "metadata": {},
   "outputs": [],
   "source": [
    "message_1 = 'Hi! Welcome to \"Python Programming\"!!'\n",
    "message_2 = \"Hi! Welcome to 'Python Programming'!!\"\n",
    "print(message_1)\n",
    "print(message_2)"
   ]
  },
  {
   "cell_type": "markdown",
   "id": "68f8278f",
   "metadata": {},
   "source": [
    "# String methods"
   ]
  },
  {
   "cell_type": "code",
   "execution_count": 1,
   "id": "f9f0b374",
   "metadata": {},
   "outputs": [],
   "source": [
    "string = 'She seLLs sEa SHELLS oN tHe SeA sHoRe.'"
   ]
  },
  {
   "cell_type": "code",
   "execution_count": 2,
   "id": "0db93e7b",
   "metadata": {},
   "outputs": [
    {
     "name": "stdout",
     "output_type": "stream",
     "text": [
      "SHE SELLS SEA SHELLS ON THE SEA SHORE.\n"
     ]
    }
   ],
   "source": [
    "upper_case = string.upper()\n",
    "print(upper_case)"
   ]
  },
  {
   "cell_type": "code",
   "execution_count": 3,
   "id": "2d50ec6b",
   "metadata": {},
   "outputs": [
    {
     "name": "stdout",
     "output_type": "stream",
     "text": [
      "she sells sea shells on the sea shore.\n"
     ]
    }
   ],
   "source": [
    "lower_case = string.lower()\n",
    "print(lower_case)"
   ]
  },
  {
   "cell_type": "code",
   "execution_count": 4,
   "id": "d5752daa",
   "metadata": {},
   "outputs": [
    {
     "name": "stdout",
     "output_type": "stream",
     "text": [
      "She sells sea shells on the sea shore.\n"
     ]
    }
   ],
   "source": [
    "sentence = string.capitalize()\n",
    "print(sentence)"
   ]
  },
  {
   "cell_type": "code",
   "execution_count": 5,
   "id": "5820742e",
   "metadata": {},
   "outputs": [
    {
     "data": {
      "text/plain": [
       "'She Sells Sea Shells On The Sea Shore.'"
      ]
     },
     "execution_count": 5,
     "metadata": {},
     "output_type": "execute_result"
    }
   ],
   "source": [
    "word_upper = string.title()\n",
    "word_upper"
   ]
  },
  {
   "cell_type": "code",
   "execution_count": null,
   "id": "436d03b5",
   "metadata": {},
   "outputs": [],
   "source": []
  }
 ],
 "metadata": {
  "kernelspec": {
   "display_name": "Python 3 (ipykernel)",
   "language": "python",
   "name": "python3"
  },
  "language_info": {
   "codemirror_mode": {
    "name": "ipython",
    "version": 3
   },
   "file_extension": ".py",
   "mimetype": "text/x-python",
   "name": "python",
   "nbconvert_exporter": "python",
   "pygments_lexer": "ipython3",
   "version": "3.9.6"
  }
 },
 "nbformat": 4,
 "nbformat_minor": 5
}
