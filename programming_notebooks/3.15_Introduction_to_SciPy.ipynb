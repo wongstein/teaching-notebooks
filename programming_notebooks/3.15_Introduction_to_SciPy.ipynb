{
 "cells": [
  {
   "cell_type": "markdown",
   "metadata": {
    "id": "wWT1P7dtIawc"
   },
   "source": [
    "## Introduction to SciPy\n",
    "\n",
    "- SciPy package is a scientific computation library that uses NumPy in the backend.\n",
    "- It offers loads of features, like constants, optimizers and graphs, to deal with the data.\n"
   ]
  },
  {
   "cell_type": "markdown",
   "metadata": {
    "id": "16C7DPgw8VBu"
   },
   "source": [
    "## Step 1: Importing Constants Module\n",
    "\n",
    "Let's import a library and look at the features that SciPy offers."
   ]
  },
  {
   "cell_type": "markdown",
   "metadata": {
    "id": "gdpX3wevAgwH"
   },
   "source": [
    "\n",
    "- Let's import a dataset and look at how we can change the parameters that are fed into the model and choose the best parameters that are a good fit for the model's output. \n",
    "\n",
    "- Let's import the packages, read the CSV file and then build the model.\n",
    "\n",
    "- Let's also import the constants module from the SciPy library."
   ]
  },
  {
   "cell_type": "code",
   "execution_count": null,
   "metadata": {
    "id": "5l2hIGTc0LHr"
   },
   "outputs": [],
   "source": [
    "from scipy import constants"
   ]
  },
  {
   "cell_type": "markdown",
   "metadata": {
    "id": "ecjH2g-3A_k7"
   },
   "source": [
    "## Step 2: Listing the Available Constants\n",
    "\n",
    "The directory of constants would show all the constants.\n",
    "\n",
    "- Display the list of available constants in the module using **dir(constants)**\n"
   ]
  },
  {
   "cell_type": "code",
   "execution_count": null,
   "metadata": {
    "id": "cxYso_Wz0LHt",
    "outputId": "c3dfd4e3-1764-4d82-abc1-bdc3aee08b9c"
   },
   "outputs": [
    {
     "data": {
      "text/plain": [
       "['Avogadro',\n",
       " 'Boltzmann',\n",
       " 'Btu',\n",
       " 'Btu_IT',\n",
       " 'Btu_th',\n",
       " 'ConstantWarning',\n",
       " 'G',\n",
       " 'Julian_year',\n",
       " 'N_A',\n",
       " 'Planck',\n",
       " 'R',\n",
       " 'Rydberg',\n",
       " 'Stefan_Boltzmann',\n",
       " 'Wien',\n",
       " '__all__',\n",
       " '__builtins__',\n",
       " '__cached__',\n",
       " '__doc__',\n",
       " '__file__',\n",
       " '__loader__',\n",
       " '__name__',\n",
       " '__package__',\n",
       " '__path__',\n",
       " '__spec__',\n",
       " '_obsolete_constants',\n",
       " 'absolute_import',\n",
       " 'acre',\n",
       " 'alpha',\n",
       " 'angstrom',\n",
       " 'arcmin',\n",
       " 'arcminute',\n",
       " 'arcsec',\n",
       " 'arcsecond',\n",
       " 'astronomical_unit',\n",
       " 'atm',\n",
       " 'atmosphere',\n",
       " 'atomic_mass',\n",
       " 'atto',\n",
       " 'au',\n",
       " 'bar',\n",
       " 'barrel',\n",
       " 'bbl',\n",
       " 'blob',\n",
       " 'c',\n",
       " 'calorie',\n",
       " 'calorie_IT',\n",
       " 'calorie_th',\n",
       " 'carat',\n",
       " 'centi',\n",
       " 'codata',\n",
       " 'constants',\n",
       " 'convert_temperature',\n",
       " 'day',\n",
       " 'deci',\n",
       " 'degree',\n",
       " 'degree_Fahrenheit',\n",
       " 'deka',\n",
       " 'division',\n",
       " 'dyn',\n",
       " 'dyne',\n",
       " 'e',\n",
       " 'eV',\n",
       " 'electron_mass',\n",
       " 'electron_volt',\n",
       " 'elementary_charge',\n",
       " 'epsilon_0',\n",
       " 'erg',\n",
       " 'exa',\n",
       " 'exbi',\n",
       " 'femto',\n",
       " 'fermi',\n",
       " 'find',\n",
       " 'fine_structure',\n",
       " 'fluid_ounce',\n",
       " 'fluid_ounce_US',\n",
       " 'fluid_ounce_imp',\n",
       " 'foot',\n",
       " 'g',\n",
       " 'gallon',\n",
       " 'gallon_US',\n",
       " 'gallon_imp',\n",
       " 'gas_constant',\n",
       " 'gibi',\n",
       " 'giga',\n",
       " 'golden',\n",
       " 'golden_ratio',\n",
       " 'grain',\n",
       " 'gram',\n",
       " 'gravitational_constant',\n",
       " 'h',\n",
       " 'hbar',\n",
       " 'hectare',\n",
       " 'hecto',\n",
       " 'horsepower',\n",
       " 'hour',\n",
       " 'hp',\n",
       " 'inch',\n",
       " 'k',\n",
       " 'kgf',\n",
       " 'kibi',\n",
       " 'kilo',\n",
       " 'kilogram_force',\n",
       " 'kmh',\n",
       " 'knot',\n",
       " 'lambda2nu',\n",
       " 'lb',\n",
       " 'lbf',\n",
       " 'light_year',\n",
       " 'liter',\n",
       " 'litre',\n",
       " 'long_ton',\n",
       " 'm_e',\n",
       " 'm_n',\n",
       " 'm_p',\n",
       " 'm_u',\n",
       " 'mach',\n",
       " 'mebi',\n",
       " 'mega',\n",
       " 'metric_ton',\n",
       " 'micro',\n",
       " 'micron',\n",
       " 'mil',\n",
       " 'mile',\n",
       " 'milli',\n",
       " 'minute',\n",
       " 'mmHg',\n",
       " 'mph',\n",
       " 'mu_0',\n",
       " 'nano',\n",
       " 'nautical_mile',\n",
       " 'neutron_mass',\n",
       " 'nu2lambda',\n",
       " 'ounce',\n",
       " 'oz',\n",
       " 'parsec',\n",
       " 'pebi',\n",
       " 'peta',\n",
       " 'physical_constants',\n",
       " 'pi',\n",
       " 'pico',\n",
       " 'point',\n",
       " 'pound',\n",
       " 'pound_force',\n",
       " 'precision',\n",
       " 'print_function',\n",
       " 'proton_mass',\n",
       " 'psi',\n",
       " 'pt',\n",
       " 'short_ton',\n",
       " 'sigma',\n",
       " 'slinch',\n",
       " 'slug',\n",
       " 'speed_of_light',\n",
       " 'speed_of_sound',\n",
       " 'stone',\n",
       " 'survey_foot',\n",
       " 'survey_mile',\n",
       " 'tebi',\n",
       " 'tera',\n",
       " 'test',\n",
       " 'ton_TNT',\n",
       " 'torr',\n",
       " 'troy_ounce',\n",
       " 'troy_pound',\n",
       " 'u',\n",
       " 'unit',\n",
       " 'value',\n",
       " 'week',\n",
       " 'yard',\n",
       " 'year',\n",
       " 'yobi',\n",
       " 'yotta',\n",
       " 'zebi',\n",
       " 'zepto',\n",
       " 'zero_Celsius',\n",
       " 'zetta']"
      ]
     },
     "execution_count": 2,
     "metadata": {},
     "output_type": "execute_result"
    }
   ],
   "source": [
    "dir(constants)"
   ]
  },
  {
   "cell_type": "markdown",
   "metadata": {
    "id": "_euyGwb_l00g"
   },
   "source": [
    "**Observation**\n",
    "\n",
    "It displays all the constants."
   ]
  },
  {
   "cell_type": "markdown",
   "metadata": {
    "id": "Urvc7ZktCAmp"
   },
   "source": [
    "## Step 3: Accessing Specific Constants\n",
    "\n",
    "Now, let's access the value of the following constants:\n",
    "\n",
    "* pi \n",
    "* gram\n",
    "* metric ton\n",
    "* degree\n",
    "\n",
    "- We can access specific constants, such as pi, gram, metric ton and degree, using the constants module.\n"
   ]
  },
  {
   "cell_type": "code",
   "execution_count": null,
   "metadata": {
    "id": "HuDpI3Xo0LHu",
    "outputId": "386e6235-283b-4932-c23b-785a68e3292e"
   },
   "outputs": [
    {
     "data": {
      "text/plain": [
       "3.141592653589793"
      ]
     },
     "execution_count": 3,
     "metadata": {},
     "output_type": "execute_result"
    }
   ],
   "source": [
    "constants.pi"
   ]
  },
  {
   "cell_type": "code",
   "execution_count": null,
   "metadata": {
    "id": "UG1oix1r0LHu",
    "outputId": "d820c744-a21d-4ab4-83cc-c02f5d6a31ce"
   },
   "outputs": [
    {
     "data": {
      "text/plain": [
       "0.001"
      ]
     },
     "execution_count": 4,
     "metadata": {},
     "output_type": "execute_result"
    }
   ],
   "source": [
    "constants.gram"
   ]
  },
  {
   "cell_type": "code",
   "execution_count": null,
   "metadata": {
    "id": "SHvEMGwG0LHv",
    "outputId": "951e4223-098a-43d2-cad1-55b0899ff092"
   },
   "outputs": [
    {
     "data": {
      "text/plain": [
       "1000.0"
      ]
     },
     "execution_count": 5,
     "metadata": {},
     "output_type": "execute_result"
    }
   ],
   "source": [
    "constants.metric_ton"
   ]
  },
  {
   "cell_type": "code",
   "execution_count": null,
   "metadata": {
    "id": "LhJqAyGF0LHv",
    "outputId": "3c747708-6ec8-451e-813c-c0aa42a4c680"
   },
   "outputs": [
    {
     "data": {
      "text/plain": [
       "0.017453292519943295"
      ]
     },
     "execution_count": 6,
     "metadata": {},
     "output_type": "execute_result"
    }
   ],
   "source": [
    "constants.degree"
   ]
  },
  {
   "cell_type": "markdown",
   "metadata": {
    "id": "sI4SFnqECL85"
   },
   "source": [
    "## Step 4: Importing NumPy\n",
    "\n",
    "NumPy is a powerful library for numerical operations.\n",
    "- Import **Numpy** library with an alias **np**\n"
   ]
  },
  {
   "cell_type": "code",
   "execution_count": null,
   "metadata": {
    "id": "9M8FLbh10LHw"
   },
   "outputs": [],
   "source": [
    "import numpy as np"
   ]
  },
  {
   "cell_type": "markdown",
   "metadata": {
    "id": "YnudDwMVCWEK"
   },
   "source": [
    "## Step 5: Calculating Trigonometric Functions\n",
    "\n",
    "- Calculate the trigonometric function, like sine and cosine, using NumPy \n",
    "- Convert the angle from degrees to radians using the degree constant or NumPy's pi constant \n",
    "\n"
   ]
  },
  {
   "cell_type": "code",
   "execution_count": null,
   "metadata": {
    "colab": {
     "base_uri": "https://localhost:8080/"
    },
    "executionInfo": {
     "elapsed": 512,
     "status": "ok",
     "timestamp": 1680607978330,
     "user": {
      "displayName": "Navya Kannan",
      "userId": "14506951520752863940"
     },
     "user_tz": -330
    },
    "id": "g3pcCUQOCb0h",
    "outputId": "05ae1074-b8b4-429c-9343-37d041766253"
   },
   "outputs": [
    {
     "data": {
      "text/plain": [
       "0.017453292519943295"
      ]
     },
     "execution_count": 3,
     "metadata": {},
     "output_type": "execute_result"
    }
   ],
   "source": [
    "np.pi/180"
   ]
  },
  {
   "cell_type": "code",
   "execution_count": null,
   "metadata": {
    "id": "NEtFL9cq0LHw",
    "outputId": "d960db2a-5ae6-414e-c9c6-8d2cb3d5cad9"
   },
   "outputs": [
    {
     "data": {
      "text/plain": [
       "0.7071067811865475"
      ]
     },
     "execution_count": 8,
     "metadata": {},
     "output_type": "execute_result"
    }
   ],
   "source": [
    "np.sin(45*constants.degree)"
   ]
  },
  {
   "cell_type": "code",
   "execution_count": null,
   "metadata": {
    "id": "KWfFY3H_0LHw",
    "outputId": "7089a510-59a4-49fa-b8ce-2baa63266775"
   },
   "outputs": [
    {
     "data": {
      "text/plain": [
       "0.7071067811865475"
      ]
     },
     "execution_count": 9,
     "metadata": {},
     "output_type": "execute_result"
    }
   ],
   "source": [
    "np.sin(45*np.pi/180)"
   ]
  },
  {
   "cell_type": "markdown",
   "metadata": {
    "id": "lBmTHLRV9zSl"
   },
   "source": [
    "- This is a very small example where the SciPy package comes in handy. We can also print adjacency matrices and Dijkstra's algorithm, which gives you the shortest path in a connected graph. \n",
    "\n",
    "- SciPy is a huge, powerful library that has various features in it, like optimizers, graphs, spatial data, interpolation and significant tests."
   ]
  }
 ],
 "metadata": {
  "colab": {
   "provenance": []
  },
  "kernelspec": {
   "display_name": "Python 3 (ipykernel)",
   "language": "python",
   "name": "python3"
  },
  "language_info": {
   "codemirror_mode": {
    "name": "ipython",
    "version": 3
   },
   "file_extension": ".py",
   "mimetype": "text/x-python",
   "name": "python",
   "nbconvert_exporter": "python",
   "pygments_lexer": "ipython3",
   "version": "3.11.5"
  }
 },
 "nbformat": 4,
 "nbformat_minor": 4
}
